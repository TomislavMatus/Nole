{
 "cells": [
  {
   "cell_type": "code",
   "execution_count": 1,
   "id": "8f66da86",
   "metadata": {
    "scrolled": true
   },
   "outputs": [
    {
     "name": "stdout",
     "output_type": "stream",
     "text": [
      "Requirement already satisfied: selenium-stealth in /home/amna/.pyenv/versions/3.8.12/envs/lewagon/lib/python3.8/site-packages (1.0.6)\n",
      "Requirement already satisfied: selenium in /home/amna/.pyenv/versions/3.8.12/envs/lewagon/lib/python3.8/site-packages (from selenium-stealth) (4.4.3)\n",
      "Requirement already satisfied: urllib3[socks]~=1.26 in /home/amna/.pyenv/versions/3.8.12/envs/lewagon/lib/python3.8/site-packages (from selenium->selenium-stealth) (1.26.7)\n",
      "Requirement already satisfied: trio~=0.17 in /home/amna/.pyenv/versions/3.8.12/envs/lewagon/lib/python3.8/site-packages (from selenium->selenium-stealth) (0.21.0)\n",
      "Requirement already satisfied: certifi>=2021.10.8 in /home/amna/.pyenv/versions/3.8.12/envs/lewagon/lib/python3.8/site-packages (from selenium->selenium-stealth) (2021.10.8)\n",
      "Requirement already satisfied: trio-websocket~=0.9 in /home/amna/.pyenv/versions/3.8.12/envs/lewagon/lib/python3.8/site-packages (from selenium->selenium-stealth) (0.9.2)\n",
      "Requirement already satisfied: attrs>=19.2.0 in /home/amna/.pyenv/versions/3.8.12/envs/lewagon/lib/python3.8/site-packages (from trio~=0.17->selenium->selenium-stealth) (21.4.0)\n",
      "Requirement already satisfied: sortedcontainers in /home/amna/.pyenv/versions/3.8.12/envs/lewagon/lib/python3.8/site-packages (from trio~=0.17->selenium->selenium-stealth) (2.4.0)\n",
      "Requirement already satisfied: sniffio in /home/amna/.pyenv/versions/3.8.12/envs/lewagon/lib/python3.8/site-packages (from trio~=0.17->selenium->selenium-stealth) (1.2.0)\n",
      "Requirement already satisfied: idna in /home/amna/.pyenv/versions/3.8.12/envs/lewagon/lib/python3.8/site-packages (from trio~=0.17->selenium->selenium-stealth) (3.3)\n",
      "Requirement already satisfied: async-generator>=1.9 in /home/amna/.pyenv/versions/3.8.12/envs/lewagon/lib/python3.8/site-packages (from trio~=0.17->selenium->selenium-stealth) (1.10)\n",
      "Requirement already satisfied: outcome in /home/amna/.pyenv/versions/3.8.12/envs/lewagon/lib/python3.8/site-packages (from trio~=0.17->selenium->selenium-stealth) (1.2.0)\n",
      "Requirement already satisfied: wsproto>=0.14 in /home/amna/.pyenv/versions/3.8.12/envs/lewagon/lib/python3.8/site-packages (from trio-websocket~=0.9->selenium->selenium-stealth) (1.2.0)\n",
      "Requirement already satisfied: PySocks!=1.5.7,<2.0,>=1.5.6 in /home/amna/.pyenv/versions/3.8.12/envs/lewagon/lib/python3.8/site-packages (from urllib3[socks]~=1.26->selenium->selenium-stealth) (1.7.1)\n",
      "Requirement already satisfied: h11<1,>=0.9.0 in /home/amna/.pyenv/versions/3.8.12/envs/lewagon/lib/python3.8/site-packages (from wsproto>=0.14->trio-websocket~=0.9->selenium->selenium-stealth) (0.12.0)\n",
      "Requirement already satisfied: selenium in /home/amna/.pyenv/versions/3.8.12/envs/lewagon/lib/python3.8/site-packages (4.4.3)\n",
      "Requirement already satisfied: trio~=0.17 in /home/amna/.pyenv/versions/3.8.12/envs/lewagon/lib/python3.8/site-packages (from selenium) (0.21.0)\n",
      "Requirement already satisfied: certifi>=2021.10.8 in /home/amna/.pyenv/versions/3.8.12/envs/lewagon/lib/python3.8/site-packages (from selenium) (2021.10.8)\n",
      "Requirement already satisfied: urllib3[socks]~=1.26 in /home/amna/.pyenv/versions/3.8.12/envs/lewagon/lib/python3.8/site-packages (from selenium) (1.26.7)\n",
      "Requirement already satisfied: trio-websocket~=0.9 in /home/amna/.pyenv/versions/3.8.12/envs/lewagon/lib/python3.8/site-packages (from selenium) (0.9.2)\n",
      "Requirement already satisfied: idna in /home/amna/.pyenv/versions/3.8.12/envs/lewagon/lib/python3.8/site-packages (from trio~=0.17->selenium) (3.3)\n",
      "Requirement already satisfied: async-generator>=1.9 in /home/amna/.pyenv/versions/3.8.12/envs/lewagon/lib/python3.8/site-packages (from trio~=0.17->selenium) (1.10)\n",
      "Requirement already satisfied: attrs>=19.2.0 in /home/amna/.pyenv/versions/3.8.12/envs/lewagon/lib/python3.8/site-packages (from trio~=0.17->selenium) (21.4.0)\n",
      "Requirement already satisfied: outcome in /home/amna/.pyenv/versions/3.8.12/envs/lewagon/lib/python3.8/site-packages (from trio~=0.17->selenium) (1.2.0)\n",
      "Requirement already satisfied: sortedcontainers in /home/amna/.pyenv/versions/3.8.12/envs/lewagon/lib/python3.8/site-packages (from trio~=0.17->selenium) (2.4.0)\n",
      "Requirement already satisfied: sniffio in /home/amna/.pyenv/versions/3.8.12/envs/lewagon/lib/python3.8/site-packages (from trio~=0.17->selenium) (1.2.0)\n",
      "Requirement already satisfied: wsproto>=0.14 in /home/amna/.pyenv/versions/3.8.12/envs/lewagon/lib/python3.8/site-packages (from trio-websocket~=0.9->selenium) (1.2.0)\n",
      "Requirement already satisfied: PySocks!=1.5.7,<2.0,>=1.5.6 in /home/amna/.pyenv/versions/3.8.12/envs/lewagon/lib/python3.8/site-packages (from urllib3[socks]~=1.26->selenium) (1.7.1)\n",
      "Requirement already satisfied: h11<1,>=0.9.0 in /home/amna/.pyenv/versions/3.8.12/envs/lewagon/lib/python3.8/site-packages (from wsproto>=0.14->trio-websocket~=0.9->selenium) (0.12.0)\n",
      "Requirement already satisfied: webdriver-manager in /home/amna/.pyenv/versions/3.8.12/envs/lewagon/lib/python3.8/site-packages (3.8.3)\n",
      "Requirement already satisfied: requests in /home/amna/.pyenv/versions/3.8.12/envs/lewagon/lib/python3.8/site-packages (from webdriver-manager) (2.27.1)\n",
      "Requirement already satisfied: tqdm in /home/amna/.pyenv/versions/3.8.12/envs/lewagon/lib/python3.8/site-packages (from webdriver-manager) (4.62.3)\n",
      "Requirement already satisfied: python-dotenv in /home/amna/.pyenv/versions/3.8.12/envs/lewagon/lib/python3.8/site-packages (from webdriver-manager) (0.21.0)\n",
      "Requirement already satisfied: idna<4,>=2.5 in /home/amna/.pyenv/versions/3.8.12/envs/lewagon/lib/python3.8/site-packages (from requests->webdriver-manager) (3.3)\n",
      "Requirement already satisfied: certifi>=2017.4.17 in /home/amna/.pyenv/versions/3.8.12/envs/lewagon/lib/python3.8/site-packages (from requests->webdriver-manager) (2021.10.8)\n",
      "Requirement already satisfied: charset-normalizer~=2.0.0 in /home/amna/.pyenv/versions/3.8.12/envs/lewagon/lib/python3.8/site-packages (from requests->webdriver-manager) (2.0.10)\n",
      "Requirement already satisfied: urllib3<1.27,>=1.21.1 in /home/amna/.pyenv/versions/3.8.12/envs/lewagon/lib/python3.8/site-packages (from requests->webdriver-manager) (1.26.7)\n"
     ]
    }
   ],
   "source": [
    "!pip install selenium-stealth \n",
    "!pip install selenium \n",
    "!pip install webdriver-manager"
   ]
  },
  {
   "cell_type": "code",
   "execution_count": 4,
   "id": "70299d88",
   "metadata": {},
   "outputs": [],
   "source": [
    "import pandas as pd\n",
    "import requests\n",
    "from selenium import webdriver\n",
    "import json\n",
    "from selenium.webdriver.chrome.service import Service"
   ]
  },
  {
   "cell_type": "code",
   "execution_count": 6,
   "id": "854371b8",
   "metadata": {},
   "outputs": [
    {
     "ename": "WebDriverException",
     "evalue": "Message: unknown error: cannot find Chrome binary\nStacktrace:\n#0 0x55d8e2e02693 <unknown>\n#1 0x55d8e2bfbb0a <unknown>\n#2 0x55d8e2c1e46e <unknown>\n#3 0x55d8e2c1c1f4 <unknown>\n#4 0x55d8e2c57953 <unknown>\n#5 0x55d8e2c51743 <unknown>\n#6 0x55d8e2c27533 <unknown>\n#7 0x55d8e2c28715 <unknown>\n#8 0x55d8e2e527bd <unknown>\n#9 0x55d8e2e55bf9 <unknown>\n#10 0x55d8e2e37f2e <unknown>\n#11 0x55d8e2e569b3 <unknown>\n#12 0x55d8e2e2be4f <unknown>\n#13 0x55d8e2e75ea8 <unknown>\n#14 0x55d8e2e76052 <unknown>\n#15 0x55d8e2e9071f <unknown>\n#16 0x7f1f47abf609 <unknown>\n",
     "output_type": "error",
     "traceback": [
      "\u001b[0;31m---------------------------------------------------------------------------\u001b[0m",
      "\u001b[0;31mWebDriverException\u001b[0m                        Traceback (most recent call last)",
      "\u001b[0;32m/tmp/ipykernel_15872/3830550039.py\u001b[0m in \u001b[0;36m<module>\u001b[0;34m\u001b[0m\n\u001b[1;32m      9\u001b[0m \u001b[0moptions\u001b[0m\u001b[0;34m.\u001b[0m\u001b[0madd_experimental_option\u001b[0m\u001b[0;34m(\u001b[0m\u001b[0;34m\"excludeSwitches\"\u001b[0m\u001b[0;34m,\u001b[0m \u001b[0;34m[\u001b[0m\u001b[0;34m\"enable-automation\"\u001b[0m\u001b[0;34m]\u001b[0m\u001b[0;34m)\u001b[0m\u001b[0;34m\u001b[0m\u001b[0;34m\u001b[0m\u001b[0m\n\u001b[1;32m     10\u001b[0m \u001b[0moptions\u001b[0m\u001b[0;34m.\u001b[0m\u001b[0madd_experimental_option\u001b[0m\u001b[0;34m(\u001b[0m\u001b[0;34m'useAutomationExtension'\u001b[0m\u001b[0;34m,\u001b[0m \u001b[0;32mFalse\u001b[0m\u001b[0;34m)\u001b[0m\u001b[0;34m\u001b[0m\u001b[0;34m\u001b[0m\u001b[0m\n\u001b[0;32m---> 11\u001b[0;31m \u001b[0mdriver\u001b[0m \u001b[0;34m=\u001b[0m \u001b[0mwebdriver\u001b[0m\u001b[0;34m.\u001b[0m\u001b[0mChrome\u001b[0m\u001b[0;34m(\u001b[0m\u001b[0moptions\u001b[0m\u001b[0;34m=\u001b[0m\u001b[0moptions\u001b[0m\u001b[0;34m,\u001b[0m\u001b[0mservice\u001b[0m\u001b[0;34m=\u001b[0m\u001b[0mService\u001b[0m\u001b[0;34m(\u001b[0m\u001b[0mChromeDriverManager\u001b[0m\u001b[0;34m(\u001b[0m\u001b[0;34m)\u001b[0m\u001b[0;34m.\u001b[0m\u001b[0minstall\u001b[0m\u001b[0;34m(\u001b[0m\u001b[0;34m)\u001b[0m\u001b[0;34m)\u001b[0m\u001b[0;34m)\u001b[0m\u001b[0;34m\u001b[0m\u001b[0;34m\u001b[0m\u001b[0m\n\u001b[0m\u001b[1;32m     12\u001b[0m \u001b[0;34m\u001b[0m\u001b[0m\n\u001b[1;32m     13\u001b[0m stealth(driver,\n",
      "\u001b[0;32m~/.pyenv/versions/3.8.12/envs/lewagon/lib/python3.8/site-packages/selenium/webdriver/chrome/webdriver.py\u001b[0m in \u001b[0;36m__init__\u001b[0;34m(self, executable_path, port, options, service_args, desired_capabilities, service_log_path, chrome_options, service, keep_alive)\u001b[0m\n\u001b[1;32m     67\u001b[0m             \u001b[0mservice\u001b[0m \u001b[0;34m=\u001b[0m \u001b[0mService\u001b[0m\u001b[0;34m(\u001b[0m\u001b[0mexecutable_path\u001b[0m\u001b[0;34m,\u001b[0m \u001b[0mport\u001b[0m\u001b[0;34m,\u001b[0m \u001b[0mservice_args\u001b[0m\u001b[0;34m,\u001b[0m \u001b[0mservice_log_path\u001b[0m\u001b[0;34m)\u001b[0m\u001b[0;34m\u001b[0m\u001b[0;34m\u001b[0m\u001b[0m\n\u001b[1;32m     68\u001b[0m \u001b[0;34m\u001b[0m\u001b[0m\n\u001b[0;32m---> 69\u001b[0;31m         super().__init__(DesiredCapabilities.CHROME['browserName'], \"goog\",\n\u001b[0m\u001b[1;32m     70\u001b[0m                          \u001b[0mport\u001b[0m\u001b[0;34m,\u001b[0m \u001b[0moptions\u001b[0m\u001b[0;34m,\u001b[0m\u001b[0;34m\u001b[0m\u001b[0;34m\u001b[0m\u001b[0m\n\u001b[1;32m     71\u001b[0m                          \u001b[0mservice_args\u001b[0m\u001b[0;34m,\u001b[0m \u001b[0mdesired_capabilities\u001b[0m\u001b[0;34m,\u001b[0m\u001b[0;34m\u001b[0m\u001b[0;34m\u001b[0m\u001b[0m\n",
      "\u001b[0;32m~/.pyenv/versions/3.8.12/envs/lewagon/lib/python3.8/site-packages/selenium/webdriver/chromium/webdriver.py\u001b[0m in \u001b[0;36m__init__\u001b[0;34m(self, browser_name, vendor_prefix, port, options, service_args, desired_capabilities, service_log_path, service, keep_alive)\u001b[0m\n\u001b[1;32m     90\u001b[0m \u001b[0;34m\u001b[0m\u001b[0m\n\u001b[1;32m     91\u001b[0m         \u001b[0;32mtry\u001b[0m\u001b[0;34m:\u001b[0m\u001b[0;34m\u001b[0m\u001b[0;34m\u001b[0m\u001b[0m\n\u001b[0;32m---> 92\u001b[0;31m             super().__init__(\n\u001b[0m\u001b[1;32m     93\u001b[0m                 command_executor=ChromiumRemoteConnection(\n\u001b[1;32m     94\u001b[0m                     \u001b[0mremote_server_addr\u001b[0m\u001b[0;34m=\u001b[0m\u001b[0mself\u001b[0m\u001b[0;34m.\u001b[0m\u001b[0mservice\u001b[0m\u001b[0;34m.\u001b[0m\u001b[0mservice_url\u001b[0m\u001b[0;34m,\u001b[0m\u001b[0;34m\u001b[0m\u001b[0;34m\u001b[0m\u001b[0m\n",
      "\u001b[0;32m~/.pyenv/versions/3.8.12/envs/lewagon/lib/python3.8/site-packages/selenium/webdriver/remote/webdriver.py\u001b[0m in \u001b[0;36m__init__\u001b[0;34m(self, command_executor, desired_capabilities, browser_profile, proxy, keep_alive, file_detector, options)\u001b[0m\n\u001b[1;32m    268\u001b[0m         \u001b[0mself\u001b[0m\u001b[0;34m.\u001b[0m\u001b[0m_authenticator_id\u001b[0m \u001b[0;34m=\u001b[0m \u001b[0;32mNone\u001b[0m\u001b[0;34m\u001b[0m\u001b[0;34m\u001b[0m\u001b[0m\n\u001b[1;32m    269\u001b[0m         \u001b[0mself\u001b[0m\u001b[0;34m.\u001b[0m\u001b[0mstart_client\u001b[0m\u001b[0;34m(\u001b[0m\u001b[0;34m)\u001b[0m\u001b[0;34m\u001b[0m\u001b[0;34m\u001b[0m\u001b[0m\n\u001b[0;32m--> 270\u001b[0;31m         \u001b[0mself\u001b[0m\u001b[0;34m.\u001b[0m\u001b[0mstart_session\u001b[0m\u001b[0;34m(\u001b[0m\u001b[0mcapabilities\u001b[0m\u001b[0;34m,\u001b[0m \u001b[0mbrowser_profile\u001b[0m\u001b[0;34m)\u001b[0m\u001b[0;34m\u001b[0m\u001b[0;34m\u001b[0m\u001b[0m\n\u001b[0m\u001b[1;32m    271\u001b[0m \u001b[0;34m\u001b[0m\u001b[0m\n\u001b[1;32m    272\u001b[0m     \u001b[0;32mdef\u001b[0m \u001b[0m__repr__\u001b[0m\u001b[0;34m(\u001b[0m\u001b[0mself\u001b[0m\u001b[0;34m)\u001b[0m\u001b[0;34m:\u001b[0m\u001b[0;34m\u001b[0m\u001b[0;34m\u001b[0m\u001b[0m\n",
      "\u001b[0;32m~/.pyenv/versions/3.8.12/envs/lewagon/lib/python3.8/site-packages/selenium/webdriver/remote/webdriver.py\u001b[0m in \u001b[0;36mstart_session\u001b[0;34m(self, capabilities, browser_profile)\u001b[0m\n\u001b[1;32m    361\u001b[0m         \u001b[0mw3c_caps\u001b[0m \u001b[0;34m=\u001b[0m \u001b[0m_make_w3c_caps\u001b[0m\u001b[0;34m(\u001b[0m\u001b[0mcapabilities\u001b[0m\u001b[0;34m)\u001b[0m\u001b[0;34m\u001b[0m\u001b[0;34m\u001b[0m\u001b[0m\n\u001b[1;32m    362\u001b[0m         \u001b[0mparameters\u001b[0m \u001b[0;34m=\u001b[0m \u001b[0;34m{\u001b[0m\u001b[0;34m\"capabilities\"\u001b[0m\u001b[0;34m:\u001b[0m \u001b[0mw3c_caps\u001b[0m\u001b[0;34m}\u001b[0m\u001b[0;34m\u001b[0m\u001b[0;34m\u001b[0m\u001b[0m\n\u001b[0;32m--> 363\u001b[0;31m         \u001b[0mresponse\u001b[0m \u001b[0;34m=\u001b[0m \u001b[0mself\u001b[0m\u001b[0;34m.\u001b[0m\u001b[0mexecute\u001b[0m\u001b[0;34m(\u001b[0m\u001b[0mCommand\u001b[0m\u001b[0;34m.\u001b[0m\u001b[0mNEW_SESSION\u001b[0m\u001b[0;34m,\u001b[0m \u001b[0mparameters\u001b[0m\u001b[0;34m)\u001b[0m\u001b[0;34m\u001b[0m\u001b[0;34m\u001b[0m\u001b[0m\n\u001b[0m\u001b[1;32m    364\u001b[0m         \u001b[0;32mif\u001b[0m \u001b[0;34m'sessionId'\u001b[0m \u001b[0;32mnot\u001b[0m \u001b[0;32min\u001b[0m \u001b[0mresponse\u001b[0m\u001b[0;34m:\u001b[0m\u001b[0;34m\u001b[0m\u001b[0;34m\u001b[0m\u001b[0m\n\u001b[1;32m    365\u001b[0m             \u001b[0mresponse\u001b[0m \u001b[0;34m=\u001b[0m \u001b[0mresponse\u001b[0m\u001b[0;34m[\u001b[0m\u001b[0;34m'value'\u001b[0m\u001b[0;34m]\u001b[0m\u001b[0;34m\u001b[0m\u001b[0;34m\u001b[0m\u001b[0m\n",
      "\u001b[0;32m~/.pyenv/versions/3.8.12/envs/lewagon/lib/python3.8/site-packages/selenium/webdriver/remote/webdriver.py\u001b[0m in \u001b[0;36mexecute\u001b[0;34m(self, driver_command, params)\u001b[0m\n\u001b[1;32m    426\u001b[0m         \u001b[0mresponse\u001b[0m \u001b[0;34m=\u001b[0m \u001b[0mself\u001b[0m\u001b[0;34m.\u001b[0m\u001b[0mcommand_executor\u001b[0m\u001b[0;34m.\u001b[0m\u001b[0mexecute\u001b[0m\u001b[0;34m(\u001b[0m\u001b[0mdriver_command\u001b[0m\u001b[0;34m,\u001b[0m \u001b[0mparams\u001b[0m\u001b[0;34m)\u001b[0m\u001b[0;34m\u001b[0m\u001b[0;34m\u001b[0m\u001b[0m\n\u001b[1;32m    427\u001b[0m         \u001b[0;32mif\u001b[0m \u001b[0mresponse\u001b[0m\u001b[0;34m:\u001b[0m\u001b[0;34m\u001b[0m\u001b[0;34m\u001b[0m\u001b[0m\n\u001b[0;32m--> 428\u001b[0;31m             \u001b[0mself\u001b[0m\u001b[0;34m.\u001b[0m\u001b[0merror_handler\u001b[0m\u001b[0;34m.\u001b[0m\u001b[0mcheck_response\u001b[0m\u001b[0;34m(\u001b[0m\u001b[0mresponse\u001b[0m\u001b[0;34m)\u001b[0m\u001b[0;34m\u001b[0m\u001b[0;34m\u001b[0m\u001b[0m\n\u001b[0m\u001b[1;32m    429\u001b[0m             response['value'] = self._unwrap_value(\n\u001b[1;32m    430\u001b[0m                 response.get('value', None))\n",
      "\u001b[0;32m~/.pyenv/versions/3.8.12/envs/lewagon/lib/python3.8/site-packages/selenium/webdriver/remote/errorhandler.py\u001b[0m in \u001b[0;36mcheck_response\u001b[0;34m(self, response)\u001b[0m\n\u001b[1;32m    241\u001b[0m                 \u001b[0malert_text\u001b[0m \u001b[0;34m=\u001b[0m \u001b[0mvalue\u001b[0m\u001b[0;34m[\u001b[0m\u001b[0;34m'alert'\u001b[0m\u001b[0;34m]\u001b[0m\u001b[0;34m.\u001b[0m\u001b[0mget\u001b[0m\u001b[0;34m(\u001b[0m\u001b[0;34m'text'\u001b[0m\u001b[0;34m)\u001b[0m\u001b[0;34m\u001b[0m\u001b[0;34m\u001b[0m\u001b[0m\n\u001b[1;32m    242\u001b[0m             \u001b[0;32mraise\u001b[0m \u001b[0mexception_class\u001b[0m\u001b[0;34m(\u001b[0m\u001b[0mmessage\u001b[0m\u001b[0;34m,\u001b[0m \u001b[0mscreen\u001b[0m\u001b[0;34m,\u001b[0m \u001b[0mstacktrace\u001b[0m\u001b[0;34m,\u001b[0m \u001b[0malert_text\u001b[0m\u001b[0;34m)\u001b[0m  \u001b[0;31m# type: ignore[call-arg]  # mypy is not smart enough here\u001b[0m\u001b[0;34m\u001b[0m\u001b[0;34m\u001b[0m\u001b[0m\n\u001b[0;32m--> 243\u001b[0;31m         \u001b[0;32mraise\u001b[0m \u001b[0mexception_class\u001b[0m\u001b[0;34m(\u001b[0m\u001b[0mmessage\u001b[0m\u001b[0;34m,\u001b[0m \u001b[0mscreen\u001b[0m\u001b[0;34m,\u001b[0m \u001b[0mstacktrace\u001b[0m\u001b[0;34m)\u001b[0m\u001b[0;34m\u001b[0m\u001b[0;34m\u001b[0m\u001b[0m\n\u001b[0m",
      "\u001b[0;31mWebDriverException\u001b[0m: Message: unknown error: cannot find Chrome binary\nStacktrace:\n#0 0x55d8e2e02693 <unknown>\n#1 0x55d8e2bfbb0a <unknown>\n#2 0x55d8e2c1e46e <unknown>\n#3 0x55d8e2c1c1f4 <unknown>\n#4 0x55d8e2c57953 <unknown>\n#5 0x55d8e2c51743 <unknown>\n#6 0x55d8e2c27533 <unknown>\n#7 0x55d8e2c28715 <unknown>\n#8 0x55d8e2e527bd <unknown>\n#9 0x55d8e2e55bf9 <unknown>\n#10 0x55d8e2e37f2e <unknown>\n#11 0x55d8e2e569b3 <unknown>\n#12 0x55d8e2e2be4f <unknown>\n#13 0x55d8e2e75ea8 <unknown>\n#14 0x55d8e2e76052 <unknown>\n#15 0x55d8e2e9071f <unknown>\n#16 0x7f1f47abf609 <unknown>\n"
     ]
    }
   ],
   "source": [
    "from selenium import webdriver\n",
    "from webdriver_manager.chrome import ChromeDriverManager\n",
    "\n",
    "from selenium import webdriver\n",
    "from selenium_stealth import stealth\n",
    "\n",
    "options = webdriver.ChromeOptions()\n",
    "options.add_argument(\"start-maximized\")\n",
    "options.add_experimental_option(\"excludeSwitches\", [\"enable-automation\"])\n",
    "options.add_experimental_option('useAutomationExtension', False)\n",
    "driver = webdriver.Chrome(options=options,service=Service(ChromeDriverManager().install()))\n",
    "\n",
    "stealth(driver,\n",
    "        languages=[\"en-US\", \"en\"],\n",
    "        vendor=\"Google Inc.\",\n",
    "        platform=\"Win32\",\n",
    "        webgl_vendor=\"Intel Inc.\",\n",
    "        renderer=\"Intel Iris OpenGL Engine\",\n",
    "        fix_hairline=True,\n",
    "        )"
   ]
  },
  {
   "cell_type": "code",
   "execution_count": 5,
   "id": "7ab188e9",
   "metadata": {},
   "outputs": [
    {
     "ename": "NameError",
     "evalue": "name 'driver' is not defined",
     "output_type": "error",
     "traceback": [
      "\u001b[0;31m---------------------------------------------------------------------------\u001b[0m",
      "\u001b[0;31mNameError\u001b[0m                                 Traceback (most recent call last)",
      "\u001b[0;32m/tmp/ipykernel_14810/1155868498.py\u001b[0m in \u001b[0;36m<module>\u001b[0;34m\u001b[0m\n\u001b[0;32m----> 1\u001b[0;31m stealth(driver,\n\u001b[0m\u001b[1;32m      2\u001b[0m         \u001b[0mlanguages\u001b[0m\u001b[0;34m=\u001b[0m\u001b[0;34m[\u001b[0m\u001b[0;34m\"en-US\"\u001b[0m\u001b[0;34m,\u001b[0m \u001b[0;34m\"en\"\u001b[0m\u001b[0;34m]\u001b[0m\u001b[0;34m,\u001b[0m\u001b[0;34m\u001b[0m\u001b[0;34m\u001b[0m\u001b[0m\n\u001b[1;32m      3\u001b[0m         \u001b[0mvendor\u001b[0m\u001b[0;34m=\u001b[0m\u001b[0;34m\"Google Inc.\"\u001b[0m\u001b[0;34m,\u001b[0m\u001b[0;34m\u001b[0m\u001b[0;34m\u001b[0m\u001b[0m\n\u001b[1;32m      4\u001b[0m         \u001b[0mplatform\u001b[0m\u001b[0;34m=\u001b[0m\u001b[0;34m\"Win32\"\u001b[0m\u001b[0;34m,\u001b[0m\u001b[0;34m\u001b[0m\u001b[0;34m\u001b[0m\u001b[0m\n\u001b[1;32m      5\u001b[0m         \u001b[0mwebgl_vendor\u001b[0m\u001b[0;34m=\u001b[0m\u001b[0;34m\"Intel Inc.\"\u001b[0m\u001b[0;34m,\u001b[0m\u001b[0;34m\u001b[0m\u001b[0;34m\u001b[0m\u001b[0m\n",
      "\u001b[0;31mNameError\u001b[0m: name 'driver' is not defined"
     ]
    }
   ],
   "source": [
    "\n",
    "stealth(driver,\n",
    "        languages=[\"en-US\", \"en\"],\n",
    "        vendor=\"Google Inc.\",\n",
    "        platform=\"Win32\",\n",
    "        webgl_vendor=\"Intel Inc.\",\n",
    "        renderer=\"Intel Iris OpenGL Engine\",\n",
    "        fix_hairline=True,\n",
    "        )"
   ]
  },
  {
   "cell_type": "markdown",
   "id": "68e9e12b",
   "metadata": {},
   "source": [
    "## Djokovic opponents player ID's ##"
   ]
  },
  {
   "cell_type": "code",
   "execution_count": null,
   "id": "4b3aa904",
   "metadata": {},
   "outputs": [],
   "source": [
    "driver.get(\"https://www.atptour.com/-/ajax/HawkEyeStats/Opponents/D643\")"
   ]
  },
  {
   "cell_type": "code",
   "execution_count": null,
   "id": "0af46e3f",
   "metadata": {},
   "outputs": [],
   "source": [
    "json_player = json.loads(driver.find_element(by=\"xpath\", value='/html/body/pre').text)"
   ]
  },
  {
   "cell_type": "markdown",
   "id": "73b001e8",
   "metadata": {},
   "source": [
    "### list of player id's ###"
   ]
  },
  {
   "cell_type": "code",
   "execution_count": null,
   "id": "485f5a47",
   "metadata": {},
   "outputs": [],
   "source": [
    "lst=[]\n",
    "for x in range(100):\n",
    "    lst.append(json_player[x]['OpponentId'])\n",
    "    \n",
    "player_id_lst=lst[3:100]"
   ]
  },
  {
   "cell_type": "markdown",
   "id": "77c91f1b",
   "metadata": {},
   "source": [
    "### dict of player id's with correspondence position in the list ###"
   ]
  },
  {
   "cell_type": "code",
   "execution_count": null,
   "id": "92efdc6b",
   "metadata": {},
   "outputs": [],
   "source": [
    "player_id_lst_dict = {player_id_lst[i]: i for i in range(len(player_id_lst))}\n",
    "player_id_lst_dict"
   ]
  },
  {
   "cell_type": "markdown",
   "id": "8757da7b",
   "metadata": {},
   "source": [
    "## NAMES & HEIGHTS OF ALL OPPONENTS ##"
   ]
  },
  {
   "cell_type": "code",
   "execution_count": null,
   "id": "d546b108",
   "metadata": {},
   "outputs": [],
   "source": [
    "names = ['Novak Djokovic','Daniil Medvedev','Alexander Zverev','Stefanos Tsitsipas','Andrey Rublev','Rafael Nadal',\n",
    "         'Matteo Berrettini','Casper Ruud','Hubert Hurkacz','Felix Auger-Aliassime','Jannik Sinner','Cameron Norrie',\n",
    "        'Diego Schwartzman','Denis Shapovalov','Dominic Thiem','Roger Federer','Aslan Karatsev','Cristian Garin',\n",
    "        'Roberto Bautista Agut','Pablo Carreno Busta','Gael Monfils','Nikoloz Basilashvili','Taylor Fritz','John Isner',\n",
    "        'Daniel Evans','Reilly Opelka','Lorenzo Sonego','Grigor Dimitrov','Karen Khachanov','Marin Cillic','Lloyd Harris',\n",
    "        'Carlos Alcaraz','Dusan Lajovic','Alex De Minaur','Ugo Humbert','Alexander Bublik','Fabio Fognini','Frances Tiafoe',\n",
    "        'David Goffin','Marton Fucsovics','Sebastian Korda','Filip Krajinovic','Tommy Paul','Federico Delbonis','Albert Ramos-Vinolas',\n",
    "        'Ilya Ivashka','Benoit Paire','Kei Nishikori','James Duckworth','Alejandro Davidovich Fokina','Jan-Lennard Struff',\n",
    "        'Laslo Djere','Soonwoo Kwon','Dominik Koepfer','Mackenzie McDonald','Jenson Brooksby','Botic Van De Zandschulp',\n",
    "        'Arthur Rinderknech','Lorenzo Musetti','Pedro Martinez','Alexei Popyrin','Brandon Nakashima','Gianluca Mager',\n",
    "        'Benjamin Bonzi','Tallon Griekspoor','Marcos Giron','Hugo Gaston','Miomir Kecmanovic','Federico Coria','Milos Raonic',\n",
    "        'Roberto Carballes Baena','Adrian Mannarino','John Millman','Borna Coric','Guido Pella','Facunda Bagnis','Jordan Thompson',\n",
    "        'Stefano Travaglia','Kevin Anderson','Yoshihito Nishioka','Stan Wawrinka','Jiri Vesely','Jaume Munar','Steve Johnson',\n",
    "        'Peter Gojowczyk','Richard Gasquet','Pablo Andujar','Corentin Moutet','Juan Manuel Cerundolo','Nick Kyrgios',\n",
    "        'Mikael Ymer','Emil Ruusuvuori','Tennys Sandgren','Thiago Monteiro','Pablo Cuevas','Marco Cecchinato','Henri Laaksonen',\n",
    "        'Daniel Altmaier','Carlos Taberner','Andreas Seppi']"
   ]
  },
  {
   "cell_type": "code",
   "execution_count": null,
   "id": "32befc6c",
   "metadata": {},
   "outputs": [],
   "source": [
    "heights = [188,198,198,193,188,185,196,183,196,193,188,188,170,185,185,185,185,185,183,188,193,185,196,208,175,211,191,191,198,\n",
    "            198,193,185,183,183,188,196,178,188,180,188,196,185,185,193,188,193,196,178,183,183,193,188,180,180,178,193,191,\n",
    "            196,185,185,196,185,188,183,188,180,173,183,180,196,183,180,183,188,183,183,183,185,203,170,183,198,183,188,188,\n",
    "            183,180,175,183,193,183,188,188,183,180,185,185,188,183,191]"
   ]
  },
  {
   "cell_type": "code",
   "execution_count": null,
   "id": "df1e6dac",
   "metadata": {},
   "outputs": [],
   "source": [
    "res = dict(zip(names, height))"
   ]
  },
  {
   "cell_type": "markdown",
   "id": "107affe0",
   "metadata": {},
   "source": [
    "## YEAR 2021 ##"
   ]
  },
  {
   "cell_type": "markdown",
   "id": "666aa021",
   "metadata": {},
   "source": [
    "### AD COURT STATS ###"
   ]
  },
  {
   "cell_type": "code",
   "execution_count": null,
   "id": "f0d58fa8",
   "metadata": {},
   "outputs": [],
   "source": [
    "player_adlst_21 = []\n",
    "for id in player_id_lst:\n",
    "    driver.get(f'https://www.atptour.com/-/ajax/hawkeyestats/serve/2021/0/D643/adcourt/1/all/{id}/all')\n",
    "    json_player_21=json.loads(driver.find_element(by=\"xpath\", value='/html/body/pre').text)\n",
    "    player_adlst_21.append(json_player_21)"
   ]
  },
  {
   "cell_type": "markdown",
   "id": "16b228b2",
   "metadata": {},
   "source": [
    "### filtering none values ###"
   ]
  },
  {
   "cell_type": "code",
   "execution_count": null,
   "id": "3a71ccf5",
   "metadata": {},
   "outputs": [],
   "source": [
    "filtered_adlst_21=['None' if v is None else v for v in player_adlst_21]\n",
    "len(filtered_adlst_21)\n",
    "filtered_adlst_21"
   ]
  },
  {
   "cell_type": "markdown",
   "id": "c386c151",
   "metadata": {},
   "source": [
    "### DEUCE COURT STATS ###"
   ]
  },
  {
   "cell_type": "code",
   "execution_count": null,
   "id": "044a4ecb",
   "metadata": {},
   "outputs": [],
   "source": [
    "player_dlst_21 = []\n",
    "for id in player_id_lst:\n",
    "    driver.get(f'https://www.atptour.com/-/ajax/hawkeyestats/serve/2021/0/D643/deucecourt/1/all/{id}/all')\n",
    "    json_player_21=json.loads(driver.find_element(by=\"xpath\", value='/html/body/pre').text)\n",
    "    player_dlst_21.append(json_player_21)"
   ]
  },
  {
   "cell_type": "markdown",
   "id": "b338580d",
   "metadata": {},
   "source": [
    "## YEAR 2020 ##"
   ]
  },
  {
   "cell_type": "markdown",
   "id": "36604fbf",
   "metadata": {},
   "source": [
    "### AD COURT STATS ###"
   ]
  },
  {
   "cell_type": "code",
   "execution_count": null,
   "id": "8fc44ef9",
   "metadata": {},
   "outputs": [],
   "source": [
    "player_adlst_20 = []\n",
    "for id in player_id_lst:\n",
    "    driver.get(f'https://www.atptour.com/-/ajax/hawkeyestats/serve/2020/0/D643/adcourt/1/all/{id}/all')\n",
    "    json_player_20=json.loads(driver.find_element(by=\"xpath\", value='/html/body/pre').text)\n",
    "    player_adlst_20.append(json_player_20)"
   ]
  },
  {
   "cell_type": "markdown",
   "id": "33f67cae",
   "metadata": {},
   "source": [
    "### DEUCE COURT STATS ###"
   ]
  },
  {
   "cell_type": "code",
   "execution_count": null,
   "id": "a788d459",
   "metadata": {},
   "outputs": [],
   "source": [
    "player_dlst_20 = []\n",
    "for id in player_id_lst:\n",
    "    driver.get(f'https://www.atptour.com/-/ajax/hawkeyestats/serve/2020/0/D643/deucecourt/1/all/{id}/all')\n",
    "    json_player_20=json.loads(driver.find_element(by=\"xpath\", value='/html/body/pre').text)\n",
    "    player_dlst_20.append(json_player_20)"
   ]
  },
  {
   "cell_type": "markdown",
   "id": "ddc8110a",
   "metadata": {},
   "source": [
    "## YEAR 2019 ##"
   ]
  },
  {
   "cell_type": "markdown",
   "id": "8fde3c9f",
   "metadata": {},
   "source": [
    "### AD COURT STATS ###"
   ]
  },
  {
   "cell_type": "code",
   "execution_count": null,
   "id": "eeed44b9",
   "metadata": {},
   "outputs": [],
   "source": [
    "player_adlst_19 = []\n",
    "for id in player_id_lst:\n",
    "    driver.get(f'https://www.atptour.com/-/ajax/hawkeyestats/serve/2019/0/D643/adcourt/1/all/{id}/all')\n",
    "    json_player_19=json.loads(driver.find_element(by=\"xpath\", value='/html/body/pre').text)\n",
    "    player_adlst_19.append(json_player_19)"
   ]
  },
  {
   "cell_type": "markdown",
   "id": "a57922a9",
   "metadata": {},
   "source": [
    "### DEUCE COURT STATS ###"
   ]
  },
  {
   "cell_type": "code",
   "execution_count": null,
   "id": "8c350fb4",
   "metadata": {},
   "outputs": [],
   "source": [
    "player_dlst_19 = []\n",
    "for id in player_id_lst:\n",
    "    driver.get(f'https://www.atptour.com/-/ajax/hawkeyestats/serve/2019/0/D643/deucecourt/1/all/{id}/all')\n",
    "    json_player_19=json.loads(driver.find_element(by=\"xpath\", value='/html/body/pre').text)\n",
    "    player_dlst_19.append(json_player_19)"
   ]
  },
  {
   "cell_type": "markdown",
   "id": "6fadb34a",
   "metadata": {},
   "source": [
    "## YEAR 2018 ##"
   ]
  },
  {
   "cell_type": "markdown",
   "id": "f802306b",
   "metadata": {},
   "source": [
    "### AD COURT STATS ###"
   ]
  },
  {
   "cell_type": "code",
   "execution_count": null,
   "id": "2a4d6bde",
   "metadata": {},
   "outputs": [],
   "source": [
    "player_adlst_18 = []\n",
    "for id in player_id_lst:\n",
    "    driver.get(f'https://www.atptour.com/-/ajax/hawkeyestats/serve/2018/0/D643/adcourt/1/all/{id}/all')\n",
    "    json_player_18=json.loads(driver.find_element(by=\"xpath\", value='/html/body/pre').text)\n",
    "    player_adlst_18.append(json_player_18)"
   ]
  },
  {
   "cell_type": "markdown",
   "id": "6c8ea6eb",
   "metadata": {},
   "source": [
    "### DEUCE COURT STATS ###"
   ]
  },
  {
   "cell_type": "code",
   "execution_count": null,
   "id": "b9a5c6b0",
   "metadata": {},
   "outputs": [],
   "source": [
    "player_dlst_18 = []\n",
    "for id in player_id_lst:\n",
    "    driver.get(f'https://www.atptour.com/-/ajax/hawkeyestats/serve/2018/0/D643/deucecourt/1/all/{id}/all')\n",
    "    json_player_18=json.loads(driver.find_element(by=\"xpath\", value='/html/body/pre').text)\n",
    "    player_dlst_18.append(json_player_18)"
   ]
  },
  {
   "cell_type": "markdown",
   "id": "a1d4eb26",
   "metadata": {},
   "source": [
    "## YEAR 2017 ##"
   ]
  },
  {
   "cell_type": "markdown",
   "id": "95be8dc4",
   "metadata": {},
   "source": [
    "### AD COURT STATS ###"
   ]
  },
  {
   "cell_type": "code",
   "execution_count": null,
   "id": "b7b7617d",
   "metadata": {},
   "outputs": [],
   "source": [
    "player_adlst_17 = []\n",
    "for id in player_id_lst:\n",
    "    driver.get(f'https://www.atptour.com/-/ajax/hawkeyestats/serve/2017/0/D643/adcourt/1/all/{id}/all')\n",
    "    json_player_17=json.loads(driver.find_element(by=\"xpath\", value='/html/body/pre').text)\n",
    "    player_adlst_17.append(json_player_17)"
   ]
  },
  {
   "cell_type": "markdown",
   "id": "874d66be",
   "metadata": {},
   "source": [
    "### DEUCE COURT STATS ###"
   ]
  },
  {
   "cell_type": "code",
   "execution_count": null,
   "id": "47cdb204",
   "metadata": {},
   "outputs": [],
   "source": [
    "player_dlst_17 = []\n",
    "for id in player_id_lst:\n",
    "    driver.get(f'https://www.atptour.com/-/ajax/hawkeyestats/serve/2017/0/D643/deucecourt/1/all/{id}/all')\n",
    "    json_player_17=json.loads(driver.find_element(by=\"xpath\", value='/html/body/pre').text)\n",
    "    player_dlst_17.append(json_player_17)"
   ]
  },
  {
   "cell_type": "markdown",
   "id": "6edee960",
   "metadata": {},
   "source": [
    "## YEAR 2016 ##"
   ]
  },
  {
   "cell_type": "markdown",
   "id": "9e616677",
   "metadata": {},
   "source": [
    "### AD COURT STATS ###"
   ]
  },
  {
   "cell_type": "code",
   "execution_count": null,
   "id": "a23540f8",
   "metadata": {},
   "outputs": [],
   "source": [
    "player_adlst_16 = []\n",
    "for id in player_id_lst:\n",
    "    driver.get(f'https://www.atptour.com/-/ajax/hawkeyestats/serve/2016/0/D643/adcourt/1/all/{id}/all')\n",
    "    json_player_16=json.loads(driver.find_element(by=\"xpath\", value='/html/body/pre').text)\n",
    "    player_adlst_16.append(json_player_16)"
   ]
  },
  {
   "cell_type": "markdown",
   "id": "c6579711",
   "metadata": {},
   "source": [
    "### DEUCE COURT STATS ###"
   ]
  },
  {
   "cell_type": "code",
   "execution_count": null,
   "id": "a3f2e69b",
   "metadata": {},
   "outputs": [],
   "source": [
    "player_dlst_16 = []\n",
    "for id in player_id_lst:\n",
    "    driver.get(f'https://www.atptour.com/-/ajax/hawkeyestats/serve/2016/0/D643/deucecourt/1/all/{id}/all')\n",
    "    json_player_16=json.loads(driver.find_element(by=\"xpath\", value='/html/body/pre').text)\n",
    "    player_dlst_16.append(json_player_16)"
   ]
  },
  {
   "cell_type": "markdown",
   "id": "44e0bcd6",
   "metadata": {},
   "source": [
    "## YEAR 2015 ##"
   ]
  },
  {
   "cell_type": "markdown",
   "id": "fc725b10",
   "metadata": {},
   "source": [
    "### AD COURT STATS ###"
   ]
  },
  {
   "cell_type": "code",
   "execution_count": null,
   "id": "02488cc1",
   "metadata": {},
   "outputs": [],
   "source": [
    "player_adlst_15 = []\n",
    "for id in player_id_lst:\n",
    "    driver.get(f'https://www.atptour.com/-/ajax/hawkeyestats/serve/2015/0/D643/adcourt/1/all/{id}/all')\n",
    "    json_player_15=json.loads(driver.find_element(by=\"xpath\", value='/html/body/pre').text)\n",
    "    player_adlst_15.append(json_player_15)"
   ]
  },
  {
   "cell_type": "markdown",
   "id": "d45f4c6c",
   "metadata": {},
   "source": [
    "### DEUCE COURT STATS ###"
   ]
  },
  {
   "cell_type": "code",
   "execution_count": null,
   "id": "c0073cb8",
   "metadata": {},
   "outputs": [],
   "source": [
    "player_dlst_15 = []\n",
    "for id in player_id_lst:\n",
    "    driver.get(f'https://www.atptour.com/-/ajax/hawkeyestats/serve/2015/0/D643/deucecourt/1/all/{id}/all')\n",
    "    json_player_15=json.loads(driver.find_element(by=\"xpath\", value='/html/body/pre').text)\n",
    "    player_dlst_15.append(json_player_15)"
   ]
  }
 ],
 "metadata": {
  "kernelspec": {
   "display_name": "Python 3 (ipykernel)",
   "language": "python",
   "name": "python3"
  },
  "language_info": {
   "codemirror_mode": {
    "name": "ipython",
    "version": 3
   },
   "file_extension": ".py",
   "mimetype": "text/x-python",
   "name": "python",
   "nbconvert_exporter": "python",
   "pygments_lexer": "ipython3",
   "version": "3.8.12"
  },
  "toc": {
   "base_numbering": 1,
   "nav_menu": {},
   "number_sections": true,
   "sideBar": true,
   "skip_h1_title": false,
   "title_cell": "Table of Contents",
   "title_sidebar": "Contents",
   "toc_cell": false,
   "toc_position": {},
   "toc_section_display": true,
   "toc_window_display": false
  }
 },
 "nbformat": 4,
 "nbformat_minor": 5
}
