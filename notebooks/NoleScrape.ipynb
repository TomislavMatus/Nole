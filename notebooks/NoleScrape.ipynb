{
 "cells": [
  {
   "cell_type": "code",
   "execution_count": 20,
   "id": "8fff6c6a",
   "metadata": {},
   "outputs": [
    {
     "name": "stdout",
     "output_type": "stream",
     "text": [
      ".\r\n"
     ]
    }
   ],
   "source": [
    "!pwd"
   ]
  },
  {
   "cell_type": "code",
   "execution_count": 5,
   "id": "87678ef6",
   "metadata": {},
   "outputs": [
    {
     "name": "stdout",
     "output_type": "stream",
     "text": [
      "Collecting selenium-stealth\n",
      "  Downloading selenium_stealth-1.0.6-py3-none-any.whl (32 kB)\n",
      "Requirement already satisfied: selenium in /Users/Tomi/.pyenv/versions/3.8.12/envs/lewagon/lib/python3.8/site-packages (from selenium-stealth) (4.1.0)\n",
      "Requirement already satisfied: trio-websocket~=0.9 in /Users/Tomi/.pyenv/versions/3.8.12/envs/lewagon/lib/python3.8/site-packages (from selenium->selenium-stealth) (0.9.2)\n",
      "Requirement already satisfied: trio~=0.17 in /Users/Tomi/.pyenv/versions/3.8.12/envs/lewagon/lib/python3.8/site-packages (from selenium->selenium-stealth) (0.19.0)\n",
      "Requirement already satisfied: urllib3[secure]~=1.26 in /Users/Tomi/.pyenv/versions/3.8.12/envs/lewagon/lib/python3.8/site-packages (from selenium->selenium-stealth) (1.26.7)\n",
      "Requirement already satisfied: outcome in /Users/Tomi/.pyenv/versions/3.8.12/envs/lewagon/lib/python3.8/site-packages (from trio~=0.17->selenium->selenium-stealth) (1.1.0)\n",
      "Requirement already satisfied: sortedcontainers in /Users/Tomi/.pyenv/versions/3.8.12/envs/lewagon/lib/python3.8/site-packages (from trio~=0.17->selenium->selenium-stealth) (2.4.0)\n",
      "Requirement already satisfied: attrs>=19.2.0 in /Users/Tomi/.pyenv/versions/3.8.12/envs/lewagon/lib/python3.8/site-packages (from trio~=0.17->selenium->selenium-stealth) (21.4.0)\n",
      "Requirement already satisfied: sniffio in /Users/Tomi/.pyenv/versions/3.8.12/envs/lewagon/lib/python3.8/site-packages (from trio~=0.17->selenium->selenium-stealth) (1.2.0)\n",
      "Requirement already satisfied: async-generator>=1.9 in /Users/Tomi/.pyenv/versions/3.8.12/envs/lewagon/lib/python3.8/site-packages (from trio~=0.17->selenium->selenium-stealth) (1.10)\n",
      "Requirement already satisfied: idna in /Users/Tomi/.pyenv/versions/3.8.12/envs/lewagon/lib/python3.8/site-packages (from trio~=0.17->selenium->selenium-stealth) (3.3)\n",
      "Requirement already satisfied: wsproto>=0.14 in /Users/Tomi/.pyenv/versions/3.8.12/envs/lewagon/lib/python3.8/site-packages (from trio-websocket~=0.9->selenium->selenium-stealth) (1.0.0)\n",
      "Requirement already satisfied: pyOpenSSL>=0.14 in /Users/Tomi/.pyenv/versions/3.8.12/envs/lewagon/lib/python3.8/site-packages (from urllib3[secure]~=1.26->selenium->selenium-stealth) (21.0.0)\n",
      "Requirement already satisfied: certifi in /Users/Tomi/.pyenv/versions/3.8.12/envs/lewagon/lib/python3.8/site-packages (from urllib3[secure]~=1.26->selenium->selenium-stealth) (2021.10.8)\n",
      "Requirement already satisfied: cryptography>=1.3.4 in /Users/Tomi/.pyenv/versions/3.8.12/envs/lewagon/lib/python3.8/site-packages (from urllib3[secure]~=1.26->selenium->selenium-stealth) (36.0.1)\n",
      "Requirement already satisfied: cffi>=1.12 in /Users/Tomi/.pyenv/versions/3.8.12/envs/lewagon/lib/python3.8/site-packages (from cryptography>=1.3.4->urllib3[secure]~=1.26->selenium->selenium-stealth) (1.15.0)\n",
      "Requirement already satisfied: six>=1.5.2 in /Users/Tomi/.pyenv/versions/3.8.12/envs/lewagon/lib/python3.8/site-packages (from pyOpenSSL>=0.14->urllib3[secure]~=1.26->selenium->selenium-stealth) (1.16.0)\n",
      "Requirement already satisfied: h11<1,>=0.9.0 in /Users/Tomi/.pyenv/versions/3.8.12/envs/lewagon/lib/python3.8/site-packages (from wsproto>=0.14->trio-websocket~=0.9->selenium->selenium-stealth) (0.12.0)\n",
      "Requirement already satisfied: pycparser in /Users/Tomi/.pyenv/versions/3.8.12/envs/lewagon/lib/python3.8/site-packages (from cffi>=1.12->cryptography>=1.3.4->urllib3[secure]~=1.26->selenium->selenium-stealth) (2.21)\n",
      "Installing collected packages: selenium-stealth\n",
      "Successfully installed selenium-stealth-1.0.6\n",
      "Requirement already satisfied: selenium in /Users/Tomi/.pyenv/versions/3.8.12/envs/lewagon/lib/python3.8/site-packages (4.1.0)\n",
      "Requirement already satisfied: trio-websocket~=0.9 in /Users/Tomi/.pyenv/versions/3.8.12/envs/lewagon/lib/python3.8/site-packages (from selenium) (0.9.2)\n",
      "Requirement already satisfied: urllib3[secure]~=1.26 in /Users/Tomi/.pyenv/versions/3.8.12/envs/lewagon/lib/python3.8/site-packages (from selenium) (1.26.7)\n",
      "Requirement already satisfied: trio~=0.17 in /Users/Tomi/.pyenv/versions/3.8.12/envs/lewagon/lib/python3.8/site-packages (from selenium) (0.19.0)\n",
      "Requirement already satisfied: sortedcontainers in /Users/Tomi/.pyenv/versions/3.8.12/envs/lewagon/lib/python3.8/site-packages (from trio~=0.17->selenium) (2.4.0)\n",
      "Requirement already satisfied: async-generator>=1.9 in /Users/Tomi/.pyenv/versions/3.8.12/envs/lewagon/lib/python3.8/site-packages (from trio~=0.17->selenium) (1.10)\n",
      "Requirement already satisfied: outcome in /Users/Tomi/.pyenv/versions/3.8.12/envs/lewagon/lib/python3.8/site-packages (from trio~=0.17->selenium) (1.1.0)\n",
      "Requirement already satisfied: idna in /Users/Tomi/.pyenv/versions/3.8.12/envs/lewagon/lib/python3.8/site-packages (from trio~=0.17->selenium) (3.3)\n",
      "Requirement already satisfied: sniffio in /Users/Tomi/.pyenv/versions/3.8.12/envs/lewagon/lib/python3.8/site-packages (from trio~=0.17->selenium) (1.2.0)\n",
      "Requirement already satisfied: attrs>=19.2.0 in /Users/Tomi/.pyenv/versions/3.8.12/envs/lewagon/lib/python3.8/site-packages (from trio~=0.17->selenium) (21.4.0)\n",
      "Requirement already satisfied: wsproto>=0.14 in /Users/Tomi/.pyenv/versions/3.8.12/envs/lewagon/lib/python3.8/site-packages (from trio-websocket~=0.9->selenium) (1.0.0)\n",
      "Requirement already satisfied: cryptography>=1.3.4 in /Users/Tomi/.pyenv/versions/3.8.12/envs/lewagon/lib/python3.8/site-packages (from urllib3[secure]~=1.26->selenium) (36.0.1)\n",
      "Requirement already satisfied: pyOpenSSL>=0.14 in /Users/Tomi/.pyenv/versions/3.8.12/envs/lewagon/lib/python3.8/site-packages (from urllib3[secure]~=1.26->selenium) (21.0.0)\n",
      "Requirement already satisfied: certifi in /Users/Tomi/.pyenv/versions/3.8.12/envs/lewagon/lib/python3.8/site-packages (from urllib3[secure]~=1.26->selenium) (2021.10.8)\n",
      "Requirement already satisfied: cffi>=1.12 in /Users/Tomi/.pyenv/versions/3.8.12/envs/lewagon/lib/python3.8/site-packages (from cryptography>=1.3.4->urllib3[secure]~=1.26->selenium) (1.15.0)\n",
      "Requirement already satisfied: six>=1.5.2 in /Users/Tomi/.pyenv/versions/3.8.12/envs/lewagon/lib/python3.8/site-packages (from pyOpenSSL>=0.14->urllib3[secure]~=1.26->selenium) (1.16.0)\n",
      "Requirement already satisfied: h11<1,>=0.9.0 in /Users/Tomi/.pyenv/versions/3.8.12/envs/lewagon/lib/python3.8/site-packages (from wsproto>=0.14->trio-websocket~=0.9->selenium) (0.12.0)\n",
      "Requirement already satisfied: pycparser in /Users/Tomi/.pyenv/versions/3.8.12/envs/lewagon/lib/python3.8/site-packages (from cffi>=1.12->cryptography>=1.3.4->urllib3[secure]~=1.26->selenium) (2.21)\n",
      "Collecting webdriver-manager\n",
      "  Downloading webdriver_manager-3.8.3-py2.py3-none-any.whl (26 kB)\n",
      "Requirement already satisfied: tqdm in /Users/Tomi/.pyenv/versions/3.8.12/envs/lewagon/lib/python3.8/site-packages (from webdriver-manager) (4.62.3)\n",
      "Requirement already satisfied: requests in /Users/Tomi/.pyenv/versions/3.8.12/envs/lewagon/lib/python3.8/site-packages (from webdriver-manager) (2.27.1)\n",
      "Collecting python-dotenv\n",
      "  Downloading python_dotenv-0.21.0-py3-none-any.whl (18 kB)\n",
      "Requirement already satisfied: certifi>=2017.4.17 in /Users/Tomi/.pyenv/versions/3.8.12/envs/lewagon/lib/python3.8/site-packages (from requests->webdriver-manager) (2021.10.8)\n",
      "Requirement already satisfied: idna<4,>=2.5 in /Users/Tomi/.pyenv/versions/3.8.12/envs/lewagon/lib/python3.8/site-packages (from requests->webdriver-manager) (3.3)\n",
      "Requirement already satisfied: charset-normalizer~=2.0.0 in /Users/Tomi/.pyenv/versions/3.8.12/envs/lewagon/lib/python3.8/site-packages (from requests->webdriver-manager) (2.0.10)\n",
      "Requirement already satisfied: urllib3<1.27,>=1.21.1 in /Users/Tomi/.pyenv/versions/3.8.12/envs/lewagon/lib/python3.8/site-packages (from requests->webdriver-manager) (1.26.7)\n",
      "Installing collected packages: python-dotenv, webdriver-manager\n",
      "Successfully installed python-dotenv-0.21.0 webdriver-manager-3.8.3\n"
     ]
    }
   ],
   "source": [
    "!pip install selenium-stealth \n",
    "!pip install selenium \n",
    "!pip install webdriver-manager"
   ]
  },
  {
   "cell_type": "code",
   "execution_count": 6,
   "id": "429a1f8e-b127-4988-abde-1334f60b6560",
   "metadata": {},
   "outputs": [
    {
     "name": "stderr",
     "output_type": "stream",
     "text": [
      "[WDM] - Downloading: 100%|██████████████████████████████████████████████████████████████| 8.04M/8.04M [00:01<00:00, 5.90MB/s]\n",
      "/var/folders/_j/qzn5nc8s42j0sqkmm8dhc5th0000gn/T/ipykernel_17587/3114764111.py:11: DeprecationWarning: executable_path has been deprecated, please pass in a Service object\n",
      "  driver = webdriver.Chrome(options=options, executable_path=ChromeDriverManager().install())\n"
     ]
    }
   ],
   "source": [
    "from selenium import webdriver\n",
    "from webdriver_manager.chrome import ChromeDriverManager\n",
    "\n",
    "from selenium import webdriver\n",
    "from selenium_stealth import stealth\n",
    "\n",
    "options = webdriver.ChromeOptions()\n",
    "options.add_argument(\"start-maximized\")\n",
    "options.add_experimental_option(\"excludeSwitches\", [\"enable-automation\"])\n",
    "options.add_experimental_option('useAutomationExtension', False)\n",
    "driver = webdriver.Chrome(options=options, executable_path=ChromeDriverManager().install())\n",
    "\n",
    "stealth(driver,\n",
    "        languages=[\"en-US\", \"en\"],\n",
    "        vendor=\"Google Inc.\",\n",
    "        platform=\"Win32\",\n",
    "        webgl_vendor=\"Intel Inc.\",\n",
    "        renderer=\"Intel Iris OpenGL Engine\",\n",
    "        fix_hairline=True,\n",
    "        )\n",
    "\n"
   ]
  },
  {
   "cell_type": "code",
   "execution_count": 7,
   "id": "19514a84-c9a6-4bd6-864f-d0f32322c7f5",
   "metadata": {},
   "outputs": [],
   "source": [
    "driver.get(\"https://www.atptour.com/-/ajax/HawkEyeStats/Opponents/D643\")"
   ]
  },
  {
   "cell_type": "code",
   "execution_count": 8,
   "id": "8ebd577b-3ea0-4e01-9f2b-68625b5ccad9",
   "metadata": {},
   "outputs": [
    {
     "data": {
      "text/plain": [
       "[{'OpponentId': 'All', 'OpponentName': 'All Players'},\n",
       " {'OpponentId': 'R', 'OpponentName': 'Right Handed Players'},\n",
       " {'OpponentId': 'L', 'OpponentName': 'Left Handed Players'},\n",
       " {'OpponentId': 'A0E2', 'OpponentName': 'Carlos Alcaraz'},\n",
       " {'OpponentId': 'A479', 'OpponentName': 'Nicolas Almagro'},\n",
       " {'OpponentId': 'A678', 'OpponentName': 'Kevin Anderson'},\n",
       " {'OpponentId': 'A596', 'OpponentName': 'Pablo Andujar'},\n",
       " {'OpponentId': 'AG37', 'OpponentName': 'Felix Auger-Aliassime'},\n",
       " {'OpponentId': 'B837', 'OpponentName': 'Marcos Baghdatis'},\n",
       " {'OpponentId': 'be67', 'OpponentName': 'Mirza Basic'},\n",
       " {'OpponentId': 'BD06', 'OpponentName': 'Roberto Bautista Agut'},\n",
       " {'OpponentId': 'bh09', 'OpponentName': 'Aljaz Bedene'},\n",
       " {'OpponentId': 'bd20', 'OpponentName': 'Thomaz Bellucci'},\n",
       " {'OpponentId': 'b747', 'OpponentName': 'Julien Benneteau'},\n",
       " {'OpponentId': 'BE90', 'OpponentName': 'Ricardas Berankis'},\n",
       " {'OpponentId': 'BA47', 'OpponentName': 'Tomas Berdych'},\n",
       " {'OpponentId': 'BK40', 'OpponentName': 'Matteo Berrettini'},\n",
       " {'OpponentId': 'b676', 'OpponentName': 'James Blake'},\n",
       " {'OpponentId': 'CD85', 'OpponentName': 'Pablo Carreno Busta'},\n",
       " {'OpponentId': 'CE25', 'OpponentName': 'Salvatore Caruso'},\n",
       " {'OpponentId': 'cf01', 'OpponentName': 'Marco Cecchinato'},\n",
       " {'OpponentId': 'CA12', 'OpponentName': 'Jeremy Chardy'},\n",
       " {'OpponentId': 'c977', 'OpponentName': 'Marin Cilic'},\n",
       " {'OpponentId': 'CG80', 'OpponentName': 'Borna Coric'},\n",
       " {'OpponentId': 'da81', 'OpponentName': 'Taro Daniel'},\n",
       " {'OpponentId': 'DH50', 'OpponentName': 'Alejandro Davidovich Fokina'},\n",
       " {'OpponentId': 'd402', 'OpponentName': 'Nikolay Davydenko'},\n",
       " {'OpponentId': 'd683', 'OpponentName': 'Juan Martin del Potro'},\n",
       " {'OpponentId': 'D874', 'OpponentName': 'Federico Delbonis'},\n",
       " {'OpponentId': 'D616', 'OpponentName': 'Somdev Devvarman'},\n",
       " {'OpponentId': 'd875', 'OpponentName': 'Grigor Dimitrov'},\n",
       " {'OpponentId': 'D646', 'OpponentName': 'Ivan Dodig'},\n",
       " {'OpponentId': 'D801', 'OpponentName': 'Alexandr Dolgopolov'},\n",
       " {'OpponentId': 'd923', 'OpponentName': 'Damir Dzumhur'},\n",
       " {'OpponentId': 'e831', 'OpponentName': 'Kyle Edmund'},\n",
       " {'OpponentId': 'E687', 'OpponentName': 'Daniel Evans'},\n",
       " {'OpponentId': 'F324', 'OpponentName': 'Roger Federer'},\n",
       " {'OpponentId': 'f401', 'OpponentName': 'David Ferrer'},\n",
       " {'OpponentId': 'f339', 'OpponentName': 'Mardy Fish'},\n",
       " {'OpponentId': 'F510', 'OpponentName': 'Fabio Fognini'},\n",
       " {'OpponentId': 'F811', 'OpponentName': 'Bjorn Fratangelo'},\n",
       " {'OpponentId': 'FB98', 'OpponentName': 'Taylor Fritz'},\n",
       " {'OpponentId': 'F724', 'OpponentName': 'Marton Fucsovics'},\n",
       " {'OpponentId': 'g476', 'OpponentName': 'Guillermo Garcia-Lopez'},\n",
       " {'OpponentId': 'GD64', 'OpponentName': 'Cristian Garin'},\n",
       " {'OpponentId': 'g628', 'OpponentName': 'Richard Gasquet'},\n",
       " {'OpponentId': 'G676', 'OpponentName': 'Daniel Gimeno-Traver'},\n",
       " {'OpponentId': 'gb88', 'OpponentName': 'David Goffin'},\n",
       " {'OpponentId': 'G806', 'OpponentName': 'Andrey Golubev'},\n",
       " {'OpponentId': 'g892', 'OpponentName': 'Alejandro Gonzalez'},\n",
       " {'OpponentId': 'G710', 'OpponentName': 'Marcel Granollers'},\n",
       " {'OpponentId': 'G858', 'OpponentName': 'Ernests Gulbis'},\n",
       " {'OpponentId': 'h355', 'OpponentName': 'Tommy Haas'},\n",
       " {'OpponentId': 'H756', 'OpponentName': 'Robin Haase'},\n",
       " {'OpponentId': 'H804', 'OpponentName': 'Andreas Haider-Maurer'},\n",
       " {'OpponentId': 'h528', 'OpponentName': 'Victor Hanescu'},\n",
       " {'OpponentId': 'H940', 'OpponentName': 'Ryan Harrison'},\n",
       " {'OpponentId': 'h996', 'OpponentName': 'Pierre-Hugues Herbert'},\n",
       " {'OpponentId': 'HB71', 'OpponentName': 'Hubert Hurkacz'},\n",
       " {'OpponentId': 'i186', 'OpponentName': 'John Isner'},\n",
       " {'OpponentId': 'i165', 'OpponentName': 'Denis Istomin'},\n",
       " {'OpponentId': 'J267', 'OpponentName': 'Malek Jaziri'},\n",
       " {'OpponentId': 'J386', 'OpponentName': 'Steve Johnson'},\n",
       " {'OpponentId': 'KC56', 'OpponentName': 'Aslan Karatsev'},\n",
       " {'OpponentId': 'KE29', 'OpponentName': 'Karen Khachanov'},\n",
       " {'OpponentId': 'K966', 'OpponentName': 'Martin Klizan'},\n",
       " {'OpponentId': 'KE73', 'OpponentName': 'Dominik Koepfer'},\n",
       " {'OpponentId': 'K435', 'OpponentName': 'Philipp Kohlschreiber'},\n",
       " {'OpponentId': 'KB05', 'OpponentName': 'Filip Krajinovic'},\n",
       " {'OpponentId': 'k540', 'OpponentName': 'Lukasz Kubot'},\n",
       " {'OpponentId': 'K926', 'OpponentName': 'Mikhail Kukushkin'},\n",
       " {'OpponentId': 'ke17', 'OpponentName': 'Nick Kyrgios'},\n",
       " {'OpponentId': 'L987', 'OpponentName': 'Dusan Lajovic'},\n",
       " {'OpponentId': 'l397', 'OpponentName': 'Feliciano Lopez'},\n",
       " {'OpponentId': 'ME82', 'OpponentName': 'Adrian Mannarino'},\n",
       " {'OpponentId': 'MB02', 'OpponentName': 'Florian Mayer'},\n",
       " {'OpponentId': 'MM58', 'OpponentName': 'Daniil Medvedev'},\n",
       " {'OpponentId': 'MA21', 'OpponentName': 'Juan Monaco'},\n",
       " {'OpponentId': 'MC65', 'OpponentName': 'Gael Monfils'},\n",
       " {'OpponentId': 'M824', 'OpponentName': 'Albert Montanes'},\n",
       " {'OpponentId': 'MW02', 'OpponentName': 'Corentin Moutet'},\n",
       " {'OpponentId': 'MA30', 'OpponentName': 'Gilles Muller'},\n",
       " {'OpponentId': 'mc10', 'OpponentName': 'Andy Murray'},\n",
       " {'OpponentId': 'M0EJ', 'OpponentName': 'Lorenzo Musetti'},\n",
       " {'OpponentId': 'n409', 'OpponentName': 'Rafael Nadal'},\n",
       " {'OpponentId': 'N289', 'OpponentName': 'Jarkko Nieminen'},\n",
       " {'OpponentId': 'N552', 'OpponentName': 'Kei Nishikori'},\n",
       " {'OpponentId': 'N771', 'OpponentName': 'Cameron Norrie'},\n",
       " {'OpponentId': 'PD31', 'OpponentName': 'Benoit Paire'},\n",
       " {'OpponentId': 'pb22', 'OpponentName': 'Peter Polansky'},\n",
       " {'OpponentId': 'PD07', 'OpponentName': 'Vasek Pospisil'},\n",
       " {'OpponentId': 'PF39', 'OpponentName': 'Lucas Pouille'},\n",
       " {'OpponentId': 'Q927', 'OpponentName': 'Sam Querrey'},\n",
       " {'OpponentId': 'R772', 'OpponentName': 'Albert Ramos-Vinolas'},\n",
       " {'OpponentId': 'r975', 'OpponentName': 'Milos Raonic'},\n",
       " {'OpponentId': 'R612', 'OpponentName': 'Stephane Robert'},\n",
       " {'OpponentId': 'r419', 'OpponentName': 'Tommy Robredo'},\n",
       " {'OpponentId': 'R685', 'OpponentName': 'Lukas Rosol'},\n",
       " {'OpponentId': 'RE44', 'OpponentName': 'Andrey Rublev'},\n",
       " {'OpponentId': 'RH16', 'OpponentName': 'Casper Ruud'},\n",
       " {'OpponentId': 'SL08', 'OpponentName': 'Tennys Sandgren'},\n",
       " {'OpponentId': 'SM37', 'OpponentName': 'Diego Schwartzman'},\n",
       " {'OpponentId': 'sa93', 'OpponentName': 'Andreas Seppi'},\n",
       " {'OpponentId': 'SU55', 'OpponentName': 'Denis Shapovalov'},\n",
       " {'OpponentId': 'SD32', 'OpponentName': 'Gilles Simon'},\n",
       " {'OpponentId': 'S0AG', 'OpponentName': 'Jannik Sinner'},\n",
       " {'OpponentId': 'SM25', 'OpponentName': 'Jack Sock'},\n",
       " {'OpponentId': 'sa49', 'OpponentName': 'Robin Soderling'},\n",
       " {'OpponentId': 'SU87', 'OpponentName': 'Lorenzo Sonego'},\n",
       " {'OpponentId': 'sh90', 'OpponentName': 'Joao Sousa'},\n",
       " {'OpponentId': 's694', 'OpponentName': 'Radek Stepanek'},\n",
       " {'OpponentId': 'SL28', 'OpponentName': 'Jan-Lennard Struff'},\n",
       " {'OpponentId': 'TB69', 'OpponentName': 'Dominic Thiem'},\n",
       " {'OpponentId': 'T742', 'OpponentName': 'Janko Tipsarevic'},\n",
       " {'OpponentId': 'TA46', 'OpponentName': 'Bernard Tomic'},\n",
       " {'OpponentId': 't840', 'OpponentName': 'Viktor Troicki'},\n",
       " {'OpponentId': 'TE51', 'OpponentName': 'Stefanos Tsitsipas'},\n",
       " {'OpponentId': 'T786', 'OpponentName': 'Jo-Wilfried Tsonga'},\n",
       " {'OpponentId': 'V708', 'OpponentName': 'Jiri Vesely'},\n",
       " {'OpponentId': 'W367', 'OpponentName': 'Stan Wawrinka'},\n",
       " {'OpponentId': 'Y061', 'OpponentName': 'Mikhail Youzhny'},\n",
       " {'OpponentId': 'Z168', 'OpponentName': 'Mischa Zverev'},\n",
       " {'OpponentId': 'z355', 'OpponentName': 'Alexander Zverev'}]"
      ]
     },
     "execution_count": 8,
     "metadata": {},
     "output_type": "execute_result"
    }
   ],
   "source": [
    "import json\n",
    "json_player = json.loads(driver.find_element(by=\"xpath\", value='/html/body/pre').text)\n",
    "json_player"
   ]
  },
  {
   "cell_type": "code",
   "execution_count": 15,
   "id": "4fb3a17d-6735-409f-831a-181235c60c94",
   "metadata": {},
   "outputs": [],
   "source": [
    "player_ids = []\n",
    "for opponent_info in json_player[3:]:\n",
    "        player_ids.append(opponent_info['OpponentId'])\n"
   ]
  },
  {
   "cell_type": "code",
   "execution_count": 18,
   "id": "7e4b5404",
   "metadata": {},
   "outputs": [
    {
     "data": {
      "text/plain": [
       "120"
      ]
     },
     "execution_count": 18,
     "metadata": {},
     "output_type": "execute_result"
    }
   ],
   "source": [
    "len(player_ids)"
   ]
  },
  {
   "cell_type": "code",
   "execution_count": null,
   "id": "78741459",
   "metadata": {},
   "outputs": [],
   "source": []
  }
 ],
 "metadata": {
  "kernelspec": {
   "display_name": "Python 3 (ipykernel)",
   "language": "python",
   "name": "python3"
  },
  "language_info": {
   "codemirror_mode": {
    "name": "ipython",
    "version": 3
   },
   "file_extension": ".py",
   "mimetype": "text/x-python",
   "name": "python",
   "nbconvert_exporter": "python",
   "pygments_lexer": "ipython3",
   "version": "3.8.12"
  },
  "toc": {
   "base_numbering": 1,
   "nav_menu": {},
   "number_sections": true,
   "sideBar": true,
   "skip_h1_title": false,
   "title_cell": "Table of Contents",
   "title_sidebar": "Contents",
   "toc_cell": false,
   "toc_position": {},
   "toc_section_display": true,
   "toc_window_display": false
  }
 },
 "nbformat": 4,
 "nbformat_minor": 5
}
