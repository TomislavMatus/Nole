{
 "cells": [
  {
   "cell_type": "code",
   "execution_count": null,
   "id": "39d7dcc0",
   "metadata": {},
   "outputs": [],
   "source": [
    "import wikipediaapi"
   ]
  },
  {
   "cell_type": "code",
   "execution_count": 25,
   "id": "35851518",
   "metadata": {},
   "outputs": [],
   "source": [
    "import re"
   ]
  },
  {
   "cell_type": "code",
   "execution_count": 1,
   "id": "03d2d19f",
   "metadata": {},
   "outputs": [],
   "source": [
    "wiki_wiki = wikipediaapi.Wikipedia('en')"
   ]
  },
  {
   "cell_type": "code",
   "execution_count": null,
   "id": "83d21570",
   "metadata": {},
   "outputs": [],
   "source": [
    "Dead_by_Daylight #testing on my favourite video game page"
   ]
  },
  {
   "cell_type": "code",
   "execution_count": 2,
   "id": "2d7b7d8b",
   "metadata": {},
   "outputs": [],
   "source": [
    "page_dbd = wiki_wiki.page('Dead_by_Daylight') #so it doesn't seem to need the full url"
   ]
  },
  {
   "cell_type": "code",
   "execution_count": 4,
   "id": "8e57e70d",
   "metadata": {},
   "outputs": [
    {
     "name": "stdout",
     "output_type": "stream",
     "text": [
      "Page - Exists: True\n"
     ]
    }
   ],
   "source": [
    "print(\"Page - Exists: %s\" % page_dbd.exists())"
   ]
  },
  {
   "cell_type": "code",
   "execution_count": 5,
   "id": "871cf710",
   "metadata": {},
   "outputs": [
    {
     "name": "stdout",
     "output_type": "stream",
     "text": [
      "Page - Summary: Dead by Daylight is a survival horror asymmetric multiplayer\n"
     ]
    }
   ],
   "source": [
    "print(\"Page - Summary: %s\" % page_dbd.summary[0:60])"
   ]
  },
  {
   "cell_type": "code",
   "execution_count": 7,
   "id": "3c86e71d",
   "metadata": {},
   "outputs": [
    {
     "name": "stdout",
     "output_type": "stream",
     "text": [
      "Page - Summary: Dead by Daylight is a survival horror asymmetric multiplayer\n"
     ]
    }
   ],
   "source": [
    "print(f\"Page - Summary: {page_dbd.summary[0:60]}\")"
   ]
  },
  {
   "cell_type": "code",
   "execution_count": 8,
   "id": "5e1e33a2",
   "metadata": {},
   "outputs": [
    {
     "name": "stdout",
     "output_type": "stream",
     "text": [
      "https://en.wikipedia.org/wiki/Dead_by_Daylight\n"
     ]
    }
   ],
   "source": [
    "print(page_dbd.canonicalurl)"
   ]
  },
  {
   "cell_type": "code",
   "execution_count": 9,
   "id": "1a9eee1c",
   "metadata": {},
   "outputs": [
    {
     "name": "stdout",
     "output_type": "stream",
     "text": [
      "https://en.wikipedia.org/wiki/Dead_by_Daylight\n"
     ]
    }
   ],
   "source": [
    "print(page_dbd.fullurl)"
   ]
  },
  {
   "cell_type": "code",
   "execution_count": 10,
   "id": "2752408e",
   "metadata": {},
   "outputs": [],
   "source": [
    "wiki_wiki = wikipediaapi.Wikipedia(\n",
    "        language='en',\n",
    "        extract_format=wikipediaapi.ExtractFormat.WIKI\n",
    ")\n"
   ]
  },
  {
   "cell_type": "code",
   "execution_count": 15,
   "id": "f409f8d7",
   "metadata": {},
   "outputs": [
    {
     "name": "stdout",
     "output_type": "stream",
     "text": [
      "Dead by Daylight is a survival horror asymmetric multiplayer online game developed by Behaviour Interactive. It is a one-versus-four game in which one player takes on the role of a savage killer and the other four play as survivors; the killer must catch each survivor and sacrifice them to a malevolent force known as the Entity by impaling them on hooks, while the survivors must avoid being caught and fix five generators to open the exit gates. The game was first released for Microsoft Windows in June 2016, followed by additional ports for PlayStation 4 and Xbox One in June 2017, Nintendo Switch in September 2019, iOS and Android in April 2020, Stadia in October 2020, and PlayStation 5 and Xbox Series X/S in November 2020.Starbreeze Studios published the game from 2016 to 2018. Then, the game is published by Canadian studio Behaviour Interactive, who acquired the publishing rights from Swedish studio Starbreeze Studios in January 2018. 505 Games published the Nintendo Switch version, while Deep Silver published the physical copies of PlayStation 5 and Xbox Series X/S version.\n",
      "Alongside original characters, the game includes characters from various franchises such as Halloween, Left 4 Dead, The Texas Chainsaw Massacre, A Nightmare on Elm Street, Saw, Evil Dead, Ghost Face, Stranger Things, Silent Hill, Crypt TV, Resident Evil, Hellraiser, Ringu, and Attack on Titan. The game received mixed reviews upon release, though it was a commercial success, attracting more than 50 million players.\n",
      "\n",
      "Gameplay\n",
      "Dead by Daylight is an asymmetrical horror game where one player is the \"killer\" and the other four are \"survivors\". The survivors' objective is to escape the map by repairing five of seven generators scattered throughout it to power the two exit gates. The killer must \"hook\" and sacrifice all the survivors before they escape. If only one survivor remains, an escape hatch opens. If the killer closes the hatch or a gate is opened, the \"Endgame Collapse\" begins and the survivors are given only two minutes to escape.When hunting the survivors, the killer must capture them by either striking them with their weapon (one strike injures survivors and two strikes puts them into a dying state) or grabbing them in one move by catching them unexpectedly.\n",
      "Although survivors can attempt to escape the first \"hook\", success is unlikely. They can also be saved by other survivors. If they are hooked a second time, they enter a \"struggle phase\", where they must resist the game's spider-like main antagonist ‘The Entity’ as it attempts to take them out of the game, by performing skill checks until they are either killed or rescued. If they are hooked a third time, they will be sacrificed to the Entity.\n",
      "The survivors' movement options consist of sprinting, walking, crouch-walking, or crawling. They must elude the killer by losing their line of sight in a chase or by successfully hiding from them. Most killers can only move at a pace that is moderately faster than that of a sprinting survivor. However, the killer is slower in other movements, such as vaulting obstacles. The killer cannot leap over obstacles that survivors can throw down into their path and must instead go around them or destroy them. The killer also has an aura-reading ability, constantly revealing the location of generators, hooks, and sometimes survivors. Every killer has their own unique power. For instance, the Wraith can turn invisible and move faster (though is unable to strike survivors while hidden) and the Hillbilly wields a chainsaw which allows him to dash quickly along the map and instantly knock down any survivors in his path. These powers can be altered using add-ons obtained through gameplay.\n",
      "Survivors can search chests to find useful items, such as maps, keys, toolboxes, med-kits, and flashlights. Most killers have an innate \"terror radius\" that surrounds them. Survivors inside the radius will hear a heartbeat, which increases in intensity with proximity to the killer. They can also see a red light (called the \"red stain\") emanating from the killer's head onto the ground, which reveals the direction they are facing and can help survivors determine when the killer is about to come around a corner. Some killers have the ability to suppress their terror radius and red stain under certain conditions, enabling them to surprise unaware survivors.\n",
      "\n",
      "Objectives\n",
      "Survivor interactions with many objects in the game can cause random skill checks to trigger. The player can either perform a good skill check which has no consequence, a great skill check which speeds up progression of the action the player is taking, or a bad skill check which usually notifies the killer of the survivor's location and may also cause a loss of progress.  Great skill checks require more precision, and may not always be possible depending on the type of interaction or the perks being used by either the survivor or the killer. Killers have the ability to damage generators, which will slowly regress their repair progress over time until a survivor resumes repairing it.\n",
      "If the killer catches a survivor, the killer can pick them up and carry them to one of many sacrificial hooks scattered throughout the map. While being carried, the survivor can attempt to wiggle out of the killer's grasp before they reach the hook and then run away. If the killer succeeds in impaling a survivor on a hook, a teammate can rescue the impaled survivor or, more rarely, the impaled survivor (with a 4% chance) can rescue themselves from the hook. Self-rescue is only possible the first time a survivor is hooked.\n",
      "Once five generators are repaired, a survivor must find a switch next to one of two exit gates and hold it for twenty seconds in order to open the door. The game only ends when all survivors have either escaped or have been killed; thus, while some survivors may escape and finish early, those still inside must keep playing. Players who have escaped or died have the ability to observe the remaining players through the game's conclusion or return to the menu and join a new game.\n",
      "If only one survivor remains, repairing generators is usually not practical. Regardless of whether the other three survivors escaped or were killed, an open escape hatch will appear in a random location. If the survivor finds this hatch first, they can escape through it, but if the killer finds it first, then they can close it. If the killer closes the hatch, the two exit gates become powered as though the generator objective was completed, allowing the remaining survivor one final way to escape the trial. If one of the survivors possesses a special kind of key, either obtained from a chest in the trial or brought into the trial, they can open the hatch and escape. Otherwise, the hatch will remain closed, opening automatically when only one survivor remains in the trial.\n",
      "\n",
      "Perks\n",
      "Survivors and killers each have the option to use up to four perks in their load-out, which gives their characters special abilities. Perks differ between survivors and killers; a survivor perk may not be used by killers and vice versa. Survivor perks include a burst of speed when running from the killer (sprint-burst), the ability to self-heal without a first aid kit (self-care), sabotaging meat hooks without a toolbox (saboteur), and many more. Killer perks include seeing survivors' auras, hindering their struggle time while being taken to a hook (iron-grasp), locking down generators to prevent them from being worked on (corrupt-intervention), and many more.\n",
      "There are a number of \"general perks\" that start unlocked for any character to learn. Additionally, each specific character starts off with a set of three perks that are unique to them. Perks, add-ons, and items can be unlocked through the Bloodweb, a skill tree where each character can spend in-game currency.\n",
      "Advancing to level 50 in a character's Bloodweb allows the player to \"prestige\" that particular character. Doing so resets the character back to level 0, keeps all previously earned perks, add-ons, and items, and unlocks tiers 1-3 of the character's unique perks to every single other character owned of the same role.\n",
      "\n",
      "Characters\n",
      "Survivors\n",
      "Players may assume the role of one of the 33 survivors: some of these characters have been created specifically for the game, some are licensed from other horror franchises.\n",
      "\n",
      "Additionally, eight legendary skins have been added which turn their respective Survivor into alternate Survivor characters.\n",
      "\n",
      "While these are not legendary skins, these outfits give original survivors appearances reminiscent of licensed characters from other series.\n",
      "\n",
      "Killers\n",
      "Players may assume the role of one of the 29 killers, some original and some licensed. Each killer has a power that is unique to them.\n",
      "\n",
      "Additionally, ten legendary and ultra-rare skins have been added which turn their respective Killers into alternate Killer characters.\n",
      "\n",
      "Setting\n",
      "Maps\n",
      "The game takes place across 17 maps which are based on places related to the killer of each map's respective chapter: the MacMillan Estate (Trapper), Crotus Prenn Asylum (Nurse and Clown), Autohaven Wreckers (Wraith), Coldwind Farm (Hillbilly), Haddonfield (Shape), Backwater Swamp (Hag), Léry's Memorial Institute (Doctor), the Red Forest (Huntress and Plague), Springwood (Nightmare), Gideon Meat Plant (Pig), Yamaoka Estate (Spirit and Oni), Ormond (Legion), Hawkins National Laboratory (Demogorgon), Grave of Glenvale (Deathslinger), Midwich Elementary School (Executioner), Raccoon City (Nemesis), Forsaken Boneyard (Artist), and Withered Isle (Dredge). The Cannibal, Ghost Face, Blight, Twins, Trickster, Cenobite, and Onryō did not receive maps. Over time, the level of evil of each killer's actions accumulated there until it attracted the attention of the Entity, an unknown force of darkness from a place with no name. Most realms are split into multiple maps with similar features but small variations.\n",
      "Most maps features a map-specific building or landmark that remains in the same place in the map every game. Most maps also feature a building known as the \"killer shack\", which is the same throughout all maps and appears in one of a few predetermined locations. Every new game, a room known as the \"basement\" is placed in one of several predetermined locations, which includes the killer shack (if present). The basement is a special room consisting of one item chest for the survivors to scavenge in and four lockers for them to hide in. It is also home to a special four-pointed hook that cannot be destroyed or tampered with in any way by survivors. The basement only has one way in and out, making it a very secure place for a killer to bring their victims without fear of other survivors saving them.\n",
      "\n",
      "Premise\n",
      "A group of four survivors must elude one killer bent on sacrificing them on meat hooks to an almighty malevolent being called the Entity. The survivors' perspectives are third-person, while the killer's perspective is first-person. The survivors can only fight back by stunning the killer or using items such as flashlights to blind them. Survivors can also vault over obstacles much faster than the killer, providing a means of escape. Survivors use these obstacles and tools to help them elude the killer for as long as they can. In order to escape, survivors must repair five of the seven generators scattered across the map to power up the exit gates. They must then open the exit gates and escape through them; the final survivor may also find an unmarked escape hatch to jump into, though the hatch can be shut if the killer finds it first. Repairing generators can be made quicker with items such as toolboxes, or if you do the generator with other survivors, and you can use certain perks to speed it up.\n",
      "\n",
      "Plot\n",
      "The Entity, a supernatural being hailing from the ancient Bloodweb, is awakened from its slumber and summoned by actions of great violence and malice. The killers, mostly serial murderers or victims of terrible tragedy, are pulled out of reality by the Entity and convinced or forced to do its bidding. In order to maintain its existence, the Entity requires sacrifices and demands that they hunt and kill the survivors so it can feed off their hope and steal a piece of their souls upon death. In order to continue this hunt, the Entity blocks off the gateways of death and puts the dead into a dreamlike state that leads the survivors back to the Entity's purgatory-like world to get hunted again.\n",
      "The survivors are pulled into the Entity's constructed world when they wander too close to the places the killers were taken from, disappearing from the real world without a trace. They end up at a campfire in the woods, where they rest between trials, until a killer pursues them again. Each trial takes place in a series of realms constructed by the Entity of areas related to each killer's history. Escaping from the grounds always takes the survivors back to the campfire, and offerings can be created to be burnt at it and appeal to the Entity. Since the Entity feeds off the hope of the survivors to escape, it helps them just as much as the killers, acting as an impartial observer of the hunt and stepping in only to claim those hung on its hooks.\n",
      "\n",
      "Downloadable content\n",
      "Behaviour Interactive, as of August 2022, released 29 individual DLCs in total. Each DLC has included both a new survivor and killer, except for six where only one character was introduced (Bill Overbeck from Left 4 Dead, Leatherface from The Texas Chain Saw Massacre, Ash Williams from Evil Dead, Fun World's Ghost Face, Pinhead from Hellraiser, and the original character Mikaela) and three where three characters were introduced (Steve Harrington, Nancy Wheeler, and the Demogorgon from Stranger Things, Leon Kennedy, Jill Valentine, and the Nemesis from Resident Evil, and Ada Wong, Rebeca Chambers, and the Mastermind from Resident Evil: Project W). 18 of the 29 DLCs released have also introduced new maps that are accessible to all players. The DLCs release with an average of three months between each one. Prior to the release of every DLC since the Clown, a Public Test Build (PTB) is discharged, which allows the developers of the game to test and receive community feedback on the major upcoming changes. Once the PTB has been out for roughly two weeks, it is disabled for further maintenance on the pertinent upcoming DLC, such as bug fixing, adding missing features, etc. before the DLC officially gets released. The estimated time span between the opening of the Public Test Build and a new DLC's release is approximately 2–3 weeks, and the DLC typically releases a few days after the shutdown of the PTB.\n",
      "13 out of the 29 currently released DLCs have featured licensed killers and survivors from both popular horror franchises and other video games. The DLCs can be acquired by either purchasing them normally through Steam or non-licensed characters can be purchased through a shop within the game using an in-game currency called Iridescent Shards. This alternative way of obtaining the DLCs was introduced in the 2.0 update (Curtain Call). Each DLC has its own trailer and a so-called \"spotlight\" that exhibits the killer and survivor as well as a new in-game map. The relevant DLC does not need to be purchased in order for any map to be played on. Three DLCs, The Last Breath, Left Behind, and A Lullaby for the Dark, have been distributed for free.\n",
      "In August 2021, Behaviour Interactive announced that from November 17, 2021, the Stranger Things DLC (including individual characters from the DLC and their cosmetics) would no longer be available for purchase and that the Hawkins National Laboratory map would be removed. All characters from the DLC as well as their cosmetics can still be used by players who purchased them before the removal date.In October 2021, Behaviour Interactive collaborated with Boss Protocol to release the Pinhead character model from the Hellraiser DLC as a NFT as a part of the Boss Protocol Masters of Horror NFT collection. This release has led to criticism from players, with Steam reviews of the DLC falling down to a \"Mostly Negative\" rating.In addition to DLCs, other collaborations have resulted in purely cosmetic items being added to existing characters. Collaborations with Crypt TV and Attack on Titan added cosmetic items to original characters in order to make them resemble characters from those franchises. Other cosmetic items have been added from titles such as For Honor. Similarly, original Dead by Daylight characters have appeared in other video games including Deathgarden, For Honor, and Move or Die.Key\n",
      "\n",
      " This symbol denotes DLCs that unveiled licensed charactersNotes\n",
      "\n",
      "a.^ ^ The Stranger Things chapter was removed from the game on November 17, 2021. Although the characters introduced are still available to play for those who had previously purchased them, the Underground Complex map is no longer accessible.\n",
      "b.^ ^ The Raccoon City Police Station map introduced in the Resident Evil chapter was reworked and split into two separate maps for the Resident Evil: Project W chapter due to issues with sizing and pathing. The original map is no longer accessible.\n",
      "\n",
      "Reception\n",
      "Dead by Daylight received \"mixed or average reviews\", according to review aggregator Metacritic. GameSpot awarded it a score of 9 out of 10, saying \"At launch, Dead by Daylight suffered because of its reliance on peer-to-peer hosting and absent social features, but over time it rectified these issues. And while a brief and premature tussle with skill-based matchmaking turned the new player experience into a bit of a horror show (a problem which is now [was] fixed), thanks to its community of players Dead by Daylight is without peer in the asymmetrical competitive multiplayer arena, and has grown into one of the most robust horror experiences around.\" Luke Winkie of PC Gamer awarded it a score of 88 out of 100, saying \"In the five years since Behaviour Interactive released Dead by Daylight on Steam, the game has developed razor-sharp mechanical intrigue, an ultra-complex web of versatile builds and strategies, and a diverse suite of characters, each equipped with relative strengths and weaknesses.\"\n",
      "\n",
      "Sales\n",
      "During its first week, Dead by Daylight sold more than 270,000 copies. The game sold more than 1 million copies within 2 months. On November 16, 2017, more than 3 million copies were sold. As of May 2019, the game sold more than 5 million copies. In August 2020, the game reached more than 25 million players across all platforms. This number reached 36 million by May 2021, and 50 million by May 2022.Originally, the game had a \"Deluxe Edition\", that grants cosmetics for the game Payday 2 as a part of promoting the game, coming with a discount for Payday 2 owners who pre-order the game. The Deluxe Edition was discontinued in 2020.\n",
      "\n",
      "Popularity and impact\n",
      "Dead by Daylight has become increasingly popular in Japan due to Behaviour Interactive highly catering to Japanese players with the release's of Japan-themed chapters like \"The Shattered Bloodline\" and \"The Cursed Legacy\" as well as expanding the lore of its in-game universe which the Japanese gaming community tends to favor in video games. In return the country has become one of the biggest Dead by Daylight markets.In 2021 August \"The Entity Cafe\" was opened on the fourth floor of the Tokyo Skytree. The cafe sells various Dead by Daylight themed desserts, foods and merchandise.From October 21, 2021 to November 11, 2021, a Dead by Daylight crossover event called \"Survivors of the Fog\" was held in Ubisoft's action fighting game For Honor. The event featured Dead by Daylight-inspired cosmetic items and a limited-time game mode that featured the Trapper as an AI-controlled enemy.\n",
      "\n",
      "Mobile release\n",
      "On June 19, 2019, Behaviour Interactive Inc. announced the plan to release Dead by Daylight to iOS and Android for free in an attempt to make the game more accessible to players around the world. A different development team was formed that is fully dedicated to optimizing the game for the mobile experience. Dead by Daylight Mobile was initially slated for launch in 2019, however the developers had to push the release to 2020, citing their need for more time to work on bugs and optimize. On February 27, 2019, Behaviour announced that the mobile versions will be published by Chinese video game publisher NetEase Games in Southeast Asia, Japan, and Korea. It was released in EMEA, the Americas, and South Asia on April 16, 2020.In its 48 hours of release, Dead by Daylight Mobile outnumbered 1 million downloads. By October 2020, the game surpassed 10 million downloads. By May 2022, the game reached 25 million downloads.\n",
      "\n",
      "Spin-offs\n",
      "In 2021, Behaviour Interactive held a survey regarding Dead by Daylight, with one of the questions asked of the fans was about what type of genre they would like the company to explore in the future featuring Dead by Daylight's characters; one of the possible options was a dating sim. On February 22, 2022, it was discovered that on February 16, Behaviour Interactive had filed a trademark for a project titled Hooked on You: A Dead by Daylight Dating Sim. The description for the trademark states that it covers video games, as well as comic books and graphic novels. The game received an official announcement on May 17, 2022 during a developer livestream and officially released August 3, 2022. The dating sim is a visual novel text-based game with an anime style. Created in collaboration with Psyop, Hooked on You features four of Dead by Daylight's original killers, the Trapper, the Huntress, the Wraith, and the Spirit, as well as original survivors such as Dwight and Claudette.\n",
      "\n",
      "See also\n",
      "List of horror video games\n",
      "\n",
      "Notes\n",
      "References\n",
      "External links\n",
      "Official website\n"
     ]
    }
   ],
   "source": [
    "p_wiki_dbd = wiki_wiki.page('Dead_by_Daylight')\n",
    "print(p_wiki_dbd.text) #doesn't seem to be working?"
   ]
  },
  {
   "cell_type": "code",
   "execution_count": 20,
   "id": "30a2692e",
   "metadata": {},
   "outputs": [
    {
     "data": {
      "text/plain": [
       "Section: Gameplay (1):\n",
       "Dead by Daylight is an asymmetrical horror game where one player is the \"killer\" and the other four are \"survivors\". The survivors' objective is to escape the map by repairing five of seven generators scattered throughout it to power the two exit gates. The killer must \"hook\" and sacrifice all the survivors before they escape. If only one survivor remains, an escape hatch opens. If the killer closes the hatch or a gate is opened, the \"Endgame Collapse\" begins and the survivors are given only two minutes to escape.When hunting the survivors, the killer must capture them by either striking them with their weapon (one strike injures survivors and two strikes puts them into a dying state) or grabbing them in one move by catching them unexpectedly.\n",
       "Although survivors can attempt to escape the first \"hook\", success is unlikely. They can also be saved by other survivors. If they are hooked a second time, they enter a \"struggle phase\", where they must resist the game's spider-like main antagonist ‘The Entity’ as it attempts to take them out of the game, by performing skill checks until they are either killed or rescued. If they are hooked a third time, they will be sacrificed to the Entity.\n",
       "The survivors' movement options consist of sprinting, walking, crouch-walking, or crawling. They must elude the killer by losing their line of sight in a chase or by successfully hiding from them. Most killers can only move at a pace that is moderately faster than that of a sprinting survivor. However, the killer is slower in other movements, such as vaulting obstacles. The killer cannot leap over obstacles that survivors can throw down into their path and must instead go around them or destroy them. The killer also has an aura-reading ability, constantly revealing the location of generators, hooks, and sometimes survivors. Every killer has their own unique power. For instance, the Wraith can turn invisible and move faster (though is unable to strike survivors while hidden) and the Hillbilly wields a chainsaw which allows him to dash quickly along the map and instantly knock down any survivors in his path. These powers can be altered using add-ons obtained through gameplay.\n",
       "Survivors can search chests to find useful items, such as maps, keys, toolboxes, med-kits, and flashlights. Most killers have an innate \"terror radius\" that surrounds them. Survivors inside the radius will hear a heartbeat, which increases in intensity with proximity to the killer. They can also see a red light (called the \"red stain\") emanating from the killer's head onto the ground, which reveals the direction they are facing and can help survivors determine when the killer is about to come around a corner. Some killers have the ability to suppress their terror radius and red stain under certain conditions, enabling them to surprise unaware survivors.\n",
       "Subsections (2):\n",
       "Section: Objectives (2):\n",
       "Survivor interactions with many objects in the game can cause random skill checks to trigger. The player can either perform a good skill check which has no consequence, a great skill check which speeds up progression of the action the player is taking, or a bad skill check which usually notifies the killer of the survivor's location and may also cause a loss of progress.  Great skill checks require more precision, and may not always be possible depending on the type of interaction or the perks being used by either the survivor or the killer. Killers have the ability to damage generators, which will slowly regress their repair progress over time until a survivor resumes repairing it.\n",
       "If the killer catches a survivor, the killer can pick them up and carry them to one of many sacrificial hooks scattered throughout the map. While being carried, the survivor can attempt to wiggle out of the killer's grasp before they reach the hook and then run away. If the killer succeeds in impaling a survivor on a hook, a teammate can rescue the impaled survivor or, more rarely, the impaled survivor (with a 4% chance) can rescue themselves from the hook. Self-rescue is only possible the first time a survivor is hooked.\n",
       "Once five generators are repaired, a survivor must find a switch next to one of two exit gates and hold it for twenty seconds in order to open the door. The game only ends when all survivors have either escaped or have been killed; thus, while some survivors may escape and finish early, those still inside must keep playing. Players who have escaped or died have the ability to observe the remaining players through the game's conclusion or return to the menu and join a new game.\n",
       "If only one survivor remains, repairing generators is usually not practical. Regardless of whether the other three survivors escaped or were killed, an open escape hatch will appear in a random location. If the survivor finds this hatch first, they can escape through it, but if the killer finds it first, then they can close it. If the killer closes the hatch, the two exit gates become powered as though the generator objective was completed, allowing the remaining survivor one final way to escape the trial. If one of the survivors possesses a special kind of key, either obtained from a chest in the trial or brought into the trial, they can open the hatch and escape. Otherwise, the hatch will remain closed, opening automatically when only one survivor remains in the trial.\n",
       "Subsections (0):\n",
       "\n",
       "Section: Perks (2):\n",
       "Survivors and killers each have the option to use up to four perks in their load-out, which gives their characters special abilities. Perks differ between survivors and killers; a survivor perk may not be used by killers and vice versa. Survivor perks include a burst of speed when running from the killer (sprint-burst), the ability to self-heal without a first aid kit (self-care), sabotaging meat hooks without a toolbox (saboteur), and many more. Killer perks include seeing survivors' auras, hindering their struggle time while being taken to a hook (iron-grasp), locking down generators to prevent them from being worked on (corrupt-intervention), and many more.\n",
       "There are a number of \"general perks\" that start unlocked for any character to learn. Additionally, each specific character starts off with a set of three perks that are unique to them. Perks, add-ons, and items can be unlocked through the Bloodweb, a skill tree where each character can spend in-game currency.\n",
       "Advancing to level 50 in a character's Bloodweb allows the player to \"prestige\" that particular character. Doing so resets the character back to level 0, keeps all previously earned perks, add-ons, and items, and unlocks tiers 1-3 of the character's unique perks to every single other character owned of the same role.\n",
       "Subsections (0):"
      ]
     },
     "execution_count": 20,
     "metadata": {},
     "output_type": "execute_result"
    }
   ],
   "source": [
    "page_dbd.sections[0]"
   ]
  },
  {
   "cell_type": "code",
   "execution_count": 21,
   "id": "da8c914b",
   "metadata": {},
   "outputs": [],
   "source": [
    "wiki_html = wikipediaapi.Wikipedia(\n",
    "        language='en',\n",
    "        extract_format=wikipediaapi.ExtractFormat.HTML\n",
    ")"
   ]
  },
  {
   "cell_type": "code",
   "execution_count": 22,
   "id": "4f80dff3",
   "metadata": {},
   "outputs": [],
   "source": [
    "p_html_dbd = wiki_html.page(\"Dead_by_Daylight\")"
   ]
  },
  {
   "cell_type": "code",
   "execution_count": 24,
   "id": "bebf445e",
   "metadata": {},
   "outputs": [
    {
     "name": "stdout",
     "output_type": "stream",
     "text": [
      "<p class=\"mw-empty-elt\">\n",
      "\n",
      "\n",
      "</p>\n",
      "<p><i><b>Dead by Daylight</b></i> is a survival horror asymmetric multiplayer online game developed by Behaviour Interactive. It is a one-versus-four game in which one player takes on the role of a savage killer and the other four play as survivors; the killer must catch each survivor and sacrifice them to a malevolent force known as the Entity by impaling them on hooks, while the survivors must avoid being caught and fix five generators to open the exit gates. The game was first released for Microsoft Windows in June 2016, followed by additional ports for PlayStation 4 and Xbox One in June 2017, Nintendo Switch in September 2019, iOS and Android in April 2020, Stadia in October 2020, and PlayStation 5 and Xbox Series X/S in November 2020.</p><p>Starbreeze Studios published the game from 2016 to 2018. Then, the game is published by Canadian studio Behaviour Interactive, who acquired the publishing rights from Swedish studio Starbreeze Studios in January 2018. 505 Games published the Nintendo Switch version, while Deep Silver published the physical copies of PlayStation 5 and Xbox Series X/S version.\n",
      "</p><p>Alongside original characters, the game includes characters from various franchises such as <i>Halloween</i>, <i>Left 4 Dead</i>, <i>The Texas Chainsaw Massacre</i>, <i>A Nightmare on Elm Street</i>, <i>Saw</i>, <i>Evil Dead</i>, Ghost Face, <i>Stranger Things</i>, <i>Silent Hill</i>, Crypt TV, <i>Resident Evil</i>, <i>Hellraiser</i>, <i>Ringu</i>, and <i>Attack on Titan</i>. The game received mixed reviews upon release, though it was a commercial success, attracting more than 50 million players.\n",
      "</p>\n",
      "\n",
      "<h2>Gameplay</h2>\n",
      "<p><i>Dead by Daylight</i> is an asymmetrical horror game where one player is the \"killer\" and the other four are \"survivors\". The survivors' objective is to escape the map by repairing five of seven generators scattered throughout it to power the two exit gates. The killer must \"hook\" and sacrifice all the survivors before they escape. If only one survivor remains, an escape hatch opens. If the killer closes the hatch or a gate is opened, the \"Endgame Collapse\" begins and the survivors are given only two minutes to escape.</p><p>When hunting the survivors, the killer must capture them by either striking them with their weapon (one strike injures survivors and two strikes puts them into a dying state) or grabbing them in one move by catching them unexpectedly.\n",
      "</p><p>Although survivors can attempt to escape the first \"hook\", success is unlikely. They can also be saved by other survivors. If they are hooked a second time, they enter a \"struggle phase\", where they must resist the game's spider-like main antagonist ‘The Entity’ as it attempts to take them out of the game, by performing skill checks until they are either killed or rescued. If they are hooked a third time, they will be sacrificed to the Entity.\n",
      "</p><p>The survivors' movement options consist of sprinting, walking, crouch-walking, or crawling. They must elude the killer by losing their line of sight in a chase or by successfully hiding from them. Most killers can only move at a pace that is moderately faster than that of a sprinting survivor. However, the killer is slower in other movements, such as vaulting obstacles. The killer cannot leap over obstacles that survivors can throw down into their path and must instead go around them or destroy them. The killer also has an aura-reading ability, constantly revealing the location of generators, hooks, and sometimes survivors. Every killer has their own unique power. For instance, the Wraith can turn invisible and move faster (though is unable to strike survivors while hidden) and the Hillbilly wields a chainsaw which allows him to dash quickly along the map and instantly knock down any survivors in his path. These powers can be altered using add-ons obtained through gameplay.\n",
      "</p><p>Survivors can search chests to find useful items, such as maps, keys, toolboxes, med-kits, and flashlights. Most killers have an innate \"terror radius\" that surrounds them. Survivors inside the radius will hear a heartbeat, which increases in intensity with proximity to the killer. They can also see a red light (called the \"red stain\") emanating from the killer's head onto the ground, which reveals the direction they are facing and can help survivors determine when the killer is about to come around a corner. Some killers have the ability to suppress their terror radius and red stain under certain conditions, enabling them to surprise unaware survivors.\n",
      "</p>\n",
      "\n",
      "<h3>Objectives</h3>\n",
      "<p>Survivor interactions with many objects in the game can cause random skill checks to trigger. The player can either perform a good skill check which has no consequence, a great skill check which speeds up progression of the action the player is taking, or a bad skill check which usually notifies the killer of the survivor's location and may also cause a loss of progress.  Great skill checks require more precision, and may not always be possible depending on the type of interaction or the perks being used by either the survivor or the killer. Killers have the ability to damage generators, which will slowly regress their repair progress over time until a survivor resumes repairing it.\n",
      "</p><p>If the killer catches a survivor, the killer can pick them up and carry them to one of many sacrificial hooks scattered throughout the map. While being carried, the survivor can attempt to wiggle out of the killer's grasp before they reach the hook and then run away. If the killer succeeds in impaling a survivor on a hook, a teammate can rescue the impaled survivor or, more rarely, the impaled survivor (with a 4% chance) can rescue themselves from the hook. Self-rescue is only possible the first time a survivor is hooked.\n",
      "</p><p>Once five generators are repaired, a survivor must find a switch next to one of two exit gates and hold it for twenty seconds in order to open the door. The game only ends when all survivors have either escaped or have been killed; thus, while some survivors may escape and finish early, those still inside must keep playing. Players who have escaped or died have the ability to observe the remaining players through the game's conclusion or return to the menu and join a new game.\n",
      "</p><p>If only one survivor remains, repairing generators is usually not practical. Regardless of whether the other three survivors escaped or were killed, an open escape hatch will appear in a random location. If the survivor finds this hatch first, they can escape through it, but if the killer finds it first, then they can close it. If the killer closes the hatch, the two exit gates become powered as though the generator objective was completed, allowing the remaining survivor one final way to escape the trial. If one of the survivors possesses a special kind of key, either obtained from a chest in the trial or brought into the trial, they can open the hatch and escape. Otherwise, the hatch will remain closed, opening automatically when only one survivor remains in the trial.</p>\n",
      "\n",
      "<h3>Perks</h3>\n",
      "<p>Survivors and killers each have the option to use up to four perks in their load-out, which gives their characters special abilities. Perks differ between survivors and killers; a survivor perk may not be used by killers and vice versa. Survivor perks include a burst of speed when running from the killer (sprint-burst), the ability to self-heal without a first aid kit (self-care), sabotaging meat hooks without a toolbox (saboteur), and many more. Killer perks include seeing survivors' auras, hindering their struggle time while being taken to a hook (iron-grasp), locking down generators to prevent them from being worked on (corrupt-intervention), and many more.\n",
      "</p><p>There are a number of \"general perks\" that start unlocked for any character to learn. Additionally, each specific character starts off with a set of three perks that are unique to them. Perks, add-ons, and items can be unlocked through the Bloodweb, a skill tree where each character can spend in-game currency.\n",
      "Advancing to level 50 in a character's Bloodweb allows the player to \"prestige\" that particular character. Doing so resets the character back to level 0, keeps all previously earned perks, add-ons, and items, and unlocks tiers 1-3 of the character's unique perks to every single other character owned of the same role.\n",
      "</p>\n",
      "\n",
      "<h2>Characters</h2>\n",
      "<h3>Survivors</h3>\n",
      "<p>Players may assume the role of one of the 33 survivors: some of these characters have been created specifically for the game, some are licensed from other horror franchises.\n",
      "</p>\n",
      "<p>Additionally, eight legendary skins have been added which turn their respective Survivor into alternate Survivor characters.\n",
      "</p>\n",
      "<p>While these are not legendary skins, these outfits give original survivors appearances reminiscent of licensed characters from other series.\n",
      "</p>\n",
      "\n",
      "<h3>Killers</h3>\n",
      "<p>Players may assume the role of one of the 29 killers, some original and some licensed. Each killer has a power that is unique to them.\n",
      "</p>\n",
      "<p>Additionally, ten legendary and ultra-rare skins have been added which turn their respective Killers into alternate Killer characters.\n",
      "</p>\n",
      "\n",
      "<h2>Setting</h2>\n",
      "<h3>Maps</h3>\n",
      "<p>The game takes place across 17 maps which are based on places related to the killer of each map's respective chapter: the MacMillan Estate (Trapper), Crotus Prenn Asylum (Nurse and Clown), Autohaven Wreckers (Wraith), Coldwind Farm (Hillbilly), Haddonfield (Shape), Backwater Swamp (Hag), Léry's Memorial Institute (Doctor), the Red Forest (Huntress and Plague), Springwood (Nightmare), Gideon Meat Plant (Pig), Yamaoka Estate (Spirit and Oni), Ormond (Legion), Hawkins National Laboratory (Demogorgon), Grave of Glenvale (Deathslinger), Midwich Elementary School (Executioner), Raccoon City (Nemesis), Forsaken Boneyard (Artist), and Withered Isle (Dredge). The Cannibal, Ghost Face, Blight, Twins, Trickster, Cenobite, and Onryō did not receive maps. Over time, the level of evil of each killer's actions accumulated there until it attracted the attention of the Entity, an unknown force of darkness from a place with no name. Most realms are split into multiple maps with similar features but small variations.\n",
      "</p><p>Most maps features a map-specific building or landmark that remains in the same place in the map every game. Most maps also feature a building known as the \"killer shack\", which is the same throughout all maps and appears in one of a few predetermined locations. Every new game, a room known as the \"basement\" is placed in one of several predetermined locations, which includes the killer shack (if present). The basement is a special room consisting of one item chest for the survivors to scavenge in and four lockers for them to hide in. It is also home to a special four-pointed hook that cannot be destroyed or tampered with in any way by survivors. The basement only has one way in and out, making it a very secure place for a killer to bring their victims without fear of other survivors saving them.\n",
      "</p>\n",
      "\n",
      "<h3>Premise</h3>\n",
      "<p>A group of four survivors must elude one killer bent on sacrificing them on meat hooks to an almighty malevolent being called the Entity. The survivors' perspectives are third-person, while the killer's perspective is first-person. The survivors can only fight back by stunning the killer or using items such as flashlights to blind them. Survivors can also vault over obstacles much faster than the killer, providing a means of escape. Survivors use these obstacles and tools to help them elude the killer for as long as they can. In order to escape, survivors must repair five of the seven generators scattered across the map to power up the exit gates. They must then open the exit gates and escape through them; the final survivor may also find an unmarked escape hatch to jump into, though the hatch can be shut if the killer finds it first. Repairing generators can be made quicker with items such as toolboxes, or if you do the generator with other survivors, and you can use certain perks to speed it up.\n",
      "</p>\n",
      "\n",
      "<h3>Plot</h3>\n",
      "<p>The Entity, a supernatural being hailing from the ancient Bloodweb, is awakened from its slumber and summoned by actions of great violence and malice. The killers, mostly serial murderers or victims of terrible tragedy, are pulled out of reality by the Entity and convinced or forced to do its bidding. In order to maintain its existence, the Entity requires sacrifices and demands that they hunt and kill the survivors so it can feed off their hope and steal a piece of their souls upon death. In order to continue this hunt, the Entity blocks off the gateways of death and puts the dead into a dreamlike state that leads the survivors back to the Entity's purgatory-like world to get hunted again.\n",
      "</p><p>The survivors are pulled into the Entity's constructed world when they wander too close to the places the killers were taken from, disappearing from the real world without a trace. They end up at a campfire in the woods, where they rest between trials, until a killer pursues them again. Each trial takes place in a series of realms constructed by the Entity of areas related to each killer's history. Escaping from the grounds always takes the survivors back to the campfire, and offerings can be created to be burnt at it and appeal to the Entity. Since the Entity feeds off the hope of the survivors to escape, it helps them just as much as the killers, acting as an impartial observer of the hunt and stepping in only to claim those hung on its hooks.\n",
      "</p>\n",
      "\n",
      "<h2>Downloadable content</h2>\n",
      "<p>Behaviour Interactive, as of August 2022, released 29 individual DLCs in total. Each DLC has included both a new survivor and killer, except for six where only one character was introduced (Bill Overbeck from <i>Left 4 Dead</i>, Leatherface from <i>The Texas Chain Saw Massacre</i>, Ash Williams from <i>Evil Dead</i>, Fun World's <i>Ghost Face</i>, Pinhead from <i>Hellraiser</i>, and the original character Mikaela) and three where three characters were introduced (Steve Harrington, Nancy Wheeler, and the Demogorgon from <i>Stranger Things,</i> Leon Kennedy, Jill Valentine, and the Nemesis from <i>Resident Evil,</i> and Ada Wong, Rebeca Chambers, and the Mastermind from <i>Resident Evil: Project W</i>). 18 of the 29 DLCs released have also introduced new maps that are accessible to all players. The DLCs release with an average of three months between each one. Prior to the release of every DLC since the Clown, a Public Test Build (PTB) is discharged, which allows the developers of the game to test and receive community feedback on the major upcoming changes. Once the PTB has been out for roughly two weeks, it is disabled for further maintenance on the pertinent upcoming DLC, such as bug fixing, adding missing features, etc. before the DLC officially gets released. The estimated time span between the opening of the Public Test Build and a new DLC's release is approximately 2–3 weeks, and the DLC typically releases a few days after the shutdown of the PTB.\n",
      "</p><p>13 out of the 29 currently released DLCs have featured licensed killers and survivors from both popular horror franchises and other video games. The DLCs can be acquired by either purchasing them normally through Steam or non-licensed characters can be purchased through a shop within the game using an in-game currency called Iridescent Shards. This alternative way of obtaining the DLCs was introduced in the 2.0 update (<i>Curtain Call</i>). Each DLC has its own trailer and a so-called \"spotlight\" that exhibits the killer and survivor as well as a new in-game map. The relevant DLC does not need to be purchased in order for any map to be played on. Three DLCs, <i>The Last Breath</i>, <i>Left Behind</i>, and <i>A Lullaby for the Dark</i>, have been distributed for free.\n",
      "</p><p>In August 2021, Behaviour Interactive announced that from November 17, 2021, the <i>Stranger Things</i> DLC (including individual characters from the DLC and their cosmetics) would no longer be available for purchase and that the Hawkins National Laboratory map would be removed. All characters from the DLC as well as their cosmetics can still be used by players who purchased them before the removal date.</p><p>In October 2021, Behaviour Interactive collaborated with Boss Protocol to release the Pinhead character model from the <i>Hellraiser</i> DLC as a NFT as a part of the Boss Protocol Masters of Horror NFT collection. This release has led to criticism from players, with Steam reviews of the DLC falling down to a \"Mostly Negative\" rating.</p><p>In addition to DLCs, other collaborations have resulted in purely cosmetic items being added to existing characters. Collaborations with Crypt TV and Attack on Titan added cosmetic items to original characters in order to make them resemble characters from those franchises. Other cosmetic items have been added from titles such as For Honor. Similarly, original Dead by Daylight characters have appeared in other video games including Deathgarden, For Honor, and Move or Die.</p><p><b>Key</b>\n",
      "</p>\n",
      "<ul><li> This symbol denotes DLCs that unveiled licensed characters</li></ul><p><b>Notes</b>\n",
      "</p>\n",
      "<dl><dd>a.<span id=\"endnote_ST1\"><sup>^</sup></span> <link rel=\"mw-deduplicated-inline-style\" href=\"mw-data:TemplateStyles:r1041539562\"><span id=\"endnote_ST2\"><sup>^</sup></span> The Stranger Things chapter was removed from the game on November 17, 2021. Although the characters introduced are still available to play for those who had previously purchased them, the Underground Complex map is no longer accessible.</dd>\n",
      "<dd>b.<link rel=\"mw-deduplicated-inline-style\" href=\"mw-data:TemplateStyles:r1041539562\"><span id=\"endnote_RCPD1\"><sup>^</sup></span> <link rel=\"mw-deduplicated-inline-style\" href=\"mw-data:TemplateStyles:r1041539562\"><span id=\"endnote_RCPD2\"><sup>^</sup></span> The Raccoon City Police Station map introduced in the Resident Evil chapter was reworked and split into two separate maps for the Resident Evil: Project W chapter due to issues with sizing and pathing. The original map is no longer accessible.</dd></dl>\n",
      "\n",
      "<h2>Reception</h2>\n",
      "<p><i>Dead by Daylight</i> received \"mixed or average reviews\", according to review aggregator Metacritic. <i>GameSpot</i> awarded it a score of 9 out of 10, saying \"At launch, <i>Dead by Daylight</i> suffered because of its reliance on peer-to-peer hosting and absent social features, but over time it rectified these issues. And while a brief and premature tussle with skill-based matchmaking turned the new player experience into a bit of a horror show (a problem which is now [was] fixed), thanks to its community of players <i>Dead by Daylight</i> is without peer in the asymmetrical competitive multiplayer arena, and has grown into one of the most robust horror experiences around.\" Luke Winkie of <i>PC Gamer</i> awarded it a score of 88 out of 100, saying \"In the five years since Behaviour Interactive released <i>Dead by Daylight</i> on Steam, the game has developed razor-sharp mechanical intrigue, an ultra-complex web of versatile builds and strategies, and a diverse suite of characters, each equipped with relative strengths and weaknesses.\"</p>\n",
      "\n",
      "<h3>Sales</h3>\n",
      "<p>During its first week, <i>Dead by Daylight</i> sold more than 270,000 copies. The game sold more than 1 million copies within 2 months. On November 16, 2017, more than 3 million copies were sold. As of May 2019, the game sold more than 5 million copies. In August 2020, the game reached more than 25 million players across all platforms. This number reached 36 million by May 2021, and 50 million by May 2022.</p><p>Originally, the game had a \"Deluxe Edition\", that grants cosmetics for the game <i>Payday 2</i> as a part of promoting the game, coming with a discount for Payday 2 owners who pre-order the game. The Deluxe Edition was discontinued in 2020.</p>\n",
      "\n",
      "<h3>Popularity and impact</h3>\n",
      "<p><i>Dead by Daylight</i> has become increasingly popular in Japan due to Behaviour Interactive highly catering to Japanese players with the release's of Japan-themed chapters like \"The Shattered Bloodline\" and \"The Cursed Legacy\" as well as expanding the lore of its in-game universe which the Japanese gaming community tends to favor in video games. In return the country has become one of the biggest <i>Dead by Daylight</i> markets.</p><p>In 2021 August \"The Entity Cafe\" was opened on the fourth floor of the Tokyo Skytree. The cafe sells various<i> Dead by Daylight </i>themed desserts, foods and merchandise.</p><p>From October 21, 2021 to November 11, 2021, a <i>Dead by Daylight</i> crossover event called \"Survivors of the Fog\" was held in Ubisoft's action fighting game <i>For Honor.</i> The event featured <i>Dead by Daylight</i>-inspired cosmetic items and a limited-time game mode that featured the Trapper as an AI-controlled enemy.</p>\n",
      "\n",
      "<h2>Mobile release</h2>\n",
      "<p>On June 19, 2019, Behaviour Interactive Inc. announced the plan to release <i>Dead by Daylight</i> to iOS and Android for free in an attempt to make the game more accessible to players around the world. A different development team was formed that is fully dedicated to optimizing the game for the mobile experience. <i>Dead by Daylight Mobile</i> was initially slated for launch in 2019, however the developers had to push the release to 2020, citing their need for more time to work on bugs and optimize. On February 27, 2019, Behaviour announced that the mobile versions will be published by Chinese video game publisher NetEase Games in Southeast Asia, Japan, and Korea. It was released in EMEA, the Americas, and South Asia on April 16, 2020.</p><p>In its 48 hours of release, <i>Dead by Daylight</i> <i>Mobile</i> outnumbered 1 million downloads. By October 2020, the game surpassed 10 million downloads. By May 2022, the game reached 25 million downloads.</p>\n",
      "\n",
      "<h2>Spin-offs</h2>\n",
      "<p>In 2021, Behaviour Interactive held a survey regarding <i>Dead by Daylight</i>, with one of the questions asked of the fans was about what type of genre they would like the company to explore in the future featuring <i>Dead by Daylight</i><span>'</span>s characters; one of the possible options was a dating sim. On February 22, 2022, it was discovered that on February 16, Behaviour Interactive had filed a trademark for a project titled <i>Hooked on You: A Dead by Daylight Dating Sim</i>. The description for the trademark states that it covers video games, as well as comic books and graphic novels. The game received an official announcement on May 17, 2022 during a developer livestream and officially released August 3, 2022. The dating sim is a visual novel text-based game with an anime style. Created in collaboration with Psyop, <i>Hooked on You</i> features four of Dead by Daylight's original killers, the Trapper, the Huntress, the Wraith, and the Spirit, as well as original survivors such as Dwight and Claudette.</p>\n",
      "\n",
      "<h2>See also</h2>\n",
      "<ul><li>List of horror video games</li></ul>\n",
      "\n",
      "<h2>Notes</h2>\n",
      "<h2>References</h2>\n",
      "<link rel=\"mw-deduplicated-inline-style\" href=\"mw-data:TemplateStyles:r1011085734\">\n",
      "\n",
      "<h2>External links</h2>\n",
      "<ul><li><span><span>Official website</span></span></li></ul>\n"
     ]
    }
   ],
   "source": [
    "print(p_html_dbd.text)"
   ]
  },
  {
   "cell_type": "code",
   "execution_count": 36,
   "id": "35e063ca",
   "metadata": {},
   "outputs": [
    {
     "data": {
      "text/plain": [
       "wikipediaapi.WikipediaPageSection"
      ]
     },
     "execution_count": 36,
     "metadata": {},
     "output_type": "execute_result"
    }
   ],
   "source": [
    "p_wiki_dbd.sections[0]"
   ]
  },
  {
   "cell_type": "code",
   "execution_count": 37,
   "id": "6de781ef",
   "metadata": {},
   "outputs": [],
   "source": [
    "import requests\n",
    "from bs4 import BeautifulSoup"
   ]
  },
  {
   "cell_type": "code",
   "execution_count": 39,
   "id": "f0366180",
   "metadata": {},
   "outputs": [],
   "source": [
    "url = 'http://www.asapsports.com/show_interview.php?id=36086'\n",
    "response = requests.get(url)\n",
    "soup = BeautifulSoup(response.content, \"html.parser\")"
   ]
  },
  {
   "cell_type": "code",
   "execution_count": 41,
   "id": "40039ad2",
   "metadata": {},
   "outputs": [
    {
     "data": {
      "text/plain": [
       "<h2>June 30, 2006</h2>"
      ]
     },
     "execution_count": 41,
     "metadata": {},
     "output_type": "execute_result"
    }
   ],
   "source": [
    "soup.find('h2')"
   ]
  },
  {
   "cell_type": "code",
   "execution_count": 52,
   "id": "872b5efe",
   "metadata": {},
   "outputs": [
    {
     "data": {
      "text/plain": [
       "[<em> THE MODERATOR:  Novak will not be fielding any questions on British citizenship today. </em>,\n",
       " <em> THE MODERATOR:  He said everything he's had to say and there's no progress on it. </em>]"
      ]
     },
     "execution_count": 52,
     "metadata": {},
     "output_type": "execute_result"
    }
   ],
   "source": [
    "soup.find_all('em')"
   ]
  },
  {
   "cell_type": "code",
   "execution_count": 65,
   "id": "3f545115",
   "metadata": {},
   "outputs": [],
   "source": [
    "main_content = soup.find_all('td', valign=\"top\",style=\"padding: 10px;\")"
   ]
  },
  {
   "cell_type": "code",
   "execution_count": 66,
   "id": "bd367cb5",
   "metadata": {},
   "outputs": [
    {
     "data": {
      "text/plain": [
       "bs4.element.ResultSet"
      ]
     },
     "execution_count": 66,
     "metadata": {},
     "output_type": "execute_result"
    }
   ],
   "source": []
  },
  {
   "cell_type": "code",
   "execution_count": null,
   "id": "36490f68",
   "metadata": {},
   "outputs": [],
   "source": []
  }
 ],
 "metadata": {
  "kernelspec": {
   "display_name": "Python 3 (ipykernel)",
   "language": "python",
   "name": "python3"
  },
  "language_info": {
   "codemirror_mode": {
    "name": "ipython",
    "version": 3
   },
   "file_extension": ".py",
   "mimetype": "text/x-python",
   "name": "python",
   "nbconvert_exporter": "python",
   "pygments_lexer": "ipython3",
   "version": "3.8.12"
  },
  "toc": {
   "base_numbering": 1,
   "nav_menu": {},
   "number_sections": true,
   "sideBar": true,
   "skip_h1_title": false,
   "title_cell": "Table of Contents",
   "title_sidebar": "Contents",
   "toc_cell": false,
   "toc_position": {},
   "toc_section_display": true,
   "toc_window_display": false
  }
 },
 "nbformat": 4,
 "nbformat_minor": 5
}
