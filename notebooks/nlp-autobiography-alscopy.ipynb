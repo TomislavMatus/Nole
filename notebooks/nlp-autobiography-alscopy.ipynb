{
 "cells": [
  {
   "cell_type": "markdown",
   "id": "83d4d3a4",
   "metadata": {},
   "source": [
    "### Required Packages"
   ]
  },
  {
   "cell_type": "code",
   "execution_count": 1,
   "id": "d6ef58f5",
   "metadata": {},
   "outputs": [
    {
     "name": "stdout",
     "output_type": "stream",
     "text": [
      "Requirement already satisfied: PyPDF2 in /home/gibbons/.pyenv/versions/3.8.12/envs/Nole/lib/python3.8/site-packages (2.10.5)\n",
      "Requirement already satisfied: typing-extensions>=3.10.0.0 in /home/gibbons/.pyenv/versions/3.8.12/envs/Nole/lib/python3.8/site-packages (from PyPDF2) (4.3.0)\n",
      "Requirement already satisfied: Wikipedia-API in /home/gibbons/.pyenv/versions/3.8.12/envs/Nole/lib/python3.8/site-packages (0.5.4)\n",
      "Requirement already satisfied: requests in /home/gibbons/.pyenv/versions/3.8.12/envs/Nole/lib/python3.8/site-packages (from Wikipedia-API) (2.28.1)\n",
      "Requirement already satisfied: charset-normalizer<3,>=2 in /home/gibbons/.pyenv/versions/3.8.12/envs/Nole/lib/python3.8/site-packages (from requests->Wikipedia-API) (2.1.1)\n",
      "Requirement already satisfied: certifi>=2017.4.17 in /home/gibbons/.pyenv/versions/3.8.12/envs/Nole/lib/python3.8/site-packages (from requests->Wikipedia-API) (2022.6.15)\n",
      "Requirement already satisfied: urllib3<1.27,>=1.21.1 in /home/gibbons/.pyenv/versions/3.8.12/envs/Nole/lib/python3.8/site-packages (from requests->Wikipedia-API) (1.26.12)\n",
      "Requirement already satisfied: idna<4,>=2.5 in /home/gibbons/.pyenv/versions/3.8.12/envs/Nole/lib/python3.8/site-packages (from requests->Wikipedia-API) (3.3)\n"
     ]
    }
   ],
   "source": [
    "!pip install PyPDF2\n",
    "!pip install Wikipedia-API"
   ]
  },
  {
   "cell_type": "code",
   "execution_count": 2,
   "id": "504d10cb",
   "metadata": {},
   "outputs": [],
   "source": [
    "import PyPDF2 as pdf"
   ]
  },
  {
   "cell_type": "code",
   "execution_count": 3,
   "id": "957a22d0",
   "metadata": {
    "scrolled": true
   },
   "outputs": [
    {
     "name": "stdout",
     "output_type": "stream",
     "text": [
      "/home/gibbons/code/TomislavMatus/Nole/notebooks\r\n"
     ]
    }
   ],
   "source": [
    "!pwd"
   ]
  },
  {
   "cell_type": "markdown",
   "id": "55cac10c",
   "metadata": {},
   "source": [
    "### Specify the file location of the book"
   ]
  },
  {
   "cell_type": "code",
   "execution_count": 4,
   "id": "c659b6fa",
   "metadata": {},
   "outputs": [],
   "source": [
    "file = open('/home/gibbons/code/TomislavMatus/Nole/data/NoleBio.pdf', 'rb')"
   ]
  },
  {
   "cell_type": "code",
   "execution_count": 5,
   "id": "3183143f",
   "metadata": {},
   "outputs": [
    {
     "data": {
      "text/plain": [
       "<_io.BufferedReader name='/home/gibbons/code/TomislavMatus/Nole/data/NoleBio.pdf'>"
      ]
     },
     "execution_count": 5,
     "metadata": {},
     "output_type": "execute_result"
    }
   ],
   "source": [
    "file"
   ]
  },
  {
   "cell_type": "markdown",
   "id": "dcd378d1",
   "metadata": {},
   "source": [
    "### Specify the PdfFileReader type"
   ]
  },
  {
   "cell_type": "code",
   "execution_count": 6,
   "id": "c1bc50a0",
   "metadata": {},
   "outputs": [],
   "source": [
    "pdf_reader = pdf.PdfFileReader(file)"
   ]
  },
  {
   "cell_type": "code",
   "execution_count": 7,
   "id": "b8bd277b",
   "metadata": {},
   "outputs": [],
   "source": [
    "pageCount = pdf_reader.getNumPages()"
   ]
  },
  {
   "cell_type": "code",
   "execution_count": 8,
   "id": "2f857e3b",
   "metadata": {},
   "outputs": [],
   "source": [
    "text1 = []"
   ]
  },
  {
   "cell_type": "code",
   "execution_count": 9,
   "id": "1786f7c3",
   "metadata": {
    "scrolled": true
   },
   "outputs": [
    {
     "data": {
      "text/plain": [
       "200"
      ]
     },
     "execution_count": 9,
     "metadata": {},
     "output_type": "execute_result"
    }
   ],
   "source": [
    "pageCount"
   ]
  },
  {
   "cell_type": "markdown",
   "id": "ab54afa8",
   "metadata": {},
   "source": [
    "## Scraping Wikipedia for players' bios"
   ]
  },
  {
   "cell_type": "markdown",
   "id": "7a2b48ae",
   "metadata": {},
   "source": [
    "### Extracting section titles for each specified player"
   ]
  },
  {
   "cell_type": "code",
   "execution_count": 10,
   "id": "fe378d2d",
   "metadata": {},
   "outputs": [],
   "source": [
    "import wikipediaapi"
   ]
  },
  {
   "cell_type": "markdown",
   "id": "dde27d6f",
   "metadata": {},
   "source": [
    "Disclaimer: Players who have beat Djokovic in the past will rank higher than him on ladders for ATP tournaments that he didn't win. An assumption is made that he is not #1 and that there are players who are better than him."
   ]
  },
  {
   "cell_type": "markdown",
   "id": "a1e0f1ec",
   "metadata": {},
   "source": [
    "\"Better than Djokovic\"\n",
    "\n",
    "Nadal\n",
    "Federer\n",
    "\n",
    "Worse than Djokovic:\n",
    "\n",
    "Marin Cilic\n",
    "Dominic Thiem\n",
    "Andy Murray\n",
    "Alexander Zverev"
   ]
  },
  {
   "cell_type": "code",
   "execution_count": 11,
   "id": "040651b5",
   "metadata": {},
   "outputs": [],
   "source": [
    "### Add better and worse players to the lists\n",
    "\n",
    "betterThan = ['Rafael Nadal', 'Roger Federer']\n",
    "worseThan = ['Marin Cilic', 'Dominic Thiem', 'Andy Murray', 'Alexander Zverev']\n",
    "\n",
    "\n",
    "### Select the language of Wikipedia\n",
    "wiki_wiki = wikipediaapi.Wikipedia('en')"
   ]
  },
  {
   "cell_type": "code",
   "execution_count": 12,
   "id": "99e6b6c3",
   "metadata": {},
   "outputs": [],
   "source": [
    "playersPages = []\n",
    "sectionText = {}"
   ]
  },
  {
   "cell_type": "code",
   "execution_count": 13,
   "id": "02fc4cd4",
   "metadata": {},
   "outputs": [],
   "source": [
    "for i in worseThan:\n",
    "    sectionText[i] = 'a'"
   ]
  },
  {
   "cell_type": "code",
   "execution_count": 14,
   "id": "18ec0175",
   "metadata": {},
   "outputs": [
    {
     "data": {
      "text/plain": [
       "{'Marin Cilic': 'a',\n",
       " 'Dominic Thiem': 'a',\n",
       " 'Andy Murray': 'a',\n",
       " 'Alexander Zverev': 'a'}"
      ]
     },
     "execution_count": 14,
     "metadata": {},
     "output_type": "execute_result"
    }
   ],
   "source": [
    "sectionText"
   ]
  },
  {
   "cell_type": "code",
   "execution_count": 15,
   "id": "5961ccf7",
   "metadata": {},
   "outputs": [],
   "source": [
    "class contents:\n",
    "\n",
    "    def create_betterThan_pages(betterThan):\n",
    "        for player in betterThan:\n",
    "            pageBetter = wiki_wiki.page(player)\n",
    "            print(f\"Page about '{player}' - Exists: %s\" % pageBetter.exists())\n",
    "            playersPages.append(pageBetter)\n",
    "        return pageBetter\n",
    "    \n",
    "    \n",
    "    def create_worseThan_pages(worseThan):\n",
    "        for player in worseThan:\n",
    "            pageWorse = wiki_wiki.page(player)\n",
    "            print(f\"Page about '{player}' - Exists: %s\" % pageWorse.exists())\n",
    "            playersPages.append(pageWorse)\n",
    "        return pageWorse \n",
    "    "
   ]
  },
  {
   "cell_type": "code",
   "execution_count": 16,
   "id": "9d527e97",
   "metadata": {
    "scrolled": true
   },
   "outputs": [
    {
     "name": "stdout",
     "output_type": "stream",
     "text": [
      "Page about 'Rafael Nadal' - Exists: True\n",
      "Page about 'Roger Federer' - Exists: True\n",
      "Page about 'Marin Cilic' - Exists: True\n",
      "Page about 'Dominic Thiem' - Exists: True\n",
      "Page about 'Andy Murray' - Exists: True\n",
      "Page about 'Alexander Zverev' - Exists: True\n"
     ]
    },
    {
     "data": {
      "text/plain": [
       "Alexander Zverev (id: 39755766, ns: 0)"
      ]
     },
     "execution_count": 16,
     "metadata": {},
     "output_type": "execute_result"
    }
   ],
   "source": [
    "### Adds the wikipedia sections of each player to a list 'sections'\n",
    "\n",
    "contents.create_betterThan_pages(betterThan)\n",
    "contents.create_worseThan_pages(worseThan)"
   ]
  },
  {
   "cell_type": "code",
   "execution_count": 17,
   "id": "d242022a",
   "metadata": {
    "scrolled": true
   },
   "outputs": [
    {
     "data": {
      "text/plain": [
       "[Rafael Nadal (id: 1439517, ns: 0),\n",
       " Roger Federer (id: 262376, ns: 0),\n",
       " Marin Čilić (id: 9637353, ns: 0),\n",
       " Dominic Thiem (id: 34741563, ns: 0),\n",
       " Andy Murray (id: 980836, ns: 0),\n",
       " Alexander Zverev (id: 39755766, ns: 0)]"
      ]
     },
     "execution_count": 17,
     "metadata": {},
     "output_type": "execute_result"
    }
   ],
   "source": [
    "### Displays all the sections to query\n",
    "playersPages"
   ]
  },
  {
   "cell_type": "code",
   "execution_count": 18,
   "id": "9b50055c",
   "metadata": {},
   "outputs": [],
   "source": [
    "sectionTitles = []"
   ]
  },
  {
   "cell_type": "code",
   "execution_count": 19,
   "id": "8a6e47a7",
   "metadata": {},
   "outputs": [],
   "source": [
    "# ### Prints the titles of all sections for all players in the list\n",
    "\n",
    "# def print_about_sections(sections, level=0):\n",
    "#     for s in sections:\n",
    "#             print(\"%s: %s - %s\" % (\"*\" * (level + 1), s.title, s.text[0:40]))\n",
    "#             print_about_sections(s.sections, level + 1)\n"
   ]
  },
  {
   "cell_type": "code",
   "execution_count": 20,
   "id": "32716ed5",
   "metadata": {},
   "outputs": [],
   "source": [
    "def listSections(playersPages, level=0):\n",
    "     for s in playersPages:\n",
    "            print(\"%s: %s - %s\" % (\"*\" * (level + 1), s.title, s.text[0:0]))\n",
    "            listSections(s.sections, level + 1)\n",
    "            sectionTitles.append\n"
   ]
  },
  {
   "cell_type": "code",
   "execution_count": 21,
   "id": "c6317cef",
   "metadata": {},
   "outputs": [
    {
     "name": "stdout",
     "output_type": "stream",
     "text": [
      "*: Rafael Nadal - \n",
      "**: Early life - \n",
      "**: Professional tennis career - \n",
      "***: 2001–2004: Early career and Davis Cup title - \n",
      "***: 2005: First Grand Slam title - \n",
      "***: 2006: Second French Open title - \n",
      "***: 2007: Third French Open title - \n",
      "***: 2008: Two majors, Olympic gold, Davis Cup, and No. 1 ranking - \n",
      "***: 2009: Australian Open and Davis Cup titles - \n",
      "***: 2010: Majors on all three surfaces, year-end No. 1, and Career Golden Slam - \n",
      "***: 2011: Sixth French Open title and Davis Cup crown - \n",
      "***: 2012: Seventh French Open title - \n",
      "***: 2013: Two majors and return to No. 1 - \n",
      "***: 2014: Ninth French Open title and sustained injuries - \n",
      "***: 2015: Continued struggles and rankings drop - \n",
      "***: 2016: Second Olympic gold medal - \n",
      "***: 2017: La Decima, third US Open title, and year-end No. 1 - \n",
      "***: 2018: 11th French Open and Monte Carlo titles - \n",
      "***: 2019: Fourth French-US title double, Davis Cup, and year-end No. 1 - \n",
      "***: 2020: 13th French Open title - \n",
      "***: 2021: 12th Barcelona Open title, 10th Rome Masters, and injury-shortened season - \n",
      "***: 2022: Historic 21st and 22nd majors, and double Career Grand Slam - \n",
      "**: Rivalries - \n",
      "***: Nadal vs. Federer - \n",
      "***: Nadal vs. Djokovic - \n",
      "***: Nadal vs. Murray - \n",
      "***: Nadal vs. Wawrinka - \n",
      "***: Nadal vs. Ferrer - \n",
      "***: Nadal vs. del Potro - \n",
      "***: Nadal vs. Berdych - \n",
      "**: Legacy - \n",
      "**: Playing style and coaching - \n",
      "**: Public image - \n",
      "***: Equipment and endorsements - \n",
      "***: Court name and tributes - \n",
      "***: In popular culture - \n",
      "***: Asteroid - \n",
      "**: Off the court - \n",
      "***: Rafa Nadal Sports Centre - \n",
      "****: Greece, Kuwait, and Mexico branches - \n",
      "***: Philanthropy - \n",
      "****: Fundación Rafa Nadal - \n",
      "****: Floods in Majorca - \n",
      "****: Other charities - \n",
      "***: Involvement in football - \n",
      "**: Personal life - \n",
      "**: Career statistics - \n",
      "***: Grand Slam tournament performance timeline - \n",
      "***: Grand Slam tournament finals: 30 (22 titles, 8 runner-ups) - \n",
      "***: Year–End Championships performance timeline - \n",
      "***: Year–End Championship finals: 2 (2 runner-ups) - \n",
      "***: Olympic gold medal matches - \n",
      "****: Singles: 1 (1 Gold medal) - \n",
      "****: Doubles: 1 (1 Gold medal) - \n",
      "**: Records - \n",
      "***: All-time tournament records - \n",
      "***: Open Era records - \n",
      "***: Professional awards - \n",
      "**: See also - \n",
      "**: Explanatory notes - \n",
      "**: References - \n",
      "**: External links - \n",
      "*: Roger Federer - \n",
      "**: Personal life - \n",
      "***: Childhood and early life - \n",
      "***: Family - \n",
      "**: Tennis career - \n",
      "***: 1996–1998: Junior years - \n",
      "***: 1998–2002: Early professional career - \n",
      "***: 2003: Grand Slam breakthrough at Wimbledon - \n",
      "***: 2004: Imposing dominance - \n",
      "***: 2005: Consolidating dominance - \n",
      "***: 2006: Career-best season - \n",
      "***: 2007: Holding off young rivals - \n",
      "***: 2008: Illness, Olympic Gold, and fifth US Open - \n",
      "***: 2009: Career Grand Slam and major title record - \n",
      "***: 2010: Fourth Australian Open - \n",
      "***: 2011: Tour Finals title record - \n",
      "***: 2012: Wimbledon title, return to No. 1, and Olympic silver - \n",
      "***: 2013: Injury struggles and fall in rankings - \n",
      "***: 2014: Davis Cup glory - \n",
      "***: 2015: 1,000th victory and finals at the US Open and Wimbledon - \n",
      "***: 2016: Knee surgery, back injury, and long recovery hiatus - \n",
      "***: 2017: Renaissance with Australian Open and Wimbledon titles - \n",
      "***: 2018: 20th major title and 310 weeks at No. 1 - \n",
      "***: 2019: 100th title, 1200th match win, and 12th Wimbledon final - \n",
      "***: 2020: Australian Open semifinals and right knee surgery - \n",
      "***: 2021: Wimbledon quarterfinal and injuries - \n",
      "***: 2022: Injury hiatus, Laver Cup return, dropped out of the ATP singles rankings - \n",
      "**: National representation - \n",
      "***: Olympic Games - \n",
      "***: Davis Cup - \n",
      "***: Hopman Cup - \n",
      "**: International representation - \n",
      "***: Laver Cup - \n",
      "**: Rivalries - \n",
      "***: Federer vs. Nadal - \n",
      "***: Federer vs. Djokovic - \n",
      "***: Federer vs. Murray - \n",
      "***: Federer vs. Roddick - \n",
      "***: Federer vs. Hewitt - \n",
      "***: Federer vs. Nalbandian - \n",
      "***: Federer vs. Safin - \n",
      "***: Federer vs. Agassi - \n",
      "***: Federer vs. Wawrinka - \n",
      "***: Federer vs. del Potro - \n",
      "***: Federer vs. Berdych - \n",
      "***: Federer vs. Tsonga - \n",
      "***: Federer vs. Čilić - \n",
      "**: Achievements - \n",
      "**: Legacy and cultural impact - \n",
      "***: Philanthropy and outreach - \n",
      "****: Roger Federer Foundation - \n",
      "****: Special edition stamps - \n",
      "****: World's most respected, admired and trusted personalities - \n",
      "****: Roger Federer streets - \n",
      "****: Switzerland's most recognizable personalities - \n",
      "****: World's most marketable sports person - \n",
      "****: Honorary doctorate - \n",
      "****: Swiss coin - \n",
      "****: Most stylish man of the decade - \n",
      "****: World's highest paid athlete - \n",
      "****: Figure in Swiss history - \n",
      "**: Playing style - \n",
      "**: Equipment and apparel - \n",
      "***: Equipment - \n",
      "***: Apparel - \n",
      "**: Endorsements - \n",
      "**: Career statistics - \n",
      "***: Grand Slam tournament performance timeline - \n",
      "***: Grand Slam tournament finals: 31 (20 titles, 11 runner-ups) - \n",
      "***: Year–End Championships performance timeline - \n",
      "***: Year–end Championship finals: 10 (6 titles, 4 runner-ups) - \n",
      "***: Olympic gold medal matches - \n",
      "***: Records - \n",
      "****: All-time tournament records - \n",
      "****: Guinness World Records - \n",
      "****: Open Era records - \n",
      "***: Professional awards - \n",
      "**: See also - \n",
      "**: Notes - \n",
      "**: References - \n",
      "**: Further reading - \n",
      "***: Video - \n",
      "**: External links - \n",
      "*: Marin Čilić - \n",
      "**: Personal life - \n",
      "**: Tennis career - \n",
      "***: 2004–05: Junior circuit - \n",
      "***: 2005–2007: ATP Tour - \n",
      "***: 2008: First ATP singles title - \n",
      "***: 2009: First Grand Slam quarterfinal - \n",
      "***: 2010: First major semifinal and top 10 ranking - \n",
      "***: 2011: Sixth ATP title - \n",
      "***: 2012: Seventh and eighth ATP titles - \n",
      "***: 2013: Failed drugs test and ban - \n",
      "***: 2014: US Open champion - \n",
      "***: 2015: 14th ATP title - \n",
      "***: 2016: First Masters title and Davis Cup final - \n",
      "***: 2017: Wimbledon final - \n",
      "***: 2018: Third Grand Slam final, Davis Cup champion, and world No. 3 - \n",
      "***: 2019: 500 match wins, titleless year, fall from top 30 - \n",
      "***: 2020–2021: Twenty ATP titles, Olympics doubles silver medallist, return to top 30 - \n",
      "***: 2022: 550th match win, Historic French Open semifinal & return to Top 20 - \n",
      "**: Clothing and equipment - \n",
      "**: Career statistics - \n",
      "***: Grand Slam singles performance timeline - \n",
      "**: References - \n",
      "**: External links - \n",
      "*: Dominic Thiem - \n",
      "**: Early life and background - \n",
      "**: Junior career - \n",
      "**: Career - \n",
      "***: 2011–13: ATP debut and first ATP win - \n",
      "***: 2014: First ATP final - \n",
      "***: 2015: Three ATP titles - \n",
      "***: 2016: First Grand Slam semifinal and top 10 ranking - \n",
      "***: 2017: First Masters 1000 final and world No. 4 - \n",
      "***: 2018: First major final - \n",
      "***: 2019: Masters 1000 title, major final, ATP Finals runner-up - \n",
      "***: 2020: First Grand Slam title at the US Open and top 3 ranking & 300th Wins - \n",
      "***: 2021: Form struggles and wrist injury - \n",
      "***: 2022: Out of Top 300, comeback wins - \n",
      "**: Rivalries - \n",
      "***: Thiem vs. Nadal - \n",
      "***: Thiem vs. Djokovic - \n",
      "***: Thiem vs. Federer - \n",
      "***: Thiem vs. Zverev - \n",
      "**: Playing style - \n",
      "**: Endorsements - \n",
      "**: Personal life - \n",
      "**: Career statistics - \n",
      "***: Singles performance timeline - \n",
      "***: Grand Slam tournament finals - \n",
      "****: Singles: 4 (1 title, 3 runner-ups) - \n",
      "***: Year-end championship finals - \n",
      "****: Singles: 2 (2 runner-ups) - \n",
      "***: Records - \n",
      "****: Open Era records - \n",
      "**: References - \n",
      "**: External links - \n",
      "***: Profiles - \n",
      "*: Andy Murray - \n",
      "**: Early and personal life - \n",
      "**: Junior career - \n",
      "**: Professional career - \n",
      "***: 2005: Turning professional - \n",
      "***: 2006: First ATP title and British No. 1 - \n",
      "***: 2007: Ascending to the top 10 - \n",
      "***: 2008: First major final and Masters titles - \n",
      "***: 2009: Ascent to world No. 2 and two Masters titles - \n",
      "***: 2010: Hopman Cup and Australian Open finals - \n",
      "***: 2011: Consistency in slams and two more Masters - \n",
      "***: 2012: Olympic Gold, US Open champion, and Wimbledon runner-up - \n",
      "***: 2013: Wimbledon champion and back surgery - \n",
      "***: 2014: 30th career title and out of top 10 - \n",
      "***: 2015: Davis Cup champion and return to world No. 2 - \n",
      "***: 2016: Second Wimbledon and Olympic Gold, and ascent to world No. 1 - \n",
      "***: 2017: Struggles with form and injury, and hiatus - \n",
      "***: 2018: Hip surgery, out of top 800, and return to tour - \n",
      "***: 2019: Second hip surgery, comeback, and first title in two years - \n",
      "***: 2020: First top 10 win in three years - \n",
      "***: 2021: Wimbledon third round - \n",
      "***: 2022: First ATP finals since 2019, return to top 50 - \n",
      "**: Rivalries - \n",
      "***: Murray vs. Djokovic - \n",
      "***: Murray vs. Federer - \n",
      "***: Murray vs. Nadal - \n",
      "***: Murray vs. Wawrinka - \n",
      "**: Playing style - \n",
      "**: Endorsements and equipment - \n",
      "**: Coaches - \n",
      "**: Charitable work - \n",
      "**: Image - \n",
      "***: National identity - \n",
      "***: Victory salute - \n",
      "***: Other - \n",
      "**: Career statistics - \n",
      "***: Grand Slam performance timeline - \n",
      "****: Grand Slam tournament finals: 11 (3 titles, 8 runners-up) - \n",
      "***: Year–end championships finals - \n",
      "****: Singles: 1 (1 title) - \n",
      "***: Olympic medal matches - \n",
      "****: Singles: 2 (2 gold medals) - \n",
      "****: Mixed doubles: 1 (1 silver medal) - \n",
      "***: Records and achievements - \n",
      "***: Professional awards - \n",
      "**: Awards and honours - \n",
      "**: See also - \n",
      "**: Notes - \n",
      "**: References - \n",
      "**: External links - \n"
     ]
    },
    {
     "name": "stdout",
     "output_type": "stream",
     "text": [
      "*: Alexander Zverev - \n",
      "**: Early life and background - \n",
      "**: Junior career - \n",
      "**: Professional career - \n",
      "***: 2011–14: Challenger title and ATP semifinal at 17 - \n",
      "***: 2015: ATP Doubles final, top 100 - \n",
      "***: 2016: First ATP title, Federer upset, top 20 - \n",
      "***: 2017: Two Masters titles, world No. 3 - \n",
      "***: 2018: Tour Finals champion, first Grand Slam quarterfinal - \n",
      "***: 2019: Early season struggles, Masters runner-up, ATP Finals semifinal - \n",
      "***: 2020: US Open final & Australian Open semifinals - \n",
      "***: 2021: Six ATP titles including Olympic gold and ATP Finals, 300th Wins - \n",
      "***: 2022: First top 10 win in a Grand Slam, ankle injury and surgery, world No. 2 - \n",
      "**: Team competitions - \n",
      "***: Laver Cup - \n",
      "***: Davis Cup - \n",
      "***: Hopman Cup - \n",
      "***: ATP Cup - \n",
      "**: Playing style - \n",
      "**: Coaching team - \n",
      "**: Personal life - \n",
      "***: Lawsuit against former agent - \n",
      "***: Domestic abuse allegations - \n",
      "**: Career statistics - \n",
      "***: Grand Slam tournament performance timeline - \n",
      "***: Grand Slam tournament finals - \n",
      "****: Singles: 1 (1 runner-up) - \n",
      "***: Olympic medal finals - \n",
      "****: Singles: 1 (1 gold medal) - \n",
      "***: Year–end championships performance timeline - \n",
      "***: Year-end championship finals - \n",
      "****: Singles: 2 (2 titles) - \n",
      "**: Awards and recognition - \n",
      "**: References - \n",
      "**: External links - \n"
     ]
    }
   ],
   "source": [
    "listSections(playersPages)"
   ]
  },
  {
   "cell_type": "code",
   "execution_count": 22,
   "id": "4a6d2d41",
   "metadata": {},
   "outputs": [
    {
     "data": {
      "text/plain": [
       "[]"
      ]
     },
     "execution_count": 22,
     "metadata": {},
     "output_type": "execute_result"
    }
   ],
   "source": [
    "sectionTitles"
   ]
  },
  {
   "cell_type": "code",
   "execution_count": 27,
   "id": "8f3a7a56",
   "metadata": {},
   "outputs": [],
   "source": [
    "# ### Prints the titles of all sections for all players in the list\n",
    "\n",
    "def print_about_sections2(playersPages, level=0):\n",
    "    for s in playersPages:\n",
    "            print(\"%s: %s - %s\" % (\"*\" * (level + 1), s.title, s.sections[0:40]))\n",
    "            print_about_sections2(s.sections)\n",
    "    "
   ]
  },
  {
   "cell_type": "code",
   "execution_count": 29,
   "id": "72b74cd8",
   "metadata": {
    "scrolled": true
   },
   "outputs": [
    {
     "ename": "NameError",
     "evalue": "name 'sections' is not defined",
     "output_type": "error",
     "traceback": [
      "\u001b[0;31m---------------------------------------------------------------------------\u001b[0m",
      "\u001b[0;31mNameError\u001b[0m                                 Traceback (most recent call last)",
      "Cell \u001b[0;32mIn [29], line 1\u001b[0m\n\u001b[0;32m----> 1\u001b[0m print_about_sections2(\u001b[43msections\u001b[49m)\n",
      "\u001b[0;31mNameError\u001b[0m: name 'sections' is not defined"
     ]
    }
   ],
   "source": [
    "print_about_sections2(sections)\n"
   ]
  },
  {
   "cell_type": "code",
   "execution_count": null,
   "id": "d4c88bc3",
   "metadata": {},
   "outputs": [],
   "source": [
    "titles"
   ]
  },
  {
   "cell_type": "markdown",
   "id": "c430ff5a",
   "metadata": {},
   "source": [
    "### Extracting text from each section"
   ]
  },
  {
   "cell_type": "markdown",
   "id": "55668a2d",
   "metadata": {},
   "source": [
    "## Extracting text and appending to a list"
   ]
  },
  {
   "cell_type": "code",
   "execution_count": null,
   "id": "87e4cf14",
   "metadata": {},
   "outputs": [],
   "source": [
    "NoleBioExtracted = []"
   ]
  },
  {
   "cell_type": "code",
   "execution_count": null,
   "id": "d7ad7d1d",
   "metadata": {},
   "outputs": [],
   "source": [
    "%%time\n",
    "\n",
    "def extractText(pageCount, pdf_reader):\n",
    "    for i in range (pageCount):\n",
    "        print(pdf_reader.pages[i].extract_text())\n",
    "        NoleBioExtracted.append(pdf_reader.pages[i].extract_text())\n",
    "        "
   ]
  },
  {
   "cell_type": "code",
   "execution_count": null,
   "id": "269b755c",
   "metadata": {},
   "outputs": [],
   "source": [
    "%%time\n",
    "extractText(200, pdf_reader)"
   ]
  },
  {
   "cell_type": "code",
   "execution_count": null,
   "id": "18068ec3",
   "metadata": {},
   "outputs": [],
   "source": [
    "len(NoleBioExtracted)"
   ]
  },
  {
   "cell_type": "code",
   "execution_count": null,
   "id": "174e03a1",
   "metadata": {},
   "outputs": [],
   "source": [
    "NoleBioExtracted"
   ]
  },
  {
   "cell_type": "markdown",
   "id": "8a09b8c8",
   "metadata": {},
   "source": [
    "## NLP Processing"
   ]
  },
  {
   "cell_type": "markdown",
   "id": "53340c08",
   "metadata": {},
   "source": [
    "### Tokenizing"
   ]
  },
  {
   "cell_type": "code",
   "execution_count": null,
   "id": "b43c6244",
   "metadata": {},
   "outputs": [],
   "source": [
    "from tensorflow.keras.preprocessing.text import Tokenizer\n",
    "import numpy as np\n",
    "from tensorflow.keras.preprocessing.sequence import pad_sequences"
   ]
  },
  {
   "cell_type": "code",
   "execution_count": null,
   "id": "55ed3580",
   "metadata": {},
   "outputs": [],
   "source": [
    "def TokenizeBook(extractedBook):\n",
    "    \n",
    "    X = extractedBook\n",
    "    \n",
    "    # Tokenizing vocabulary \n",
    "    \n",
    "    tk = Tokenizer()\n",
    "    tk.fit_on_texts(X)\n",
    "    X_token = tk.texts_to_sequences(X)\n",
    "    \n",
    "    vocab_size = len(tk.word_index)\n",
    "    print(f'There are {vocab_size} different words in your corpus')\n",
    "    \n",
    "    # Pad the inputs\n",
    "    X_pad = pad_sequences(X_token, dtype='float32', padding='post')\n",
    "    \n",
    "    \n",
    "    return X_pad, vocab_size\n",
    "\n",
    "X_pad, vocab_size = TokenizeBook(extractedBook)"
   ]
  },
  {
   "cell_type": "markdown",
   "id": "5e05fb48",
   "metadata": {},
   "source": [
    "### Specify the book to tokenize"
   ]
  },
  {
   "cell_type": "code",
   "execution_count": null,
   "id": "e4a4f00d",
   "metadata": {},
   "outputs": [],
   "source": [
    "extractedBook = NoleBioExtracted"
   ]
  },
  {
   "cell_type": "code",
   "execution_count": null,
   "id": "ef0dbd0a",
   "metadata": {
    "scrolled": true
   },
   "outputs": [],
   "source": [
    "TokenizeBook(extractedBook)"
   ]
  },
  {
   "cell_type": "markdown",
   "id": "4e404590",
   "metadata": {},
   "source": [
    "X_pad"
   ]
  },
  {
   "cell_type": "markdown",
   "id": "5e97ae4a",
   "metadata": {},
   "source": [
    "### Layers Embedding"
   ]
  },
  {
   "cell_type": "code",
   "execution_count": null,
   "id": "58ced956",
   "metadata": {},
   "outputs": [],
   "source": [
    "from tensorflow.keras import layers, Sequential"
   ]
  },
  {
   "cell_type": "code",
   "execution_count": null,
   "id": "4536e13a",
   "metadata": {},
   "outputs": [],
   "source": [
    "embedding_size = 100\n",
    "\n",
    "model = Sequential()\n",
    "\n",
    "model.add(layers.Embedding(\n",
    "    input_dim = vocab_size + 1, # 16 +1 for the 0 padding\n",
    "    output_dim = embedding_size, # 100\n",
    "    mask_zero = True, # Built-in masking layer :)\n",
    "))\n",
    "\n",
    "model.add(layers.LSTM(20))\n",
    "model.add(layers.Dense(1, activation=\"sigmoid\"))\n",
    "model.summary()"
   ]
  },
  {
   "cell_type": "code",
   "execution_count": null,
   "id": "b32e15e0",
   "metadata": {},
   "outputs": [],
   "source": [
    "print(f'Expected number of parameters: {(vocab_size+1) * embedding_size}')"
   ]
  },
  {
   "cell_type": "code",
   "execution_count": null,
   "id": "e52614c4",
   "metadata": {},
   "outputs": [],
   "source": [
    "X_pad.shape"
   ]
  },
  {
   "cell_type": "code",
   "execution_count": null,
   "id": "74584acb",
   "metadata": {},
   "outputs": [],
   "source": [
    "y = np.array([1.0]*200)"
   ]
  },
  {
   "cell_type": "code",
   "execution_count": 25,
   "id": "c620e4dd",
   "metadata": {},
   "outputs": [
    {
     "ename": "NameError",
     "evalue": "name 'model' is not defined",
     "output_type": "error",
     "traceback": [
      "\u001b[0;31m---------------------------------------------------------------------------\u001b[0m",
      "\u001b[0;31mNameError\u001b[0m                                 Traceback (most recent call last)",
      "Cell \u001b[0;32mIn [25], line 1\u001b[0m\n\u001b[0;32m----> 1\u001b[0m \u001b[43mmodel\u001b[49m\u001b[38;5;241m.\u001b[39mcompile(loss\u001b[38;5;241m=\u001b[39m\u001b[38;5;124m'\u001b[39m\u001b[38;5;124mbinary_crossentropy\u001b[39m\u001b[38;5;124m'\u001b[39m,\n\u001b[1;32m      2\u001b[0m               optimizer\u001b[38;5;241m=\u001b[39m\u001b[38;5;124m'\u001b[39m\u001b[38;5;124mrmsprop\u001b[39m\u001b[38;5;124m'\u001b[39m,\n\u001b[1;32m      3\u001b[0m               metrics\u001b[38;5;241m=\u001b[39m[\u001b[38;5;124m'\u001b[39m\u001b[38;5;124maccuracy\u001b[39m\u001b[38;5;124m'\u001b[39m])\n\u001b[1;32m      5\u001b[0m model\u001b[38;5;241m.\u001b[39mfit(X_pad, y, epochs\u001b[38;5;241m=\u001b[39m\u001b[38;5;241m5\u001b[39m, batch_size\u001b[38;5;241m=\u001b[39m\u001b[38;5;241m16\u001b[39m, verbose\u001b[38;5;241m=\u001b[39m\u001b[38;5;241m0\u001b[39m)\n",
      "\u001b[0;31mNameError\u001b[0m: name 'model' is not defined"
     ]
    }
   ],
   "source": [
    "model.compile(loss='binary_crossentropy',\n",
    "              optimizer='rmsprop',\n",
    "              metrics=['accuracy'])\n",
    "\n",
    "model.fit(X_pad, y, epochs=5, batch_size=16, verbose=0)"
   ]
  },
  {
   "cell_type": "code",
   "execution_count": null,
   "id": "a1d33f2d",
   "metadata": {},
   "outputs": [],
   "source": [
    "8/8"
   ]
  },
  {
   "cell_type": "code",
   "execution_count": null,
   "id": "25b5904e",
   "metadata": {},
   "outputs": [],
   "source": [
    "Federer"
   ]
  },
  {
   "cell_type": "code",
   "execution_count": null,
   "id": "36fcbd14",
   "metadata": {},
   "outputs": [],
   "source": [
    "6/8"
   ]
  },
  {
   "cell_type": "code",
   "execution_count": null,
   "id": "dcd16332",
   "metadata": {},
   "outputs": [],
   "source": []
  }
 ],
 "metadata": {
  "kernelspec": {
   "display_name": "Python 3 (ipykernel)",
   "language": "python",
   "name": "python3"
  },
  "language_info": {
   "codemirror_mode": {
    "name": "ipython",
    "version": 3
   },
   "file_extension": ".py",
   "mimetype": "text/x-python",
   "name": "python",
   "nbconvert_exporter": "python",
   "pygments_lexer": "ipython3",
   "version": "3.8.12"
  },
  "toc": {
   "base_numbering": 1,
   "nav_menu": {},
   "number_sections": true,
   "sideBar": true,
   "skip_h1_title": false,
   "title_cell": "Table of Contents",
   "title_sidebar": "Contents",
   "toc_cell": false,
   "toc_position": {},
   "toc_section_display": true,
   "toc_window_display": false
  }
 },
 "nbformat": 4,
 "nbformat_minor": 5
}
