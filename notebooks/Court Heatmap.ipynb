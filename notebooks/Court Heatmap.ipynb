{
 "cells": [
  {
   "cell_type": "code",
   "execution_count": 13,
   "id": "d696031c",
   "metadata": {},
   "outputs": [],
   "source": [
    "import numpy as np\n",
    "import matplotlib\n",
    "import matplotlib.pyplot as plt\n",
    "\n",
    "# Opponent=\"Opponent\"\n",
    "# Players = player_ids\n",
    "# Serve_position = [\"Ad_Wide\", \"Ad_Mid\", \"Ad_T\",\n",
    "#            \"Deuce_T\", \"Deuce_Mid\", \"Deuce_Wide\"]\n",
    "\n",
    "# #dummy data\n",
    "# serves = features_data"
   ]
  },
  {
   "cell_type": "code",
   "execution_count": 14,
   "id": "60013079",
   "metadata": {},
   "outputs": [
    {
     "ename": "NameError",
     "evalue": "name 'serves' is not defined",
     "output_type": "error",
     "traceback": [
      "\u001b[0;31m---------------------------------------------------------------------------\u001b[0m",
      "\u001b[0;31mNameError\u001b[0m                                 Traceback (most recent call last)",
      "\u001b[0;32m/var/folders/_j/qzn5nc8s42j0sqkmm8dhc5th0000gn/T/ipykernel_66980/986021645.py\u001b[0m in \u001b[0;36m<module>\u001b[0;34m\u001b[0m\n\u001b[0;32m----> 1\u001b[0;31m \u001b[0mserves\u001b[0m\u001b[0;34m[\u001b[0m\u001b[0;36m1\u001b[0m\u001b[0;34m]\u001b[0m\u001b[0;34m\u001b[0m\u001b[0;34m\u001b[0m\u001b[0m\n\u001b[0m",
      "\u001b[0;31mNameError\u001b[0m: name 'serves' is not defined"
     ]
    }
   ],
   "source": [
    "serves[1]"
   ]
  },
  {
   "cell_type": "code",
   "execution_count": 15,
   "id": "c722f2e1",
   "metadata": {},
   "outputs": [],
   "source": [
    "file = open('/Users/Tomi/Downloads/atp_df_12_21_with_names_CORRECT.csv')"
   ]
  },
  {
   "cell_type": "code",
   "execution_count": 16,
   "id": "219b8ef5",
   "metadata": {},
   "outputs": [
    {
     "ename": "NameError",
     "evalue": "name 'pd' is not defined",
     "output_type": "error",
     "traceback": [
      "\u001b[0;31m---------------------------------------------------------------------------\u001b[0m",
      "\u001b[0;31mNameError\u001b[0m                                 Traceback (most recent call last)",
      "\u001b[0;32m/var/folders/_j/qzn5nc8s42j0sqkmm8dhc5th0000gn/T/ipykernel_66980/2131829638.py\u001b[0m in \u001b[0;36m<module>\u001b[0;34m\u001b[0m\n\u001b[0;32m----> 1\u001b[0;31m \u001b[0mdf\u001b[0m \u001b[0;34m=\u001b[0m \u001b[0mpd\u001b[0m\u001b[0;34m.\u001b[0m\u001b[0mread_csv\u001b[0m\u001b[0;34m(\u001b[0m\u001b[0mfile\u001b[0m\u001b[0;34m)\u001b[0m\u001b[0;34m\u001b[0m\u001b[0;34m\u001b[0m\u001b[0m\n\u001b[0m",
      "\u001b[0;31mNameError\u001b[0m: name 'pd' is not defined"
     ]
    }
   ],
   "source": [
    "df = pd.read_csv(file)"
   ]
  },
  {
   "cell_type": "code",
   "execution_count": null,
   "id": "338ebdd7",
   "metadata": {
    "scrolled": true
   },
   "outputs": [],
   "source": [
    "df.head()"
   ]
  },
  {
   "cell_type": "code",
   "execution_count": null,
   "id": "1895271d",
   "metadata": {},
   "outputs": [],
   "source": [
    "player_ids = df['ref']\n",
    "player_ids"
   ]
  },
  {
   "cell_type": "code",
   "execution_count": null,
   "id": "2b89e46f",
   "metadata": {},
   "outputs": [],
   "source": [
    "player_ids = player_ids.to_list()"
   ]
  },
  {
   "cell_type": "code",
   "execution_count": null,
   "id": "9fee9918",
   "metadata": {},
   "outputs": [],
   "source": [
    "type(player_ids)"
   ]
  },
  {
   "cell_type": "code",
   "execution_count": null,
   "id": "af83985e",
   "metadata": {},
   "outputs": [],
   "source": [
    "features = df[['T_1st_ad_%ServesWon',\n",
    "             'M_1st_ad_%ServesWon',\n",
    "             'W_1st_ad_%ServesWon',\n",
    "             'T_1st_d_%ServesWon',\n",
    "             'M_1st_d_%ServesWon',\n",
    "             'W_1st_d_%ServesWon']]"
   ]
  },
  {
   "cell_type": "code",
   "execution_count": null,
   "id": "051de281",
   "metadata": {
    "scrolled": true
   },
   "outputs": [],
   "source": [
    "features_labels = features.keys()"
   ]
  },
  {
   "cell_type": "code",
   "execution_count": null,
   "id": "feacf2e6",
   "metadata": {},
   "outputs": [],
   "source": [
    "type(features_labels)"
   ]
  },
  {
   "cell_type": "code",
   "execution_count": null,
   "id": "69a50bf9",
   "metadata": {},
   "outputs": [],
   "source": [
    "features_labels = features_labels.to_list()"
   ]
  },
  {
   "cell_type": "code",
   "execution_count": null,
   "id": "992a491e",
   "metadata": {},
   "outputs": [],
   "source": [
    "features_labels"
   ]
  },
  {
   "cell_type": "code",
   "execution_count": null,
   "id": "52b2e994",
   "metadata": {},
   "outputs": [],
   "source": [
    "features_data = df[features_labels]\n",
    "features_data"
   ]
  },
  {
   "cell_type": "code",
   "execution_count": null,
   "id": "c2d3e117",
   "metadata": {},
   "outputs": [],
   "source": [
    "features_data.values"
   ]
  },
  {
   "cell_type": "code",
   "execution_count": null,
   "id": "5e24b7a4",
   "metadata": {},
   "outputs": [],
   "source": [
    "features_data = features_data.applymap(lambda x : round(float(x.strip('%'))))"
   ]
  },
  {
   "cell_type": "code",
   "execution_count": 3,
   "id": "34837622",
   "metadata": {},
   "outputs": [
    {
     "ename": "NameError",
     "evalue": "name 'features_data' is not defined",
     "output_type": "error",
     "traceback": [
      "\u001b[0;31m---------------------------------------------------------------------------\u001b[0m",
      "\u001b[0;31mNameError\u001b[0m                                 Traceback (most recent call last)",
      "\u001b[0;32m/var/folders/_j/qzn5nc8s42j0sqkmm8dhc5th0000gn/T/ipykernel_66980/2635615762.py\u001b[0m in \u001b[0;36m<module>\u001b[0;34m\u001b[0m\n\u001b[0;32m----> 1\u001b[0;31m \u001b[0mfeatures_data\u001b[0m\u001b[0;34m\u001b[0m\u001b[0;34m\u001b[0m\u001b[0m\n\u001b[0m",
      "\u001b[0;31mNameError\u001b[0m: name 'features_data' is not defined"
     ]
    }
   ],
   "source": [
    "features_data"
   ]
  },
  {
   "cell_type": "code",
   "execution_count": null,
   "id": "1d594b2c",
   "metadata": {},
   "outputs": [],
   "source": [
    "features_data = np.array(features_data)\n",
    "features_data"
   ]
  },
  {
   "cell_type": "code",
   "execution_count": null,
   "id": "b5107b38",
   "metadata": {},
   "outputs": [],
   "source": []
  },
  {
   "cell_type": "code",
   "execution_count": 4,
   "id": "afe3c732",
   "metadata": {},
   "outputs": [],
   "source": [
    "def heatmap(data, row_labels, col_labels, ax=None,\n",
    "            cbar_kw={}, cbarlabel=\"\", **kwargs):\n",
    "    \"\"\"\n",
    "    Create a heatmap from a numpy array and two lists of labels.\n",
    "\n",
    "    Parameters\n",
    "    ----------\n",
    "    data\n",
    "        A 2D numpy array of shape (M, N).\n",
    "    row_labels\n",
    "        A list or array of length M with the labels for the rows.\n",
    "    col_labels\n",
    "        A list or array of length N with the labels for the columns.\n",
    "    ax\n",
    "        A `matplotlib.axes.Axes` instance to which the heatmap is plotted.  If\n",
    "        not provided, use current axes or create a new one.  Optional.\n",
    "    cbar_kw\n",
    "        A dictionary with arguments to `matplotlib.Figure.colorbar`.  Optional.\n",
    "    cbarlabel\n",
    "        The label for the colorbar.  Optional.\n",
    "    **kwargs\n",
    "        All other arguments are forwarded to `imshow`.\n",
    "    \"\"\"\n",
    "\n",
    "    if not ax:\n",
    "        ax = plt.gca()\n",
    "\n",
    "    # Plot the heatmap\n",
    "    im = ax.imshow(data, **kwargs)\n",
    "\n",
    "    # Create colorbar\n",
    "    cbar = ax.figure.colorbar(im, ax=ax, **cbar_kw)\n",
    "    cbar.ax.set_ylabel(cbarlabel, rotation=-90, va=\"bottom\",size=20)\n",
    "\n",
    "    # Show all ticks and label them with the respective list entries.\n",
    "    ax.set_xticks(np.arange(data.shape[1]), labels=col_labels)\n",
    "    ax.set_yticks(np.arange(data.shape[0]), labels=row_labels)\n",
    "\n",
    "    # Let the horizontal axes labeling appear on top.\n",
    "    ax.tick_params(top=True, bottom=False,\n",
    "                   labeltop=True, labelbottom=False)\n",
    "\n",
    "    # Rotate the tick labels and set their alignment.\n",
    "    plt.setp(ax.get_xticklabels(), rotation=45, ha=\"right\",\n",
    "             rotation_mode=\"anchor\")\n",
    "\n",
    "    # Turn spines off and create white grid.\n",
    "    ax.spines[:].set_visible(False)\n",
    "\n",
    "    #ax.set_xticks(np.arange(data.shape[1]+1)-.5, minor=True)\n",
    "    #ax.set_yticks(np.arange(data.shape[0]+1)-.5, minor=True)\n",
    "    #ax.grid(which=\"minor\", color=\"w\", linestyle='-', linewidth=3)\n",
    "    #ax.tick_params(which=\"minor\", bottom=False, left=False)\n",
    "\n",
    "    return im, cbar"
   ]
  },
  {
   "cell_type": "code",
   "execution_count": 5,
   "id": "67cb3f83",
   "metadata": {},
   "outputs": [
    {
     "ename": "NameError",
     "evalue": "name 'Users' is not defined",
     "output_type": "error",
     "traceback": [
      "\u001b[0;31m---------------------------------------------------------------------------\u001b[0m",
      "\u001b[0;31mNameError\u001b[0m                                 Traceback (most recent call last)",
      "\u001b[0;32m/var/folders/_j/qzn5nc8s42j0sqkmm8dhc5th0000gn/T/ipykernel_66980/1947124824.py\u001b[0m in \u001b[0;36m<module>\u001b[0;34m\u001b[0m\n\u001b[0;32m----> 1\u001b[0;31m \u001b[0mUsers\u001b[0m\u001b[0;34m/\u001b[0m\u001b[0mTomi\u001b[0m\u001b[0;34m/\u001b[0m\u001b[0mDownloads\u001b[0m\u001b[0;34m/\u001b[0m\u001b[0mHeatmaps\u001b[0m\u001b[0;34m(\u001b[0m\u001b[0;34m)\u001b[0m\u001b[0;34m\u001b[0m\u001b[0;34m\u001b[0m\u001b[0m\n\u001b[0m\u001b[1;32m      2\u001b[0m \u001b[0mplt\u001b[0m\u001b[0;34m.\u001b[0m\u001b[0msavefig\u001b[0m\u001b[0;34m(\u001b[0m\u001b[0;34m'output.png'\u001b[0m\u001b[0;34m)\u001b[0m\u001b[0;34m\u001b[0m\u001b[0;34m\u001b[0m\u001b[0m\n",
      "\u001b[0;31mNameError\u001b[0m: name 'Users' is not defined"
     ]
    }
   ],
   "source": [
    "/Users/Tomi/Downloads/Heatmaps\n",
    "plt.savefig('output.png')"
   ]
  },
  {
   "cell_type": "code",
   "execution_count": null,
   "id": "8b027f79",
   "metadata": {},
   "outputs": [],
   "source": []
  },
  {
   "cell_type": "code",
   "execution_count": 6,
   "id": "34a89caf",
   "metadata": {},
   "outputs": [
    {
     "ename": "NameError",
     "evalue": "name 'serves' is not defined",
     "output_type": "error",
     "traceback": [
      "\u001b[0;31m---------------------------------------------------------------------------\u001b[0m",
      "\u001b[0;31mNameError\u001b[0m                                 Traceback (most recent call last)",
      "\u001b[0;32m/var/folders/_j/qzn5nc8s42j0sqkmm8dhc5th0000gn/T/ipykernel_66980/1511735669.py\u001b[0m in \u001b[0;36m<module>\u001b[0;34m\u001b[0m\n\u001b[0;32m----> 1\u001b[0;31m \u001b[0mserves\u001b[0m\u001b[0;34m[\u001b[0m\u001b[0;36m0\u001b[0m\u001b[0;34m]\u001b[0m\u001b[0;34m.\u001b[0m\u001b[0mshape\u001b[0m\u001b[0;34m\u001b[0m\u001b[0;34m\u001b[0m\u001b[0m\n\u001b[0m",
      "\u001b[0;31mNameError\u001b[0m: name 'serves' is not defined"
     ]
    }
   ],
   "source": [
    "serves[0].shape"
   ]
  },
  {
   "cell_type": "code",
   "execution_count": 7,
   "id": "f2d03f75",
   "metadata": {},
   "outputs": [
    {
     "ename": "NameError",
     "evalue": "name 'serves' is not defined",
     "output_type": "error",
     "traceback": [
      "\u001b[0;31m---------------------------------------------------------------------------\u001b[0m",
      "\u001b[0;31mNameError\u001b[0m                                 Traceback (most recent call last)",
      "\u001b[0;32m/var/folders/_j/qzn5nc8s42j0sqkmm8dhc5th0000gn/T/ipykernel_66980/2838705527.py\u001b[0m in \u001b[0;36m<module>\u001b[0;34m\u001b[0m\n\u001b[0;32m----> 1\u001b[0;31m \u001b[0mheatmap\u001b[0m\u001b[0;34m(\u001b[0m\u001b[0mserves\u001b[0m\u001b[0;34m[\u001b[0m\u001b[0;36m0\u001b[0m\u001b[0;34m]\u001b[0m\u001b[0;34m.\u001b[0m\u001b[0mreshape\u001b[0m\u001b[0;34m(\u001b[0m\u001b[0;36m1\u001b[0m\u001b[0;34m,\u001b[0m\u001b[0;36m6\u001b[0m\u001b[0;34m)\u001b[0m\u001b[0;34m,\u001b[0m \u001b[0mPlayers\u001b[0m\u001b[0;34m[\u001b[0m\u001b[0;36m0\u001b[0m\u001b[0;34m]\u001b[0m\u001b[0;34m,\u001b[0m \u001b[0mServe_position\u001b[0m\u001b[0;34m)\u001b[0m\u001b[0;34m\u001b[0m\u001b[0;34m\u001b[0m\u001b[0m\n\u001b[0m",
      "\u001b[0;31mNameError\u001b[0m: name 'serves' is not defined"
     ]
    }
   ],
   "source": [
    "heatmap(serves[0].reshape(1,6), Players[0], Serve_position)"
   ]
  },
  {
   "cell_type": "code",
   "execution_count": 8,
   "id": "26ace922",
   "metadata": {},
   "outputs": [
    {
     "ename": "NameError",
     "evalue": "name 'player_ids' is not defined",
     "output_type": "error",
     "traceback": [
      "\u001b[0;31m---------------------------------------------------------------------------\u001b[0m",
      "\u001b[0;31mNameError\u001b[0m                                 Traceback (most recent call last)",
      "\u001b[0;32m/var/folders/_j/qzn5nc8s42j0sqkmm8dhc5th0000gn/T/ipykernel_66980/2928577457.py\u001b[0m in \u001b[0;36m<module>\u001b[0;34m\u001b[0m\n\u001b[0;32m----> 1\u001b[0;31m \u001b[0;32mfor\u001b[0m \u001b[0mi\u001b[0m \u001b[0;32min\u001b[0m \u001b[0mplayer_ids\u001b[0m\u001b[0;34m:\u001b[0m\u001b[0;34m\u001b[0m\u001b[0;34m\u001b[0m\u001b[0m\n\u001b[0m\u001b[1;32m      2\u001b[0m     im, cbar = heatmap(serves[i], Players[i], Serve_position, ax=ax[i],\n\u001b[1;32m      3\u001b[0m     cmap=\"YlGn\", cbarlabel=\"% 1st serves won\")\n\u001b[1;32m      4\u001b[0m \u001b[0;34m\u001b[0m\u001b[0m\n\u001b[1;32m      5\u001b[0m     \u001b[0mfig\u001b[0m\u001b[0;34m,\u001b[0m \u001b[0max\u001b[0m \u001b[0;34m=\u001b[0m \u001b[0mplt\u001b[0m\u001b[0;34m.\u001b[0m\u001b[0msubplots\u001b[0m\u001b[0;34m(\u001b[0m\u001b[0;34m)\u001b[0m\u001b[0;34m\u001b[0m\u001b[0;34m\u001b[0m\u001b[0m\n",
      "\u001b[0;31mNameError\u001b[0m: name 'player_ids' is not defined"
     ]
    }
   ],
   "source": [
    "for i in player_ids:\n",
    "    im, cbar = heatmap(serves[i], Players[i], Serve_position, ax=ax[i],\n",
    "    cmap=\"YlGn\", cbarlabel=\"% 1st serves won\")\n",
    "\n",
    "    fig, ax = plt.subplots()\n",
    "    fig.set_figheight(6)\n",
    "    fig.set_figwidth(10)\n",
    "    \n",
    "    #texts = annotate_heatmap(im, valfmt=\"{x:.1f} t\")\n",
    "    ax.set_title(\"Opponent serves\")\n",
    "    fig.tight_layout()\n",
    "    plt.show()\n",
    "    plt.savefig(f'player{x}plot')"
   ]
  },
  {
   "cell_type": "code",
   "execution_count": null,
   "id": "ebfba6ee",
   "metadata": {},
   "outputs": [],
   "source": []
  },
  {
   "cell_type": "code",
   "execution_count": 9,
   "id": "51f65a43",
   "metadata": {},
   "outputs": [],
   "source": [
    "def heatmap(data, row_labels, col_labels, ax=None,\n",
    "            cbar_kw={}, cbarlabel=\"\", **kwargs):\n",
    "    \"\"\"\n",
    "    Create a heatmap from a numpy array and two lists of labels.\n",
    "\n",
    "    Parameters\n",
    "    ----------\n",
    "    data\n",
    "        A 2D numpy array of shape (M, N).\n",
    "    row_labels\n",
    "        A list or array of length M with the labels for the rows.\n",
    "    col_labels\n",
    "        A list or array of length N with the labels for the columns.\n",
    "    ax\n",
    "        A `matplotlib.axes.Axes` instance to which the heatmap is plotted.  If\n",
    "        not provided, use current axes or create a new one.  Optional.\n",
    "    cbar_kw\n",
    "        A dictionary with arguments to `matplotlib.Figure.colorbar`.  Optional.\n",
    "    cbarlabel\n",
    "        The label for the colorbar.  Optional.\n",
    "    **kwargs\n",
    "        All other arguments are forwarded to `imshow`.\n",
    "    \"\"\"\n",
    "\n",
    "    if not ax:\n",
    "        ax = plt.gca()\n",
    "\n",
    "    # Plot the heatmap\n",
    "    im = ax.imshow(data, **kwargs)\n",
    "\n",
    "    # Create colorbar\n",
    "    cbar = ax.figure.colorbar(im, ax=ax, **cbar_kw)\n",
    "    cbar.ax.set_ylabel(cbarlabel, rotation=-90, va=\"bottom\",size=20)\n",
    "\n",
    "    # Show all ticks and label them with the respective list entries.\n",
    "    ax.set_xticks(np.arange(data.shape[1]), labels=col_labels)\n",
    "    ax.set_yticks(np.arange(data.shape[0]), labels=row_labels)\n",
    "\n",
    "    # Let the horizontal axes labeling appear on top.\n",
    "    ax.tick_params(top=True, bottom=False,\n",
    "                   labeltop=True, labelbottom=False)\n",
    "\n",
    "    # Rotate the tick labels and set their alignment.\n",
    "    plt.setp(ax.get_xticklabels(), rotation=45, ha=\"right\",\n",
    "             rotation_mode=\"anchor\")\n",
    "\n",
    "    # Turn spines off and create white grid.\n",
    "    ax.spines[:].set_visible(False)\n",
    "\n",
    "    #ax.set_xticks(np.arange(data.shape[1]+1)-.5, minor=True)\n",
    "    #ax.set_yticks(np.arange(data.shape[0]+1)-.5, minor=True)\n",
    "    #ax.grid(which=\"minor\", color=\"w\", linestyle='-', linewidth=3)\n",
    "    #ax.tick_params(which=\"minor\", bottom=False, left=False)\n",
    "\n",
    "    return im, cbar\n",
    "\n",
    "\n",
    "def annotate_heatmap(im, data=None, valfmt=\"{x:.2f}\",\n",
    "                     textcolors=(\"black\", \"white\"),\n",
    "                     threshold=None, **textkw):\n",
    "    \"\"\"\n",
    "    A function to annotate a heatmap.\n",
    "\n",
    "    Parameters\n",
    "    ----------\n",
    "    im\n",
    "        The AxesImage to be labeled.\n",
    "    data\n",
    "        Data used to annotate.  If None, the image's data is used.  Optional.\n",
    "    valfmt\n",
    "        The format of the annotations inside the heatmap.  This should either\n",
    "        use the string format method, e.g. \"$ {x:.2f}\", or be a\n",
    "        `matplotlib.ticker.Formatter`.  Optional.\n",
    "    textcolors\n",
    "        A pair of colors.  The first is used for values below a threshold,\n",
    "        the second for those above.  Optional.\n",
    "    threshold\n",
    "        Value in data units according to which the colors from textcolors are\n",
    "        applied.  If None (the default) uses the middle of the colormap as\n",
    "        separation.  Optional.\n",
    "    **kwargs\n",
    "        All other arguments are forwarded to each call to `text` used to create\n",
    "        the text labels.\n",
    "    \"\"\"\n",
    "\n",
    "    if not isinstance(data, (list, np.ndarray)):\n",
    "        data = im.get_array()\n",
    "\n",
    "    # Normalize the threshold to the images color range.\n",
    "    if threshold is not None:\n",
    "        threshold = im.norm(threshold)\n",
    "    else:\n",
    "        threshold = im.norm(data.max())/2.\n",
    "\n",
    "    # Set default alignment to center, but allow it to be\n",
    "    # overwritten by textkw.\n",
    "    kw = dict(horizontalalignment=\"center\",\n",
    "              verticalalignment=\"center\")\n",
    "    kw.update(textkw)\n",
    "\n",
    "    # Get the formatter in case a string is supplied\n",
    "    if isinstance(valfmt, str):\n",
    "        valfmt = matplotlib.ticker.StrMethodFormatter(valfmt)\n",
    "\n",
    "    # Loop over the data and create a `Text` for each \"pixel\".\n",
    "    # Change the text's color depending on the data.\n",
    "    texts = []\n",
    "    for i in range(data.shape[0]):\n",
    "        for j in range(data.shape[1]):\n",
    "            kw.update(color=textcolors[int(im.norm(data[i, j]) > threshold)])\n",
    "            text = im.axes.text(j, i, valfmt(data[i, j], None,size=20), **kw,size=20)\n",
    "            texts.append(text)\n",
    "\n",
    "    return texts"
   ]
  },
  {
   "cell_type": "code",
   "execution_count": 10,
   "id": "86cdcc0f",
   "metadata": {},
   "outputs": [
    {
     "ename": "NameError",
     "evalue": "name 'serves' is not defined",
     "output_type": "error",
     "traceback": [
      "\u001b[0;31m---------------------------------------------------------------------------\u001b[0m",
      "\u001b[0;31mNameError\u001b[0m                                 Traceback (most recent call last)",
      "\u001b[0;32m/var/folders/_j/qzn5nc8s42j0sqkmm8dhc5th0000gn/T/ipykernel_66980/3211735829.py\u001b[0m in \u001b[0;36m<module>\u001b[0;34m\u001b[0m\n\u001b[0;32m----> 1\u001b[0;31m \u001b[0mserves\u001b[0m\u001b[0;34m[\u001b[0m\u001b[0;36m0\u001b[0m\u001b[0;34m]\u001b[0m\u001b[0;34m\u001b[0m\u001b[0;34m\u001b[0m\u001b[0m\n\u001b[0m",
      "\u001b[0;31mNameError\u001b[0m: name 'serves' is not defined"
     ]
    }
   ],
   "source": [
    "serves[0]"
   ]
  },
  {
   "cell_type": "code",
   "execution_count": 11,
   "id": "92a0d9eb",
   "metadata": {},
   "outputs": [
    {
     "ename": "NameError",
     "evalue": "name 'serves' is not defined",
     "output_type": "error",
     "traceback": [
      "\u001b[0;31m---------------------------------------------------------------------------\u001b[0m",
      "\u001b[0;31mNameError\u001b[0m                                 Traceback (most recent call last)",
      "\u001b[0;32m/var/folders/_j/qzn5nc8s42j0sqkmm8dhc5th0000gn/T/ipykernel_66980/2708951399.py\u001b[0m in \u001b[0;36m<module>\u001b[0;34m\u001b[0m\n\u001b[0;32m----> 1\u001b[0;31m \u001b[0mserves\u001b[0m\u001b[0;34m\u001b[0m\u001b[0;34m\u001b[0m\u001b[0m\n\u001b[0m",
      "\u001b[0;31mNameError\u001b[0m: name 'serves' is not defined"
     ]
    }
   ],
   "source": [
    "serves"
   ]
  },
  {
   "cell_type": "code",
   "execution_count": 12,
   "id": "926112ca",
   "metadata": {},
   "outputs": [
    {
     "ename": "NameError",
     "evalue": "name 'player_ids' is not defined",
     "output_type": "error",
     "traceback": [
      "\u001b[0;31m---------------------------------------------------------------------------\u001b[0m",
      "\u001b[0;31mNameError\u001b[0m                                 Traceback (most recent call last)",
      "\u001b[0;32m/var/folders/_j/qzn5nc8s42j0sqkmm8dhc5th0000gn/T/ipykernel_66980/868539154.py\u001b[0m in \u001b[0;36m<module>\u001b[0;34m\u001b[0m\n\u001b[1;32m      6\u001b[0m \"Deuce_T\", \"Deuce_Mid\", \"Deuce_Wide\"]\n\u001b[1;32m      7\u001b[0m \u001b[0;34m\u001b[0m\u001b[0m\n\u001b[0;32m----> 8\u001b[0;31m \u001b[0;32mfor\u001b[0m \u001b[0mi\u001b[0m\u001b[0;34m,\u001b[0m \u001b[0mplayer\u001b[0m \u001b[0;32min\u001b[0m \u001b[0menumerate\u001b[0m\u001b[0;34m(\u001b[0m\u001b[0mplayer_ids\u001b[0m\u001b[0;34m)\u001b[0m\u001b[0;34m:\u001b[0m\u001b[0;34m\u001b[0m\u001b[0;34m\u001b[0m\u001b[0m\n\u001b[0m\u001b[1;32m      9\u001b[0m     \u001b[0mprint\u001b[0m\u001b[0;34m(\u001b[0m\u001b[0mplayer\u001b[0m\u001b[0;34m)\u001b[0m\u001b[0;34m\u001b[0m\u001b[0;34m\u001b[0m\u001b[0m\n\u001b[1;32m     10\u001b[0m     \u001b[0mplayer_serves\u001b[0m \u001b[0;34m=\u001b[0m \u001b[0mnp\u001b[0m\u001b[0;34m.\u001b[0m\u001b[0mstack\u001b[0m\u001b[0;34m(\u001b[0m\u001b[0;34m(\u001b[0m\u001b[0mserves\u001b[0m\u001b[0;34m[\u001b[0m\u001b[0mi\u001b[0m\u001b[0;34m]\u001b[0m\u001b[0;34m,\u001b[0m\u001b[0mserves\u001b[0m\u001b[0;34m[\u001b[0m\u001b[0mi\u001b[0m\u001b[0;34m]\u001b[0m\u001b[0;34m,\u001b[0m \u001b[0mcolor_array\u001b[0m\u001b[0;34m,\u001b[0m \u001b[0mcolor_array\u001b[0m\u001b[0;34m)\u001b[0m\u001b[0;34m)\u001b[0m\u001b[0;34m\u001b[0m\u001b[0;34m\u001b[0m\u001b[0m\n",
      "\u001b[0;31mNameError\u001b[0m: name 'player_ids' is not defined"
     ]
    }
   ],
   "source": [
    "import matplotlib.pyplot as plt\n",
    "color_array = np.array([0.3]*6)\n",
    "Opponent=\"Opponent\"\n",
    "Players = [\"\",\"\",\"\",'']\n",
    "Serve_position = [\"Ad_Wide\", \"Ad_Mid\", \"Ad_T\",\n",
    "\"Deuce_T\", \"Deuce_Mid\", \"Deuce_Wide\"]\n",
    "\n",
    "for i, player in enumerate(player_ids):\n",
    "    print(player)\n",
    "    player_serves = np.stack((serves[i],serves[i], color_array, color_array))\n",
    "    fig, ax = plt.subplots()\n",
    "    fig.set_figheight(6)\n",
    "    fig.set_figwidth(10)\n",
    "\n",
    "    im, cbar = heatmap(player_serves, Players, Serve_position, ax=ax,\n",
    "                       cmap=\"YlGn\", cbarlabel=\"% 1st serves won\")\n",
    "    #texts = annotate_heatmap(im, valfmt=\"{x:.1f} t\")\n",
    "    ax.set_title(f\"{player}\")\n",
    "    fig.tight_layout()\n",
    "    plt.savefig(f'/Users/Tomi/Downloads/Heatmaps/{player}.png')\n",
    "    plt.show()\n",
    "    "
   ]
  },
  {
   "cell_type": "code",
   "execution_count": null,
   "id": "4c6d7652",
   "metadata": {},
   "outputs": [],
   "source": []
  }
 ],
 "metadata": {
  "kernelspec": {
   "display_name": "Python 3 (ipykernel)",
   "language": "python",
   "name": "python3"
  },
  "language_info": {
   "codemirror_mode": {
    "name": "ipython",
    "version": 3
   },
   "file_extension": ".py",
   "mimetype": "text/x-python",
   "name": "python",
   "nbconvert_exporter": "python",
   "pygments_lexer": "ipython3",
   "version": "3.8.12"
  },
  "toc": {
   "base_numbering": 1,
   "nav_menu": {},
   "number_sections": true,
   "sideBar": true,
   "skip_h1_title": false,
   "title_cell": "Table of Contents",
   "title_sidebar": "Contents",
   "toc_cell": false,
   "toc_position": {},
   "toc_section_display": true,
   "toc_window_display": false
  }
 },
 "nbformat": 4,
 "nbformat_minor": 5
}
