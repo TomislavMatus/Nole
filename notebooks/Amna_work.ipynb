{
 "cells": [
  {
   "cell_type": "code",
   "execution_count": 34,
   "id": "a30ea77e",
   "metadata": {},
   "outputs": [],
   "source": [
    "import pandas as pd\n",
    "import requests\n",
    "from selenium import webdriver"
   ]
  },
  {
   "cell_type": "code",
   "execution_count": 35,
   "id": "54701e31",
   "metadata": {},
   "outputs": [
    {
     "name": "stdout",
     "output_type": "stream",
     "text": [
      "Requirement already satisfied: selenium-stealth in c:\\users\\amna adnan\\anaconda3\\lib\\site-packages (1.0.6)\n",
      "Requirement already satisfied: selenium in c:\\users\\amna adnan\\anaconda3\\lib\\site-packages (from selenium-stealth) (4.4.3)\n",
      "Requirement already satisfied: trio~=0.17 in c:\\users\\amna adnan\\anaconda3\\lib\\site-packages (from selenium->selenium-stealth) (0.21.0)\n",
      "Requirement already satisfied: trio-websocket~=0.9 in c:\\users\\amna adnan\\anaconda3\\lib\\site-packages (from selenium->selenium-stealth) (0.9.2)\n",
      "Requirement already satisfied: certifi>=2021.10.8 in c:\\users\\amna adnan\\anaconda3\\lib\\site-packages (from selenium->selenium-stealth) (2021.10.8)\n",
      "Requirement already satisfied: urllib3[socks]~=1.26 in c:\\users\\amna adnan\\anaconda3\\lib\\site-packages (from selenium->selenium-stealth) (1.26.9)\n",
      "Requirement already satisfied: async-generator>=1.9 in c:\\users\\amna adnan\\anaconda3\\lib\\site-packages (from trio~=0.17->selenium->selenium-stealth) (1.10)\n",
      "Requirement already satisfied: sniffio in c:\\users\\amna adnan\\anaconda3\\lib\\site-packages (from trio~=0.17->selenium->selenium-stealth) (1.2.0)\n",
      "Requirement already satisfied: attrs>=19.2.0 in c:\\users\\amna adnan\\anaconda3\\lib\\site-packages (from trio~=0.17->selenium->selenium-stealth) (21.4.0)\n",
      "Requirement already satisfied: outcome in c:\\users\\amna adnan\\anaconda3\\lib\\site-packages (from trio~=0.17->selenium->selenium-stealth) (1.2.0)\n",
      "Requirement already satisfied: idna in c:\\users\\amna adnan\\anaconda3\\lib\\site-packages (from trio~=0.17->selenium->selenium-stealth) (3.3)\n",
      "Requirement already satisfied: cffi>=1.14 in c:\\users\\amna adnan\\anaconda3\\lib\\site-packages (from trio~=0.17->selenium->selenium-stealth) (1.15.0)\n",
      "Requirement already satisfied: sortedcontainers in c:\\users\\amna adnan\\anaconda3\\lib\\site-packages (from trio~=0.17->selenium->selenium-stealth) (2.4.0)\n",
      "Requirement already satisfied: pycparser in c:\\users\\amna adnan\\anaconda3\\lib\\site-packages (from cffi>=1.14->trio~=0.17->selenium->selenium-stealth) (2.21)\n",
      "Requirement already satisfied: wsproto>=0.14 in c:\\users\\amna adnan\\anaconda3\\lib\\site-packages (from trio-websocket~=0.9->selenium->selenium-stealth) (1.2.0)\n",
      "Requirement already satisfied: PySocks!=1.5.7,<2.0,>=1.5.6 in c:\\users\\amna adnan\\anaconda3\\lib\\site-packages (from urllib3[socks]~=1.26->selenium->selenium-stealth) (1.7.1)\n",
      "Requirement already satisfied: h11<1,>=0.9.0 in c:\\users\\amna adnan\\anaconda3\\lib\\site-packages (from wsproto>=0.14->trio-websocket~=0.9->selenium->selenium-stealth) (0.13.0)\n",
      "Requirement already satisfied: selenium in c:\\users\\amna adnan\\anaconda3\\lib\\site-packages (4.4.3)\n",
      "Requirement already satisfied: trio~=0.17 in c:\\users\\amna adnan\\anaconda3\\lib\\site-packages (from selenium) (0.21.0)\n",
      "Requirement already satisfied: certifi>=2021.10.8 in c:\\users\\amna adnan\\anaconda3\\lib\\site-packages (from selenium) (2021.10.8)\n",
      "Requirement already satisfied: trio-websocket~=0.9 in c:\\users\\amna adnan\\anaconda3\\lib\\site-packages (from selenium) (0.9.2)\n",
      "Requirement already satisfied: urllib3[socks]~=1.26 in c:\\users\\amna adnan\\anaconda3\\lib\\site-packages (from selenium) (1.26.9)\n",
      "Requirement already satisfied: attrs>=19.2.0 in c:\\users\\amna adnan\\anaconda3\\lib\\site-packages (from trio~=0.17->selenium) (21.4.0)\n",
      "Requirement already satisfied: sniffio in c:\\users\\amna adnan\\anaconda3\\lib\\site-packages (from trio~=0.17->selenium) (1.2.0)\n",
      "Requirement already satisfied: cffi>=1.14 in c:\\users\\amna adnan\\anaconda3\\lib\\site-packages (from trio~=0.17->selenium) (1.15.0)\n",
      "Requirement already satisfied: async-generator>=1.9 in c:\\users\\amna adnan\\anaconda3\\lib\\site-packages (from trio~=0.17->selenium) (1.10)\n",
      "Requirement already satisfied: idna in c:\\users\\amna adnan\\anaconda3\\lib\\site-packages (from trio~=0.17->selenium) (3.3)\n",
      "Requirement already satisfied: sortedcontainers in c:\\users\\amna adnan\\anaconda3\\lib\\site-packages (from trio~=0.17->selenium) (2.4.0)\n",
      "Requirement already satisfied: outcome in c:\\users\\amna adnan\\anaconda3\\lib\\site-packages (from trio~=0.17->selenium) (1.2.0)\n",
      "Requirement already satisfied: pycparser in c:\\users\\amna adnan\\anaconda3\\lib\\site-packages (from cffi>=1.14->trio~=0.17->selenium) (2.21)\n",
      "Requirement already satisfied: wsproto>=0.14 in c:\\users\\amna adnan\\anaconda3\\lib\\site-packages (from trio-websocket~=0.9->selenium) (1.2.0)\n",
      "Requirement already satisfied: PySocks!=1.5.7,<2.0,>=1.5.6 in c:\\users\\amna adnan\\anaconda3\\lib\\site-packages (from urllib3[socks]~=1.26->selenium) (1.7.1)\n",
      "Requirement already satisfied: h11<1,>=0.9.0 in c:\\users\\amna adnan\\anaconda3\\lib\\site-packages (from wsproto>=0.14->trio-websocket~=0.9->selenium) (0.13.0)\n",
      "Requirement already satisfied: webdriver-manager in c:\\users\\amna adnan\\anaconda3\\lib\\site-packages (3.8.3)\n",
      "Requirement already satisfied: python-dotenv in c:\\users\\amna adnan\\anaconda3\\lib\\site-packages (from webdriver-manager) (0.21.0)\n",
      "Requirement already satisfied: tqdm in c:\\users\\amna adnan\\anaconda3\\lib\\site-packages (from webdriver-manager) (4.64.0)\n",
      "Requirement already satisfied: requests in c:\\users\\amna adnan\\anaconda3\\lib\\site-packages (from webdriver-manager) (2.27.1)\n",
      "Requirement already satisfied: idna<4,>=2.5 in c:\\users\\amna adnan\\anaconda3\\lib\\site-packages (from requests->webdriver-manager) (3.3)\n",
      "Requirement already satisfied: certifi>=2017.4.17 in c:\\users\\amna adnan\\anaconda3\\lib\\site-packages (from requests->webdriver-manager) (2021.10.8)\n",
      "Requirement already satisfied: urllib3<1.27,>=1.21.1 in c:\\users\\amna adnan\\anaconda3\\lib\\site-packages (from requests->webdriver-manager) (1.26.9)\n",
      "Requirement already satisfied: charset-normalizer~=2.0.0 in c:\\users\\amna adnan\\anaconda3\\lib\\site-packages (from requests->webdriver-manager) (2.0.4)\n",
      "Requirement already satisfied: colorama in c:\\users\\amna adnan\\anaconda3\\lib\\site-packages (from tqdm->webdriver-manager) (0.4.4)\n"
     ]
    }
   ],
   "source": [
    "!pip install selenium-stealth \n",
    "!pip install selenium \n",
    "!pip install webdriver-manager"
   ]
  },
  {
   "cell_type": "code",
   "execution_count": 41,
   "id": "7538b4fe",
   "metadata": {},
   "outputs": [
    {
     "name": "stderr",
     "output_type": "stream",
     "text": [
      "C:\\Users\\Amna Adnan\\AppData\\Local\\Temp\\ipykernel_10048\\3634333721.py:11: DeprecationWarning: executable_path has been deprecated, please pass in a Service object\n",
      "  driver = webdriver.Chrome(options=options, executable_path=ChromeDriverManager().install())\n"
     ]
    }
   ],
   "source": [
    "from selenium import webdriver\n",
    "from webdriver_manager.chrome import ChromeDriverManager\n",
    "\n",
    "from selenium import webdriver\n",
    "from selenium_stealth import stealth\n",
    "\n",
    "options = webdriver.ChromeOptions()\n",
    "options.add_argument(\"start-maximized\")\n",
    "options.add_experimental_option(\"excludeSwitches\", [\"enable-automation\"])\n",
    "options.add_experimental_option('useAutomationExtension', False)\n",
    "driver = webdriver.Chrome(options=options, executable_path=ChromeDriverManager().install())\n",
    "\n",
    "stealth(driver,\n",
    "        languages=[\"en-US\", \"en\"],\n",
    "        vendor=\"Google Inc.\",\n",
    "        platform=\"Win32\",\n",
    "        webgl_vendor=\"Intel Inc.\",\n",
    "        renderer=\"Intel Iris OpenGL Engine\",\n",
    "        fix_hairline=True,\n",
    "        )"
   ]
  },
  {
   "cell_type": "code",
   "execution_count": 42,
   "id": "becfc29b",
   "metadata": {},
   "outputs": [],
   "source": [
    "driver.get(\"https://www.atptour.com/-/ajax/HawkEyeStats/Opponents/D643\")"
   ]
  },
  {
   "cell_type": "code",
   "execution_count": 44,
   "id": "fc7b863b",
   "metadata": {},
   "outputs": [],
   "source": [
    "import json\n",
    "json_player = json.loads(driver.find_element(by=\"xpath\", value='/html/body/pre').text)"
   ]
  },
  {
   "cell_type": "code",
   "execution_count": 45,
   "id": "f5937cbe",
   "metadata": {},
   "outputs": [
    {
     "data": {
      "text/plain": [
       "[{'OpponentId': 'All', 'OpponentName': 'All Players'},\n",
       " {'OpponentId': 'R', 'OpponentName': 'Right Handed Players'},\n",
       " {'OpponentId': 'L', 'OpponentName': 'Left Handed Players'},\n",
       " {'OpponentId': 'A0E2', 'OpponentName': 'Carlos Alcaraz'},\n",
       " {'OpponentId': 'A479', 'OpponentName': 'Nicolas Almagro'},\n",
       " {'OpponentId': 'A678', 'OpponentName': 'Kevin Anderson'},\n",
       " {'OpponentId': 'A596', 'OpponentName': 'Pablo Andujar'},\n",
       " {'OpponentId': 'AG37', 'OpponentName': 'Felix Auger-Aliassime'},\n",
       " {'OpponentId': 'B837', 'OpponentName': 'Marcos Baghdatis'},\n",
       " {'OpponentId': 'be67', 'OpponentName': 'Mirza Basic'},\n",
       " {'OpponentId': 'BD06', 'OpponentName': 'Roberto Bautista Agut'},\n",
       " {'OpponentId': 'bh09', 'OpponentName': 'Aljaz Bedene'},\n",
       " {'OpponentId': 'bd20', 'OpponentName': 'Thomaz Bellucci'},\n",
       " {'OpponentId': 'b747', 'OpponentName': 'Julien Benneteau'},\n",
       " {'OpponentId': 'BE90', 'OpponentName': 'Ricardas Berankis'},\n",
       " {'OpponentId': 'BA47', 'OpponentName': 'Tomas Berdych'},\n",
       " {'OpponentId': 'BK40', 'OpponentName': 'Matteo Berrettini'},\n",
       " {'OpponentId': 'b676', 'OpponentName': 'James Blake'},\n",
       " {'OpponentId': 'CD85', 'OpponentName': 'Pablo Carreno Busta'},\n",
       " {'OpponentId': 'CE25', 'OpponentName': 'Salvatore Caruso'},\n",
       " {'OpponentId': 'cf01', 'OpponentName': 'Marco Cecchinato'},\n",
       " {'OpponentId': 'CA12', 'OpponentName': 'Jeremy Chardy'},\n",
       " {'OpponentId': 'c977', 'OpponentName': 'Marin Cilic'},\n",
       " {'OpponentId': 'CG80', 'OpponentName': 'Borna Coric'},\n",
       " {'OpponentId': 'da81', 'OpponentName': 'Taro Daniel'},\n",
       " {'OpponentId': 'DH50', 'OpponentName': 'Alejandro Davidovich Fokina'},\n",
       " {'OpponentId': 'd402', 'OpponentName': 'Nikolay Davydenko'},\n",
       " {'OpponentId': 'd683', 'OpponentName': 'Juan Martin del Potro'},\n",
       " {'OpponentId': 'D874', 'OpponentName': 'Federico Delbonis'},\n",
       " {'OpponentId': 'D616', 'OpponentName': 'Somdev Devvarman'},\n",
       " {'OpponentId': 'd875', 'OpponentName': 'Grigor Dimitrov'},\n",
       " {'OpponentId': 'D646', 'OpponentName': 'Ivan Dodig'},\n",
       " {'OpponentId': 'D801', 'OpponentName': 'Alexandr Dolgopolov'},\n",
       " {'OpponentId': 'd923', 'OpponentName': 'Damir Dzumhur'},\n",
       " {'OpponentId': 'e831', 'OpponentName': 'Kyle Edmund'},\n",
       " {'OpponentId': 'E687', 'OpponentName': 'Daniel Evans'},\n",
       " {'OpponentId': 'F324', 'OpponentName': 'Roger Federer'},\n",
       " {'OpponentId': 'f401', 'OpponentName': 'David Ferrer'},\n",
       " {'OpponentId': 'f339', 'OpponentName': 'Mardy Fish'},\n",
       " {'OpponentId': 'F510', 'OpponentName': 'Fabio Fognini'},\n",
       " {'OpponentId': 'F811', 'OpponentName': 'Bjorn Fratangelo'},\n",
       " {'OpponentId': 'FB98', 'OpponentName': 'Taylor Fritz'},\n",
       " {'OpponentId': 'F724', 'OpponentName': 'Marton Fucsovics'},\n",
       " {'OpponentId': 'g476', 'OpponentName': 'Guillermo Garcia-Lopez'},\n",
       " {'OpponentId': 'GD64', 'OpponentName': 'Cristian Garin'},\n",
       " {'OpponentId': 'g628', 'OpponentName': 'Richard Gasquet'},\n",
       " {'OpponentId': 'G676', 'OpponentName': 'Daniel Gimeno-Traver'},\n",
       " {'OpponentId': 'gb88', 'OpponentName': 'David Goffin'},\n",
       " {'OpponentId': 'G806', 'OpponentName': 'Andrey Golubev'},\n",
       " {'OpponentId': 'g892', 'OpponentName': 'Alejandro Gonzalez'},\n",
       " {'OpponentId': 'G710', 'OpponentName': 'Marcel Granollers'},\n",
       " {'OpponentId': 'G858', 'OpponentName': 'Ernests Gulbis'},\n",
       " {'OpponentId': 'h355', 'OpponentName': 'Tommy Haas'},\n",
       " {'OpponentId': 'H756', 'OpponentName': 'Robin Haase'},\n",
       " {'OpponentId': 'H804', 'OpponentName': 'Andreas Haider-Maurer'},\n",
       " {'OpponentId': 'h528', 'OpponentName': 'Victor Hanescu'},\n",
       " {'OpponentId': 'H940', 'OpponentName': 'Ryan Harrison'},\n",
       " {'OpponentId': 'h996', 'OpponentName': 'Pierre-Hugues Herbert'},\n",
       " {'OpponentId': 'HB71', 'OpponentName': 'Hubert Hurkacz'},\n",
       " {'OpponentId': 'i186', 'OpponentName': 'John Isner'},\n",
       " {'OpponentId': 'i165', 'OpponentName': 'Denis Istomin'},\n",
       " {'OpponentId': 'J267', 'OpponentName': 'Malek Jaziri'},\n",
       " {'OpponentId': 'J386', 'OpponentName': 'Steve Johnson'},\n",
       " {'OpponentId': 'KC56', 'OpponentName': 'Aslan Karatsev'},\n",
       " {'OpponentId': 'KE29', 'OpponentName': 'Karen Khachanov'},\n",
       " {'OpponentId': 'K966', 'OpponentName': 'Martin Klizan'},\n",
       " {'OpponentId': 'KE73', 'OpponentName': 'Dominik Koepfer'},\n",
       " {'OpponentId': 'K435', 'OpponentName': 'Philipp Kohlschreiber'},\n",
       " {'OpponentId': 'KB05', 'OpponentName': 'Filip Krajinovic'},\n",
       " {'OpponentId': 'k540', 'OpponentName': 'Lukasz Kubot'},\n",
       " {'OpponentId': 'K926', 'OpponentName': 'Mikhail Kukushkin'},\n",
       " {'OpponentId': 'ke17', 'OpponentName': 'Nick Kyrgios'},\n",
       " {'OpponentId': 'L987', 'OpponentName': 'Dusan Lajovic'},\n",
       " {'OpponentId': 'l397', 'OpponentName': 'Feliciano Lopez'},\n",
       " {'OpponentId': 'ME82', 'OpponentName': 'Adrian Mannarino'},\n",
       " {'OpponentId': 'MB02', 'OpponentName': 'Florian Mayer'},\n",
       " {'OpponentId': 'MM58', 'OpponentName': 'Daniil Medvedev'},\n",
       " {'OpponentId': 'MA21', 'OpponentName': 'Juan Monaco'},\n",
       " {'OpponentId': 'MC65', 'OpponentName': 'Gael Monfils'},\n",
       " {'OpponentId': 'M824', 'OpponentName': 'Albert Montanes'},\n",
       " {'OpponentId': 'MW02', 'OpponentName': 'Corentin Moutet'},\n",
       " {'OpponentId': 'MA30', 'OpponentName': 'Gilles Muller'},\n",
       " {'OpponentId': 'mc10', 'OpponentName': 'Andy Murray'},\n",
       " {'OpponentId': 'M0EJ', 'OpponentName': 'Lorenzo Musetti'},\n",
       " {'OpponentId': 'n409', 'OpponentName': 'Rafael Nadal'},\n",
       " {'OpponentId': 'N289', 'OpponentName': 'Jarkko Nieminen'},\n",
       " {'OpponentId': 'N552', 'OpponentName': 'Kei Nishikori'},\n",
       " {'OpponentId': 'N771', 'OpponentName': 'Cameron Norrie'},\n",
       " {'OpponentId': 'PD31', 'OpponentName': 'Benoit Paire'},\n",
       " {'OpponentId': 'pb22', 'OpponentName': 'Peter Polansky'},\n",
       " {'OpponentId': 'PD07', 'OpponentName': 'Vasek Pospisil'},\n",
       " {'OpponentId': 'PF39', 'OpponentName': 'Lucas Pouille'},\n",
       " {'OpponentId': 'Q927', 'OpponentName': 'Sam Querrey'},\n",
       " {'OpponentId': 'R772', 'OpponentName': 'Albert Ramos-Vinolas'},\n",
       " {'OpponentId': 'r975', 'OpponentName': 'Milos Raonic'},\n",
       " {'OpponentId': 'R612', 'OpponentName': 'Stephane Robert'},\n",
       " {'OpponentId': 'r419', 'OpponentName': 'Tommy Robredo'},\n",
       " {'OpponentId': 'R685', 'OpponentName': 'Lukas Rosol'},\n",
       " {'OpponentId': 'RE44', 'OpponentName': 'Andrey Rublev'},\n",
       " {'OpponentId': 'RH16', 'OpponentName': 'Casper Ruud'},\n",
       " {'OpponentId': 'SL08', 'OpponentName': 'Tennys Sandgren'},\n",
       " {'OpponentId': 'SM37', 'OpponentName': 'Diego Schwartzman'},\n",
       " {'OpponentId': 'sa93', 'OpponentName': 'Andreas Seppi'},\n",
       " {'OpponentId': 'SU55', 'OpponentName': 'Denis Shapovalov'},\n",
       " {'OpponentId': 'SD32', 'OpponentName': 'Gilles Simon'},\n",
       " {'OpponentId': 'S0AG', 'OpponentName': 'Jannik Sinner'},\n",
       " {'OpponentId': 'SM25', 'OpponentName': 'Jack Sock'},\n",
       " {'OpponentId': 'sa49', 'OpponentName': 'Robin Soderling'},\n",
       " {'OpponentId': 'SU87', 'OpponentName': 'Lorenzo Sonego'},\n",
       " {'OpponentId': 'sh90', 'OpponentName': 'Joao Sousa'},\n",
       " {'OpponentId': 's694', 'OpponentName': 'Radek Stepanek'},\n",
       " {'OpponentId': 'SL28', 'OpponentName': 'Jan-Lennard Struff'},\n",
       " {'OpponentId': 'TB69', 'OpponentName': 'Dominic Thiem'},\n",
       " {'OpponentId': 'T742', 'OpponentName': 'Janko Tipsarevic'},\n",
       " {'OpponentId': 'TA46', 'OpponentName': 'Bernard Tomic'},\n",
       " {'OpponentId': 't840', 'OpponentName': 'Viktor Troicki'},\n",
       " {'OpponentId': 'TE51', 'OpponentName': 'Stefanos Tsitsipas'},\n",
       " {'OpponentId': 'T786', 'OpponentName': 'Jo-Wilfried Tsonga'},\n",
       " {'OpponentId': 'V708', 'OpponentName': 'Jiri Vesely'},\n",
       " {'OpponentId': 'W367', 'OpponentName': 'Stan Wawrinka'},\n",
       " {'OpponentId': 'Y061', 'OpponentName': 'Mikhail Youzhny'},\n",
       " {'OpponentId': 'Z168', 'OpponentName': 'Mischa Zverev'},\n",
       " {'OpponentId': 'z355', 'OpponentName': 'Alexander Zverev'}]"
      ]
     },
     "execution_count": 45,
     "metadata": {},
     "output_type": "execute_result"
    }
   ],
   "source": [
    "json_player"
   ]
  },
  {
   "cell_type": "markdown",
   "id": "b5764cf4",
   "metadata": {},
   "source": [
    "### HEIGHTS OF 100 OPPONENTS ###"
   ]
  },
  {
   "cell_type": "code",
   "execution_count": 26,
   "id": "18eeb5d1",
   "metadata": {},
   "outputs": [],
   "source": [
    "names = ['Novak Djokovic','Daniil Medvedev','Alexander Zverev','Stefanos Tsitsipas','Andrey Rublev','Rafael Nadal',\n",
    "         'Matteo Berrettini','Casper Ruud','Hubert Hurkacz','Felix Auger-Aliassime','Jannik Sinner','Cameron Norrie',\n",
    "        'Diego Schwartzman','Denis Shapovalov','Dominic Thiem','Roger Federer','Aslan Karatsev','Cristian Garin',\n",
    "        'Roberto Bautista Agut','Pablo Carreno Busta','Gael Monfils','Nikoloz Basilashvili','Taylor Fritz','John Isner',\n",
    "        'Daniel Evans','Reilly Opelka','Lorenzo Sonego','Grigor Dimitrov','Karen Khachanov','Marin Cillic','Lloyd Harris',\n",
    "        'Carlos Alcaraz','Dusan Lajovic','Alex De Minaur','Ugo Humbert','Alexander Bublik','Fabio Fognini','Frances Tiafoe',\n",
    "        'David Goffin','Marton Fucsovics','Sebastian Korda','Filip Krajinovic','Tommy Paul','Federico Delbonis','Albert Ramos-Vinolas',\n",
    "        'Ilya Ivashka','Benoit Paire','Kei Nishikori','James Duckworth','Alejandro Davidovich Fokina','Jan-Lennard Struff',\n",
    "        'Laslo Djere','Soonwoo Kwon','Dominik Koepfer','Mackenzie McDonald','Jenson Brooksby','Botic Van De Zandschulp',\n",
    "        'Arthur Rinderknech','Lorenzo Musetti','Pedro Martinez','Alexei Popyrin','Brandon Nakashima','Gianluca Mager',\n",
    "        'Benjamin Bonzi','Tallon Griekspoor','Marcos Giron','Hugo Gaston','Miomir Kecmanovic','Federico Coria','Milos Raonic',\n",
    "        'Roberto Carballes Baena','Adrian Mannarino','John Millman','Borna Coric','Guido Pella','Facunda Bagnis','Jordan Thompson',\n",
    "        'Stefano Travaglia','Kevin Anderson','Yoshihito Nishioka','Stan Wawrinka','Jiri Vesely','Jaume Munar','Steve Johnson',\n",
    "        'Peter Gojowczyk','Richard Gasquet','Pablo Andujar','Corentin Moutet','Juan Manuel Cerundolo','Nick Kyrgios',\n",
    "        'Mikael Ymer','Emil Ruusuvuori','Tennys Sandgren','Thiago Monteiro','Pablo Cuevas','Marco Cecchinato','Henri Laaksonen',\n",
    "        'Daniel Altmaier','Carlos Taberner','Andreas Seppi']"
   ]
  },
  {
   "cell_type": "code",
   "execution_count": 27,
   "id": "f08d81e4",
   "metadata": {},
   "outputs": [],
   "source": [
    "height = [188,198,198,193,188,185,196,183,196,193,188,188,170,185,185,185,185,185,183,188,193,185,196,208,175,211,191,191,198,\n",
    "            198,193,185,183,183,188,196,178,188,180,188,196,185,185,193,188,193,196,178,183,183,193,188,180,180,178,193,191,\n",
    "            196,185,185,196,185,188,183,188,180,173,183,180,196,183,180,183,188,183,183,183,185,203,170,183,198,183,188,188,\n",
    "            183,180,175,183,193,183,188,188,183,180,185,185,188,183,191]"
   ]
  },
  {
   "cell_type": "code",
   "execution_count": 29,
   "id": "b7d07649",
   "metadata": {},
   "outputs": [],
   "source": [
    "res = dict(zip(names, height))"
   ]
  },
  {
   "cell_type": "markdown",
   "id": "ccd14019",
   "metadata": {},
   "source": [
    "### API's for DJOKOVIC OPPONENTS WITH ALL STATISTICS ###"
   ]
  },
  {
   "cell_type": "code",
   "execution_count": 49,
   "id": "2e0a11fb",
   "metadata": {},
   "outputs": [],
   "source": [
    "driver.get(\"https://www.atptour.com/-/ajax/hawkeyestats/serve/2020/0/D643/deucecourt/1/all/A678/all\")\n",
    "json_player = json.loads(driver.find_element(by=\"xpath\", value='/html/body/pre').text)"
   ]
  },
  {
   "cell_type": "code",
   "execution_count": 73,
   "id": "4ee45209",
   "metadata": {},
   "outputs": [],
   "source": [
    "t = json_player[\"T\"]\n",
    "mid = json_player[\"Mid\"]\n",
    "wide = json_player[\"Wide\"]"
   ]
  },
  {
   "cell_type": "code",
   "execution_count": 74,
   "id": "5fbeb4a2",
   "metadata": {},
   "outputs": [],
   "source": [
    "t_summary_keys = t[\"DeuceCourt\"][\"Summary\"].keys()"
   ]
  },
  {
   "cell_type": "code",
   "execution_count": 86,
   "id": "0fb2b45e",
   "metadata": {},
   "outputs": [
    {
     "data": {
      "text/plain": [
       "dict_keys(['ServesAttempted', 'ServesMade', 'ServesWon', 'ServesMadePercentage', 'ServesWonPercentage', 'Aces', 'Unreturned', 'Returned', 'AverageSpeed', 'AverageSpin'])"
      ]
     },
     "execution_count": 86,
     "metadata": {},
     "output_type": "execute_result"
    }
   ],
   "source": [
    "t_summary_keys"
   ]
  },
  {
   "cell_type": "code",
   "execution_count": 75,
   "id": "97e62d46",
   "metadata": {
    "scrolled": true
   },
   "outputs": [
    {
     "data": {
      "text/plain": [
       "{'ServesAttempted': 11,\n",
       " 'ServesMade': 11,\n",
       " 'ServesWon': 9,\n",
       " 'ServesMadePercentage': '37.9%',\n",
       " 'ServesWonPercentage': '81.8%',\n",
       " 'Aces': 3,\n",
       " 'Unreturned': 2,\n",
       " 'Returned': 6,\n",
       " 'AverageSpeed': 124.0,\n",
       " 'AverageSpin': 0}"
      ]
     },
     "execution_count": 75,
     "metadata": {},
     "output_type": "execute_result"
    }
   ],
   "source": [
    "t[\"DeuceCourt\"][\"Summary\"]"
   ]
  },
  {
   "cell_type": "code",
   "execution_count": 78,
   "id": "8dddacfd",
   "metadata": {},
   "outputs": [
    {
     "name": "stdout",
     "output_type": "stream",
     "text": [
      "11\n",
      "11\n",
      "9\n",
      "37.9%\n",
      "81.8%\n",
      "3\n",
      "2\n",
      "6\n",
      "124.0\n",
      "0\n"
     ]
    }
   ],
   "source": [
    "for key in t_summary_keys:\n",
    "    print(t[\"DeuceCourt\"][\"Summary\"][key])"
   ]
  },
  {
   "cell_type": "code",
   "execution_count": 105,
   "id": "356841e4",
   "metadata": {},
   "outputs": [
    {
     "name": "stderr",
     "output_type": "stream",
     "text": [
      "'pwd' is not recognized as an internal or external command,\n",
      "operable program or batch file.\n"
     ]
    }
   ],
   "source": [
    "!pwd"
   ]
  },
  {
   "cell_type": "code",
   "execution_count": 79,
   "id": "539f5759",
   "metadata": {},
   "outputs": [],
   "source": [
    "import pandas as pd"
   ]
  },
  {
   "cell_type": "code",
   "execution_count": 95,
   "id": "95e63111",
   "metadata": {},
   "outputs": [],
   "source": [
    "df = pd.DataFrame()"
   ]
  },
  {
   "cell_type": "code",
   "execution_count": 101,
   "id": "6a188b89",
   "metadata": {},
   "outputs": [],
   "source": [
    "new = pd.DataFrame({\"example\": [45,56,67]})"
   ]
  },
  {
   "cell_type": "code",
   "execution_count": 103,
   "id": "b3f99ee3",
   "metadata": {},
   "outputs": [],
   "source": [
    "new[\"example\"] = [45,78,99]"
   ]
  },
  {
   "cell_type": "code",
   "execution_count": 104,
   "id": "ce145eba",
   "metadata": {},
   "outputs": [
    {
     "data": {
      "text/html": [
       "<div>\n",
       "<style scoped>\n",
       "    .dataframe tbody tr th:only-of-type {\n",
       "        vertical-align: middle;\n",
       "    }\n",
       "\n",
       "    .dataframe tbody tr th {\n",
       "        vertical-align: top;\n",
       "    }\n",
       "\n",
       "    .dataframe thead th {\n",
       "        text-align: right;\n",
       "    }\n",
       "</style>\n",
       "<table border=\"1\" class=\"dataframe\">\n",
       "  <thead>\n",
       "    <tr style=\"text-align: right;\">\n",
       "      <th></th>\n",
       "      <th>example</th>\n",
       "    </tr>\n",
       "  </thead>\n",
       "  <tbody>\n",
       "    <tr>\n",
       "      <th>0</th>\n",
       "      <td>45</td>\n",
       "    </tr>\n",
       "    <tr>\n",
       "      <th>1</th>\n",
       "      <td>78</td>\n",
       "    </tr>\n",
       "    <tr>\n",
       "      <th>2</th>\n",
       "      <td>99</td>\n",
       "    </tr>\n",
       "  </tbody>\n",
       "</table>\n",
       "</div>"
      ],
      "text/plain": [
       "   example\n",
       "0       45\n",
       "1       78\n",
       "2       99"
      ]
     },
     "execution_count": 104,
     "metadata": {},
     "output_type": "execute_result"
    }
   ],
   "source": [
    "new"
   ]
  },
  {
   "cell_type": "code",
   "execution_count": 99,
   "id": "568e39dd",
   "metadata": {},
   "outputs": [],
   "source": [
    "for key in t_summary_keys:\n",
    "    df[key] = [t[\"DeuceCourt\"][\"Summary\"][key]]"
   ]
  },
  {
   "cell_type": "code",
   "execution_count": 100,
   "id": "dd22c81c",
   "metadata": {},
   "outputs": [
    {
     "data": {
      "text/html": [
       "<div>\n",
       "<style scoped>\n",
       "    .dataframe tbody tr th:only-of-type {\n",
       "        vertical-align: middle;\n",
       "    }\n",
       "\n",
       "    .dataframe tbody tr th {\n",
       "        vertical-align: top;\n",
       "    }\n",
       "\n",
       "    .dataframe thead th {\n",
       "        text-align: right;\n",
       "    }\n",
       "</style>\n",
       "<table border=\"1\" class=\"dataframe\">\n",
       "  <thead>\n",
       "    <tr style=\"text-align: right;\">\n",
       "      <th></th>\n",
       "      <th>ServesAttempted</th>\n",
       "      <th>ServesMade</th>\n",
       "      <th>ServesWon</th>\n",
       "      <th>ServesMadePercentage</th>\n",
       "      <th>ServesWonPercentage</th>\n",
       "      <th>Aces</th>\n",
       "      <th>Unreturned</th>\n",
       "      <th>Returned</th>\n",
       "      <th>AverageSpeed</th>\n",
       "      <th>AverageSpin</th>\n",
       "    </tr>\n",
       "  </thead>\n",
       "  <tbody>\n",
       "    <tr>\n",
       "      <th>0</th>\n",
       "      <td>11</td>\n",
       "      <td>11</td>\n",
       "      <td>9</td>\n",
       "      <td>37.9%</td>\n",
       "      <td>81.8%</td>\n",
       "      <td>3</td>\n",
       "      <td>2</td>\n",
       "      <td>6</td>\n",
       "      <td>124.0</td>\n",
       "      <td>0</td>\n",
       "    </tr>\n",
       "  </tbody>\n",
       "</table>\n",
       "</div>"
      ],
      "text/plain": [
       "   ServesAttempted  ServesMade  ServesWon ServesMadePercentage  \\\n",
       "0               11          11          9                37.9%   \n",
       "\n",
       "  ServesWonPercentage  Aces  Unreturned  Returned  AverageSpeed  AverageSpin  \n",
       "0               81.8%     3           2         6         124.0            0  "
      ]
     },
     "execution_count": 100,
     "metadata": {},
     "output_type": "execute_result"
    }
   ],
   "source": [
    "df"
   ]
  },
  {
   "cell_type": "code",
   "execution_count": null,
   "id": "33a0d8ec",
   "metadata": {},
   "outputs": [],
   "source": []
  }
 ],
 "metadata": {
  "kernelspec": {
   "display_name": "Python 3 (ipykernel)",
   "language": "python",
   "name": "python3"
  },
  "language_info": {
   "codemirror_mode": {
    "name": "ipython",
    "version": 3
   },
   "file_extension": ".py",
   "mimetype": "text/x-python",
   "name": "python",
   "nbconvert_exporter": "python",
   "pygments_lexer": "ipython3",
   "version": "3.9.12"
  }
 },
 "nbformat": 4,
 "nbformat_minor": 5
}
