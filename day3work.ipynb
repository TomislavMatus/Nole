{
 "cells": [
  {
   "cell_type": "code",
   "execution_count": 166,
   "id": "9c6cd491",
   "metadata": {},
   "outputs": [
    {
     "name": "stderr",
     "output_type": "stream",
     "text": [
      "'pwd' is not recognized as an internal or external command,\n",
      "operable program or batch file.\n"
     ]
    }
   ],
   "source": [
    "!pwd"
   ]
  },
  {
   "cell_type": "code",
   "execution_count": 1,
   "id": "8f66da86",
   "metadata": {
    "scrolled": true
   },
   "outputs": [
    {
     "name": "stdout",
     "output_type": "stream",
     "text": [
      "Requirement already satisfied: selenium-stealth in c:\\users\\amna adnan\\anaconda3\\lib\\site-packages (1.0.6)\n",
      "Requirement already satisfied: selenium in c:\\users\\amna adnan\\anaconda3\\lib\\site-packages (from selenium-stealth) (4.4.3)\n",
      "Requirement already satisfied: urllib3[socks]~=1.26 in c:\\users\\amna adnan\\anaconda3\\lib\\site-packages (from selenium->selenium-stealth) (1.26.9)\n",
      "Requirement already satisfied: certifi>=2021.10.8 in c:\\users\\amna adnan\\anaconda3\\lib\\site-packages (from selenium->selenium-stealth) (2021.10.8)\n",
      "Requirement already satisfied: trio~=0.17 in c:\\users\\amna adnan\\anaconda3\\lib\\site-packages (from selenium->selenium-stealth) (0.21.0)\n",
      "Requirement already satisfied: trio-websocket~=0.9 in c:\\users\\amna adnan\\anaconda3\\lib\\site-packages (from selenium->selenium-stealth) (0.9.2)\n",
      "Requirement already satisfied: async-generator>=1.9 in c:\\users\\amna adnan\\anaconda3\\lib\\site-packages (from trio~=0.17->selenium->selenium-stealth) (1.10)\n",
      "Requirement already satisfied: attrs>=19.2.0 in c:\\users\\amna adnan\\anaconda3\\lib\\site-packages (from trio~=0.17->selenium->selenium-stealth) (21.4.0)\n",
      "Requirement already satisfied: sortedcontainers in c:\\users\\amna adnan\\anaconda3\\lib\\site-packages (from trio~=0.17->selenium->selenium-stealth) (2.4.0)\n",
      "Requirement already satisfied: sniffio in c:\\users\\amna adnan\\anaconda3\\lib\\site-packages (from trio~=0.17->selenium->selenium-stealth) (1.2.0)\n",
      "Requirement already satisfied: outcome in c:\\users\\amna adnan\\anaconda3\\lib\\site-packages (from trio~=0.17->selenium->selenium-stealth) (1.2.0)\n",
      "Requirement already satisfied: idna in c:\\users\\amna adnan\\anaconda3\\lib\\site-packages (from trio~=0.17->selenium->selenium-stealth) (3.3)\n",
      "Requirement already satisfied: cffi>=1.14 in c:\\users\\amna adnan\\anaconda3\\lib\\site-packages (from trio~=0.17->selenium->selenium-stealth) (1.15.0)\n",
      "Requirement already satisfied: pycparser in c:\\users\\amna adnan\\anaconda3\\lib\\site-packages (from cffi>=1.14->trio~=0.17->selenium->selenium-stealth) (2.21)\n",
      "Requirement already satisfied: wsproto>=0.14 in c:\\users\\amna adnan\\anaconda3\\lib\\site-packages (from trio-websocket~=0.9->selenium->selenium-stealth) (1.2.0)\n",
      "Requirement already satisfied: PySocks!=1.5.7,<2.0,>=1.5.6 in c:\\users\\amna adnan\\anaconda3\\lib\\site-packages (from urllib3[socks]~=1.26->selenium->selenium-stealth) (1.7.1)\n",
      "Requirement already satisfied: h11<1,>=0.9.0 in c:\\users\\amna adnan\\anaconda3\\lib\\site-packages (from wsproto>=0.14->trio-websocket~=0.9->selenium->selenium-stealth) (0.13.0)\n",
      "Requirement already satisfied: selenium in c:\\users\\amna adnan\\anaconda3\\lib\\site-packages (4.4.3)\n",
      "Requirement already satisfied: trio~=0.17 in c:\\users\\amna adnan\\anaconda3\\lib\\site-packages (from selenium) (0.21.0)\n",
      "Requirement already satisfied: trio-websocket~=0.9 in c:\\users\\amna adnan\\anaconda3\\lib\\site-packages (from selenium) (0.9.2)\n",
      "Requirement already satisfied: urllib3[socks]~=1.26 in c:\\users\\amna adnan\\anaconda3\\lib\\site-packages (from selenium) (1.26.9)\n",
      "Requirement already satisfied: certifi>=2021.10.8 in c:\\users\\amna adnan\\anaconda3\\lib\\site-packages (from selenium) (2021.10.8)\n",
      "Requirement already satisfied: cffi>=1.14 in c:\\users\\amna adnan\\anaconda3\\lib\\site-packages (from trio~=0.17->selenium) (1.15.0)\n",
      "Requirement already satisfied: async-generator>=1.9 in c:\\users\\amna adnan\\anaconda3\\lib\\site-packages (from trio~=0.17->selenium) (1.10)\n",
      "Requirement already satisfied: sniffio in c:\\users\\amna adnan\\anaconda3\\lib\\site-packages (from trio~=0.17->selenium) (1.2.0)\n",
      "Requirement already satisfied: attrs>=19.2.0 in c:\\users\\amna adnan\\anaconda3\\lib\\site-packages (from trio~=0.17->selenium) (21.4.0)\n",
      "Requirement already satisfied: sortedcontainers in c:\\users\\amna adnan\\anaconda3\\lib\\site-packages (from trio~=0.17->selenium) (2.4.0)\n",
      "Requirement already satisfied: idna in c:\\users\\amna adnan\\anaconda3\\lib\\site-packages (from trio~=0.17->selenium) (3.3)\n",
      "Requirement already satisfied: outcome in c:\\users\\amna adnan\\anaconda3\\lib\\site-packages (from trio~=0.17->selenium) (1.2.0)\n",
      "Requirement already satisfied: pycparser in c:\\users\\amna adnan\\anaconda3\\lib\\site-packages (from cffi>=1.14->trio~=0.17->selenium) (2.21)\n",
      "Requirement already satisfied: wsproto>=0.14 in c:\\users\\amna adnan\\anaconda3\\lib\\site-packages (from trio-websocket~=0.9->selenium) (1.2.0)\n",
      "Requirement already satisfied: PySocks!=1.5.7,<2.0,>=1.5.6 in c:\\users\\amna adnan\\anaconda3\\lib\\site-packages (from urllib3[socks]~=1.26->selenium) (1.7.1)\n",
      "Requirement already satisfied: h11<1,>=0.9.0 in c:\\users\\amna adnan\\anaconda3\\lib\\site-packages (from wsproto>=0.14->trio-websocket~=0.9->selenium) (0.13.0)\n",
      "Requirement already satisfied: webdriver-manager in c:\\users\\amna adnan\\anaconda3\\lib\\site-packages (3.8.3)\n",
      "Requirement already satisfied: requests in c:\\users\\amna adnan\\anaconda3\\lib\\site-packages (from webdriver-manager) (2.27.1)\n",
      "Requirement already satisfied: tqdm in c:\\users\\amna adnan\\anaconda3\\lib\\site-packages (from webdriver-manager) (4.64.0)\n",
      "Requirement already satisfied: python-dotenv in c:\\users\\amna adnan\\anaconda3\\lib\\site-packages (from webdriver-manager) (0.21.0)\n",
      "Requirement already satisfied: certifi>=2017.4.17 in c:\\users\\amna adnan\\anaconda3\\lib\\site-packages (from requests->webdriver-manager) (2021.10.8)\n",
      "Requirement already satisfied: charset-normalizer~=2.0.0 in c:\\users\\amna adnan\\anaconda3\\lib\\site-packages (from requests->webdriver-manager) (2.0.4)\n",
      "Requirement already satisfied: urllib3<1.27,>=1.21.1 in c:\\users\\amna adnan\\anaconda3\\lib\\site-packages (from requests->webdriver-manager) (1.26.9)\n",
      "Requirement already satisfied: idna<4,>=2.5 in c:\\users\\amna adnan\\anaconda3\\lib\\site-packages (from requests->webdriver-manager) (3.3)\n",
      "Requirement already satisfied: colorama in c:\\users\\amna adnan\\anaconda3\\lib\\site-packages (from tqdm->webdriver-manager) (0.4.4)\n"
     ]
    }
   ],
   "source": [
    "!pip install selenium-stealth \n",
    "!pip install selenium \n",
    "!pip install webdriver-manager"
   ]
  },
  {
   "cell_type": "code",
   "execution_count": 2,
   "id": "54ccab33",
   "metadata": {},
   "outputs": [],
   "source": [
    "import pandas as pd\n",
    "import requests\n",
    "from selenium import webdriver\n",
    "import json\n",
    "from selenium.webdriver.chrome.service import Service"
   ]
  },
  {
   "cell_type": "code",
   "execution_count": 7,
   "id": "9e28ceb2",
   "metadata": {},
   "outputs": [
    {
     "name": "stdout",
     "output_type": "stream",
     "text": [
      "/home/amna/code/TrumpTheDjoker/Nole\r\n"
     ]
    }
   ],
   "source": [
    "!pwd"
   ]
  },
  {
   "cell_type": "code",
   "execution_count": 72,
   "id": "854371b8",
   "metadata": {},
   "outputs": [
    {
     "name": "stderr",
     "output_type": "stream",
     "text": [
      "C:\\Users\\Amna Adnan\\AppData\\Local\\Temp\\ipykernel_25272\\3634333721.py:11: DeprecationWarning: executable_path has been deprecated, please pass in a Service object\n",
      "  driver = webdriver.Chrome(options=options, executable_path=ChromeDriverManager().install())\n"
     ]
    }
   ],
   "source": [
    "from selenium import webdriver\n",
    "from webdriver_manager.chrome import ChromeDriverManager\n",
    "\n",
    "from selenium import webdriver\n",
    "from selenium_stealth import stealth\n",
    "\n",
    "options = webdriver.ChromeOptions()\n",
    "options.add_argument(\"start-maximized\")\n",
    "options.add_experimental_option(\"excludeSwitches\", [\"enable-automation\"])\n",
    "options.add_experimental_option('useAutomationExtension', False)\n",
    "driver = webdriver.Chrome(options=options, executable_path=ChromeDriverManager().install())\n",
    "\n",
    "stealth(driver,\n",
    "        languages=[\"en-US\", \"en\"],\n",
    "        vendor=\"Google Inc.\",\n",
    "        platform=\"Win32\",\n",
    "        webgl_vendor=\"Intel Inc.\",\n",
    "        renderer=\"Intel Iris OpenGL Engine\",\n",
    "        fix_hairline=True,\n",
    "        )"
   ]
  },
  {
   "cell_type": "markdown",
   "id": "68e9e12b",
   "metadata": {},
   "source": [
    "## Djokovic opponents player ID's ##"
   ]
  },
  {
   "cell_type": "code",
   "execution_count": 73,
   "id": "4b3aa904",
   "metadata": {},
   "outputs": [],
   "source": [
    "driver.get(\"https://www.atptour.com/-/ajax/HawkEyeStats/Opponents/D643\")"
   ]
  },
  {
   "cell_type": "code",
   "execution_count": 74,
   "id": "0af46e3f",
   "metadata": {},
   "outputs": [],
   "source": [
    "json_player = json.loads(driver.find_element(by=\"xpath\", value='/html/body/pre').text)"
   ]
  },
  {
   "cell_type": "markdown",
   "id": "73b001e8",
   "metadata": {},
   "source": [
    "### List of Player id's ###"
   ]
  },
  {
   "cell_type": "code",
   "execution_count": 75,
   "id": "485f5a47",
   "metadata": {},
   "outputs": [],
   "source": [
    "lst=[]\n",
    "for x in range(100):\n",
    "    lst.append(json_player[x]['OpponentId'])\n",
    "    \n",
    "player_id_lst=lst[3:100]"
   ]
  },
  {
   "cell_type": "markdown",
   "id": "77c91f1b",
   "metadata": {},
   "source": [
    "### Dict of Player id's with correspondence position in the list ###"
   ]
  },
  {
   "cell_type": "code",
   "execution_count": 76,
   "id": "92efdc6b",
   "metadata": {},
   "outputs": [],
   "source": [
    "player_id_lst_dict = {player_id_lst[i]: i for i in range(len(player_id_lst))}"
   ]
  },
  {
   "cell_type": "markdown",
   "id": "8757da7b",
   "metadata": {},
   "source": [
    "## NAMES & HEIGHTS OF ALL OPPONENTS ##"
   ]
  },
  {
   "cell_type": "code",
   "execution_count": 13,
   "id": "d546b108",
   "metadata": {},
   "outputs": [],
   "source": [
    "names = ['Novak Djokovic','Daniil Medvedev','Alexander Zverev','Stefanos Tsitsipas','Andrey Rublev','Rafael Nadal',\n",
    "         'Matteo Berrettini','Casper Ruud','Hubert Hurkacz','Felix Auger-Aliassime','Jannik Sinner','Cameron Norrie',\n",
    "        'Diego Schwartzman','Denis Shapovalov','Dominic Thiem','Roger Federer','Aslan Karatsev','Cristian Garin',\n",
    "        'Roberto Bautista Agut','Pablo Carreno Busta','Gael Monfils','Nikoloz Basilashvili','Taylor Fritz','John Isner',\n",
    "        'Daniel Evans','Reilly Opelka','Lorenzo Sonego','Grigor Dimitrov','Karen Khachanov','Marin Cillic','Lloyd Harris',\n",
    "        'Carlos Alcaraz','Dusan Lajovic','Alex De Minaur','Ugo Humbert','Alexander Bublik','Fabio Fognini','Frances Tiafoe',\n",
    "        'David Goffin','Marton Fucsovics','Sebastian Korda','Filip Krajinovic','Tommy Paul','Federico Delbonis','Albert Ramos-Vinolas',\n",
    "        'Ilya Ivashka','Benoit Paire','Kei Nishikori','James Duckworth','Alejandro Davidovich Fokina','Jan-Lennard Struff',\n",
    "        'Laslo Djere','Soonwoo Kwon','Dominik Koepfer','Mackenzie McDonald','Jenson Brooksby','Botic Van De Zandschulp',\n",
    "        'Arthur Rinderknech','Lorenzo Musetti','Pedro Martinez','Alexei Popyrin','Brandon Nakashima','Gianluca Mager',\n",
    "        'Benjamin Bonzi','Tallon Griekspoor','Marcos Giron','Hugo Gaston','Miomir Kecmanovic','Federico Coria','Milos Raonic',\n",
    "        'Roberto Carballes Baena','Adrian Mannarino','John Millman','Borna Coric','Guido Pella','Facunda Bagnis','Jordan Thompson',\n",
    "        'Stefano Travaglia','Kevin Anderson','Yoshihito Nishioka','Stan Wawrinka','Jiri Vesely','Jaume Munar','Steve Johnson',\n",
    "        'Peter Gojowczyk','Richard Gasquet','Pablo Andujar','Corentin Moutet','Juan Manuel Cerundolo','Nick Kyrgios',\n",
    "        'Mikael Ymer','Emil Ruusuvuori','Tennys Sandgren','Thiago Monteiro','Pablo Cuevas','Marco Cecchinato','Henri Laaksonen',\n",
    "        'Daniel Altmaier','Carlos Taberner','Andreas Seppi']"
   ]
  },
  {
   "cell_type": "code",
   "execution_count": 14,
   "id": "32befc6c",
   "metadata": {},
   "outputs": [],
   "source": [
    "heights = [188,198,198,193,188,185,196,183,196,193,188,188,170,185,185,185,185,185,183,188,193,185,196,208,175,211,191,191,198,\n",
    "            198,193,185,183,183,188,196,178,188,180,188,196,185,185,193,188,193,196,178,183,183,193,188,180,180,178,193,191,\n",
    "            196,185,185,196,185,188,183,188,180,173,183,180,196,183,180,183,188,183,183,183,185,203,170,183,198,183,188,188,\n",
    "            183,180,175,183,193,183,188,188,183,180,185,185,188,183,191]"
   ]
  },
  {
   "cell_type": "code",
   "execution_count": 16,
   "id": "df1e6dac",
   "metadata": {},
   "outputs": [],
   "source": [
    "res = dict(zip(names, heights))"
   ]
  },
  {
   "cell_type": "markdown",
   "id": "107affe0",
   "metadata": {},
   "source": [
    "## YEAR 2021 ##"
   ]
  },
  {
   "cell_type": "markdown",
   "id": "666aa021",
   "metadata": {},
   "source": [
    "### COURT STATS ###"
   ]
  },
  {
   "cell_type": "code",
   "execution_count": 89,
   "id": "f0d58fa8",
   "metadata": {},
   "outputs": [],
   "source": [
    "player_lst_21 = []\n",
    "for id in player_id_lst:\n",
    "    driver.get(f'https://www.atptour.com/-/ajax/hawkeyestats/serve/2021/0/D643/all/1/all/{id}/all')\n",
    "    json_player_21=json.loads(driver.find_element(by=\"xpath\", value='/html/body/pre').text)\n",
    "    player_lst_21.append(json_player_21)"
   ]
  },
  {
   "cell_type": "markdown",
   "id": "16b228b2",
   "metadata": {},
   "source": [
    "### filtering none values 2021 ###"
   ]
  },
  {
   "cell_type": "code",
   "execution_count": 90,
   "id": "3a71ccf5",
   "metadata": {},
   "outputs": [
    {
     "data": {
      "text/plain": [
       "97"
      ]
     },
     "execution_count": 90,
     "metadata": {},
     "output_type": "execute_result"
    }
   ],
   "source": [
    "filtered_lst_21=['None' if v is None else v for v in player_lst_21]\n",
    "len(filtered_lst_21)"
   ]
  },
  {
   "cell_type": "markdown",
   "id": "11935e4e",
   "metadata": {},
   "source": [
    "## Replacing none values with index (2021) ##"
   ]
  },
  {
   "cell_type": "code",
   "execution_count": 116,
   "id": "2e1762ce",
   "metadata": {},
   "outputs": [],
   "source": [
    "d_21={}\n",
    "for i,x in enumerate(filtered_lst_21):\n",
    "    if x !='None':\n",
    "        d_21[i]=x"
   ]
  },
  {
   "cell_type": "markdown",
   "id": "78b616fb",
   "metadata": {},
   "source": [
    "## DataFrame for 2021 ##"
   ]
  },
  {
   "cell_type": "markdown",
   "id": "087e89e8",
   "metadata": {},
   "source": [
    "## T section of adcourt ##"
   ]
  },
  {
   "cell_type": "code",
   "execution_count": 164,
   "id": "6b24bf01",
   "metadata": {},
   "outputs": [],
   "source": [
    "x_T_21=[]\n",
    "for key, value in d_21.items():\n",
    "        x_T_21.append(value['T']['AdCourt']['Summary'])\n",
    "df_T_21 = pd.DataFrame.from_dict(x_T_21).drop(columns=['ServesAttempted', 'ServesMade','ServesMadePercentage',\n",
    "       'ServesWonPercentage', 'Aces', 'Unreturned',\n",
    "       'AverageSpin'])"
   ]
  },
  {
   "cell_type": "code",
   "execution_count": 165,
   "id": "86955c1b",
   "metadata": {},
   "outputs": [],
   "source": [
    "df_T_21.rename(columns={'ServesWon':'T_ad_ServesWon',\n",
    "                                'Returned':'T_ad_Returned',\n",
    "                                'AverageSpeed':'T_ad_AvgSpeed'},inplace=True)"
   ]
  },
  {
   "cell_type": "markdown",
   "id": "d838d50d",
   "metadata": {},
   "source": [
    "## Mid sec of Adcourt ##"
   ]
  },
  {
   "cell_type": "code",
   "execution_count": null,
   "id": "d9810090",
   "metadata": {},
   "outputs": [],
   "source": [
    "x_21=[]\n",
    "for key, value in d_21.items():\n",
    "        x_21.append(value['Mid']['AdCourt']['Summary'])\n",
    "df_M_21 = pd.DataFrame.from_dict(x_21).drop(columns=['ServesAttempted', 'ServesMade','ServesMadePercentage',\n",
    "       'ServesWonPercentage', 'Aces', 'Unreturned',\n",
    "       'AverageSpin'])\n",
    "df_M_21"
   ]
  },
  {
   "cell_type": "code",
   "execution_count": null,
   "id": "0b5f1b97",
   "metadata": {},
   "outputs": [],
   "source": [
    "df_M_21.rename(columns={'ServesWon':'M_ad_ServesWon',\n",
    "                                'Returned':'M_ad_Returned',\n",
    "                                'AverageSpeed':'M_ad_AvgSpeed'},inplace=True)"
   ]
  },
  {
   "cell_type": "markdown",
   "id": "b338580d",
   "metadata": {},
   "source": [
    "## YEAR 2020 ##"
   ]
  },
  {
   "cell_type": "markdown",
   "id": "36604fbf",
   "metadata": {},
   "source": [
    "### COURT STATS ###"
   ]
  },
  {
   "cell_type": "code",
   "execution_count": 92,
   "id": "8fc44ef9",
   "metadata": {},
   "outputs": [],
   "source": [
    "player_lst_20 = []\n",
    "for id in player_id_lst:\n",
    "    driver.get(f'https://www.atptour.com/-/ajax/hawkeyestats/serve/2020/0/D643/all/1/all/{id}/all')\n",
    "    json_player_20=json.loads(driver.find_element(by=\"xpath\", value='/html/body/pre').text)\n",
    "    player_lst_20.append(json_player_20)"
   ]
  },
  {
   "cell_type": "markdown",
   "id": "c101a1f9",
   "metadata": {},
   "source": [
    "### filtering none values 2020 ###"
   ]
  },
  {
   "cell_type": "code",
   "execution_count": 93,
   "id": "93d7892a",
   "metadata": {},
   "outputs": [
    {
     "data": {
      "text/plain": [
       "97"
      ]
     },
     "execution_count": 93,
     "metadata": {},
     "output_type": "execute_result"
    }
   ],
   "source": [
    "filtered_lst_20=['None' if v is None else v for v in player_lst_20]\n",
    "len(filtered_lst_20)"
   ]
  },
  {
   "cell_type": "markdown",
   "id": "48aefaf4",
   "metadata": {},
   "source": [
    "## Replacing none values with index (2020) ##"
   ]
  },
  {
   "cell_type": "code",
   "execution_count": 94,
   "id": "45d39569",
   "metadata": {},
   "outputs": [],
   "source": [
    "d_20={}\n",
    "for i,x in enumerate(filtered_lst_21):\n",
    "    if x !='None':\n",
    "        d_21[i]=x"
   ]
  },
  {
   "cell_type": "code",
   "execution_count": null,
   "id": "16dbf451",
   "metadata": {},
   "outputs": [],
   "source": [
    "x_20=[]\n",
    "for key, value in d_21.items():\n",
    "        x_20.append(value['T']['AdCourt']['Summary'])\n",
    "df_20 = pd.DataFrame.from_dict(x_20).drop(columns=['ServesAttempted', 'ServesMade','ServesMadePercentage',\n",
    "       'ServesWonPercentage', 'Aces', 'Unreturned',\n",
    "       'AverageSpin'])"
   ]
  },
  {
   "cell_type": "markdown",
   "id": "ddc8110a",
   "metadata": {},
   "source": [
    "## YEAR 2019 ##"
   ]
  },
  {
   "cell_type": "markdown",
   "id": "8fde3c9f",
   "metadata": {},
   "source": [
    "### COURT STATS ###"
   ]
  },
  {
   "cell_type": "code",
   "execution_count": 95,
   "id": "eeed44b9",
   "metadata": {},
   "outputs": [],
   "source": [
    "player_lst_19 = []\n",
    "for id in player_id_lst:\n",
    "    driver.get(f'https://www.atptour.com/-/ajax/hawkeyestats/serve/2019/0/D643/all/1/all/{id}/all')\n",
    "    json_player_19=json.loads(driver.find_element(by=\"xpath\", value='/html/body/pre').text)\n",
    "    player_lst_19.append(json_player_19)"
   ]
  },
  {
   "cell_type": "markdown",
   "id": "e9ddb4c5",
   "metadata": {},
   "source": [
    "### filtering none values 2019 ###"
   ]
  },
  {
   "cell_type": "code",
   "execution_count": 98,
   "id": "465a9d82",
   "metadata": {},
   "outputs": [
    {
     "data": {
      "text/plain": [
       "97"
      ]
     },
     "execution_count": 98,
     "metadata": {},
     "output_type": "execute_result"
    }
   ],
   "source": [
    "filtered_lst_19=['None' if v is None else v for v in player_lst_19]\n",
    "len(filtered_lst_19)"
   ]
  },
  {
   "cell_type": "markdown",
   "id": "0ded22cd",
   "metadata": {},
   "source": [
    "## Replacing none values with index (2019) ##"
   ]
  },
  {
   "cell_type": "code",
   "execution_count": 42,
   "id": "0f49e435",
   "metadata": {},
   "outputs": [],
   "source": [
    "lst_19=[]\n",
    "for i,x in enumerate(filtered_lst_19):\n",
    "    if x !='None':\n",
    "           lst_19.append((i,x))"
   ]
  },
  {
   "cell_type": "markdown",
   "id": "6fadb34a",
   "metadata": {},
   "source": [
    "## YEAR 2018 ##"
   ]
  },
  {
   "cell_type": "markdown",
   "id": "f802306b",
   "metadata": {},
   "source": [
    "### COURT STATS ###"
   ]
  },
  {
   "cell_type": "code",
   "execution_count": 97,
   "id": "2a4d6bde",
   "metadata": {},
   "outputs": [],
   "source": [
    "player_lst_18 = []\n",
    "for id in player_id_lst:\n",
    "    driver.get(f'https://www.atptour.com/-/ajax/hawkeyestats/serve/2018/0/D643/all/1/all/{id}/all')\n",
    "    json_player_18=json.loads(driver.find_element(by=\"xpath\", value='/html/body/pre').text)\n",
    "    player_lst_18.append(json_player_18)"
   ]
  },
  {
   "cell_type": "markdown",
   "id": "6ddb837d",
   "metadata": {},
   "source": [
    "### filtering none values 2018 ###"
   ]
  },
  {
   "cell_type": "code",
   "execution_count": 102,
   "id": "d15e1731",
   "metadata": {},
   "outputs": [
    {
     "data": {
      "text/plain": [
       "97"
      ]
     },
     "execution_count": 102,
     "metadata": {},
     "output_type": "execute_result"
    }
   ],
   "source": [
    "filtered_lst_18=['None' if v is None else v for v in player_lst_18]\n",
    "len(filtered_lst_18)"
   ]
  },
  {
   "cell_type": "markdown",
   "id": "1fea0a5b",
   "metadata": {},
   "source": [
    "## Replacing none values with index (2018) ##"
   ]
  },
  {
   "cell_type": "code",
   "execution_count": 103,
   "id": "84b96145",
   "metadata": {},
   "outputs": [],
   "source": [
    "lst_18=[]\n",
    "for i,x in enumerate(filtered_adlst_18):\n",
    "    if x !='None':\n",
    "           lst_18.append((i,x))"
   ]
  },
  {
   "cell_type": "markdown",
   "id": "a1d4eb26",
   "metadata": {},
   "source": [
    "## YEAR 2017 ##"
   ]
  },
  {
   "cell_type": "markdown",
   "id": "95be8dc4",
   "metadata": {},
   "source": [
    "### COURT STATS ###"
   ]
  },
  {
   "cell_type": "code",
   "execution_count": 104,
   "id": "b7b7617d",
   "metadata": {},
   "outputs": [],
   "source": [
    "player_lst_17 = []\n",
    "for id in player_id_lst:\n",
    "    driver.get(f'https://www.atptour.com/-/ajax/hawkeyestats/serve/2017/0/D643/all/1/all/{id}/all')\n",
    "    json_player_17=json.loads(driver.find_element(by=\"xpath\", value='/html/body/pre').text)\n",
    "    player_lst_17.append(json_player_17)"
   ]
  },
  {
   "cell_type": "markdown",
   "id": "b5b09e8e",
   "metadata": {},
   "source": [
    "### filtering none values 2017 ###"
   ]
  },
  {
   "cell_type": "code",
   "execution_count": 85,
   "id": "c784ee07",
   "metadata": {},
   "outputs": [
    {
     "data": {
      "text/plain": [
       "97"
      ]
     },
     "execution_count": 85,
     "metadata": {},
     "output_type": "execute_result"
    }
   ],
   "source": [
    "filtered_lst_17=['None' if v is None else v for v in player_lst_17]\n",
    "len(filtered_lst_17)"
   ]
  },
  {
   "cell_type": "markdown",
   "id": "5163575b",
   "metadata": {},
   "source": [
    "## Replacing none values with index (2017) ##"
   ]
  },
  {
   "cell_type": "code",
   "execution_count": 54,
   "id": "97c8a4cd",
   "metadata": {},
   "outputs": [],
   "source": [
    "lst_17=[]\n",
    "for i,x in enumerate(filtered_lst_17):\n",
    "    if x !='None':\n",
    "           lst_17.append((i,x))"
   ]
  },
  {
   "cell_type": "markdown",
   "id": "6edee960",
   "metadata": {},
   "source": [
    "## YEAR 2016 ##"
   ]
  },
  {
   "cell_type": "markdown",
   "id": "9e616677",
   "metadata": {},
   "source": [
    "### AD COURT STATS ###"
   ]
  },
  {
   "cell_type": "code",
   "execution_count": 58,
   "id": "a23540f8",
   "metadata": {},
   "outputs": [],
   "source": [
    "player_adlst_16 = []\n",
    "for id in player_id_lst:\n",
    "    driver.get(f'https://www.atptour.com/-/ajax/hawkeyestats/serve/2016/0/D643/adcourt/1/all/{id}/all')\n",
    "    json_player_ad16=json.loads(driver.find_element(by=\"xpath\", value='/html/body/pre').text)\n",
    "    player_adlst_16.append(json_player_ad16)"
   ]
  },
  {
   "cell_type": "markdown",
   "id": "015b227b",
   "metadata": {},
   "source": [
    "### filtering none values ad16 ###"
   ]
  },
  {
   "cell_type": "code",
   "execution_count": 87,
   "id": "588a10c0",
   "metadata": {},
   "outputs": [
    {
     "data": {
      "text/plain": [
       "97"
      ]
     },
     "execution_count": 87,
     "metadata": {},
     "output_type": "execute_result"
    }
   ],
   "source": [
    "filtered_adlst_16=['None' if v is None else v for v in player_adlst_16]\n",
    "len(filtered_adlst_16)"
   ]
  },
  {
   "cell_type": "markdown",
   "id": "e55f3f65",
   "metadata": {},
   "source": [
    "## Replacing none values with index ad16 ##"
   ]
  },
  {
   "cell_type": "code",
   "execution_count": 61,
   "id": "6412e9a1",
   "metadata": {},
   "outputs": [],
   "source": [
    "lst_ad_16=[]\n",
    "for i,x in enumerate(filtered_adlst_16):\n",
    "    if x !='None':\n",
    "           lst_ad_16.append((i,x))"
   ]
  },
  {
   "cell_type": "markdown",
   "id": "c6579711",
   "metadata": {},
   "source": [
    "### DEUCE COURT STATS ###"
   ]
  },
  {
   "cell_type": "code",
   "execution_count": 62,
   "id": "a3f2e69b",
   "metadata": {},
   "outputs": [
    {
     "ename": "NoSuchWindowException",
     "evalue": "Message: no such window: window was already closed\n  (Session info: chrome=105.0.5195.102)\nStacktrace:\nBacktrace:\n\tOrdinal0 [0x00CADF13+2219795]\n\tOrdinal0 [0x00C42841+1779777]\n\tOrdinal0 [0x00B5423D+803389]\n\tOrdinal0 [0x00B3D646+710214]\n\tOrdinal0 [0x00B41122+725282]\n\tOrdinal0 [0x00B45699+743065]\n\tOrdinal0 [0x00B55610+808464]\n\tOrdinal0 [0x00BAE93A+1173818]\n\tOrdinal0 [0x00B9E616+1107478]\n\tOrdinal0 [0x00B77F89+950153]\n\tOrdinal0 [0x00B78F56+954198]\n\tGetHandleVerifier [0x00FA2CB2+3040210]\n\tGetHandleVerifier [0x00F92BB4+2974420]\n\tGetHandleVerifier [0x00D46A0A+565546]\n\tGetHandleVerifier [0x00D45680+560544]\n\tOrdinal0 [0x00C49A5C+1808988]\n\tOrdinal0 [0x00C4E3A8+1827752]\n\tOrdinal0 [0x00C4E495+1827989]\n\tOrdinal0 [0x00C580A4+1867940]\n\tBaseThreadInitThunk [0x76196739+25]\n\tRtlGetFullPathName_UEx [0x77B990AF+1215]\n\tRtlGetFullPathName_UEx [0x77B9907D+1165]\n",
     "output_type": "error",
     "traceback": [
      "\u001b[1;31m---------------------------------------------------------------------------\u001b[0m",
      "\u001b[1;31mNoSuchWindowException\u001b[0m                     Traceback (most recent call last)",
      "Input \u001b[1;32mIn [62]\u001b[0m, in \u001b[0;36m<cell line: 2>\u001b[1;34m()\u001b[0m\n\u001b[0;32m      1\u001b[0m player_dlst_16 \u001b[38;5;241m=\u001b[39m []\n\u001b[0;32m      2\u001b[0m \u001b[38;5;28;01mfor\u001b[39;00m \u001b[38;5;28mid\u001b[39m \u001b[38;5;129;01min\u001b[39;00m player_id_lst:\n\u001b[1;32m----> 3\u001b[0m     \u001b[43mdriver\u001b[49m\u001b[38;5;241;43m.\u001b[39;49m\u001b[43mget\u001b[49m\u001b[43m(\u001b[49m\u001b[38;5;124;43mf\u001b[39;49m\u001b[38;5;124;43m'\u001b[39;49m\u001b[38;5;124;43mhttps://www.atptour.com/-/ajax/hawkeyestats/serve/2016/0/D643/deucecourt/1/all/\u001b[39;49m\u001b[38;5;132;43;01m{\u001b[39;49;00m\u001b[38;5;28;43mid\u001b[39;49m\u001b[38;5;132;43;01m}\u001b[39;49;00m\u001b[38;5;124;43m/all\u001b[39;49m\u001b[38;5;124;43m'\u001b[39;49m\u001b[43m)\u001b[49m\n\u001b[0;32m      4\u001b[0m     json_player_d16\u001b[38;5;241m=\u001b[39mjson\u001b[38;5;241m.\u001b[39mloads(driver\u001b[38;5;241m.\u001b[39mfind_element(by\u001b[38;5;241m=\u001b[39m\u001b[38;5;124m\"\u001b[39m\u001b[38;5;124mxpath\u001b[39m\u001b[38;5;124m\"\u001b[39m, value\u001b[38;5;241m=\u001b[39m\u001b[38;5;124m'\u001b[39m\u001b[38;5;124m/html/body/pre\u001b[39m\u001b[38;5;124m'\u001b[39m)\u001b[38;5;241m.\u001b[39mtext)\n\u001b[0;32m      5\u001b[0m     player_dlst_16\u001b[38;5;241m.\u001b[39mappend(json_player_d16)\n",
      "File \u001b[1;32m~\\anaconda3\\lib\\site-packages\\selenium\\webdriver\\remote\\webdriver.py:440\u001b[0m, in \u001b[0;36mWebDriver.get\u001b[1;34m(self, url)\u001b[0m\n\u001b[0;32m    436\u001b[0m \u001b[38;5;28;01mdef\u001b[39;00m \u001b[38;5;21mget\u001b[39m(\u001b[38;5;28mself\u001b[39m, url: \u001b[38;5;28mstr\u001b[39m) \u001b[38;5;241m-\u001b[39m\u001b[38;5;241m>\u001b[39m \u001b[38;5;28;01mNone\u001b[39;00m:\n\u001b[0;32m    437\u001b[0m     \u001b[38;5;124;03m\"\"\"\u001b[39;00m\n\u001b[0;32m    438\u001b[0m \u001b[38;5;124;03m    Loads a web page in the current browser session.\u001b[39;00m\n\u001b[0;32m    439\u001b[0m \u001b[38;5;124;03m    \"\"\"\u001b[39;00m\n\u001b[1;32m--> 440\u001b[0m     \u001b[38;5;28;43mself\u001b[39;49m\u001b[38;5;241;43m.\u001b[39;49m\u001b[43mexecute\u001b[49m\u001b[43m(\u001b[49m\u001b[43mCommand\u001b[49m\u001b[38;5;241;43m.\u001b[39;49m\u001b[43mGET\u001b[49m\u001b[43m,\u001b[49m\u001b[43m \u001b[49m\u001b[43m{\u001b[49m\u001b[38;5;124;43m'\u001b[39;49m\u001b[38;5;124;43murl\u001b[39;49m\u001b[38;5;124;43m'\u001b[39;49m\u001b[43m:\u001b[49m\u001b[43m \u001b[49m\u001b[43murl\u001b[49m\u001b[43m}\u001b[49m\u001b[43m)\u001b[49m\n",
      "File \u001b[1;32m~\\anaconda3\\lib\\site-packages\\selenium\\webdriver\\remote\\webdriver.py:428\u001b[0m, in \u001b[0;36mWebDriver.execute\u001b[1;34m(self, driver_command, params)\u001b[0m\n\u001b[0;32m    426\u001b[0m response \u001b[38;5;241m=\u001b[39m \u001b[38;5;28mself\u001b[39m\u001b[38;5;241m.\u001b[39mcommand_executor\u001b[38;5;241m.\u001b[39mexecute(driver_command, params)\n\u001b[0;32m    427\u001b[0m \u001b[38;5;28;01mif\u001b[39;00m response:\n\u001b[1;32m--> 428\u001b[0m     \u001b[38;5;28;43mself\u001b[39;49m\u001b[38;5;241;43m.\u001b[39;49m\u001b[43merror_handler\u001b[49m\u001b[38;5;241;43m.\u001b[39;49m\u001b[43mcheck_response\u001b[49m\u001b[43m(\u001b[49m\u001b[43mresponse\u001b[49m\u001b[43m)\u001b[49m\n\u001b[0;32m    429\u001b[0m     response[\u001b[38;5;124m'\u001b[39m\u001b[38;5;124mvalue\u001b[39m\u001b[38;5;124m'\u001b[39m] \u001b[38;5;241m=\u001b[39m \u001b[38;5;28mself\u001b[39m\u001b[38;5;241m.\u001b[39m_unwrap_value(\n\u001b[0;32m    430\u001b[0m         response\u001b[38;5;241m.\u001b[39mget(\u001b[38;5;124m'\u001b[39m\u001b[38;5;124mvalue\u001b[39m\u001b[38;5;124m'\u001b[39m, \u001b[38;5;28;01mNone\u001b[39;00m))\n\u001b[0;32m    431\u001b[0m     \u001b[38;5;28;01mreturn\u001b[39;00m response\n",
      "File \u001b[1;32m~\\anaconda3\\lib\\site-packages\\selenium\\webdriver\\remote\\errorhandler.py:243\u001b[0m, in \u001b[0;36mErrorHandler.check_response\u001b[1;34m(self, response)\u001b[0m\n\u001b[0;32m    241\u001b[0m         alert_text \u001b[38;5;241m=\u001b[39m value[\u001b[38;5;124m'\u001b[39m\u001b[38;5;124malert\u001b[39m\u001b[38;5;124m'\u001b[39m]\u001b[38;5;241m.\u001b[39mget(\u001b[38;5;124m'\u001b[39m\u001b[38;5;124mtext\u001b[39m\u001b[38;5;124m'\u001b[39m)\n\u001b[0;32m    242\u001b[0m     \u001b[38;5;28;01mraise\u001b[39;00m exception_class(message, screen, stacktrace, alert_text)  \u001b[38;5;66;03m# type: ignore[call-arg]  # mypy is not smart enough here\u001b[39;00m\n\u001b[1;32m--> 243\u001b[0m \u001b[38;5;28;01mraise\u001b[39;00m exception_class(message, screen, stacktrace)\n",
      "\u001b[1;31mNoSuchWindowException\u001b[0m: Message: no such window: window was already closed\n  (Session info: chrome=105.0.5195.102)\nStacktrace:\nBacktrace:\n\tOrdinal0 [0x00CADF13+2219795]\n\tOrdinal0 [0x00C42841+1779777]\n\tOrdinal0 [0x00B5423D+803389]\n\tOrdinal0 [0x00B3D646+710214]\n\tOrdinal0 [0x00B41122+725282]\n\tOrdinal0 [0x00B45699+743065]\n\tOrdinal0 [0x00B55610+808464]\n\tOrdinal0 [0x00BAE93A+1173818]\n\tOrdinal0 [0x00B9E616+1107478]\n\tOrdinal0 [0x00B77F89+950153]\n\tOrdinal0 [0x00B78F56+954198]\n\tGetHandleVerifier [0x00FA2CB2+3040210]\n\tGetHandleVerifier [0x00F92BB4+2974420]\n\tGetHandleVerifier [0x00D46A0A+565546]\n\tGetHandleVerifier [0x00D45680+560544]\n\tOrdinal0 [0x00C49A5C+1808988]\n\tOrdinal0 [0x00C4E3A8+1827752]\n\tOrdinal0 [0x00C4E495+1827989]\n\tOrdinal0 [0x00C580A4+1867940]\n\tBaseThreadInitThunk [0x76196739+25]\n\tRtlGetFullPathName_UEx [0x77B990AF+1215]\n\tRtlGetFullPathName_UEx [0x77B9907D+1165]\n"
     ]
    }
   ],
   "source": [
    "player_dlst_16 = []\n",
    "for id in player_id_lst:\n",
    "    driver.get(f'https://www.atptour.com/-/ajax/hawkeyestats/serve/2016/0/D643/deucecourt/1/all/{id}/all')\n",
    "    json_player_d16=json.loads(driver.find_element(by=\"xpath\", value='/html/body/pre').text)\n",
    "    player_dlst_16.append(json_player_d16)"
   ]
  },
  {
   "cell_type": "markdown",
   "id": "e0c45102",
   "metadata": {},
   "source": [
    "### filtering none values d16 ###"
   ]
  },
  {
   "cell_type": "code",
   "execution_count": 63,
   "id": "11878c88",
   "metadata": {},
   "outputs": [
    {
     "data": {
      "text/plain": [
       "[]"
      ]
     },
     "execution_count": 63,
     "metadata": {},
     "output_type": "execute_result"
    }
   ],
   "source": [
    "filtered_dlst_16=['None' if v is None else v for v in player_dlst_16]\n",
    "len(filtered_dlst_16)\n",
    "filtered_dlst_16"
   ]
  },
  {
   "cell_type": "markdown",
   "id": "53a7ec93",
   "metadata": {},
   "source": [
    "## Replacing none values with index d16 ##"
   ]
  },
  {
   "cell_type": "code",
   "execution_count": null,
   "id": "6e0e2fca",
   "metadata": {},
   "outputs": [],
   "source": [
    "lst_d_16=[]\n",
    "for i,x in enumerate(filtered_dlst_16):\n",
    "    if x !='None':\n",
    "           lst_d_16.append((i,x))"
   ]
  },
  {
   "cell_type": "markdown",
   "id": "44e0bcd6",
   "metadata": {},
   "source": [
    "## YEAR 2015 ##"
   ]
  },
  {
   "cell_type": "markdown",
   "id": "fc725b10",
   "metadata": {},
   "source": [
    "### AD COURT STATS ###"
   ]
  },
  {
   "cell_type": "code",
   "execution_count": 64,
   "id": "02488cc1",
   "metadata": {},
   "outputs": [
    {
     "ename": "NoSuchWindowException",
     "evalue": "Message: no such window: window was already closed\n  (Session info: chrome=105.0.5195.102)\nStacktrace:\nBacktrace:\n\tOrdinal0 [0x00CADF13+2219795]\n\tOrdinal0 [0x00C42841+1779777]\n\tOrdinal0 [0x00B5423D+803389]\n\tOrdinal0 [0x00B3D646+710214]\n\tOrdinal0 [0x00B41122+725282]\n\tOrdinal0 [0x00B45699+743065]\n\tOrdinal0 [0x00B55610+808464]\n\tOrdinal0 [0x00BAE93A+1173818]\n\tOrdinal0 [0x00B9E616+1107478]\n\tOrdinal0 [0x00B77F89+950153]\n\tOrdinal0 [0x00B78F56+954198]\n\tGetHandleVerifier [0x00FA2CB2+3040210]\n\tGetHandleVerifier [0x00F92BB4+2974420]\n\tGetHandleVerifier [0x00D46A0A+565546]\n\tGetHandleVerifier [0x00D45680+560544]\n\tOrdinal0 [0x00C49A5C+1808988]\n\tOrdinal0 [0x00C4E3A8+1827752]\n\tOrdinal0 [0x00C4E495+1827989]\n\tOrdinal0 [0x00C580A4+1867940]\n\tBaseThreadInitThunk [0x76196739+25]\n\tRtlGetFullPathName_UEx [0x77B990AF+1215]\n\tRtlGetFullPathName_UEx [0x77B9907D+1165]\n",
     "output_type": "error",
     "traceback": [
      "\u001b[1;31m---------------------------------------------------------------------------\u001b[0m",
      "\u001b[1;31mNoSuchWindowException\u001b[0m                     Traceback (most recent call last)",
      "Input \u001b[1;32mIn [64]\u001b[0m, in \u001b[0;36m<cell line: 2>\u001b[1;34m()\u001b[0m\n\u001b[0;32m      1\u001b[0m player_adlst_15 \u001b[38;5;241m=\u001b[39m []\n\u001b[0;32m      2\u001b[0m \u001b[38;5;28;01mfor\u001b[39;00m \u001b[38;5;28mid\u001b[39m \u001b[38;5;129;01min\u001b[39;00m player_id_lst:\n\u001b[1;32m----> 3\u001b[0m     \u001b[43mdriver\u001b[49m\u001b[38;5;241;43m.\u001b[39;49m\u001b[43mget\u001b[49m\u001b[43m(\u001b[49m\u001b[38;5;124;43mf\u001b[39;49m\u001b[38;5;124;43m'\u001b[39;49m\u001b[38;5;124;43mhttps://www.atptour.com/-/ajax/hawkeyestats/serve/2015/0/D643/adcourt/1/all/\u001b[39;49m\u001b[38;5;132;43;01m{\u001b[39;49;00m\u001b[38;5;28;43mid\u001b[39;49m\u001b[38;5;132;43;01m}\u001b[39;49;00m\u001b[38;5;124;43m/all\u001b[39;49m\u001b[38;5;124;43m'\u001b[39;49m\u001b[43m)\u001b[49m\n\u001b[0;32m      4\u001b[0m     json_player_ad15\u001b[38;5;241m=\u001b[39mjson\u001b[38;5;241m.\u001b[39mloads(driver\u001b[38;5;241m.\u001b[39mfind_element(by\u001b[38;5;241m=\u001b[39m\u001b[38;5;124m\"\u001b[39m\u001b[38;5;124mxpath\u001b[39m\u001b[38;5;124m\"\u001b[39m, value\u001b[38;5;241m=\u001b[39m\u001b[38;5;124m'\u001b[39m\u001b[38;5;124m/html/body/pre\u001b[39m\u001b[38;5;124m'\u001b[39m)\u001b[38;5;241m.\u001b[39mtext)\n\u001b[0;32m      5\u001b[0m     player_adlst_15\u001b[38;5;241m.\u001b[39mappend(json_player_ad15)\n",
      "File \u001b[1;32m~\\anaconda3\\lib\\site-packages\\selenium\\webdriver\\remote\\webdriver.py:440\u001b[0m, in \u001b[0;36mWebDriver.get\u001b[1;34m(self, url)\u001b[0m\n\u001b[0;32m    436\u001b[0m \u001b[38;5;28;01mdef\u001b[39;00m \u001b[38;5;21mget\u001b[39m(\u001b[38;5;28mself\u001b[39m, url: \u001b[38;5;28mstr\u001b[39m) \u001b[38;5;241m-\u001b[39m\u001b[38;5;241m>\u001b[39m \u001b[38;5;28;01mNone\u001b[39;00m:\n\u001b[0;32m    437\u001b[0m     \u001b[38;5;124;03m\"\"\"\u001b[39;00m\n\u001b[0;32m    438\u001b[0m \u001b[38;5;124;03m    Loads a web page in the current browser session.\u001b[39;00m\n\u001b[0;32m    439\u001b[0m \u001b[38;5;124;03m    \"\"\"\u001b[39;00m\n\u001b[1;32m--> 440\u001b[0m     \u001b[38;5;28;43mself\u001b[39;49m\u001b[38;5;241;43m.\u001b[39;49m\u001b[43mexecute\u001b[49m\u001b[43m(\u001b[49m\u001b[43mCommand\u001b[49m\u001b[38;5;241;43m.\u001b[39;49m\u001b[43mGET\u001b[49m\u001b[43m,\u001b[49m\u001b[43m \u001b[49m\u001b[43m{\u001b[49m\u001b[38;5;124;43m'\u001b[39;49m\u001b[38;5;124;43murl\u001b[39;49m\u001b[38;5;124;43m'\u001b[39;49m\u001b[43m:\u001b[49m\u001b[43m \u001b[49m\u001b[43murl\u001b[49m\u001b[43m}\u001b[49m\u001b[43m)\u001b[49m\n",
      "File \u001b[1;32m~\\anaconda3\\lib\\site-packages\\selenium\\webdriver\\remote\\webdriver.py:428\u001b[0m, in \u001b[0;36mWebDriver.execute\u001b[1;34m(self, driver_command, params)\u001b[0m\n\u001b[0;32m    426\u001b[0m response \u001b[38;5;241m=\u001b[39m \u001b[38;5;28mself\u001b[39m\u001b[38;5;241m.\u001b[39mcommand_executor\u001b[38;5;241m.\u001b[39mexecute(driver_command, params)\n\u001b[0;32m    427\u001b[0m \u001b[38;5;28;01mif\u001b[39;00m response:\n\u001b[1;32m--> 428\u001b[0m     \u001b[38;5;28;43mself\u001b[39;49m\u001b[38;5;241;43m.\u001b[39;49m\u001b[43merror_handler\u001b[49m\u001b[38;5;241;43m.\u001b[39;49m\u001b[43mcheck_response\u001b[49m\u001b[43m(\u001b[49m\u001b[43mresponse\u001b[49m\u001b[43m)\u001b[49m\n\u001b[0;32m    429\u001b[0m     response[\u001b[38;5;124m'\u001b[39m\u001b[38;5;124mvalue\u001b[39m\u001b[38;5;124m'\u001b[39m] \u001b[38;5;241m=\u001b[39m \u001b[38;5;28mself\u001b[39m\u001b[38;5;241m.\u001b[39m_unwrap_value(\n\u001b[0;32m    430\u001b[0m         response\u001b[38;5;241m.\u001b[39mget(\u001b[38;5;124m'\u001b[39m\u001b[38;5;124mvalue\u001b[39m\u001b[38;5;124m'\u001b[39m, \u001b[38;5;28;01mNone\u001b[39;00m))\n\u001b[0;32m    431\u001b[0m     \u001b[38;5;28;01mreturn\u001b[39;00m response\n",
      "File \u001b[1;32m~\\anaconda3\\lib\\site-packages\\selenium\\webdriver\\remote\\errorhandler.py:243\u001b[0m, in \u001b[0;36mErrorHandler.check_response\u001b[1;34m(self, response)\u001b[0m\n\u001b[0;32m    241\u001b[0m         alert_text \u001b[38;5;241m=\u001b[39m value[\u001b[38;5;124m'\u001b[39m\u001b[38;5;124malert\u001b[39m\u001b[38;5;124m'\u001b[39m]\u001b[38;5;241m.\u001b[39mget(\u001b[38;5;124m'\u001b[39m\u001b[38;5;124mtext\u001b[39m\u001b[38;5;124m'\u001b[39m)\n\u001b[0;32m    242\u001b[0m     \u001b[38;5;28;01mraise\u001b[39;00m exception_class(message, screen, stacktrace, alert_text)  \u001b[38;5;66;03m# type: ignore[call-arg]  # mypy is not smart enough here\u001b[39;00m\n\u001b[1;32m--> 243\u001b[0m \u001b[38;5;28;01mraise\u001b[39;00m exception_class(message, screen, stacktrace)\n",
      "\u001b[1;31mNoSuchWindowException\u001b[0m: Message: no such window: window was already closed\n  (Session info: chrome=105.0.5195.102)\nStacktrace:\nBacktrace:\n\tOrdinal0 [0x00CADF13+2219795]\n\tOrdinal0 [0x00C42841+1779777]\n\tOrdinal0 [0x00B5423D+803389]\n\tOrdinal0 [0x00B3D646+710214]\n\tOrdinal0 [0x00B41122+725282]\n\tOrdinal0 [0x00B45699+743065]\n\tOrdinal0 [0x00B55610+808464]\n\tOrdinal0 [0x00BAE93A+1173818]\n\tOrdinal0 [0x00B9E616+1107478]\n\tOrdinal0 [0x00B77F89+950153]\n\tOrdinal0 [0x00B78F56+954198]\n\tGetHandleVerifier [0x00FA2CB2+3040210]\n\tGetHandleVerifier [0x00F92BB4+2974420]\n\tGetHandleVerifier [0x00D46A0A+565546]\n\tGetHandleVerifier [0x00D45680+560544]\n\tOrdinal0 [0x00C49A5C+1808988]\n\tOrdinal0 [0x00C4E3A8+1827752]\n\tOrdinal0 [0x00C4E495+1827989]\n\tOrdinal0 [0x00C580A4+1867940]\n\tBaseThreadInitThunk [0x76196739+25]\n\tRtlGetFullPathName_UEx [0x77B990AF+1215]\n\tRtlGetFullPathName_UEx [0x77B9907D+1165]\n"
     ]
    }
   ],
   "source": [
    "player_adlst_15 = []\n",
    "for id in player_id_lst:\n",
    "    driver.get(f'https://www.atptour.com/-/ajax/hawkeyestats/serve/2015/0/D643/adcourt/1/all/{id}/all')\n",
    "    json_player_ad15=json.loads(driver.find_element(by=\"xpath\", value='/html/body/pre').text)\n",
    "    player_adlst_15.append(json_player_ad15)"
   ]
  },
  {
   "cell_type": "markdown",
   "id": "771c0e0e",
   "metadata": {},
   "source": [
    "### filtering none values ad15 ###"
   ]
  },
  {
   "cell_type": "code",
   "execution_count": null,
   "id": "4483fb63",
   "metadata": {},
   "outputs": [],
   "source": [
    "filtered_adlst_15=['None' if v is None else v for v in player_adlst_15]\n",
    "len(filtered_adlst_15)\n",
    "filtered_adlst_15"
   ]
  },
  {
   "cell_type": "markdown",
   "id": "ec148efd",
   "metadata": {},
   "source": [
    "## Replacing none values with index ad15 ##"
   ]
  },
  {
   "cell_type": "code",
   "execution_count": null,
   "id": "453216b8",
   "metadata": {},
   "outputs": [],
   "source": [
    "lst_ad_15=[]\n",
    "for i,x in enumerate(filtered_adlst_15):\n",
    "    if x !='None':\n",
    "           lst_ad_15.append((i,x))"
   ]
  },
  {
   "cell_type": "markdown",
   "id": "d45f4c6c",
   "metadata": {},
   "source": [
    "### DEUCE COURT STATS ###"
   ]
  },
  {
   "cell_type": "code",
   "execution_count": 65,
   "id": "c0073cb8",
   "metadata": {},
   "outputs": [
    {
     "ename": "NoSuchWindowException",
     "evalue": "Message: no such window: window was already closed\n  (Session info: chrome=105.0.5195.102)\nStacktrace:\nBacktrace:\n\tOrdinal0 [0x00CADF13+2219795]\n\tOrdinal0 [0x00C42841+1779777]\n\tOrdinal0 [0x00B5423D+803389]\n\tOrdinal0 [0x00B3D646+710214]\n\tOrdinal0 [0x00B41122+725282]\n\tOrdinal0 [0x00B45699+743065]\n\tOrdinal0 [0x00B55610+808464]\n\tOrdinal0 [0x00BAE93A+1173818]\n\tOrdinal0 [0x00B9E616+1107478]\n\tOrdinal0 [0x00B77F89+950153]\n\tOrdinal0 [0x00B78F56+954198]\n\tGetHandleVerifier [0x00FA2CB2+3040210]\n\tGetHandleVerifier [0x00F92BB4+2974420]\n\tGetHandleVerifier [0x00D46A0A+565546]\n\tGetHandleVerifier [0x00D45680+560544]\n\tOrdinal0 [0x00C49A5C+1808988]\n\tOrdinal0 [0x00C4E3A8+1827752]\n\tOrdinal0 [0x00C4E495+1827989]\n\tOrdinal0 [0x00C580A4+1867940]\n\tBaseThreadInitThunk [0x76196739+25]\n\tRtlGetFullPathName_UEx [0x77B990AF+1215]\n\tRtlGetFullPathName_UEx [0x77B9907D+1165]\n",
     "output_type": "error",
     "traceback": [
      "\u001b[1;31m---------------------------------------------------------------------------\u001b[0m",
      "\u001b[1;31mNoSuchWindowException\u001b[0m                     Traceback (most recent call last)",
      "Input \u001b[1;32mIn [65]\u001b[0m, in \u001b[0;36m<cell line: 2>\u001b[1;34m()\u001b[0m\n\u001b[0;32m      1\u001b[0m player_dlst_15 \u001b[38;5;241m=\u001b[39m []\n\u001b[0;32m      2\u001b[0m \u001b[38;5;28;01mfor\u001b[39;00m \u001b[38;5;28mid\u001b[39m \u001b[38;5;129;01min\u001b[39;00m player_id_lst:\n\u001b[1;32m----> 3\u001b[0m     \u001b[43mdriver\u001b[49m\u001b[38;5;241;43m.\u001b[39;49m\u001b[43mget\u001b[49m\u001b[43m(\u001b[49m\u001b[38;5;124;43mf\u001b[39;49m\u001b[38;5;124;43m'\u001b[39;49m\u001b[38;5;124;43mhttps://www.atptour.com/-/ajax/hawkeyestats/serve/2015/0/D643/deucecourt/1/all/\u001b[39;49m\u001b[38;5;132;43;01m{\u001b[39;49;00m\u001b[38;5;28;43mid\u001b[39;49m\u001b[38;5;132;43;01m}\u001b[39;49;00m\u001b[38;5;124;43m/all\u001b[39;49m\u001b[38;5;124;43m'\u001b[39;49m\u001b[43m)\u001b[49m\n\u001b[0;32m      4\u001b[0m     json_player_d15\u001b[38;5;241m=\u001b[39mjson\u001b[38;5;241m.\u001b[39mloads(driver\u001b[38;5;241m.\u001b[39mfind_element(by\u001b[38;5;241m=\u001b[39m\u001b[38;5;124m\"\u001b[39m\u001b[38;5;124mxpath\u001b[39m\u001b[38;5;124m\"\u001b[39m, value\u001b[38;5;241m=\u001b[39m\u001b[38;5;124m'\u001b[39m\u001b[38;5;124m/html/body/pre\u001b[39m\u001b[38;5;124m'\u001b[39m)\u001b[38;5;241m.\u001b[39mtext)\n\u001b[0;32m      5\u001b[0m     player_dlst_15\u001b[38;5;241m.\u001b[39mappend(json_player_d15)\n",
      "File \u001b[1;32m~\\anaconda3\\lib\\site-packages\\selenium\\webdriver\\remote\\webdriver.py:440\u001b[0m, in \u001b[0;36mWebDriver.get\u001b[1;34m(self, url)\u001b[0m\n\u001b[0;32m    436\u001b[0m \u001b[38;5;28;01mdef\u001b[39;00m \u001b[38;5;21mget\u001b[39m(\u001b[38;5;28mself\u001b[39m, url: \u001b[38;5;28mstr\u001b[39m) \u001b[38;5;241m-\u001b[39m\u001b[38;5;241m>\u001b[39m \u001b[38;5;28;01mNone\u001b[39;00m:\n\u001b[0;32m    437\u001b[0m     \u001b[38;5;124;03m\"\"\"\u001b[39;00m\n\u001b[0;32m    438\u001b[0m \u001b[38;5;124;03m    Loads a web page in the current browser session.\u001b[39;00m\n\u001b[0;32m    439\u001b[0m \u001b[38;5;124;03m    \"\"\"\u001b[39;00m\n\u001b[1;32m--> 440\u001b[0m     \u001b[38;5;28;43mself\u001b[39;49m\u001b[38;5;241;43m.\u001b[39;49m\u001b[43mexecute\u001b[49m\u001b[43m(\u001b[49m\u001b[43mCommand\u001b[49m\u001b[38;5;241;43m.\u001b[39;49m\u001b[43mGET\u001b[49m\u001b[43m,\u001b[49m\u001b[43m \u001b[49m\u001b[43m{\u001b[49m\u001b[38;5;124;43m'\u001b[39;49m\u001b[38;5;124;43murl\u001b[39;49m\u001b[38;5;124;43m'\u001b[39;49m\u001b[43m:\u001b[49m\u001b[43m \u001b[49m\u001b[43murl\u001b[49m\u001b[43m}\u001b[49m\u001b[43m)\u001b[49m\n",
      "File \u001b[1;32m~\\anaconda3\\lib\\site-packages\\selenium\\webdriver\\remote\\webdriver.py:428\u001b[0m, in \u001b[0;36mWebDriver.execute\u001b[1;34m(self, driver_command, params)\u001b[0m\n\u001b[0;32m    426\u001b[0m response \u001b[38;5;241m=\u001b[39m \u001b[38;5;28mself\u001b[39m\u001b[38;5;241m.\u001b[39mcommand_executor\u001b[38;5;241m.\u001b[39mexecute(driver_command, params)\n\u001b[0;32m    427\u001b[0m \u001b[38;5;28;01mif\u001b[39;00m response:\n\u001b[1;32m--> 428\u001b[0m     \u001b[38;5;28;43mself\u001b[39;49m\u001b[38;5;241;43m.\u001b[39;49m\u001b[43merror_handler\u001b[49m\u001b[38;5;241;43m.\u001b[39;49m\u001b[43mcheck_response\u001b[49m\u001b[43m(\u001b[49m\u001b[43mresponse\u001b[49m\u001b[43m)\u001b[49m\n\u001b[0;32m    429\u001b[0m     response[\u001b[38;5;124m'\u001b[39m\u001b[38;5;124mvalue\u001b[39m\u001b[38;5;124m'\u001b[39m] \u001b[38;5;241m=\u001b[39m \u001b[38;5;28mself\u001b[39m\u001b[38;5;241m.\u001b[39m_unwrap_value(\n\u001b[0;32m    430\u001b[0m         response\u001b[38;5;241m.\u001b[39mget(\u001b[38;5;124m'\u001b[39m\u001b[38;5;124mvalue\u001b[39m\u001b[38;5;124m'\u001b[39m, \u001b[38;5;28;01mNone\u001b[39;00m))\n\u001b[0;32m    431\u001b[0m     \u001b[38;5;28;01mreturn\u001b[39;00m response\n",
      "File \u001b[1;32m~\\anaconda3\\lib\\site-packages\\selenium\\webdriver\\remote\\errorhandler.py:243\u001b[0m, in \u001b[0;36mErrorHandler.check_response\u001b[1;34m(self, response)\u001b[0m\n\u001b[0;32m    241\u001b[0m         alert_text \u001b[38;5;241m=\u001b[39m value[\u001b[38;5;124m'\u001b[39m\u001b[38;5;124malert\u001b[39m\u001b[38;5;124m'\u001b[39m]\u001b[38;5;241m.\u001b[39mget(\u001b[38;5;124m'\u001b[39m\u001b[38;5;124mtext\u001b[39m\u001b[38;5;124m'\u001b[39m)\n\u001b[0;32m    242\u001b[0m     \u001b[38;5;28;01mraise\u001b[39;00m exception_class(message, screen, stacktrace, alert_text)  \u001b[38;5;66;03m# type: ignore[call-arg]  # mypy is not smart enough here\u001b[39;00m\n\u001b[1;32m--> 243\u001b[0m \u001b[38;5;28;01mraise\u001b[39;00m exception_class(message, screen, stacktrace)\n",
      "\u001b[1;31mNoSuchWindowException\u001b[0m: Message: no such window: window was already closed\n  (Session info: chrome=105.0.5195.102)\nStacktrace:\nBacktrace:\n\tOrdinal0 [0x00CADF13+2219795]\n\tOrdinal0 [0x00C42841+1779777]\n\tOrdinal0 [0x00B5423D+803389]\n\tOrdinal0 [0x00B3D646+710214]\n\tOrdinal0 [0x00B41122+725282]\n\tOrdinal0 [0x00B45699+743065]\n\tOrdinal0 [0x00B55610+808464]\n\tOrdinal0 [0x00BAE93A+1173818]\n\tOrdinal0 [0x00B9E616+1107478]\n\tOrdinal0 [0x00B77F89+950153]\n\tOrdinal0 [0x00B78F56+954198]\n\tGetHandleVerifier [0x00FA2CB2+3040210]\n\tGetHandleVerifier [0x00F92BB4+2974420]\n\tGetHandleVerifier [0x00D46A0A+565546]\n\tGetHandleVerifier [0x00D45680+560544]\n\tOrdinal0 [0x00C49A5C+1808988]\n\tOrdinal0 [0x00C4E3A8+1827752]\n\tOrdinal0 [0x00C4E495+1827989]\n\tOrdinal0 [0x00C580A4+1867940]\n\tBaseThreadInitThunk [0x76196739+25]\n\tRtlGetFullPathName_UEx [0x77B990AF+1215]\n\tRtlGetFullPathName_UEx [0x77B9907D+1165]\n"
     ]
    }
   ],
   "source": [
    "player_dlst_15 = []\n",
    "for id in player_id_lst:\n",
    "    driver.get(f'https://www.atptour.com/-/ajax/hawkeyestats/serve/2015/0/D643/deucecourt/1/all/{id}/all')\n",
    "    json_player_d15=json.loads(driver.find_element(by=\"xpath\", value='/html/body/pre').text)\n",
    "    player_dlst_15.append(json_player_d15)"
   ]
  },
  {
   "cell_type": "markdown",
   "id": "16c62d24",
   "metadata": {},
   "source": [
    "### filtering none values d15 ###"
   ]
  },
  {
   "cell_type": "code",
   "execution_count": null,
   "id": "674cd6d4",
   "metadata": {},
   "outputs": [],
   "source": [
    "filtered_dlst_15=['None' if v is None else v for v in player_dlst_15]\n",
    "len(filtered_dlst_15)\n",
    "filtered_dlst_15"
   ]
  },
  {
   "cell_type": "markdown",
   "id": "1128e17b",
   "metadata": {},
   "source": [
    "## Replacing none values with index d15 ##"
   ]
  },
  {
   "cell_type": "code",
   "execution_count": null,
   "id": "77e9dfc7",
   "metadata": {},
   "outputs": [],
   "source": [
    "lst_d_15=[]\n",
    "for i,x in enumerate(filtered_dlst_15):\n",
    "    if x !='None':\n",
    "           lst_d_15.append((i,x))"
   ]
  }
 ],
 "metadata": {
  "kernelspec": {
   "display_name": "Python 3 (ipykernel)",
   "language": "python",
   "name": "python3"
  },
  "language_info": {
   "codemirror_mode": {
    "name": "ipython",
    "version": 3
   },
   "file_extension": ".py",
   "mimetype": "text/x-python",
   "name": "python",
   "nbconvert_exporter": "python",
   "pygments_lexer": "ipython3",
   "version": "3.9.12"
  },
  "toc": {
   "base_numbering": 1,
   "nav_menu": {},
   "number_sections": true,
   "sideBar": true,
   "skip_h1_title": false,
   "title_cell": "Table of Contents",
   "title_sidebar": "Contents",
   "toc_cell": false,
   "toc_position": {},
   "toc_section_display": true,
   "toc_window_display": false
  }
 },
 "nbformat": 4,
 "nbformat_minor": 5
}
