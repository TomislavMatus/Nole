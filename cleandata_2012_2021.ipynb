{
 "cells": [
  {
   "cell_type": "code",
   "execution_count": 26,
   "id": "97e875d6",
   "metadata": {},
   "outputs": [
    {
     "name": "stdout",
     "output_type": "stream",
     "text": [
      "Requirement already satisfied: selenium-stealth in /home/amna/.pyenv/versions/3.8.12/envs/lewagon/lib/python3.8/site-packages (1.0.6)\n",
      "Requirement already satisfied: selenium in /home/amna/.pyenv/versions/3.8.12/envs/lewagon/lib/python3.8/site-packages (from selenium-stealth) (4.4.3)\n",
      "Requirement already satisfied: urllib3[socks]~=1.26 in /home/amna/.pyenv/versions/3.8.12/envs/lewagon/lib/python3.8/site-packages (from selenium->selenium-stealth) (1.26.7)\n",
      "Requirement already satisfied: certifi>=2021.10.8 in /home/amna/.pyenv/versions/3.8.12/envs/lewagon/lib/python3.8/site-packages (from selenium->selenium-stealth) (2021.10.8)\n",
      "Requirement already satisfied: trio-websocket~=0.9 in /home/amna/.pyenv/versions/3.8.12/envs/lewagon/lib/python3.8/site-packages (from selenium->selenium-stealth) (0.9.2)\n",
      "Requirement already satisfied: trio~=0.17 in /home/amna/.pyenv/versions/3.8.12/envs/lewagon/lib/python3.8/site-packages (from selenium->selenium-stealth) (0.21.0)\n",
      "Requirement already satisfied: idna in /home/amna/.pyenv/versions/3.8.12/envs/lewagon/lib/python3.8/site-packages (from trio~=0.17->selenium->selenium-stealth) (3.3)\n",
      "Requirement already satisfied: attrs>=19.2.0 in /home/amna/.pyenv/versions/3.8.12/envs/lewagon/lib/python3.8/site-packages (from trio~=0.17->selenium->selenium-stealth) (21.4.0)\n",
      "Requirement already satisfied: async-generator>=1.9 in /home/amna/.pyenv/versions/3.8.12/envs/lewagon/lib/python3.8/site-packages (from trio~=0.17->selenium->selenium-stealth) (1.10)\n",
      "Requirement already satisfied: sortedcontainers in /home/amna/.pyenv/versions/3.8.12/envs/lewagon/lib/python3.8/site-packages (from trio~=0.17->selenium->selenium-stealth) (2.4.0)\n",
      "Requirement already satisfied: outcome in /home/amna/.pyenv/versions/3.8.12/envs/lewagon/lib/python3.8/site-packages (from trio~=0.17->selenium->selenium-stealth) (1.2.0)\n",
      "Requirement already satisfied: sniffio in /home/amna/.pyenv/versions/3.8.12/envs/lewagon/lib/python3.8/site-packages (from trio~=0.17->selenium->selenium-stealth) (1.2.0)\n",
      "Requirement already satisfied: wsproto>=0.14 in /home/amna/.pyenv/versions/3.8.12/envs/lewagon/lib/python3.8/site-packages (from trio-websocket~=0.9->selenium->selenium-stealth) (1.2.0)\n",
      "Requirement already satisfied: PySocks!=1.5.7,<2.0,>=1.5.6 in /home/amna/.pyenv/versions/3.8.12/envs/lewagon/lib/python3.8/site-packages (from urllib3[socks]~=1.26->selenium->selenium-stealth) (1.7.1)\n",
      "Requirement already satisfied: h11<1,>=0.9.0 in /home/amna/.pyenv/versions/3.8.12/envs/lewagon/lib/python3.8/site-packages (from wsproto>=0.14->trio-websocket~=0.9->selenium->selenium-stealth) (0.12.0)\n",
      "Requirement already satisfied: selenium in /home/amna/.pyenv/versions/3.8.12/envs/lewagon/lib/python3.8/site-packages (4.4.3)\n",
      "Requirement already satisfied: urllib3[socks]~=1.26 in /home/amna/.pyenv/versions/3.8.12/envs/lewagon/lib/python3.8/site-packages (from selenium) (1.26.7)\n",
      "Requirement already satisfied: certifi>=2021.10.8 in /home/amna/.pyenv/versions/3.8.12/envs/lewagon/lib/python3.8/site-packages (from selenium) (2021.10.8)\n",
      "Requirement already satisfied: trio~=0.17 in /home/amna/.pyenv/versions/3.8.12/envs/lewagon/lib/python3.8/site-packages (from selenium) (0.21.0)\n",
      "Requirement already satisfied: trio-websocket~=0.9 in /home/amna/.pyenv/versions/3.8.12/envs/lewagon/lib/python3.8/site-packages (from selenium) (0.9.2)\n",
      "Requirement already satisfied: outcome in /home/amna/.pyenv/versions/3.8.12/envs/lewagon/lib/python3.8/site-packages (from trio~=0.17->selenium) (1.2.0)\n",
      "Requirement already satisfied: idna in /home/amna/.pyenv/versions/3.8.12/envs/lewagon/lib/python3.8/site-packages (from trio~=0.17->selenium) (3.3)\n",
      "Requirement already satisfied: sniffio in /home/amna/.pyenv/versions/3.8.12/envs/lewagon/lib/python3.8/site-packages (from trio~=0.17->selenium) (1.2.0)\n",
      "Requirement already satisfied: attrs>=19.2.0 in /home/amna/.pyenv/versions/3.8.12/envs/lewagon/lib/python3.8/site-packages (from trio~=0.17->selenium) (21.4.0)\n",
      "Requirement already satisfied: async-generator>=1.9 in /home/amna/.pyenv/versions/3.8.12/envs/lewagon/lib/python3.8/site-packages (from trio~=0.17->selenium) (1.10)\n",
      "Requirement already satisfied: sortedcontainers in /home/amna/.pyenv/versions/3.8.12/envs/lewagon/lib/python3.8/site-packages (from trio~=0.17->selenium) (2.4.0)\n",
      "Requirement already satisfied: wsproto>=0.14 in /home/amna/.pyenv/versions/3.8.12/envs/lewagon/lib/python3.8/site-packages (from trio-websocket~=0.9->selenium) (1.2.0)\n",
      "Requirement already satisfied: PySocks!=1.5.7,<2.0,>=1.5.6 in /home/amna/.pyenv/versions/3.8.12/envs/lewagon/lib/python3.8/site-packages (from urllib3[socks]~=1.26->selenium) (1.7.1)\n",
      "Requirement already satisfied: h11<1,>=0.9.0 in /home/amna/.pyenv/versions/3.8.12/envs/lewagon/lib/python3.8/site-packages (from wsproto>=0.14->trio-websocket~=0.9->selenium) (0.12.0)\n",
      "Requirement already satisfied: webdriver-manager in /home/amna/.pyenv/versions/3.8.12/envs/lewagon/lib/python3.8/site-packages (3.8.3)\n",
      "Requirement already satisfied: python-dotenv in /home/amna/.pyenv/versions/3.8.12/envs/lewagon/lib/python3.8/site-packages (from webdriver-manager) (0.21.0)\n",
      "Requirement already satisfied: requests in /home/amna/.pyenv/versions/3.8.12/envs/lewagon/lib/python3.8/site-packages (from webdriver-manager) (2.27.1)\n",
      "Requirement already satisfied: tqdm in /home/amna/.pyenv/versions/3.8.12/envs/lewagon/lib/python3.8/site-packages (from webdriver-manager) (4.62.3)\n",
      "Requirement already satisfied: idna<4,>=2.5 in /home/amna/.pyenv/versions/3.8.12/envs/lewagon/lib/python3.8/site-packages (from requests->webdriver-manager) (3.3)\n",
      "Requirement already satisfied: urllib3<1.27,>=1.21.1 in /home/amna/.pyenv/versions/3.8.12/envs/lewagon/lib/python3.8/site-packages (from requests->webdriver-manager) (1.26.7)\n",
      "Requirement already satisfied: charset-normalizer~=2.0.0 in /home/amna/.pyenv/versions/3.8.12/envs/lewagon/lib/python3.8/site-packages (from requests->webdriver-manager) (2.0.10)\n",
      "Requirement already satisfied: certifi>=2017.4.17 in /home/amna/.pyenv/versions/3.8.12/envs/lewagon/lib/python3.8/site-packages (from requests->webdriver-manager) (2021.10.8)\n"
     ]
    }
   ],
   "source": [
    "!pip install selenium-stealth \n",
    "!pip install selenium \n",
    "!pip install webdriver-manager"
   ]
  },
  {
   "cell_type": "code",
   "execution_count": 27,
   "id": "c88c7bd9",
   "metadata": {},
   "outputs": [],
   "source": [
    "import pandas as pd\n",
    "import requests\n",
    "from selenium import webdriver\n",
    "import json\n",
    "from selenium.webdriver.chrome.service import Service"
   ]
  },
  {
   "cell_type": "code",
   "execution_count": 28,
   "id": "8c04fa11",
   "metadata": {},
   "outputs": [
    {
     "name": "stderr",
     "output_type": "stream",
     "text": [
      "/tmp/ipykernel_1671/3634333721.py:11: DeprecationWarning: executable_path has been deprecated, please pass in a Service object\n",
      "  driver = webdriver.Chrome(options=options, executable_path=ChromeDriverManager().install())\n"
     ]
    },
    {
     "ename": "WebDriverException",
     "evalue": "Message: unknown error: cannot find Chrome binary\nStacktrace:\n#0 0x55a80f0b5693 <unknown>\n#1 0x55a80eeaeb0a <unknown>\n#2 0x55a80eed146e <unknown>\n#3 0x55a80eecf1f4 <unknown>\n#4 0x55a80ef0a953 <unknown>\n#5 0x55a80ef04743 <unknown>\n#6 0x55a80eeda533 <unknown>\n#7 0x55a80eedb715 <unknown>\n#8 0x55a80f1057bd <unknown>\n#9 0x55a80f108bf9 <unknown>\n#10 0x55a80f0eaf2e <unknown>\n#11 0x55a80f1099b3 <unknown>\n#12 0x55a80f0dee4f <unknown>\n#13 0x55a80f128ea8 <unknown>\n#14 0x55a80f129052 <unknown>\n#15 0x55a80f14371f <unknown>\n#16 0x7f657021e609 <unknown>\n",
     "output_type": "error",
     "traceback": [
      "\u001b[0;31m---------------------------------------------------------------------------\u001b[0m",
      "\u001b[0;31mWebDriverException\u001b[0m                        Traceback (most recent call last)",
      "\u001b[0;32m/tmp/ipykernel_1671/3634333721.py\u001b[0m in \u001b[0;36m<module>\u001b[0;34m\u001b[0m\n\u001b[1;32m      9\u001b[0m \u001b[0moptions\u001b[0m\u001b[0;34m.\u001b[0m\u001b[0madd_experimental_option\u001b[0m\u001b[0;34m(\u001b[0m\u001b[0;34m\"excludeSwitches\"\u001b[0m\u001b[0;34m,\u001b[0m \u001b[0;34m[\u001b[0m\u001b[0;34m\"enable-automation\"\u001b[0m\u001b[0;34m]\u001b[0m\u001b[0;34m)\u001b[0m\u001b[0;34m\u001b[0m\u001b[0;34m\u001b[0m\u001b[0m\n\u001b[1;32m     10\u001b[0m \u001b[0moptions\u001b[0m\u001b[0;34m.\u001b[0m\u001b[0madd_experimental_option\u001b[0m\u001b[0;34m(\u001b[0m\u001b[0;34m'useAutomationExtension'\u001b[0m\u001b[0;34m,\u001b[0m \u001b[0;32mFalse\u001b[0m\u001b[0;34m)\u001b[0m\u001b[0;34m\u001b[0m\u001b[0;34m\u001b[0m\u001b[0m\n\u001b[0;32m---> 11\u001b[0;31m \u001b[0mdriver\u001b[0m \u001b[0;34m=\u001b[0m \u001b[0mwebdriver\u001b[0m\u001b[0;34m.\u001b[0m\u001b[0mChrome\u001b[0m\u001b[0;34m(\u001b[0m\u001b[0moptions\u001b[0m\u001b[0;34m=\u001b[0m\u001b[0moptions\u001b[0m\u001b[0;34m,\u001b[0m \u001b[0mexecutable_path\u001b[0m\u001b[0;34m=\u001b[0m\u001b[0mChromeDriverManager\u001b[0m\u001b[0;34m(\u001b[0m\u001b[0;34m)\u001b[0m\u001b[0;34m.\u001b[0m\u001b[0minstall\u001b[0m\u001b[0;34m(\u001b[0m\u001b[0;34m)\u001b[0m\u001b[0;34m)\u001b[0m\u001b[0;34m\u001b[0m\u001b[0;34m\u001b[0m\u001b[0m\n\u001b[0m\u001b[1;32m     12\u001b[0m \u001b[0;34m\u001b[0m\u001b[0m\n\u001b[1;32m     13\u001b[0m stealth(driver,\n",
      "\u001b[0;32m~/.pyenv/versions/3.8.12/envs/lewagon/lib/python3.8/site-packages/selenium/webdriver/chrome/webdriver.py\u001b[0m in \u001b[0;36m__init__\u001b[0;34m(self, executable_path, port, options, service_args, desired_capabilities, service_log_path, chrome_options, service, keep_alive)\u001b[0m\n\u001b[1;32m     67\u001b[0m             \u001b[0mservice\u001b[0m \u001b[0;34m=\u001b[0m \u001b[0mService\u001b[0m\u001b[0;34m(\u001b[0m\u001b[0mexecutable_path\u001b[0m\u001b[0;34m,\u001b[0m \u001b[0mport\u001b[0m\u001b[0;34m,\u001b[0m \u001b[0mservice_args\u001b[0m\u001b[0;34m,\u001b[0m \u001b[0mservice_log_path\u001b[0m\u001b[0;34m)\u001b[0m\u001b[0;34m\u001b[0m\u001b[0;34m\u001b[0m\u001b[0m\n\u001b[1;32m     68\u001b[0m \u001b[0;34m\u001b[0m\u001b[0m\n\u001b[0;32m---> 69\u001b[0;31m         super().__init__(DesiredCapabilities.CHROME['browserName'], \"goog\",\n\u001b[0m\u001b[1;32m     70\u001b[0m                          \u001b[0mport\u001b[0m\u001b[0;34m,\u001b[0m \u001b[0moptions\u001b[0m\u001b[0;34m,\u001b[0m\u001b[0;34m\u001b[0m\u001b[0;34m\u001b[0m\u001b[0m\n\u001b[1;32m     71\u001b[0m                          \u001b[0mservice_args\u001b[0m\u001b[0;34m,\u001b[0m \u001b[0mdesired_capabilities\u001b[0m\u001b[0;34m,\u001b[0m\u001b[0;34m\u001b[0m\u001b[0;34m\u001b[0m\u001b[0m\n",
      "\u001b[0;32m~/.pyenv/versions/3.8.12/envs/lewagon/lib/python3.8/site-packages/selenium/webdriver/chromium/webdriver.py\u001b[0m in \u001b[0;36m__init__\u001b[0;34m(self, browser_name, vendor_prefix, port, options, service_args, desired_capabilities, service_log_path, service, keep_alive)\u001b[0m\n\u001b[1;32m     90\u001b[0m \u001b[0;34m\u001b[0m\u001b[0m\n\u001b[1;32m     91\u001b[0m         \u001b[0;32mtry\u001b[0m\u001b[0;34m:\u001b[0m\u001b[0;34m\u001b[0m\u001b[0;34m\u001b[0m\u001b[0m\n\u001b[0;32m---> 92\u001b[0;31m             super().__init__(\n\u001b[0m\u001b[1;32m     93\u001b[0m                 command_executor=ChromiumRemoteConnection(\n\u001b[1;32m     94\u001b[0m                     \u001b[0mremote_server_addr\u001b[0m\u001b[0;34m=\u001b[0m\u001b[0mself\u001b[0m\u001b[0;34m.\u001b[0m\u001b[0mservice\u001b[0m\u001b[0;34m.\u001b[0m\u001b[0mservice_url\u001b[0m\u001b[0;34m,\u001b[0m\u001b[0;34m\u001b[0m\u001b[0;34m\u001b[0m\u001b[0m\n",
      "\u001b[0;32m~/.pyenv/versions/3.8.12/envs/lewagon/lib/python3.8/site-packages/selenium/webdriver/remote/webdriver.py\u001b[0m in \u001b[0;36m__init__\u001b[0;34m(self, command_executor, desired_capabilities, browser_profile, proxy, keep_alive, file_detector, options)\u001b[0m\n\u001b[1;32m    268\u001b[0m         \u001b[0mself\u001b[0m\u001b[0;34m.\u001b[0m\u001b[0m_authenticator_id\u001b[0m \u001b[0;34m=\u001b[0m \u001b[0;32mNone\u001b[0m\u001b[0;34m\u001b[0m\u001b[0;34m\u001b[0m\u001b[0m\n\u001b[1;32m    269\u001b[0m         \u001b[0mself\u001b[0m\u001b[0;34m.\u001b[0m\u001b[0mstart_client\u001b[0m\u001b[0;34m(\u001b[0m\u001b[0;34m)\u001b[0m\u001b[0;34m\u001b[0m\u001b[0;34m\u001b[0m\u001b[0m\n\u001b[0;32m--> 270\u001b[0;31m         \u001b[0mself\u001b[0m\u001b[0;34m.\u001b[0m\u001b[0mstart_session\u001b[0m\u001b[0;34m(\u001b[0m\u001b[0mcapabilities\u001b[0m\u001b[0;34m,\u001b[0m \u001b[0mbrowser_profile\u001b[0m\u001b[0;34m)\u001b[0m\u001b[0;34m\u001b[0m\u001b[0;34m\u001b[0m\u001b[0m\n\u001b[0m\u001b[1;32m    271\u001b[0m \u001b[0;34m\u001b[0m\u001b[0m\n\u001b[1;32m    272\u001b[0m     \u001b[0;32mdef\u001b[0m \u001b[0m__repr__\u001b[0m\u001b[0;34m(\u001b[0m\u001b[0mself\u001b[0m\u001b[0;34m)\u001b[0m\u001b[0;34m:\u001b[0m\u001b[0;34m\u001b[0m\u001b[0;34m\u001b[0m\u001b[0m\n",
      "\u001b[0;32m~/.pyenv/versions/3.8.12/envs/lewagon/lib/python3.8/site-packages/selenium/webdriver/remote/webdriver.py\u001b[0m in \u001b[0;36mstart_session\u001b[0;34m(self, capabilities, browser_profile)\u001b[0m\n\u001b[1;32m    361\u001b[0m         \u001b[0mw3c_caps\u001b[0m \u001b[0;34m=\u001b[0m \u001b[0m_make_w3c_caps\u001b[0m\u001b[0;34m(\u001b[0m\u001b[0mcapabilities\u001b[0m\u001b[0;34m)\u001b[0m\u001b[0;34m\u001b[0m\u001b[0;34m\u001b[0m\u001b[0m\n\u001b[1;32m    362\u001b[0m         \u001b[0mparameters\u001b[0m \u001b[0;34m=\u001b[0m \u001b[0;34m{\u001b[0m\u001b[0;34m\"capabilities\"\u001b[0m\u001b[0;34m:\u001b[0m \u001b[0mw3c_caps\u001b[0m\u001b[0;34m}\u001b[0m\u001b[0;34m\u001b[0m\u001b[0;34m\u001b[0m\u001b[0m\n\u001b[0;32m--> 363\u001b[0;31m         \u001b[0mresponse\u001b[0m \u001b[0;34m=\u001b[0m \u001b[0mself\u001b[0m\u001b[0;34m.\u001b[0m\u001b[0mexecute\u001b[0m\u001b[0;34m(\u001b[0m\u001b[0mCommand\u001b[0m\u001b[0;34m.\u001b[0m\u001b[0mNEW_SESSION\u001b[0m\u001b[0;34m,\u001b[0m \u001b[0mparameters\u001b[0m\u001b[0;34m)\u001b[0m\u001b[0;34m\u001b[0m\u001b[0;34m\u001b[0m\u001b[0m\n\u001b[0m\u001b[1;32m    364\u001b[0m         \u001b[0;32mif\u001b[0m \u001b[0;34m'sessionId'\u001b[0m \u001b[0;32mnot\u001b[0m \u001b[0;32min\u001b[0m \u001b[0mresponse\u001b[0m\u001b[0;34m:\u001b[0m\u001b[0;34m\u001b[0m\u001b[0;34m\u001b[0m\u001b[0m\n\u001b[1;32m    365\u001b[0m             \u001b[0mresponse\u001b[0m \u001b[0;34m=\u001b[0m \u001b[0mresponse\u001b[0m\u001b[0;34m[\u001b[0m\u001b[0;34m'value'\u001b[0m\u001b[0;34m]\u001b[0m\u001b[0;34m\u001b[0m\u001b[0;34m\u001b[0m\u001b[0m\n",
      "\u001b[0;32m~/.pyenv/versions/3.8.12/envs/lewagon/lib/python3.8/site-packages/selenium/webdriver/remote/webdriver.py\u001b[0m in \u001b[0;36mexecute\u001b[0;34m(self, driver_command, params)\u001b[0m\n\u001b[1;32m    426\u001b[0m         \u001b[0mresponse\u001b[0m \u001b[0;34m=\u001b[0m \u001b[0mself\u001b[0m\u001b[0;34m.\u001b[0m\u001b[0mcommand_executor\u001b[0m\u001b[0;34m.\u001b[0m\u001b[0mexecute\u001b[0m\u001b[0;34m(\u001b[0m\u001b[0mdriver_command\u001b[0m\u001b[0;34m,\u001b[0m \u001b[0mparams\u001b[0m\u001b[0;34m)\u001b[0m\u001b[0;34m\u001b[0m\u001b[0;34m\u001b[0m\u001b[0m\n\u001b[1;32m    427\u001b[0m         \u001b[0;32mif\u001b[0m \u001b[0mresponse\u001b[0m\u001b[0;34m:\u001b[0m\u001b[0;34m\u001b[0m\u001b[0;34m\u001b[0m\u001b[0m\n\u001b[0;32m--> 428\u001b[0;31m             \u001b[0mself\u001b[0m\u001b[0;34m.\u001b[0m\u001b[0merror_handler\u001b[0m\u001b[0;34m.\u001b[0m\u001b[0mcheck_response\u001b[0m\u001b[0;34m(\u001b[0m\u001b[0mresponse\u001b[0m\u001b[0;34m)\u001b[0m\u001b[0;34m\u001b[0m\u001b[0;34m\u001b[0m\u001b[0m\n\u001b[0m\u001b[1;32m    429\u001b[0m             response['value'] = self._unwrap_value(\n\u001b[1;32m    430\u001b[0m                 response.get('value', None))\n",
      "\u001b[0;32m~/.pyenv/versions/3.8.12/envs/lewagon/lib/python3.8/site-packages/selenium/webdriver/remote/errorhandler.py\u001b[0m in \u001b[0;36mcheck_response\u001b[0;34m(self, response)\u001b[0m\n\u001b[1;32m    241\u001b[0m                 \u001b[0malert_text\u001b[0m \u001b[0;34m=\u001b[0m \u001b[0mvalue\u001b[0m\u001b[0;34m[\u001b[0m\u001b[0;34m'alert'\u001b[0m\u001b[0;34m]\u001b[0m\u001b[0;34m.\u001b[0m\u001b[0mget\u001b[0m\u001b[0;34m(\u001b[0m\u001b[0;34m'text'\u001b[0m\u001b[0;34m)\u001b[0m\u001b[0;34m\u001b[0m\u001b[0;34m\u001b[0m\u001b[0m\n\u001b[1;32m    242\u001b[0m             \u001b[0;32mraise\u001b[0m \u001b[0mexception_class\u001b[0m\u001b[0;34m(\u001b[0m\u001b[0mmessage\u001b[0m\u001b[0;34m,\u001b[0m \u001b[0mscreen\u001b[0m\u001b[0;34m,\u001b[0m \u001b[0mstacktrace\u001b[0m\u001b[0;34m,\u001b[0m \u001b[0malert_text\u001b[0m\u001b[0;34m)\u001b[0m  \u001b[0;31m# type: ignore[call-arg]  # mypy is not smart enough here\u001b[0m\u001b[0;34m\u001b[0m\u001b[0;34m\u001b[0m\u001b[0m\n\u001b[0;32m--> 243\u001b[0;31m         \u001b[0;32mraise\u001b[0m \u001b[0mexception_class\u001b[0m\u001b[0;34m(\u001b[0m\u001b[0mmessage\u001b[0m\u001b[0;34m,\u001b[0m \u001b[0mscreen\u001b[0m\u001b[0;34m,\u001b[0m \u001b[0mstacktrace\u001b[0m\u001b[0;34m)\u001b[0m\u001b[0;34m\u001b[0m\u001b[0;34m\u001b[0m\u001b[0m\n\u001b[0m",
      "\u001b[0;31mWebDriverException\u001b[0m: Message: unknown error: cannot find Chrome binary\nStacktrace:\n#0 0x55a80f0b5693 <unknown>\n#1 0x55a80eeaeb0a <unknown>\n#2 0x55a80eed146e <unknown>\n#3 0x55a80eecf1f4 <unknown>\n#4 0x55a80ef0a953 <unknown>\n#5 0x55a80ef04743 <unknown>\n#6 0x55a80eeda533 <unknown>\n#7 0x55a80eedb715 <unknown>\n#8 0x55a80f1057bd <unknown>\n#9 0x55a80f108bf9 <unknown>\n#10 0x55a80f0eaf2e <unknown>\n#11 0x55a80f1099b3 <unknown>\n#12 0x55a80f0dee4f <unknown>\n#13 0x55a80f128ea8 <unknown>\n#14 0x55a80f129052 <unknown>\n#15 0x55a80f14371f <unknown>\n#16 0x7f657021e609 <unknown>\n"
     ]
    }
   ],
   "source": [
    "from selenium import webdriver\n",
    "from webdriver_manager.chrome import ChromeDriverManager\n",
    "\n",
    "from selenium import webdriver\n",
    "from selenium_stealth import stealth\n",
    "\n",
    "options = webdriver.ChromeOptions()\n",
    "options.add_argument(\"start-maximized\")\n",
    "options.add_experimental_option(\"excludeSwitches\", [\"enable-automation\"])\n",
    "options.add_experimental_option('useAutomationExtension', False)\n",
    "driver = webdriver.Chrome(options=options, executable_path=ChromeDriverManager().install())\n",
    "\n",
    "stealth(driver,\n",
    "        languages=[\"en-US\", \"en\"],\n",
    "        vendor=\"Google Inc.\",\n",
    "        platform=\"Win32\",\n",
    "        webgl_vendor=\"Intel Inc.\",\n",
    "        renderer=\"Intel Iris OpenGL Engine\",\n",
    "        fix_hairline=True,\n",
    "        )"
   ]
  },
  {
   "cell_type": "code",
   "execution_count": 4,
   "id": "8068bc9e",
   "metadata": {},
   "outputs": [],
   "source": [
    "df_ad = pd.read_csv('Final_ad_2012_3.csv')\n",
    "df_d = pd.read_csv('Final_deuce_2012_3.csv')"
   ]
  },
  {
   "cell_type": "code",
   "execution_count": 7,
   "id": "5ee7ba0c",
   "metadata": {},
   "outputs": [],
   "source": [
    "names = ['Novak Djokovic','Daniil Medvedev','Alexander Zverev','Stefanos Tsitsipas','Andrey Rublev','Rafael Nadal',\n",
    "         'Matteo Berrettini','Casper Ruud','Hubert Hurkacz','Felix Auger-Aliassime','Jannik Sinner','Cameron Norrie',\n",
    "        'Diego Schwartzman','Denis Shapovalov','Dominic Thiem','Roger Federer','Aslan Karatsev','Cristian Garin',\n",
    "        'Roberto Bautista Agut','Pablo Carreno Busta','Gael Monfils','Nikoloz Basilashvili','Taylor Fritz','John Isner',\n",
    "        'Daniel Evans','Reilly Opelka','Lorenzo Sonego','Grigor Dimitrov','Karen Khachanov','Marin Cillic','Lloyd Harris',\n",
    "        'Carlos Alcaraz','Dusan Lajovic','Alex De Minaur','Ugo Humbert','Alexander Bublik','Fabio Fognini','Frances Tiafoe',\n",
    "        'David Goffin','Marton Fucsovics','Sebastian Korda','Filip Krajinovic','Tommy Paul','Federico Delbonis','Albert Ramos-Vinolas',\n",
    "        'Ilya Ivashka','Benoit Paire','Kei Nishikori','James Duckworth','Alejandro Davidovich Fokina','Jan-Lennard Struff',\n",
    "        'Laslo Djere','Soonwoo Kwon','Dominik Koepfer','Mackenzie McDonald','Jenson Brooksby','Botic Van De Zandschulp',\n",
    "        'Arthur Rinderknech','Lorenzo Musetti','Pedro Martinez','Alexei Popyrin','Brandon Nakashima','Gianluca Mager',\n",
    "        'Benjamin Bonzi','Tallon Griekspoor','Marcos Giron','Hugo Gaston','Miomir Kecmanovic','Federico Coria','Milos Raonic',\n",
    "        'Roberto Carballes Baena','Adrian Mannarino','John Millman','Borna Coric','Guido Pella','Facunda Bagnis','Jordan Thompson',\n",
    "        'Stefano Travaglia','Kevin Anderson','Yoshihito Nishioka','Stan Wawrinka','Jiri Vesely','Jaume Munar','Steve Johnson',\n",
    "        'Peter Gojowczyk','Richard Gasquet','Pablo Andujar','Corentin Moutet','Juan Manuel Cerundolo','Nick Kyrgios',\n",
    "        'Mikael Ymer','Emil Ruusuvuori','Tennys Sandgren','Thiago Monteiro','Pablo Cuevas','Marco Cecchinato','Henri Laaksonen',\n",
    "        'Daniel Altmaier','Carlos Taberner','Andreas Seppi']"
   ]
  },
  {
   "cell_type": "code",
   "execution_count": 8,
   "id": "ef263031",
   "metadata": {},
   "outputs": [],
   "source": [
    "heights = [188,198,198,193,188,185,196,183,196,193,188,188,170,185,185,185,185,185,183,188,193,185,196,208,175,211,191,191,198,\n",
    "            198,193,185,183,183,188,196,178,188,180,188,196,185,185,193,188,193,196,178,183,183,193,188,180,180,178,193,191,\n",
    "            196,185,185,196,185,188,183,188,180,173,183,180,196,183,180,183,188,183,183,183,185,203,170,183,198,183,188,188,\n",
    "            183,180,175,183,193,183,188,188,183,180,185,185,188,183,191]"
   ]
  },
  {
   "cell_type": "code",
   "execution_count": 9,
   "id": "f5569eee",
   "metadata": {},
   "outputs": [],
   "source": [
    "res = dict(zip(names, heights))"
   ]
  },
  {
   "cell_type": "code",
   "execution_count": 21,
   "id": "d90a7d4e",
   "metadata": {},
   "outputs": [
    {
     "data": {
      "text/html": [
       "<div>\n",
       "<style scoped>\n",
       "    .dataframe tbody tr th:only-of-type {\n",
       "        vertical-align: middle;\n",
       "    }\n",
       "\n",
       "    .dataframe tbody tr th {\n",
       "        vertical-align: top;\n",
       "    }\n",
       "\n",
       "    .dataframe thead th {\n",
       "        text-align: right;\n",
       "    }\n",
       "</style>\n",
       "<table border=\"1\" class=\"dataframe\">\n",
       "  <thead>\n",
       "    <tr style=\"text-align: right;\">\n",
       "      <th></th>\n",
       "      <th>Names</th>\n",
       "      <th>Heights</th>\n",
       "    </tr>\n",
       "  </thead>\n",
       "  <tbody>\n",
       "    <tr>\n",
       "      <th>0</th>\n",
       "      <td>Novak Djokovic</td>\n",
       "      <td>188</td>\n",
       "    </tr>\n",
       "    <tr>\n",
       "      <th>1</th>\n",
       "      <td>Daniil Medvedev</td>\n",
       "      <td>198</td>\n",
       "    </tr>\n",
       "    <tr>\n",
       "      <th>2</th>\n",
       "      <td>Alexander Zverev</td>\n",
       "      <td>198</td>\n",
       "    </tr>\n",
       "    <tr>\n",
       "      <th>3</th>\n",
       "      <td>Stefanos Tsitsipas</td>\n",
       "      <td>193</td>\n",
       "    </tr>\n",
       "    <tr>\n",
       "      <th>4</th>\n",
       "      <td>Andrey Rublev</td>\n",
       "      <td>188</td>\n",
       "    </tr>\n",
       "    <tr>\n",
       "      <th>...</th>\n",
       "      <td>...</td>\n",
       "      <td>...</td>\n",
       "    </tr>\n",
       "    <tr>\n",
       "      <th>95</th>\n",
       "      <td>Marco Cecchinato</td>\n",
       "      <td>185</td>\n",
       "    </tr>\n",
       "    <tr>\n",
       "      <th>96</th>\n",
       "      <td>Henri Laaksonen</td>\n",
       "      <td>185</td>\n",
       "    </tr>\n",
       "    <tr>\n",
       "      <th>97</th>\n",
       "      <td>Daniel Altmaier</td>\n",
       "      <td>188</td>\n",
       "    </tr>\n",
       "    <tr>\n",
       "      <th>98</th>\n",
       "      <td>Carlos Taberner</td>\n",
       "      <td>183</td>\n",
       "    </tr>\n",
       "    <tr>\n",
       "      <th>99</th>\n",
       "      <td>Andreas Seppi</td>\n",
       "      <td>191</td>\n",
       "    </tr>\n",
       "  </tbody>\n",
       "</table>\n",
       "<p>100 rows × 2 columns</p>\n",
       "</div>"
      ],
      "text/plain": [
       "                 Names  Heights\n",
       "0       Novak Djokovic      188\n",
       "1      Daniil Medvedev      198\n",
       "2     Alexander Zverev      198\n",
       "3   Stefanos Tsitsipas      193\n",
       "4        Andrey Rublev      188\n",
       "..                 ...      ...\n",
       "95    Marco Cecchinato      185\n",
       "96     Henri Laaksonen      185\n",
       "97     Daniel Altmaier      188\n",
       "98     Carlos Taberner      183\n",
       "99       Andreas Seppi      191\n",
       "\n",
       "[100 rows x 2 columns]"
      ]
     },
     "execution_count": 21,
     "metadata": {},
     "output_type": "execute_result"
    }
   ],
   "source": [
    "pd.DataFrame(res.items(), columns=['Names','Heights'])"
   ]
  },
  {
   "cell_type": "code",
   "execution_count": null,
   "id": "e136c071",
   "metadata": {},
   "outputs": [],
   "source": [
    "lst=[]\n",
    "for x in range(100):\n",
    "    lst.append(json_player[x]['OpponentId'])\n",
    "    \n",
    "player_id_lst=lst[3:100]\n",
    "\n",
    "player_id_lst_dict = {player_id_lst[i]: i for i in range(len(player_id_lst))}"
   ]
  },
  {
   "cell_type": "code",
   "execution_count": null,
   "id": "cc67ecc9",
   "metadata": {},
   "outputs": [],
   "source": []
  }
 ],
 "metadata": {
  "kernelspec": {
   "display_name": "Python 3 (ipykernel)",
   "language": "python",
   "name": "python3"
  },
  "language_info": {
   "codemirror_mode": {
    "name": "ipython",
    "version": 3
   },
   "file_extension": ".py",
   "mimetype": "text/x-python",
   "name": "python",
   "nbconvert_exporter": "python",
   "pygments_lexer": "ipython3",
   "version": "3.8.12"
  },
  "toc": {
   "base_numbering": 1,
   "nav_menu": {},
   "number_sections": true,
   "sideBar": true,
   "skip_h1_title": false,
   "title_cell": "Table of Contents",
   "title_sidebar": "Contents",
   "toc_cell": false,
   "toc_position": {},
   "toc_section_display": true,
   "toc_window_display": false
  }
 },
 "nbformat": 4,
 "nbformat_minor": 5
}
