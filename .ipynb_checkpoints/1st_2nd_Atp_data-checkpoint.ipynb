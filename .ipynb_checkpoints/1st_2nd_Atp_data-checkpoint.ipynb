{
 "cells": [
  {
   "cell_type": "code",
   "execution_count": 1,
   "id": "8f66da86",
   "metadata": {
    "scrolled": true
   },
   "outputs": [
    {
     "name": "stdout",
     "output_type": "stream",
     "text": [
      "Requirement already satisfied: selenium-stealth in /Users/CharlotteHolcombe/.pyenv/versions/3.8.12/envs/lewagontwo/lib/python3.8/site-packages (1.0.6)\n",
      "Requirement already satisfied: selenium in /Users/CharlotteHolcombe/.pyenv/versions/3.8.12/envs/lewagontwo/lib/python3.8/site-packages (from selenium-stealth) (4.1.0)\n",
      "Requirement already satisfied: trio-websocket~=0.9 in /Users/CharlotteHolcombe/.pyenv/versions/3.8.12/envs/lewagontwo/lib/python3.8/site-packages (from selenium->selenium-stealth) (0.9.2)\n",
      "Requirement already satisfied: trio~=0.17 in /Users/CharlotteHolcombe/.pyenv/versions/3.8.12/envs/lewagontwo/lib/python3.8/site-packages (from selenium->selenium-stealth) (0.19.0)\n",
      "Requirement already satisfied: urllib3[secure]~=1.26 in /Users/CharlotteHolcombe/.pyenv/versions/3.8.12/envs/lewagontwo/lib/python3.8/site-packages (from selenium->selenium-stealth) (1.26.7)\n",
      "Requirement already satisfied: async-generator>=1.9 in /Users/CharlotteHolcombe/.pyenv/versions/3.8.12/envs/lewagontwo/lib/python3.8/site-packages (from trio~=0.17->selenium->selenium-stealth) (1.10)\n",
      "Requirement already satisfied: attrs>=19.2.0 in /Users/CharlotteHolcombe/.pyenv/versions/3.8.12/envs/lewagontwo/lib/python3.8/site-packages (from trio~=0.17->selenium->selenium-stealth) (21.4.0)\n",
      "Requirement already satisfied: sortedcontainers in /Users/CharlotteHolcombe/.pyenv/versions/3.8.12/envs/lewagontwo/lib/python3.8/site-packages (from trio~=0.17->selenium->selenium-stealth) (2.4.0)\n",
      "Requirement already satisfied: idna in /Users/CharlotteHolcombe/.pyenv/versions/3.8.12/envs/lewagontwo/lib/python3.8/site-packages (from trio~=0.17->selenium->selenium-stealth) (3.3)\n",
      "Requirement already satisfied: sniffio in /Users/CharlotteHolcombe/.pyenv/versions/3.8.12/envs/lewagontwo/lib/python3.8/site-packages (from trio~=0.17->selenium->selenium-stealth) (1.2.0)\n",
      "Requirement already satisfied: outcome in /Users/CharlotteHolcombe/.pyenv/versions/3.8.12/envs/lewagontwo/lib/python3.8/site-packages (from trio~=0.17->selenium->selenium-stealth) (1.1.0)\n",
      "Requirement already satisfied: wsproto>=0.14 in /Users/CharlotteHolcombe/.pyenv/versions/3.8.12/envs/lewagontwo/lib/python3.8/site-packages (from trio-websocket~=0.9->selenium->selenium-stealth) (1.0.0)\n",
      "Requirement already satisfied: pyOpenSSL>=0.14 in /Users/CharlotteHolcombe/.pyenv/versions/3.8.12/envs/lewagontwo/lib/python3.8/site-packages (from urllib3[secure]~=1.26->selenium->selenium-stealth) (21.0.0)\n",
      "Requirement already satisfied: cryptography>=1.3.4 in /Users/CharlotteHolcombe/.pyenv/versions/3.8.12/envs/lewagontwo/lib/python3.8/site-packages (from urllib3[secure]~=1.26->selenium->selenium-stealth) (36.0.1)\n",
      "Requirement already satisfied: certifi in /Users/CharlotteHolcombe/.pyenv/versions/3.8.12/envs/lewagontwo/lib/python3.8/site-packages (from urllib3[secure]~=1.26->selenium->selenium-stealth) (2021.10.8)\n",
      "Requirement already satisfied: cffi>=1.12 in /Users/CharlotteHolcombe/.pyenv/versions/3.8.12/envs/lewagontwo/lib/python3.8/site-packages (from cryptography>=1.3.4->urllib3[secure]~=1.26->selenium->selenium-stealth) (1.15.0)\n",
      "Requirement already satisfied: six>=1.5.2 in /Users/CharlotteHolcombe/.pyenv/versions/3.8.12/envs/lewagontwo/lib/python3.8/site-packages (from pyOpenSSL>=0.14->urllib3[secure]~=1.26->selenium->selenium-stealth) (1.15.0)\n",
      "Requirement already satisfied: h11<1,>=0.9.0 in /Users/CharlotteHolcombe/.pyenv/versions/3.8.12/envs/lewagontwo/lib/python3.8/site-packages (from wsproto>=0.14->trio-websocket~=0.9->selenium->selenium-stealth) (0.12.0)\n",
      "Requirement already satisfied: pycparser in /Users/CharlotteHolcombe/.pyenv/versions/3.8.12/envs/lewagontwo/lib/python3.8/site-packages (from cffi>=1.12->cryptography>=1.3.4->urllib3[secure]~=1.26->selenium->selenium-stealth) (2.21)\n",
      "Requirement already satisfied: selenium in /Users/CharlotteHolcombe/.pyenv/versions/3.8.12/envs/lewagontwo/lib/python3.8/site-packages (4.1.0)\n",
      "Requirement already satisfied: trio~=0.17 in /Users/CharlotteHolcombe/.pyenv/versions/3.8.12/envs/lewagontwo/lib/python3.8/site-packages (from selenium) (0.19.0)\n",
      "Requirement already satisfied: trio-websocket~=0.9 in /Users/CharlotteHolcombe/.pyenv/versions/3.8.12/envs/lewagontwo/lib/python3.8/site-packages (from selenium) (0.9.2)\n",
      "Requirement already satisfied: urllib3[secure]~=1.26 in /Users/CharlotteHolcombe/.pyenv/versions/3.8.12/envs/lewagontwo/lib/python3.8/site-packages (from selenium) (1.26.7)\n",
      "Requirement already satisfied: outcome in /Users/CharlotteHolcombe/.pyenv/versions/3.8.12/envs/lewagontwo/lib/python3.8/site-packages (from trio~=0.17->selenium) (1.1.0)\n",
      "Requirement already satisfied: async-generator>=1.9 in /Users/CharlotteHolcombe/.pyenv/versions/3.8.12/envs/lewagontwo/lib/python3.8/site-packages (from trio~=0.17->selenium) (1.10)\n",
      "Requirement already satisfied: sniffio in /Users/CharlotteHolcombe/.pyenv/versions/3.8.12/envs/lewagontwo/lib/python3.8/site-packages (from trio~=0.17->selenium) (1.2.0)\n",
      "Requirement already satisfied: idna in /Users/CharlotteHolcombe/.pyenv/versions/3.8.12/envs/lewagontwo/lib/python3.8/site-packages (from trio~=0.17->selenium) (3.3)\n",
      "Requirement already satisfied: attrs>=19.2.0 in /Users/CharlotteHolcombe/.pyenv/versions/3.8.12/envs/lewagontwo/lib/python3.8/site-packages (from trio~=0.17->selenium) (21.4.0)\n",
      "Requirement already satisfied: sortedcontainers in /Users/CharlotteHolcombe/.pyenv/versions/3.8.12/envs/lewagontwo/lib/python3.8/site-packages (from trio~=0.17->selenium) (2.4.0)\n",
      "Requirement already satisfied: wsproto>=0.14 in /Users/CharlotteHolcombe/.pyenv/versions/3.8.12/envs/lewagontwo/lib/python3.8/site-packages (from trio-websocket~=0.9->selenium) (1.0.0)\n",
      "Requirement already satisfied: pyOpenSSL>=0.14 in /Users/CharlotteHolcombe/.pyenv/versions/3.8.12/envs/lewagontwo/lib/python3.8/site-packages (from urllib3[secure]~=1.26->selenium) (21.0.0)\n",
      "Requirement already satisfied: certifi in /Users/CharlotteHolcombe/.pyenv/versions/3.8.12/envs/lewagontwo/lib/python3.8/site-packages (from urllib3[secure]~=1.26->selenium) (2021.10.8)\n",
      "Requirement already satisfied: cryptography>=1.3.4 in /Users/CharlotteHolcombe/.pyenv/versions/3.8.12/envs/lewagontwo/lib/python3.8/site-packages (from urllib3[secure]~=1.26->selenium) (36.0.1)\n",
      "Requirement already satisfied: cffi>=1.12 in /Users/CharlotteHolcombe/.pyenv/versions/3.8.12/envs/lewagontwo/lib/python3.8/site-packages (from cryptography>=1.3.4->urllib3[secure]~=1.26->selenium) (1.15.0)\n",
      "Requirement already satisfied: six>=1.5.2 in /Users/CharlotteHolcombe/.pyenv/versions/3.8.12/envs/lewagontwo/lib/python3.8/site-packages (from pyOpenSSL>=0.14->urllib3[secure]~=1.26->selenium) (1.15.0)\n",
      "Requirement already satisfied: h11<1,>=0.9.0 in /Users/CharlotteHolcombe/.pyenv/versions/3.8.12/envs/lewagontwo/lib/python3.8/site-packages (from wsproto>=0.14->trio-websocket~=0.9->selenium) (0.12.0)\n",
      "Requirement already satisfied: pycparser in /Users/CharlotteHolcombe/.pyenv/versions/3.8.12/envs/lewagontwo/lib/python3.8/site-packages (from cffi>=1.12->cryptography>=1.3.4->urllib3[secure]~=1.26->selenium) (2.21)\n",
      "Requirement already satisfied: webdriver-manager in /Users/CharlotteHolcombe/.pyenv/versions/3.8.12/envs/lewagontwo/lib/python3.8/site-packages (3.8.3)\n",
      "Requirement already satisfied: requests in /Users/CharlotteHolcombe/.pyenv/versions/3.8.12/envs/lewagontwo/lib/python3.8/site-packages (from webdriver-manager) (2.27.1)\n",
      "Requirement already satisfied: python-dotenv in /Users/CharlotteHolcombe/.pyenv/versions/3.8.12/envs/lewagontwo/lib/python3.8/site-packages (from webdriver-manager) (0.21.0)\n",
      "Requirement already satisfied: tqdm in /Users/CharlotteHolcombe/.pyenv/versions/3.8.12/envs/lewagontwo/lib/python3.8/site-packages (from webdriver-manager) (4.62.3)\n",
      "Requirement already satisfied: certifi>=2017.4.17 in /Users/CharlotteHolcombe/.pyenv/versions/3.8.12/envs/lewagontwo/lib/python3.8/site-packages (from requests->webdriver-manager) (2021.10.8)\n",
      "Requirement already satisfied: urllib3<1.27,>=1.21.1 in /Users/CharlotteHolcombe/.pyenv/versions/3.8.12/envs/lewagontwo/lib/python3.8/site-packages (from requests->webdriver-manager) (1.26.7)\n",
      "Requirement already satisfied: charset-normalizer~=2.0.0 in /Users/CharlotteHolcombe/.pyenv/versions/3.8.12/envs/lewagontwo/lib/python3.8/site-packages (from requests->webdriver-manager) (2.0.10)\n",
      "Requirement already satisfied: idna<4,>=2.5 in /Users/CharlotteHolcombe/.pyenv/versions/3.8.12/envs/lewagontwo/lib/python3.8/site-packages (from requests->webdriver-manager) (3.3)\n"
     ]
    }
   ],
   "source": [
    "!pip install selenium-stealth \n",
    "!pip install selenium \n",
    "!pip install webdriver-manager"
   ]
  },
  {
   "cell_type": "code",
   "execution_count": 2,
   "id": "54ccab33",
   "metadata": {},
   "outputs": [],
   "source": [
    "import pandas as pd\n",
    "import requests\n",
    "from selenium import webdriver\n",
    "import json\n",
    "from selenium.webdriver.chrome.service import Service"
   ]
  },
  {
   "cell_type": "code",
   "execution_count": 3,
   "id": "9e28ceb2",
   "metadata": {},
   "outputs": [
    {
     "name": "stdout",
     "output_type": "stream",
     "text": [
      "/Users/CharlotteHolcombe/code/c-holcombe1/Nole\r\n"
     ]
    }
   ],
   "source": [
    "!pwd"
   ]
  },
  {
   "cell_type": "code",
   "execution_count": 18,
   "id": "854371b8",
   "metadata": {},
   "outputs": [
    {
     "name": "stderr",
     "output_type": "stream",
     "text": [
      "/var/folders/mk/0d3qnt_s4_s3462j10crtjqm0000gn/T/ipykernel_14402/3634333721.py:11: DeprecationWarning: executable_path has been deprecated, please pass in a Service object\n",
      "  driver = webdriver.Chrome(options=options, executable_path=ChromeDriverManager().install())\n"
     ]
    }
   ],
   "source": [
    "from selenium import webdriver\n",
    "from webdriver_manager.chrome import ChromeDriverManager\n",
    "\n",
    "from selenium import webdriver\n",
    "from selenium_stealth import stealth\n",
    "\n",
    "options = webdriver.ChromeOptions()\n",
    "options.add_argument(\"start-maximized\")\n",
    "options.add_experimental_option(\"excludeSwitches\", [\"enable-automation\"])\n",
    "options.add_experimental_option('useAutomationExtension', False)\n",
    "driver = webdriver.Chrome(options=options, executable_path=ChromeDriverManager().install())\n",
    "\n",
    "stealth(driver,\n",
    "        languages=[\"en-US\", \"en\"],\n",
    "        vendor=\"Google Inc.\",\n",
    "        platform=\"Win32\",\n",
    "        webgl_vendor=\"Intel Inc.\",\n",
    "        renderer=\"Intel Iris OpenGL Engine\",\n",
    "        fix_hairline=True,\n",
    "        )"
   ]
  },
  {
   "cell_type": "markdown",
   "id": "68e9e12b",
   "metadata": {},
   "source": [
    "## Djokovic opponents player ID's ##"
   ]
  },
  {
   "cell_type": "code",
   "execution_count": 5,
   "id": "4b3aa904",
   "metadata": {},
   "outputs": [],
   "source": [
    "driver.get(\"https://www.atptour.com/-/ajax/HawkEyeStats/Opponents/D643\")"
   ]
  },
  {
   "cell_type": "code",
   "execution_count": 6,
   "id": "0af46e3f",
   "metadata": {},
   "outputs": [],
   "source": [
    "json_player = json.loads(driver.find_element(by=\"xpath\", value='/html/body/pre').text)"
   ]
  },
  {
   "cell_type": "markdown",
   "id": "73b001e8",
   "metadata": {},
   "source": [
    "### List of Player id's ###"
   ]
  },
  {
   "cell_type": "code",
   "execution_count": 7,
   "id": "485f5a47",
   "metadata": {},
   "outputs": [],
   "source": [
    "lst=[]\n",
    "for x in range(100):\n",
    "    lst.append(json_player[x]['OpponentId'])\n",
    "    \n",
    "player_id_lst=lst[3:100]"
   ]
  },
  {
   "cell_type": "code",
   "execution_count": 43,
   "id": "67e69ac9",
   "metadata": {},
   "outputs": [],
   "source": [
    "#player_id_lst"
   ]
  },
  {
   "cell_type": "markdown",
   "id": "77c91f1b",
   "metadata": {},
   "source": [
    "### Dict of Player id's with correspondence position in the list ###"
   ]
  },
  {
   "cell_type": "code",
   "execution_count": 8,
   "id": "92efdc6b",
   "metadata": {},
   "outputs": [],
   "source": [
    "player_id_lst_dict = {player_id_lst[i]: i for i in range(len(player_id_lst))}\n",
    "\n",
    "#player_id_lst_dict"
   ]
  },
  {
   "cell_type": "markdown",
   "id": "8757da7b",
   "metadata": {},
   "source": [
    "## NAMES & HEIGHTS OF ALL OPPONENTS ##"
   ]
  },
  {
   "cell_type": "code",
   "execution_count": 9,
   "id": "d546b108",
   "metadata": {},
   "outputs": [],
   "source": [
    "names = ['Novak Djokovic','Daniil Medvedev','Alexander Zverev','Stefanos Tsitsipas','Andrey Rublev','Rafael Nadal',\n",
    "         'Matteo Berrettini','Casper Ruud','Hubert Hurkacz','Felix Auger-Aliassime','Jannik Sinner','Cameron Norrie',\n",
    "        'Diego Schwartzman','Denis Shapovalov','Dominic Thiem','Roger Federer','Aslan Karatsev','Cristian Garin',\n",
    "        'Roberto Bautista Agut','Pablo Carreno Busta','Gael Monfils','Nikoloz Basilashvili','Taylor Fritz','John Isner',\n",
    "        'Daniel Evans','Reilly Opelka','Lorenzo Sonego','Grigor Dimitrov','Karen Khachanov','Marin Cillic','Lloyd Harris',\n",
    "        'Carlos Alcaraz','Dusan Lajovic','Alex De Minaur','Ugo Humbert','Alexander Bublik','Fabio Fognini','Frances Tiafoe',\n",
    "        'David Goffin','Marton Fucsovics','Sebastian Korda','Filip Krajinovic','Tommy Paul','Federico Delbonis','Albert Ramos-Vinolas',\n",
    "        'Ilya Ivashka','Benoit Paire','Kei Nishikori','James Duckworth','Alejandro Davidovich Fokina','Jan-Lennard Struff',\n",
    "        'Laslo Djere','Soonwoo Kwon','Dominik Koepfer','Mackenzie McDonald','Jenson Brooksby','Botic Van De Zandschulp',\n",
    "        'Arthur Rinderknech','Lorenzo Musetti','Pedro Martinez','Alexei Popyrin','Brandon Nakashima','Gianluca Mager',\n",
    "        'Benjamin Bonzi','Tallon Griekspoor','Marcos Giron','Hugo Gaston','Miomir Kecmanovic','Federico Coria','Milos Raonic',\n",
    "        'Roberto Carballes Baena','Adrian Mannarino','John Millman','Borna Coric','Guido Pella','Facunda Bagnis','Jordan Thompson',\n",
    "        'Stefano Travaglia','Kevin Anderson','Yoshihito Nishioka','Stan Wawrinka','Jiri Vesely','Jaume Munar','Steve Johnson',\n",
    "        'Peter Gojowczyk','Richard Gasquet','Pablo Andujar','Corentin Moutet','Juan Manuel Cerundolo','Nick Kyrgios',\n",
    "        'Mikael Ymer','Emil Ruusuvuori','Tennys Sandgren','Thiago Monteiro','Pablo Cuevas','Marco Cecchinato','Henri Laaksonen',\n",
    "        'Daniel Altmaier','Carlos Taberner','Andreas Seppi']"
   ]
  },
  {
   "cell_type": "code",
   "execution_count": 10,
   "id": "32befc6c",
   "metadata": {},
   "outputs": [],
   "source": [
    "heights = [188,198,198,193,188,185,196,183,196,193,188,188,170,185,185,185,185,185,183,188,193,185,196,208,175,211,191,191,198,\n",
    "            198,193,185,183,183,188,196,178,188,180,188,196,185,185,193,188,193,196,178,183,183,193,188,180,180,178,193,191,\n",
    "            196,185,185,196,185,188,183,188,180,173,183,180,196,183,180,183,188,183,183,183,185,203,170,183,198,183,188,188,\n",
    "            183,180,175,183,193,183,188,188,183,180,185,185,188,183,191]"
   ]
  },
  {
   "cell_type": "code",
   "execution_count": 11,
   "id": "df1e6dac",
   "metadata": {},
   "outputs": [],
   "source": [
    "res = dict(zip(names, heights))"
   ]
  },
  {
   "cell_type": "markdown",
   "id": "107affe0",
   "metadata": {},
   "source": [
    "## YEAR 2021 ##"
   ]
  },
  {
   "cell_type": "markdown",
   "id": "666aa021",
   "metadata": {},
   "source": [
    "### COURT STATS ###"
   ]
  },
  {
   "cell_type": "code",
   "execution_count": 12,
   "id": "f0d58fa8",
   "metadata": {},
   "outputs": [],
   "source": [
    "#1st serve wins\n",
    "player_lst_21 = []\n",
    "for id in player_id_lst:\n",
    "    driver.get(f'https://www.atptour.com/-/ajax/hawkeyestats/serve/2021/0/{id}/all/1/all/D643/all')\n",
    "    json_player_21=json.loads(driver.find_element(by=\"xpath\", value='/html/body/pre').text)\n",
    "    player_lst_21.append(json_player_21)"
   ]
  },
  {
   "cell_type": "code",
   "execution_count": 19,
   "id": "9200f1bf",
   "metadata": {},
   "outputs": [],
   "source": [
    "#2nd serve wins\n",
    "player_2nd_21 = []\n",
    "for id in player_id_lst:\n",
    "    driver.get(f'https://www.atptour.com/-/ajax/hawkeyestats/serve/2021/0/{id}/all/2/all/D643/all')\n",
    "    json_player_21_2=json.loads(driver.find_element(by=\"xpath\", value='/html/body/pre').text)\n",
    "    player_2nd_21.append(json_player_21_2)"
   ]
  },
  {
   "cell_type": "code",
   "execution_count": null,
   "id": "727aea64",
   "metadata": {},
   "outputs": [],
   "source": [
    "with open('player_lst_21_data.json', 'w') as f:     \n",
    "    json.dump(player_lst_21, f)"
   ]
  },
  {
   "cell_type": "code",
   "execution_count": null,
   "id": "c43cb513",
   "metadata": {},
   "outputs": [],
   "source": [
    "with open('player_2nd_21_data.json', 'w') as f:     \n",
    "    json.dump(player_2nd_21, f)"
   ]
  },
  {
   "cell_type": "markdown",
   "id": "16b228b2",
   "metadata": {},
   "source": [
    "### filtering none values 2021 ###"
   ]
  },
  {
   "cell_type": "code",
   "execution_count": 20,
   "id": "3a71ccf5",
   "metadata": {},
   "outputs": [
    {
     "data": {
      "text/plain": [
       "97"
      ]
     },
     "execution_count": 20,
     "metadata": {},
     "output_type": "execute_result"
    }
   ],
   "source": [
    "filtered_lst_21=['None' if v is None else v for v in player_lst_21]\n",
    "len(filtered_lst_21)"
   ]
  },
  {
   "cell_type": "code",
   "execution_count": 21,
   "id": "9b0360f5",
   "metadata": {},
   "outputs": [
    {
     "data": {
      "text/plain": [
       "97"
      ]
     },
     "execution_count": 21,
     "metadata": {},
     "output_type": "execute_result"
    }
   ],
   "source": [
    "filtered_2nd_21=['None' if v is None else v for v in player_2nd_21]\n",
    "len(filtered_2nd_21)"
   ]
  },
  {
   "cell_type": "markdown",
   "id": "11935e4e",
   "metadata": {},
   "source": [
    "## Replacing none values with index (2021) ##"
   ]
  },
  {
   "cell_type": "code",
   "execution_count": 22,
   "id": "2e1762ce",
   "metadata": {},
   "outputs": [],
   "source": [
    "d_21={}\n",
    "for i,x in enumerate(filtered_lst_21):\n",
    "    if x !='None':\n",
    "        d_21[i]=x"
   ]
  },
  {
   "cell_type": "code",
   "execution_count": 23,
   "id": "4b20661a",
   "metadata": {},
   "outputs": [],
   "source": [
    "d_21_2={}\n",
    "for i,x in enumerate(filtered_2nd_21):\n",
    "    if x !='None':\n",
    "        d_21_2[i]=x"
   ]
  },
  {
   "cell_type": "markdown",
   "id": "78b616fb",
   "metadata": {},
   "source": [
    "## DataFrame for 2021 ##"
   ]
  },
  {
   "cell_type": "markdown",
   "id": "087e89e8",
   "metadata": {},
   "source": [
    "## T section of adcourt ##"
   ]
  },
  {
   "cell_type": "code",
   "execution_count": 24,
   "id": "6b24bf01",
   "metadata": {},
   "outputs": [],
   "source": [
    "x_T_21=[]\n",
    "for key, value in d_21.items():\n",
    "        x_T_21.append(value['T']['AdCourt']['Summary'])\n",
    "df_1st_T_21 = pd.DataFrame.from_dict(x_T_21).drop(columns=['ServesAttempted', 'ServesMade','ServesWon','ServesMadePercentage','AverageSpin'])\n",
    "\n"
   ]
  },
  {
   "cell_type": "code",
   "execution_count": 25,
   "id": "86955c1b",
   "metadata": {},
   "outputs": [],
   "source": [
    "df_1st_T_21.rename(columns={'ServesWonPercentage':'T_1st_ad_%ServesWon',\n",
    "                                'Returned':'T_1st_ad_Returned',\n",
    "                            'Unreturned':'T_1st_ad_Unreturned',\n",
    "                                'AverageSpeed':'T_1st_ad_AvgSpeed',\n",
    "                            'Aces':'T_1st_ad_Aces'\n",
    "                           },inplace=True)"
   ]
  },
  {
   "cell_type": "code",
   "execution_count": null,
   "id": "14be5dda",
   "metadata": {},
   "outputs": [],
   "source": [
    "#df_1st_T_21"
   ]
  },
  {
   "cell_type": "code",
   "execution_count": 26,
   "id": "642b5e02",
   "metadata": {},
   "outputs": [],
   "source": [
    "x_T_21_2=[]\n",
    "for key, value in d_21_2.items():\n",
    "        x_T_21_2.append(value['T']['AdCourt']['Summary'])\n",
    "df_2nd_T_21 = pd.DataFrame.from_dict(x_T_21_2).drop(columns=['ServesAttempted', 'ServesMade','ServesWon','ServesMadePercentage','AverageSpin'])"
   ]
  },
  {
   "cell_type": "code",
   "execution_count": 27,
   "id": "a9ec35e6",
   "metadata": {},
   "outputs": [],
   "source": [
    "df_2nd_T_21.rename(columns={'ServesWonPercentage':'T_1st_ad_%ServesWon',\n",
    "                                'Returned':'T_1st_ad_Returned',\n",
    "                            'Unreturned':'T_1st_ad_Unreturned',\n",
    "                                'AverageSpeed':'T_1st_ad_AvgSpeed',\n",
    "                            'Aces':'T_1st_ad_Aces'\n",
    "                           },inplace=True)"
   ]
  },
  {
   "cell_type": "code",
   "execution_count": null,
   "id": "cf1c1837",
   "metadata": {},
   "outputs": [],
   "source": [
    "#df_2nd_T_21"
   ]
  },
  {
   "cell_type": "markdown",
   "id": "d838d50d",
   "metadata": {},
   "source": [
    "## Mid sec of Adcourt ##"
   ]
  },
  {
   "cell_type": "code",
   "execution_count": 28,
   "id": "d9810090",
   "metadata": {},
   "outputs": [
    {
     "data": {
      "text/html": [
       "<div>\n",
       "<style scoped>\n",
       "    .dataframe tbody tr th:only-of-type {\n",
       "        vertical-align: middle;\n",
       "    }\n",
       "\n",
       "    .dataframe tbody tr th {\n",
       "        vertical-align: top;\n",
       "    }\n",
       "\n",
       "    .dataframe thead th {\n",
       "        text-align: right;\n",
       "    }\n",
       "</style>\n",
       "<table border=\"1\" class=\"dataframe\">\n",
       "  <thead>\n",
       "    <tr style=\"text-align: right;\">\n",
       "      <th></th>\n",
       "      <th>ServesWon</th>\n",
       "      <th>Returned</th>\n",
       "      <th>AverageSpeed</th>\n",
       "    </tr>\n",
       "  </thead>\n",
       "  <tbody>\n",
       "    <tr>\n",
       "      <th>0</th>\n",
       "      <td>0</td>\n",
       "      <td>0</td>\n",
       "      <td>0.0</td>\n",
       "    </tr>\n",
       "    <tr>\n",
       "      <th>1</th>\n",
       "      <td>0</td>\n",
       "      <td>0</td>\n",
       "      <td>0.0</td>\n",
       "    </tr>\n",
       "    <tr>\n",
       "      <th>2</th>\n",
       "      <td>0</td>\n",
       "      <td>1</td>\n",
       "      <td>123.0</td>\n",
       "    </tr>\n",
       "    <tr>\n",
       "      <th>3</th>\n",
       "      <td>0</td>\n",
       "      <td>0</td>\n",
       "      <td>0.0</td>\n",
       "    </tr>\n",
       "    <tr>\n",
       "      <th>4</th>\n",
       "      <td>0</td>\n",
       "      <td>0</td>\n",
       "      <td>0.0</td>\n",
       "    </tr>\n",
       "    <tr>\n",
       "      <th>5</th>\n",
       "      <td>0</td>\n",
       "      <td>0</td>\n",
       "      <td>0.0</td>\n",
       "    </tr>\n",
       "    <tr>\n",
       "      <th>6</th>\n",
       "      <td>1</td>\n",
       "      <td>1</td>\n",
       "      <td>121.0</td>\n",
       "    </tr>\n",
       "    <tr>\n",
       "      <th>7</th>\n",
       "      <td>0</td>\n",
       "      <td>0</td>\n",
       "      <td>0.0</td>\n",
       "    </tr>\n",
       "    <tr>\n",
       "      <th>8</th>\n",
       "      <td>0</td>\n",
       "      <td>0</td>\n",
       "      <td>0.0</td>\n",
       "    </tr>\n",
       "    <tr>\n",
       "      <th>9</th>\n",
       "      <td>1</td>\n",
       "      <td>0</td>\n",
       "      <td>125.0</td>\n",
       "    </tr>\n",
       "  </tbody>\n",
       "</table>\n",
       "</div>"
      ],
      "text/plain": [
       "   ServesWon  Returned  AverageSpeed\n",
       "0          0         0           0.0\n",
       "1          0         0           0.0\n",
       "2          0         1         123.0\n",
       "3          0         0           0.0\n",
       "4          0         0           0.0\n",
       "5          0         0           0.0\n",
       "6          1         1         121.0\n",
       "7          0         0           0.0\n",
       "8          0         0           0.0\n",
       "9          1         0         125.0"
      ]
     },
     "execution_count": 28,
     "metadata": {},
     "output_type": "execute_result"
    }
   ],
   "source": [
    "x_21=[]\n",
    "for key, value in d_21.items():\n",
    "        x_21.append(value['Mid']['AdCourt']['Summary'])\n",
    "df_1st_M_21 = pd.DataFrame.from_dict(x_21).drop(columns=['ServesAttempted', 'ServesMade','ServesMadePercentage',\n",
    "       'ServesWonPercentage', 'Aces', 'Unreturned',\n",
    "       'AverageSpin'])\n",
    "df_1st_M_21"
   ]
  },
  {
   "cell_type": "code",
   "execution_count": 29,
   "id": "8e7de9ec",
   "metadata": {},
   "outputs": [],
   "source": [
    "df_1st_M_21.rename(columns={'ServesWon':'M_1st_ad_ServesWon',\n",
    "                                'Returned':'M_1st_ad_Returned',\n",
    "                                'AverageSpeed':'M_1st_ad_AvgSpeed'},inplace=True)\n"
   ]
  },
  {
   "cell_type": "code",
   "execution_count": 30,
   "id": "39fd1061",
   "metadata": {},
   "outputs": [],
   "source": [
    "x_21_2=[]\n",
    "for key, value in d_21_2.items():\n",
    "        x_21_2.append(value['Mid']['AdCourt']['Summary'])\n",
    "df_2nd_M_21 = pd.DataFrame.from_dict(x_21_2).drop(columns=['ServesAttempted', 'ServesMade','ServesMadePercentage',\n",
    "       'ServesWonPercentage', 'Aces', 'Unreturned',\n",
    "       'AverageSpin'])\n",
    "#df_1st_M_22"
   ]
  },
  {
   "cell_type": "code",
   "execution_count": 31,
   "id": "0b5f1b97",
   "metadata": {},
   "outputs": [],
   "source": [
    "df_2nd_M_21.rename(columns={'ServesWon':'M_2nd_ad_ServesWon',\n",
    "                                'Returned':'M_2nd_ad_Returned',\n",
    "                                'AverageSpeed':'M_2nd_ad_AvgSpeed'},inplace=True)\n"
   ]
  },
  {
   "cell_type": "code",
   "execution_count": null,
   "id": "144c052e",
   "metadata": {},
   "outputs": [],
   "source": [
    "#df_2nd_M_21"
   ]
  },
  {
   "cell_type": "markdown",
   "id": "92a3e90f",
   "metadata": {},
   "source": [
    "## Wide sec ad court"
   ]
  },
  {
   "cell_type": "code",
   "execution_count": 32,
   "id": "2aaec956",
   "metadata": {},
   "outputs": [],
   "source": [
    "#wide ad 1st\n",
    "x_21=[]\n",
    "for key, value in d_21.items():\n",
    "        x_21.append(value['Wide']['AdCourt']['Summary'])\n",
    "df_1st_W_21 = pd.DataFrame.from_dict(x_21).drop(columns=['ServesAttempted', 'ServesMade','ServesMadePercentage',\n",
    "       'ServesWonPercentage', 'Aces', 'Unreturned',\n",
    "       'AverageSpin'])\n",
    "\n",
    "df_1st_W_21.rename(columns={'ServesWon':'W_1st_ad_ServesWon',\n",
    "                                'Returned':'W_1st_ad_Returned',\n",
    "                                'AverageSpeed':'W_1st_ad_AvgSpeed'},inplace=True)"
   ]
  },
  {
   "cell_type": "code",
   "execution_count": 33,
   "id": "4af45c54",
   "metadata": {},
   "outputs": [],
   "source": [
    "#wide ad 2nd\n",
    "x_21_2=[]\n",
    "for key, value in d_21_2.items():\n",
    "        x_21_2.append(value['Mid']['AdCourt']['Summary'])\n",
    "df_2nd_W_21 = pd.DataFrame.from_dict(x_21_2).drop(columns=['ServesAttempted', 'ServesMade','ServesMadePercentage',\n",
    "       'ServesWonPercentage', 'Aces', 'Unreturned',\n",
    "       'AverageSpin'])\n",
    "\n",
    "df_2nd_W_21.rename(columns={'ServesWon':'W_2nd_ad_ServesWon',\n",
    "                                'Returned':'W_2nd_ad_Returned',\n",
    "                                'AverageSpeed':'W_2nd_ad_AvgSpeed'},inplace=True)"
   ]
  },
  {
   "cell_type": "code",
   "execution_count": 2,
   "id": "4f37e5f8",
   "metadata": {},
   "outputs": [
    {
     "ename": "NameError",
     "evalue": "name 'df_1st_T_21' is not defined",
     "output_type": "error",
     "traceback": [
      "\u001b[0;31m---------------------------------------------------------------------------\u001b[0m",
      "\u001b[0;31mNameError\u001b[0m                                 Traceback (most recent call last)",
      "\u001b[0;32m/tmp/ipykernel_24178/3274898852.py\u001b[0m in \u001b[0;36m<module>\u001b[0;34m\u001b[0m\n\u001b[0;32m----> 1\u001b[0;31m \u001b[0mAd_21_df\u001b[0m\u001b[0;34m=\u001b[0m\u001b[0mdf_1st_T_21\u001b[0m\u001b[0;34m.\u001b[0m\u001b[0mjoin\u001b[0m\u001b[0;34m(\u001b[0m\u001b[0mdf_1st_M_21\u001b[0m\u001b[0;34m)\u001b[0m\u001b[0;34m.\u001b[0m\u001b[0mjoin\u001b[0m\u001b[0;34m(\u001b[0m\u001b[0mdf_1st_W_21\u001b[0m\u001b[0;34m)\u001b[0m\u001b[0;34m.\u001b[0m\u001b[0mjoin\u001b[0m\u001b[0;34m(\u001b[0m\u001b[0mdf_2nd_T_21\u001b[0m\u001b[0;34m)\u001b[0m\u001b[0;34m.\u001b[0m\u001b[0mjoin\u001b[0m\u001b[0;34m(\u001b[0m\u001b[0mdf_2nd_M_21\u001b[0m\u001b[0;34m)\u001b[0m\u001b[0;34m.\u001b[0m\u001b[0mjoin\u001b[0m\u001b[0;34m(\u001b[0m\u001b[0mdf_2nd_W_21\u001b[0m\u001b[0;34m)\u001b[0m\u001b[0;34m\u001b[0m\u001b[0;34m\u001b[0m\u001b[0m\n\u001b[0m\u001b[1;32m      2\u001b[0m \u001b[0mAd_21_df\u001b[0m\u001b[0;34m\u001b[0m\u001b[0;34m\u001b[0m\u001b[0m\n",
      "\u001b[0;31mNameError\u001b[0m: name 'df_1st_T_21' is not defined"
     ]
    }
   ],
   "source": [
    "Ad_21_df=df_1st_T_21.join(df_1st_M_21).join(df_1st_W_21).join(df_2nd_T_21).join(df_2nd_M_21).join(df_2nd_W_21)\n",
    "Ad_21_df"
   ]
  },
  {
   "cell_type": "markdown",
   "id": "b338580d",
   "metadata": {},
   "source": [
    "## YEAR 2020 ##"
   ]
  },
  {
   "cell_type": "markdown",
   "id": "36604fbf",
   "metadata": {},
   "source": [
    "### COURT STATS ###"
   ]
  },
  {
   "cell_type": "code",
   "execution_count": 36,
   "id": "d162012b",
   "metadata": {},
   "outputs": [
    {
     "name": "stderr",
     "output_type": "stream",
     "text": [
      "/var/folders/mk/0d3qnt_s4_s3462j10crtjqm0000gn/T/ipykernel_14402/3634333721.py:11: DeprecationWarning: executable_path has been deprecated, please pass in a Service object\n",
      "  driver = webdriver.Chrome(options=options, executable_path=ChromeDriverManager().install())\n"
     ]
    }
   ],
   "source": [
    "from selenium import webdriver\n",
    "from webdriver_manager.chrome import ChromeDriverManager\n",
    "\n",
    "from selenium import webdriver\n",
    "from selenium_stealth import stealth\n",
    "\n",
    "options = webdriver.ChromeOptions()\n",
    "options.add_argument(\"start-maximized\")\n",
    "options.add_experimental_option(\"excludeSwitches\", [\"enable-automation\"])\n",
    "options.add_experimental_option('useAutomationExtension', False)\n",
    "driver = webdriver.Chrome(options=options, executable_path=ChromeDriverManager().install())\n",
    "\n",
    "stealth(driver,\n",
    "        languages=[\"en-US\", \"en\"],\n",
    "        vendor=\"Google Inc.\",\n",
    "        platform=\"Win32\",\n",
    "        webgl_vendor=\"Intel Inc.\",\n",
    "        renderer=\"Intel Iris OpenGL Engine\",\n",
    "        fix_hairline=True,\n",
    "        )"
   ]
  },
  {
   "cell_type": "code",
   "execution_count": 37,
   "id": "8fc44ef9",
   "metadata": {},
   "outputs": [],
   "source": [
    "player_lst_20 = []\n",
    "for id in player_id_lst:\n",
    "    driver.get(f'https://www.atptour.com/-/ajax/hawkeyestats/serve/2020/0/D643/all/1/all/{id}/all')\n",
    "    json_player_20=json.loads(driver.find_element(by=\"xpath\", value='/html/body/pre').text)\n",
    "    player_lst_20.append(json_player_20)"
   ]
  },
  {
   "cell_type": "code",
   "execution_count": 38,
   "id": "e0c690f2",
   "metadata": {},
   "outputs": [
    {
     "name": "stderr",
     "output_type": "stream",
     "text": [
      "/var/folders/mk/0d3qnt_s4_s3462j10crtjqm0000gn/T/ipykernel_14402/3634333721.py:11: DeprecationWarning: executable_path has been deprecated, please pass in a Service object\n",
      "  driver = webdriver.Chrome(options=options, executable_path=ChromeDriverManager().install())\n"
     ]
    }
   ],
   "source": [
    "from selenium import webdriver\n",
    "from webdriver_manager.chrome import ChromeDriverManager\n",
    "\n",
    "from selenium import webdriver\n",
    "from selenium_stealth import stealth\n",
    "\n",
    "options = webdriver.ChromeOptions()\n",
    "options.add_argument(\"start-maximized\")\n",
    "options.add_experimental_option(\"excludeSwitches\", [\"enable-automation\"])\n",
    "options.add_experimental_option('useAutomationExtension', False)\n",
    "driver = webdriver.Chrome(options=options, executable_path=ChromeDriverManager().install())\n",
    "\n",
    "stealth(driver,\n",
    "        languages=[\"en-US\", \"en\"],\n",
    "        vendor=\"Google Inc.\",\n",
    "        platform=\"Win32\",\n",
    "        webgl_vendor=\"Intel Inc.\",\n",
    "        renderer=\"Intel Iris OpenGL Engine\",\n",
    "        fix_hairline=True,\n",
    "        )"
   ]
  },
  {
   "cell_type": "code",
   "execution_count": 39,
   "id": "553131be",
   "metadata": {},
   "outputs": [],
   "source": [
    "player_2nd_20 = []\n",
    "for id in player_id_lst:\n",
    "    driver.get(f'https://www.atptour.com/-/ajax/hawkeyestats/serve/2020/0/D643/all/2/all/{id}/all')\n",
    "    json_player_20_2=json.loads(driver.find_element(by=\"xpath\", value='/html/body/pre').text)\n",
    "    player_2nd_20.append(json_player_20_2)"
   ]
  },
  {
   "cell_type": "code",
   "execution_count": 40,
   "id": "e1291e97",
   "metadata": {},
   "outputs": [],
   "source": [
    "with open('player_lst_20_data.json', 'w') as f:     \n",
    "    json.dump(player_lst_20, f)"
   ]
  },
  {
   "cell_type": "code",
   "execution_count": 41,
   "id": "3d915393",
   "metadata": {},
   "outputs": [],
   "source": [
    "with open('player_2nd_20_data.json', 'w') as f:     \n",
    "    json.dump(player_2nd_20, f)"
   ]
  },
  {
   "cell_type": "markdown",
   "id": "c101a1f9",
   "metadata": {},
   "source": [
    "### filtering none values 2020 ###"
   ]
  },
  {
   "cell_type": "code",
   "execution_count": null,
   "id": "93d7892a",
   "metadata": {},
   "outputs": [],
   "source": [
    "filtered_lst_20=['None' if v is None else v for v in player_lst_20]\n",
    "len(filtered_lst_20)"
   ]
  },
  {
   "cell_type": "code",
   "execution_count": null,
   "id": "008a884c",
   "metadata": {},
   "outputs": [],
   "source": [
    "filtered_2nd_20=['None' if v is None else v for v in player_2nd_20]\n",
    "len(filtered_2nd_20)"
   ]
  },
  {
   "cell_type": "markdown",
   "id": "48aefaf4",
   "metadata": {},
   "source": [
    "## Replacing none values with index (2020) ##"
   ]
  },
  {
   "cell_type": "code",
   "execution_count": null,
   "id": "b35fcb6b",
   "metadata": {},
   "outputs": [],
   "source": [
    "d_20={}\n",
    "for i,x in enumerate(filtered_lst_20):\n",
    "    if x !='None':\n",
    "        d_20[i]=x"
   ]
  },
  {
   "cell_type": "code",
   "execution_count": null,
   "id": "86e2e5d8",
   "metadata": {},
   "outputs": [],
   "source": [
    "d_20_2={}\n",
    "for i,x in enumerate(filtered_2nd_20):\n",
    "    if x !='None':\n",
    "        d_20_2[i]=x"
   ]
  },
  {
   "cell_type": "code",
   "execution_count": null,
   "id": "16dbf451",
   "metadata": {},
   "outputs": [],
   "source": [
    "#T section ad court 1st serve\n",
    "x_20=[]\n",
    "for key, value in d_20.items():\n",
    "        x_20.append(value['T']['AdCourt']['Summary'])\n",
    "df_1st_T_20 = pd.DataFrame.from_dict(x_20).drop(columns=['ServesAttempted', 'ServesMade','ServesMadePercentage',\n",
    "       'ServesWonPercentage', 'Aces', 'Unreturned',\n",
    "       'AverageSpin'])"
   ]
  },
  {
   "cell_type": "code",
   "execution_count": null,
   "id": "6ba982c3",
   "metadata": {},
   "outputs": [],
   "source": [
    "df_1st_T_20.rename(columns={'ServesWon':'T_1st_ad_ServesWon',\n",
    "                                'Returned':'T_1st_ad_Returned',\n",
    "                                'AverageSpeed':'T_1st_ad_AvgSpeed'},inplace=True)\n",
    "#df_1st_20_T"
   ]
  },
  {
   "cell_type": "code",
   "execution_count": null,
   "id": "9fd462fe",
   "metadata": {},
   "outputs": [],
   "source": [
    "#2nd serve\n",
    "x_20_2=[]\n",
    "for key, value in d_20_2.items():\n",
    "        x_20_2.append(value['T']['AdCourt']['Summary'])\n",
    "df_2nd_T_20 = pd.DataFrame.from_dict(x_20_2).drop(columns=['ServesAttempted', 'ServesMade','ServesMadePercentage',\n",
    "       'ServesWonPercentage', 'Aces', 'Unreturned',\n",
    "       'AverageSpin'])"
   ]
  },
  {
   "cell_type": "code",
   "execution_count": null,
   "id": "13ff8bc7",
   "metadata": {},
   "outputs": [],
   "source": [
    "df_2nd_T_20.rename(columns={'ServesWon':'T_2nd_ad_ServesWon',\n",
    "                                'Returned':'T_2nd_ad_Returned',\n",
    "                                'AverageSpeed':'T_2nd_ad_AvgSpeed'},inplace=True)\n",
    "#df_2nd_20_T"
   ]
  },
  {
   "cell_type": "code",
   "execution_count": null,
   "id": "3fc00236",
   "metadata": {},
   "outputs": [],
   "source": [
    "len(d_20_2.items())"
   ]
  },
  {
   "cell_type": "code",
   "execution_count": null,
   "id": "6b65dae8",
   "metadata": {},
   "outputs": [],
   "source": [
    "#mid section ad court 1st serve\n",
    "x_M_20=[]\n",
    "for key, value in d_20.items():\n",
    "        x_M_20.append(value['Mid']['AdCourt']['Summary'])\n",
    "df_M_20 = pd.DataFrame.from_dict(x_M_20).drop(columns=['ServesAttempted', 'ServesMade','ServesMadePercentage',\n",
    "       'ServesWonPercentage', 'Aces', 'Unreturned',\n",
    "       'AverageSpin'])"
   ]
  },
  {
   "cell_type": "code",
   "execution_count": null,
   "id": "11942e8e",
   "metadata": {},
   "outputs": [],
   "source": [
    "df_1st_M_20.rename(columns={'ServesWon':'M_1st_ad_ServesWon',\n",
    "                                'Returned':'M_1st_ad_Returned',\n",
    "                                'AverageSpeed':'M_1st_ad_AvgSpeed'},inplace=True)\n",
    "#df_1st_M_20"
   ]
  },
  {
   "cell_type": "code",
   "execution_count": null,
   "id": "2e96f162",
   "metadata": {},
   "outputs": [],
   "source": [
    "#mid section ad court 2nd serve\n",
    "x_M_20_2=[]\n",
    "for key, value in d_20_2.items():\n",
    "        x_M_20_2.append(value['Mid']['AdCourt']['Summary'])\n",
    "df_2nd_M_20 = pd.DataFrame.from_dict(x_M_20_2).drop(columns=['ServesAttempted', 'ServesMade','ServesMadePercentage',\n",
    "       'ServesWonPercentage', 'Aces', 'Unreturned',\n",
    "       'AverageSpin'])\n",
    "\n",
    "df_2nd_M_20.rename(columns={'ServesWon':'M_2nd_ad_ServesWon',\n",
    "                                'Returned':'M_2nd_ad_Returned',\n",
    "                                'AverageSpeed':'M_2nd_ad_AvgSpeed'},inplace=True)\n",
    "#df_1st_M_20"
   ]
  },
  {
   "cell_type": "code",
   "execution_count": null,
   "id": "1ef291e8",
   "metadata": {},
   "outputs": [],
   "source": [
    "#wide section ad court 1st serve\n",
    "x_W_20=[]\n",
    "for key, value in d_20.items():\n",
    "        x_W_20.append(value['Wide']['AdCourt']['Summary'])\n",
    "df_1st_W_20 = pd.DataFrame.from_dict(x_W_20).drop(columns=['ServesAttempted', 'ServesMade','ServesMadePercentage',\n",
    "       'ServesWonPercentage', 'Aces', 'Unreturned',\n",
    "       'AverageSpin'])"
   ]
  },
  {
   "cell_type": "code",
   "execution_count": null,
   "id": "d0c1d10b",
   "metadata": {},
   "outputs": [],
   "source": [
    "df_1st_W_20.rename(columns={'ServesWon':'W_1st_ad_ServesWon',\n",
    "                                'Returned':'W_1st_ad_Returned',\n",
    "                                'AverageSpeed':'W_1st_ad_AvgSpeed'},inplace=True)\n",
    "#df_1st_W_20"
   ]
  },
  {
   "cell_type": "code",
   "execution_count": null,
   "id": "3a40cfde",
   "metadata": {},
   "outputs": [],
   "source": [
    "#wide section ad court 2nd serve\n",
    "x_W_20_2=[]\n",
    "for key, value in d_20_2.items():\n",
    "        x_W_20_2.append(value['Wide']['AdCourt']['Summary'])\n",
    "df_2nd_W_20 = pd.DataFrame.from_dict(x_W_20_2).drop(columns=['ServesAttempted', 'ServesMade','ServesMadePercentage',\n",
    "       'ServesWonPercentage', 'Aces', 'Unreturned',\n",
    "       'AverageSpin'])\n",
    "\n",
    "df_2nd_W_20.rename(columns={'ServesWon':'W_2nd_ad_ServesWon',\n",
    "                                'Returned':'W_2nd_ad_Returned',\n",
    "                                'AverageSpeed':'W_2nd_ad_AvgSpeed'},inplace=True)"
   ]
  },
  {
   "cell_type": "code",
   "execution_count": null,
   "id": "a9508ce5",
   "metadata": {},
   "outputs": [],
   "source": [
    "Ad_20_df=df_1st_T_20.join(df_1st_M_20).join(df_1st_W_20).join(df_2nd_20_T).join(df_2nd_M_20).join(df_2nd_W_20)\n",
    "#Ad_20_df"
   ]
  },
  {
   "cell_type": "markdown",
   "id": "ddc8110a",
   "metadata": {},
   "source": [
    "## YEAR 2019 ##"
   ]
  },
  {
   "cell_type": "markdown",
   "id": "8fde3c9f",
   "metadata": {},
   "source": [
    "### COURT STATS ###"
   ]
  },
  {
   "cell_type": "code",
   "execution_count": null,
   "id": "eeed44b9",
   "metadata": {},
   "outputs": [],
   "source": [
    "player_lst_19 = []\n",
    "for id in player_id_lst:\n",
    "    driver.get(f'https://www.atptour.com/-/ajax/hawkeyestats/serve/2019/0/D643/all/1/all/{id}/all')\n",
    "    json_player_19=json.loads(driver.find_element(by=\"xpath\", value='/html/body/pre').text)\n",
    "    player_lst_19.append(json_player_19)"
   ]
  },
  {
   "cell_type": "code",
   "execution_count": null,
   "id": "48d53337",
   "metadata": {},
   "outputs": [],
   "source": [
    "player_2nd_19 = []\n",
    "for id in player_id_lst:\n",
    "    driver.get(f'https://www.atptour.com/-/ajax/hawkeyestats/serve/2019/0/D643/all/2/all/{id}/all')\n",
    "    json_player_19_2 =json.loads(driver.find_element(by=\"xpath\", value='/html/body/pre').text)\n",
    "    player_2nd_19.append(json_player_19_2)"
   ]
  },
  {
   "cell_type": "markdown",
   "id": "e9ddb4c5",
   "metadata": {},
   "source": [
    "### filtering none values 2019 ###"
   ]
  },
  {
   "cell_type": "code",
   "execution_count": null,
   "id": "465a9d82",
   "metadata": {},
   "outputs": [],
   "source": [
    "filtered_lst_19=['None' if v is None else v for v in player_lst_19]\n",
    "len(filtered_lst_19)"
   ]
  },
  {
   "cell_type": "code",
   "execution_count": null,
   "id": "aee9543e",
   "metadata": {},
   "outputs": [],
   "source": [
    "filtered_2nd_19=['None' if v is None else v for v in player_2nd_19]\n",
    "len(filtered_2nd_19)"
   ]
  },
  {
   "cell_type": "markdown",
   "id": "0ded22cd",
   "metadata": {},
   "source": [
    "## Replacing none values with index (2019) ##"
   ]
  },
  {
   "cell_type": "code",
   "execution_count": null,
   "id": "0f49e435",
   "metadata": {},
   "outputs": [],
   "source": [
    "d_19={}\n",
    "for i,x in enumerate(filtered_lst_19):\n",
    "    if x !='None':\n",
    "        d_19[i]=x"
   ]
  },
  {
   "cell_type": "code",
   "execution_count": null,
   "id": "a551b138",
   "metadata": {},
   "outputs": [],
   "source": [
    "d_19_2={}\n",
    "for i,x in enumerate(filtered_2nd_19):\n",
    "    if x !='None':\n",
    "        d_19[i]=x"
   ]
  },
  {
   "cell_type": "code",
   "execution_count": null,
   "id": "5a49bbf3",
   "metadata": {},
   "outputs": [],
   "source": [
    "#T section ad court 1st serve\n",
    "x_T_19=[]\n",
    "for key, value in d_19.items():\n",
    "        x_19.append(value['T']['AdCourt']['Summary'])\n",
    "df_1st_T_19 = pd.DataFrame.from_dict(x_19).drop(columns=['ServesAttempted', 'ServesMade','ServesMadePercentage',\n",
    "       'ServesWonPercentage', 'Aces', 'Unreturned',\n",
    "       'AverageSpin'])\n",
    "\n",
    "df_1st_T_19.rename(columns={'ServesWon':'T_1st_ad_ServesWon',\n",
    "                                'Returned':'T_1st_ad_Returned',\n",
    "                                'AverageSpeed':'T_1st_ad_AvgSpeed'},inplace=True)\n",
    "#df_1st_T_19"
   ]
  },
  {
   "cell_type": "code",
   "execution_count": null,
   "id": "79413b82",
   "metadata": {},
   "outputs": [],
   "source": [
    "# T ad 2nd\n",
    "x_T_19_2=[]\n",
    "for key, value in d_19_2.items():\n",
    "        x_19_2.append(value['T']['AdCourt']['Summary'])\n",
    "df_2nd_T_19 = pd.DataFrame.from_dict(x_19_2).drop(columns=['ServesAttempted', 'ServesMade','ServesMadePercentage',\n",
    "       'ServesWonPercentage', 'Aces', 'Unreturned',\n",
    "       'AverageSpin'])\n",
    "\n",
    "df_2nd_T_19.rename(columns={'ServesWon':'T_2nd_ad_ServesWon',\n",
    "                                'Returned':'T_2nd_ad_Returned',\n",
    "                                'AverageSpeed':'T_2nd_ad_AvgSpeed'},inplace=True)\n",
    "#df_2nd_T_19"
   ]
  },
  {
   "cell_type": "code",
   "execution_count": null,
   "id": "ff8f2cc2",
   "metadata": {},
   "outputs": [],
   "source": [
    "# Mid ad 1st\n",
    "x_M_19=[]\n",
    "for key, value in d_19.items():\n",
    "        x_M_19.append(value['Mid']['AdCourt']['Summary'])\n",
    "df_1st_M_19 = pd.DataFrame.from_dict(x_M_19).drop(columns=['ServesAttempted', 'ServesMade','ServesMadePercentage',\n",
    "       'ServesWonPercentage', 'Aces', 'Unreturned',\n",
    "       'AverageSpin'])\n",
    "\n",
    "df_1st_M_19.rename(columns={'ServesWon':'M_1st_ad_ServesWon',\n",
    "                                'Returned':'M_1st_ad_Returned',\n",
    "                                'AverageSpeed':'M_1st_ad_AvgSpeed'},inplace=True)\n",
    "#df_1st_M_19"
   ]
  },
  {
   "cell_type": "code",
   "execution_count": null,
   "id": "dec2ad94",
   "metadata": {},
   "outputs": [],
   "source": [
    "# Mid ad 2nd\n",
    "x_M_19_2=[]\n",
    "for key, value in d_19_2.items():\n",
    "        x_19_2.append(value['Mid']['AdCourt']['Summary'])\n",
    "df_2nd_T_19 = pd.DataFrame.from_dict(x_19_2).drop(columns=['ServesAttempted', 'ServesMade','ServesMadePercentage',\n",
    "       'ServesWonPercentage', 'Aces', 'Unreturned',\n",
    "       'AverageSpin'])\n",
    "\n",
    "df_2nd_T_19.rename(columns={'ServesWon':'M_2nd_ad_ServesWon',\n",
    "                                'Returned':'M_2nd_ad_Returned',\n",
    "                                'AverageSpeed':'M_2nd_ad_AvgSpeed'},inplace=True)"
   ]
  },
  {
   "cell_type": "code",
   "execution_count": null,
   "id": "984a898a",
   "metadata": {},
   "outputs": [],
   "source": [
    "# Wide ad 1st\n",
    "x_W_19=[]\n",
    "for key, value in d_19.items():\n",
    "        x_W_19.append(value['Wide']['AdCourt']['Summary'])\n",
    "df_1st_W_19 = pd.DataFrame.from_dict(x_M_19).drop(columns=['ServesAttempted', 'ServesMade','ServesMadePercentage',\n",
    "       'ServesWonPercentage', 'Aces', 'Unreturned',\n",
    "       'AverageSpin'])\n",
    "\n",
    "df_1st_W_19.rename(columns={'ServesWon':'W_1st_ad_ServesWon',\n",
    "                                'Returned':'W_1st_ad_Returned',\n",
    "                                'AverageSpeed':'W_1st_ad_AvgSpeed'},inplace=True)\n",
    "#df_1st_W_19"
   ]
  },
  {
   "cell_type": "code",
   "execution_count": null,
   "id": "2232e66c",
   "metadata": {},
   "outputs": [],
   "source": [
    "# Wide ad 2nd\n",
    "x_W_19_2=[]\n",
    "for key, value in d_19_2.items():\n",
    "        x_W_19_2.append(value['Wide']['AdCourt']['Summary'])\n",
    "df_2nd_W_19 = pd.DataFrame.from_dict(x_W_19_2).drop(columns=['ServesAttempted', 'ServesMade','ServesMadePercentage',\n",
    "       'ServesWonPercentage', 'Aces', 'Unreturned',\n",
    "       'AverageSpin'])\n",
    "\n",
    "df_2nd_W_19.rename(columns={'ServesWon':'W_2nd_ad_ServesWon',\n",
    "                                'Returned':'W_2nd_ad_Returned',\n",
    "                                'AverageSpeed':'W_2nd_ad_AvgSpeed'},inplace=True)"
   ]
  },
  {
   "cell_type": "code",
   "execution_count": null,
   "id": "24e54bf2",
   "metadata": {},
   "outputs": [],
   "source": [
    "Ad_19_df=df_1st_T_19.join(df_1st_M_19).join(df_1st_W_19).join(df_2nd_T_19).join(df_2nd_M_19).join(df_2nd_W_19)\n",
    "#Ad_19_df"
   ]
  },
  {
   "cell_type": "markdown",
   "id": "6fadb34a",
   "metadata": {},
   "source": [
    "## YEAR 2018 ##"
   ]
  },
  {
   "cell_type": "markdown",
   "id": "f802306b",
   "metadata": {},
   "source": [
    "### COURT STATS ###"
   ]
  },
  {
   "cell_type": "code",
   "execution_count": null,
   "id": "2a4d6bde",
   "metadata": {},
   "outputs": [],
   "source": [
    "#1st ad 1st 2018\n",
    "player_lst_18 = []\n",
    "for id in player_id_lst:\n",
    "    driver.get(f'https://www.atptour.com/-/ajax/hawkeyestats/serve/2018/0/D643/all/1/all/{id}/all')\n",
    "    json_player_18=json.loads(driver.find_element(by=\"xpath\", value='/html/body/pre').text)\n",
    "    player_lst_18.append(json_player_18)"
   ]
  },
  {
   "cell_type": "code",
   "execution_count": null,
   "id": "f6b78244",
   "metadata": {},
   "outputs": [],
   "source": [
    "#1st ad 1st 2018\n",
    "player_lst_18 = []\n",
    "for id in player_id_lst:\n",
    "    driver.get(f'https://www.atptour.com/-/ajax/hawkeyestats/serve/2018/0/D643/all/2/all/{id}/all')\n",
    "    json_player_18=json.loads(driver.find_element(by=\"xpath\", value='/html/body/pre').text)\n",
    "    player_lst_18.append(json_player_18)"
   ]
  },
  {
   "cell_type": "markdown",
   "id": "6ddb837d",
   "metadata": {},
   "source": [
    "### filtering none values 2018 ###"
   ]
  },
  {
   "cell_type": "code",
   "execution_count": null,
   "id": "d15e1731",
   "metadata": {},
   "outputs": [],
   "source": [
    "filtered_lst_18=['None' if v is None else v for v in player_lst_18]\n",
    "len(filtered_lst_18)"
   ]
  },
  {
   "cell_type": "code",
   "execution_count": null,
   "id": "4d5aac8c",
   "metadata": {},
   "outputs": [],
   "source": [
    "filtered_2nd_18=['None' if v is None else v for v in player_lst_18]\n",
    "len(filtered_2nd_18)"
   ]
  },
  {
   "cell_type": "markdown",
   "id": "1fea0a5b",
   "metadata": {},
   "source": [
    "## Replacing none values with index (2018) ##"
   ]
  },
  {
   "cell_type": "code",
   "execution_count": null,
   "id": "84b96145",
   "metadata": {},
   "outputs": [],
   "source": [
    "d_18={}\n",
    "for i,x in enumerate(filtered_lst_18):\n",
    "    if x !='None':\n",
    "        d_18[i]=x"
   ]
  },
  {
   "cell_type": "code",
   "execution_count": null,
   "id": "9b13b2e5",
   "metadata": {},
   "outputs": [],
   "source": [
    "d_18_2={}\n",
    "for i,x in enumerate(filtered_2nd_18):\n",
    "    if x !='None':\n",
    "        d_18_2[i]=x"
   ]
  },
  {
   "cell_type": "code",
   "execution_count": null,
   "id": "19370e67",
   "metadata": {},
   "outputs": [],
   "source": [
    "#T section ad court 1st serve\n",
    "x_T_18=[]\n",
    "for key, value in d_18.items():\n",
    "        x_T_18.append(value['T']['AdCourt']['Summary'])\n",
    "df_1st_T_18 = pd.DataFrame.from_dict(x_T_18).drop(columns=['ServesAttempted', 'ServesMade','ServesMadePercentage',\n",
    "       'ServesWonPercentage', 'Aces', 'Unreturned',\n",
    "       'AverageSpin'])\n",
    "\n",
    "df_1st_T_18.rename(columns={'ServesWon':'T_1st_ad_ServesWon',\n",
    "                                'Returned':'T_1st_ad_Returned',\n",
    "                                'AverageSpeed':'T_1st_ad_AvgSpeed'},inplace=True)\n",
    "#df_1st_T_19"
   ]
  },
  {
   "cell_type": "code",
   "execution_count": null,
   "id": "ede242da",
   "metadata": {},
   "outputs": [],
   "source": [
    "# T ad 2nd\n",
    "x_T_18_2=[]\n",
    "for key, value in d_18_2.items():\n",
    "        x_T_18_2.append(value['T']['AdCourt']['Summary'])\n",
    "df_2nd_T_18 = pd.DataFrame.from_dict(x_T_18_2).drop(columns=['ServesAttempted', 'ServesMade','ServesMadePercentage',\n",
    "       'ServesWonPercentage', 'Aces', 'Unreturned',\n",
    "       'AverageSpin'])\n",
    "\n",
    "df_2nd_T_18.rename(columns={'ServesWon':'T_2nd_ad_ServesWon',\n",
    "                                'Returned':'T_2nd_ad_Returned',\n",
    "                                'AverageSpeed':'T_2nd_ad_AvgSpeed'},inplace=True)\n",
    "#df_2nd_T_18"
   ]
  },
  {
   "cell_type": "code",
   "execution_count": null,
   "id": "8660fc81",
   "metadata": {},
   "outputs": [],
   "source": [
    "#mid section ad court 1st serve\n",
    "x_M_18=[]\n",
    "for key, value in d_18.items():\n",
    "        x_M_18.append(value['Mid']['AdCourt']['Summary'])\n",
    "df_1st_M_18 = pd.DataFrame.from_dict(x_M_18).drop(columns=['ServesAttempted', 'ServesMade','ServesMadePercentage',\n",
    "       'ServesWonPercentage', 'Aces', 'Unreturned',\n",
    "       'AverageSpin'])\n",
    "df_1st_M_18.rename(columns={'ServesWon':'M_1st_ad_ServesWon',\n",
    "                                'Returned':'M_1st_ad_Returned',\n",
    "                                'AverageSpeed':'M_1st_ad_AvgSpeed'},inplace=True)\n",
    "#df_1st_T_18\n",
    "\n",
    "\n"
   ]
  },
  {
   "cell_type": "code",
   "execution_count": null,
   "id": "a474da7c",
   "metadata": {},
   "outputs": [],
   "source": [
    "#mid section ad court 2nd serve\n",
    "x_M_18_2=[]\n",
    "for key, value in d_18_2.items():\n",
    "        x_M_18_2.append(value['Mid']['AdCourt']['Summary'])\n",
    "df_2nd_M_18 = pd.DataFrame.from_dict(x_M_18_2).drop(columns=['ServesAttempted', 'ServesMade','ServesMadePercentage',\n",
    "       'ServesWonPercentage', 'Aces', 'Unreturned',\n",
    "       'AverageSpin'])\n",
    "\n",
    "df_2nd_M_18.rename(columns={'ServesWon':'M_2nd_ad_ServesWon',\n",
    "                                'Returned':'M_2nd_ad_Returned',\n",
    "                                'AverageSpeed':'M_2nd_ad_AvgSpeed'},inplace=True)\n",
    "#df_1st_M_18"
   ]
  },
  {
   "cell_type": "code",
   "execution_count": null,
   "id": "02ab580e",
   "metadata": {},
   "outputs": [],
   "source": [
    "#wide section ad court 1st serve\n",
    "x_W_18=[]\n",
    "for key, value in d_18.items():\n",
    "        x_W_18.append(value['Wide']['AdCourt']['Summary'])\n",
    "df_1st_W_18 = pd.DataFrame.from_dict(x_W_18).drop(columns=['ServesAttempted', 'ServesMade','ServesMadePercentage',\n",
    "       'ServesWonPercentage', 'Aces', 'Unreturned',\n",
    "       'AverageSpin'])\n",
    "\n",
    "df_1st_W_18.rename(columns={'ServesWon':'W_1st_ad_ServesWon',\n",
    "                                'Returned':'W_1st_ad_Returned',\n",
    "                                'AverageSpeed':'W_1st_ad_AvgSpeed'},inplace=True)\n",
    "#df_1st_W_18"
   ]
  },
  {
   "cell_type": "code",
   "execution_count": null,
   "id": "675572b3",
   "metadata": {},
   "outputs": [],
   "source": [
    "#wide section ad court 2nd serve\n",
    "x_W_18_2=[]\n",
    "for key, value in d_18_2.items():\n",
    "        x_W_18_2.append(value['W']['AdCourt']['Summary'])\n",
    "df_2nd_W_18 = pd.DataFrame.from_dict(x_W_18_2).drop(columns=['ServesAttempted', 'ServesMade','ServesMadePercentage',\n",
    "       'ServesWonPercentage', 'Aces', 'Unreturned',\n",
    "       'AverageSpin'])\n",
    "\n",
    "df_2nd_W_18.rename(columns={'ServesWon':'W_2nd_ad_ServesWon',\n",
    "                                'Returned':'W_2nd_ad_Returned',\n",
    "                                'AverageSpeed':'W_2nd_ad_AvgSpeed'},inplace=True)\n",
    "#df_2nd_W_18"
   ]
  },
  {
   "cell_type": "code",
   "execution_count": null,
   "id": "d632b557",
   "metadata": {},
   "outputs": [],
   "source": [
    "Ad_18_df=df_1st_T_18.join(df_1st_M_18).join(df_1st_W_18).join(df_2nd_T_18).join(df_2nd_M_18).join(df_2nd_W_18)\n",
    "#Ad_18_df"
   ]
  },
  {
   "cell_type": "markdown",
   "id": "a1d4eb26",
   "metadata": {},
   "source": [
    "## YEAR 2017 ##"
   ]
  },
  {
   "cell_type": "markdown",
   "id": "95be8dc4",
   "metadata": {},
   "source": [
    "### COURT STATS ###"
   ]
  },
  {
   "cell_type": "code",
   "execution_count": null,
   "id": "b7b7617d",
   "metadata": {},
   "outputs": [],
   "source": [
    "#1st ad 1st 2017\n",
    "player_lst_17 = []\n",
    "for id in player_id_lst:\n",
    "    driver.get(f'https://www.atptour.com/-/ajax/hawkeyestats/serve/2017/0/D643/all/1/all/{id}/all')\n",
    "    json_player_17=json.loads(driver.find_element(by=\"xpath\", value='/html/body/pre').text)\n",
    "    player_lst_17.append(json_player_17)"
   ]
  },
  {
   "cell_type": "code",
   "execution_count": null,
   "id": "7c54dd29",
   "metadata": {},
   "outputs": [],
   "source": [
    "#2nd ad 1st 2017\n",
    "player_2nd_17 = []\n",
    "for id in player_id_lst:\n",
    "    driver.get(f'https://www.atptour.com/-/ajax/hawkeyestats/serve/2018/0/D643/all/2/all/{id}/all')\n",
    "    json_player_17_2=json.loads(driver.find_element(by=\"xpath\", value='/html/body/pre').text)\n",
    "    player_2nd_17.append(json_player_17_2)"
   ]
  },
  {
   "cell_type": "markdown",
   "id": "b5b09e8e",
   "metadata": {},
   "source": [
    "### filtering none values 2017 ###"
   ]
  },
  {
   "cell_type": "code",
   "execution_count": null,
   "id": "c784ee07",
   "metadata": {},
   "outputs": [],
   "source": [
    "filtered_lst_17=['None' if v is None else v for v in player_lst_17]\n",
    "len(filtered_lst_17)"
   ]
  },
  {
   "cell_type": "code",
   "execution_count": null,
   "id": "d8342f30",
   "metadata": {},
   "outputs": [],
   "source": [
    "filtered_2nd_17=['None' if v is None else v for v in player_2nd_17]\n",
    "len(filtered_2nd_17)"
   ]
  },
  {
   "cell_type": "markdown",
   "id": "5163575b",
   "metadata": {},
   "source": [
    "## Replacing none values with index (2017) ##"
   ]
  },
  {
   "cell_type": "code",
   "execution_count": null,
   "id": "97c8a4cd",
   "metadata": {},
   "outputs": [],
   "source": [
    "d_17={}\n",
    "for i,x in enumerate(filtered_lst_17):\n",
    "    if x !='None':\n",
    "        d_17[i]=x"
   ]
  },
  {
   "cell_type": "code",
   "execution_count": null,
   "id": "ccd50cc5",
   "metadata": {},
   "outputs": [],
   "source": [
    "d_17_2={}\n",
    "for i,x in enumerate(filtered_2nd_17):\n",
    "    if x !='None':\n",
    "        d_17_2[i]=x"
   ]
  },
  {
   "cell_type": "code",
   "execution_count": null,
   "id": "a0620988",
   "metadata": {},
   "outputs": [],
   "source": [
    "#T section ad court 1st serve\n",
    "x_T_17=[]\n",
    "for key, value in d_17.items():\n",
    "        x_T_17.append(value['T']['AdCourt']['Summary'])\n",
    "df_1st_T_17 = pd.DataFrame.from_dict(x_T_17).drop(columns=['ServesAttempted', 'ServesMade','ServesMadePercentage',\n",
    "       'ServesWonPercentage', 'Aces', 'Unreturned',\n",
    "       'AverageSpin'])\n",
    "\n",
    "df_1st_T_17.rename(columns={'ServesWon':'T_1st_ad_ServesWon',\n",
    "                                'Returned':'T_1st_ad_Returned',\n",
    "                                'AverageSpeed':'T_1st_ad_AvgSpeed'},inplace=True)\n",
    "#df_1st_T_19"
   ]
  },
  {
   "cell_type": "code",
   "execution_count": null,
   "id": "91169fb5",
   "metadata": {},
   "outputs": [],
   "source": [
    "# T ad 2nd\n",
    "x_T_17_2=[]\n",
    "for key, value in d_17_2.items():\n",
    "        x_T_17_2.append(value['T']['AdCourt']['Summary'])\n",
    "df_2nd_T_17 = pd.DataFrame.from_dict(x_T_18_2).drop(columns=['ServesAttempted', 'ServesMade','ServesMadePercentage',\n",
    "       'ServesWonPercentage', 'Aces', 'Unreturned',\n",
    "       'AverageSpin'])\n",
    "\n",
    "df_2nd_T_17.rename(columns={'ServesWon':'T_2nd_ad_ServesWon',\n",
    "                                'Returned':'T_2nd_ad_Returned',\n",
    "                                'AverageSpeed':'T_2nd_ad_AvgSpeed'},inplace=True)\n",
    "#df_2nd_T_17"
   ]
  },
  {
   "cell_type": "code",
   "execution_count": null,
   "id": "5fbfa141",
   "metadata": {},
   "outputs": [],
   "source": [
    "#mid section ad court 1st serve\n",
    "x_M_17=[]\n",
    "for key, value in d_17.items():\n",
    "        x_M_18.append(value['Mid']['AdCourt']['Summary'])\n",
    "df_1st_M_17 = pd.DataFrame.from_dict(x_M_17).drop(columns=['ServesAttempted', 'ServesMade','ServesMadePercentage',\n",
    "       'ServesWonPercentage', 'Aces', 'Unreturned',\n",
    "       'AverageSpin'])\n",
    "df_1st_M_17.rename(columns={'ServesWon':'M_1st_ad_ServesWon',\n",
    "                                'Returned':'M_1st_ad_Returned',\n",
    "                                'AverageSpeed':'M_1st_ad_AvgSpeed'},inplace=True)\n",
    "#df_1st_T_17"
   ]
  },
  {
   "cell_type": "code",
   "execution_count": null,
   "id": "15ae9301",
   "metadata": {},
   "outputs": [],
   "source": [
    "#mid section ad court 2nd serve\n",
    "x_M_17_2=[]\n",
    "for key, value in d_17_2.items():\n",
    "        x_M_17_2.append(value['Mid']['AdCourt']['Summary'])\n",
    "df_2nd_M_17 = pd.DataFrame.from_dict(x_M_17_2).drop(columns=['ServesAttempted', 'ServesMade','ServesMadePercentage',\n",
    "       'ServesWonPercentage', 'Aces', 'Unreturned',\n",
    "       'AverageSpin'])\n",
    "\n",
    "df_2nd_M_17.rename(columns={'ServesWon':'M_2nd_ad_ServesWon',\n",
    "                                'Returned':'M_2nd_ad_Returned',\n",
    "                                'AverageSpeed':'M_2nd_ad_AvgSpeed'},inplace=True)\n",
    "#df_1st_M_17"
   ]
  },
  {
   "cell_type": "code",
   "execution_count": null,
   "id": "0e5a95dc",
   "metadata": {},
   "outputs": [],
   "source": [
    "#wide section ad court 1st serve\n",
    "x_W_17=[]\n",
    "for key, value in d_17.items():\n",
    "        x_W_17.append(value['Wide']['AdCourt']['Summary'])\n",
    "df_1st_W_17 = pd.DataFrame.from_dict(x_W_17).drop(columns=['ServesAttempted', 'ServesMade','ServesMadePercentage',\n",
    "       'ServesWonPercentage', 'Aces', 'Unreturned',\n",
    "       'AverageSpin'])\n",
    "\n",
    "df_1st_W_17.rename(columns={'ServesWon':'W_1st_ad_ServesWon',\n",
    "                                'Returned':'W_1st_ad_Returned',\n",
    "                                'AverageSpeed':'W_1st_ad_AvgSpeed'},inplace=True)\n",
    "#df_1st_W_17"
   ]
  },
  {
   "cell_type": "code",
   "execution_count": null,
   "id": "b490a440",
   "metadata": {},
   "outputs": [],
   "source": [
    "#wide section ad court 2nd serve\n",
    "x_W_17_2=[]\n",
    "for key, value in d_17_2.items():\n",
    "        x_W_17_2.append(value['W']['AdCourt']['Summary'])\n",
    "df_2nd_W_17 = pd.DataFrame.from_dict(x_W_17_2).drop(columns=['ServesAttempted', 'ServesMade','ServesMadePercentage',\n",
    "       'ServesWonPercentage', 'Aces', 'Unreturned',\n",
    "       'AverageSpin'])\n",
    "\n",
    "df_2nd_W_17.rename(columns={'ServesWon':'W_2nd_ad_ServesWon',\n",
    "                                'Returned':'W_2nd_ad_Returned',\n",
    "                                'AverageSpeed':'W_2nd_ad_AvgSpeed'},inplace=True)\n",
    "#df_2nd_W_17"
   ]
  },
  {
   "cell_type": "markdown",
   "id": "6edee960",
   "metadata": {},
   "source": [
    "## YEAR 2016 ##"
   ]
  },
  {
   "cell_type": "markdown",
   "id": "9e616677",
   "metadata": {},
   "source": [
    "### AD COURT STATS ###"
   ]
  },
  {
   "cell_type": "code",
   "execution_count": null,
   "id": "a23540f8",
   "metadata": {},
   "outputs": [],
   "source": [
    "player_adlst_16 = []\n",
    "for id in player_id_lst:\n",
    "    driver.get(f'https://www.atptour.com/-/ajax/hawkeyestats/serve/2016/0/D643/adcourt/1/all/{id}/all')\n",
    "    json_player_ad16=json.loads(driver.find_element(by=\"xpath\", value='/html/body/pre').text)\n",
    "    player_adlst_16.append(json_player_ad16)"
   ]
  },
  {
   "cell_type": "markdown",
   "id": "015b227b",
   "metadata": {},
   "source": [
    "### filtering none values ad16 ###"
   ]
  },
  {
   "cell_type": "code",
   "execution_count": null,
   "id": "588a10c0",
   "metadata": {},
   "outputs": [],
   "source": [
    "filtered_adlst_16=['None' if v is None else v for v in player_adlst_16]\n",
    "len(filtered_adlst_16)"
   ]
  },
  {
   "cell_type": "markdown",
   "id": "e55f3f65",
   "metadata": {},
   "source": [
    "## Replacing none values with index ad16 ##"
   ]
  },
  {
   "cell_type": "code",
   "execution_count": null,
   "id": "6412e9a1",
   "metadata": {},
   "outputs": [],
   "source": [
    "lst_ad_16=[]\n",
    "for i,x in enumerate(filtered_adlst_16):\n",
    "    if x !='None':\n",
    "           lst_ad_16.append((i,x))"
   ]
  },
  {
   "cell_type": "markdown",
   "id": "c6579711",
   "metadata": {},
   "source": [
    "### DEUCE COURT STATS ###"
   ]
  },
  {
   "cell_type": "code",
   "execution_count": null,
   "id": "a3f2e69b",
   "metadata": {},
   "outputs": [],
   "source": [
    "player_dlst_16 = []\n",
    "for id in player_id_lst:\n",
    "    driver.get(f'https://www.atptour.com/-/ajax/hawkeyestats/serve/2016/0/D643/deucecourt/1/all/{id}/all')\n",
    "    json_player_d16=json.loads(driver.find_element(by=\"xpath\", value='/html/body/pre').text)\n",
    "    player_dlst_16.append(json_player_d16)"
   ]
  },
  {
   "cell_type": "markdown",
   "id": "e0c45102",
   "metadata": {},
   "source": [
    "### filtering none values d16 ###"
   ]
  },
  {
   "cell_type": "code",
   "execution_count": null,
   "id": "11878c88",
   "metadata": {},
   "outputs": [],
   "source": [
    "filtered_dlst_16=['None' if v is None else v for v in player_dlst_16]\n",
    "len(filtered_dlst_16)\n",
    "filtered_dlst_16"
   ]
  },
  {
   "cell_type": "markdown",
   "id": "53a7ec93",
   "metadata": {},
   "source": [
    "## Replacing none values with index d16 ##"
   ]
  },
  {
   "cell_type": "code",
   "execution_count": null,
   "id": "6e0e2fca",
   "metadata": {},
   "outputs": [],
   "source": [
    "lst_d_16=[]\n",
    "for i,x in enumerate(filtered_dlst_16):\n",
    "    if x !='None':\n",
    "           lst_d_16.append((i,x))"
   ]
  },
  {
   "cell_type": "markdown",
   "id": "44e0bcd6",
   "metadata": {},
   "source": [
    "## YEAR 2015 ##"
   ]
  },
  {
   "cell_type": "markdown",
   "id": "fc725b10",
   "metadata": {},
   "source": [
    "### AD COURT STATS ###"
   ]
  },
  {
   "cell_type": "code",
   "execution_count": null,
   "id": "02488cc1",
   "metadata": {},
   "outputs": [],
   "source": [
    "player_adlst_15 = []\n",
    "for id in player_id_lst:\n",
    "    driver.get(f'https://www.atptour.com/-/ajax/hawkeyestats/serve/2015/0/D643/adcourt/1/all/{id}/all')\n",
    "    json_player_ad15=json.loads(driver.find_element(by=\"xpath\", value='/html/body/pre').text)\n",
    "    player_adlst_15.append(json_player_ad15)"
   ]
  },
  {
   "cell_type": "markdown",
   "id": "771c0e0e",
   "metadata": {},
   "source": [
    "### filtering none values ad15 ###"
   ]
  },
  {
   "cell_type": "code",
   "execution_count": null,
   "id": "4483fb63",
   "metadata": {},
   "outputs": [],
   "source": [
    "filtered_adlst_15=['None' if v is None else v for v in player_adlst_15]\n",
    "len(filtered_adlst_15)\n",
    "filtered_adlst_15"
   ]
  },
  {
   "cell_type": "markdown",
   "id": "ec148efd",
   "metadata": {},
   "source": [
    "## Replacing none values with index ad15 ##"
   ]
  },
  {
   "cell_type": "code",
   "execution_count": null,
   "id": "453216b8",
   "metadata": {},
   "outputs": [],
   "source": [
    "lst_ad_15=[]\n",
    "for i,x in enumerate(filtered_adlst_15):\n",
    "    if x !='None':\n",
    "           lst_ad_15.append((i,x))"
   ]
  },
  {
   "cell_type": "markdown",
   "id": "d45f4c6c",
   "metadata": {},
   "source": [
    "### DEUCE COURT STATS ###"
   ]
  },
  {
   "cell_type": "code",
   "execution_count": null,
   "id": "c0073cb8",
   "metadata": {},
   "outputs": [],
   "source": [
    "player_dlst_15 = []\n",
    "for id in player_id_lst:\n",
    "    driver.get(f'https://www.atptour.com/-/ajax/hawkeyestats/serve/2015/0/D643/deucecourt/1/all/{id}/all')\n",
    "    json_player_d15=json.loads(driver.find_element(by=\"xpath\", value='/html/body/pre').text)\n",
    "    player_dlst_15.append(json_player_d15)"
   ]
  },
  {
   "cell_type": "markdown",
   "id": "16c62d24",
   "metadata": {},
   "source": [
    "### filtering none values d15 ###"
   ]
  },
  {
   "cell_type": "code",
   "execution_count": null,
   "id": "674cd6d4",
   "metadata": {},
   "outputs": [],
   "source": [
    "filtered_dlst_15=['None' if v is None else v for v in player_dlst_15]\n",
    "len(filtered_dlst_15)\n",
    "filtered_dlst_15"
   ]
  },
  {
   "cell_type": "markdown",
   "id": "1128e17b",
   "metadata": {},
   "source": [
    "## Replacing none values with index d15 ##"
   ]
  },
  {
   "cell_type": "code",
   "execution_count": null,
   "id": "77e9dfc7",
   "metadata": {},
   "outputs": [],
   "source": [
    "lst_d_15=[]\n",
    "for i,x in enumerate(filtered_dlst_15):\n",
    "    if x !='None':\n",
    "           lst_d_15.append((i,x))"
   ]
  }
 ],
 "metadata": {
  "kernelspec": {
   "display_name": "Python 3 (ipykernel)",
   "language": "python",
   "name": "python3"
  },
  "language_info": {
   "codemirror_mode": {
    "name": "ipython",
    "version": 3
   },
   "file_extension": ".py",
   "mimetype": "text/x-python",
   "name": "python",
   "nbconvert_exporter": "python",
   "pygments_lexer": "ipython3",
   "version": "3.8.12"
  },
  "toc": {
   "base_numbering": 1,
   "nav_menu": {},
   "number_sections": true,
   "sideBar": true,
   "skip_h1_title": false,
   "title_cell": "Table of Contents",
   "title_sidebar": "Contents",
   "toc_cell": false,
   "toc_position": {},
   "toc_section_display": true,
   "toc_window_display": false
  }
 },
 "nbformat": 4,
 "nbformat_minor": 5
}
